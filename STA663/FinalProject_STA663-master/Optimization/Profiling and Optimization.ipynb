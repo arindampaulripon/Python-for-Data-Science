{
 "cells": [
  {
   "cell_type": "code",
   "execution_count": 1,
   "metadata": {
    "collapsed": true
   },
   "outputs": [],
   "source": [
    "### configuration\n",
    "from __future__ import division\n",
    "import os\n",
    "import sys\n",
    "import glob\n",
    "import matplotlib.pyplot as plt\n",
    "import numpy as np\n",
    "import pandas as pd\n",
    "import scipy.stats as stats\n",
    "import scipy.linalg as la\n",
    "\n",
    "%matplotlib inline\n",
    "%precision 4\n",
    "plt.style.use('ggplot')"
   ]
  },
  {
   "cell_type": "markdown",
   "metadata": {},
   "source": [
    "##  Single Update Comparison"
   ]
  },
  {
   "cell_type": "code",
   "execution_count": 3,
   "metadata": {
    "collapsed": false
   },
   "outputs": [],
   "source": [
    "import NaiveSourceCode as nsc\n",
    "import OptimizedSourceCode as osc"
   ]
  },
  {
   "cell_type": "code",
   "execution_count": 9,
   "metadata": {
    "collapsed": false
   },
   "outputs": [],
   "source": [
    "# Specify test data\n",
    "y = np.loadtxt(\"../Data/data_test\")\n",
    "theta_true = np.array([1., 3.])\n",
    "n, m = len(y), 1\n",
    "a, b = 8., 0.1\n",
    "c, d = 2., 100.\n",
    "\n",
    "# Inits - parameters\n",
    "theta = np.array([2., 4.])\n",
    "theta_star = theta_true\n",
    "sigma = np.sqrt(3.0)\n",
    "s = np.repeat(np.array([0., 1.]), np.array([70, 80]))\n",
    "\n",
    "# Inits - useful quantities                           \n",
    "Ptran = np.zeros((m + 1, m + 1))\n",
    "Ptran[-1, -1] = 1\n",
    "for j in range(m):\n",
    "    Ptran[j, j] = 0.875\n",
    "    Ptran[j, j+1] = 1 - Ptran[j, j]\n",
    "Ptran_star = Ptran"
   ]
  },
  {
   "cell_type": "markdown",
   "metadata": {},
   "source": [
    "### Using the timeit modules"
   ]
  },
  {
   "cell_type": "code",
   "execution_count": 10,
   "metadata": {
    "collapsed": false
   },
   "outputs": [
    {
     "name": "stdout",
     "output_type": "stream",
     "text": [
      "2 loops, best of 4: 42.7 ms per loop\n",
      "2 loops, best of 4: 27.6 ms per loop\n"
     ]
    }
   ],
   "source": [
    "%timeit -n2 -r4 nsc.update_Sn_naive(y, n, m, Ptran, theta, s)\n",
    "%timeit -n2 -r4 osc.update_Sn_optimized(y, n, m, Ptran, theta, s)"
   ]
  },
  {
   "cell_type": "code",
   "execution_count": 11,
   "metadata": {
    "collapsed": false
   },
   "outputs": [
    {
     "name": "stdout",
     "output_type": "stream",
     "text": [
      "2 loops, best of 4: 429 µs per loop\n",
      "2 loops, best of 4: 259 µs per loop\n"
     ]
    }
   ],
   "source": [
    "%timeit -n2 -r4 nsc.update_P_naive(a, b, n, m, s, Ptran_star)\n",
    "%timeit -n2 -r4 osc.update_P_optimized(a, b, n, m, s, Ptran_star)"
   ]
  },
  {
   "cell_type": "code",
   "execution_count": 12,
   "metadata": {
    "collapsed": false
   },
   "outputs": [
    {
     "name": "stdout",
     "output_type": "stream",
     "text": [
      "2 loops, best of 4: 471 µs per loop\n",
      "2 loops, best of 4: 350 µs per loop\n"
     ]
    }
   ],
   "source": [
    "nk, Ptran, f_Ptran_star = nsc.update_P_naive(a, b, n, m, s, Ptran_star) \n",
    "%timeit -n2 -r4 nsc.update_Theta_naive(c, d, m, y, s, nk, theta_star)\n",
    "%timeit -n2 -r4 osc.update_Theta_optimized(c, d, m, y, s, nk, theta_star)"
   ]
  },
  {
   "cell_type": "markdown",
   "metadata": {},
   "source": [
    "### Using the line profiler"
   ]
  },
  {
   "cell_type": "code",
   "execution_count": 13,
   "metadata": {
    "collapsed": false
   },
   "outputs": [],
   "source": [
    "%load_ext line_profiler"
   ]
  },
  {
   "cell_type": "code",
   "execution_count": 14,
   "metadata": {
    "collapsed": false
   },
   "outputs": [
    {
     "name": "stdout",
     "output_type": "stream",
     "text": [
      "Timer unit: 1e-06 s\n",
      "\n",
      "Total time: 0.070033 s\n",
      "File: NaiveSourceCode.py\n",
      "Function: update_Sn_naive at line 11\n",
      "\n",
      "Line #      Hits         Time  Per Hit   % Time  Line Contents\n",
      "==============================================================\n",
      "    11                                           def update_Sn_naive(y, n, m, Ptran, theta, s):\n",
      "    12                                               \"\"\" Update latent states S_n \n",
      "    13                                                   Args: y - vector of observations\n",
      "    14                                                         n - number of obervations\n",
      "    15                                                         m - number of change point\n",
      "    16                                                         Ptran - Transition matrix\n",
      "    17                                                         theta - model parameters\n",
      "    18                                                         s - current state values for all time\n",
      "    19                                                   Return: F_lag - lag 1 predictive density\n",
      "    20                                                           F - posterior conditional density\n",
      "    21                                                           s_new - sampled latent states of length n \"\"\"\n",
      "    22                                               \n",
      "    23                                               # check input\n",
      "    24         2            6      3.0      0.0      for i in range(m):\n",
      "    25         1           20     20.0      0.0          if Ptran[i, i] <= 0.0:\n",
      "    26                                                       return \"Error - transition probabilities should be within range 0 to 1.\"\n",
      "    27                                               \n",
      "    28                                               # read the current s values\n",
      "    29         1            1      1.0      0.0      s_new = s\n",
      "    30         1           27     27.0      0.0      sigma = np.sqrt(3.0)\n",
      "    31                                               \n",
      "    32                                               # define quantities\n",
      "    33         1            8      8.0      0.0      F_lag, F = np.zeros((n, m + 1)), np.zeros((n, m + 1))                                  \n",
      "    34         1            4      4.0      0.0      F_lag[0, 0], F[0, 0] = 1, 1\n",
      "    35         1            4      4.0      0.0      pmfs = np.zeros(m + 1)\n",
      "    36                                               \n",
      "    37       150          169      1.1      0.2      for i in range(1, n):\n",
      "    38       447          554      1.2      0.8          for j in range(m + 1):\n",
      "    39       894         1089      1.2      1.6              for k in range(m + 1):\n",
      "    40       596         1472      2.5      2.1                  F_lag[i,j] += Ptran[k,j] * F[i - 1,k]\n",
      "    41       447          743      1.7      1.1          for j in range(m + 1):\n",
      "    42       298        46546    156.2     66.5              F[i,j] = F_lag[i,j] * stats.norm.pdf(y[i], loc = theta[j], scale = sigma)\n",
      "    43       149         2488     16.7      3.6          row_sum = np.sum(F[i,:])\n",
      "    44       447          769      1.7      1.1          for j in range(m + 1):\n",
      "    45       298          638      2.1      0.9              F[i,j] = F[i,j] / row_sum\n",
      "    46                                                       \n",
      "    47                                               # Sampling s_t\n",
      "    48       149          279      1.9      0.4      for k in range(n - 2, 0, -1): # omit update s_n and s_1 because of their degeneracy\n",
      "    49       444          977      2.2      1.4          for r in range(m + 1):\n",
      "    50       296         2659      9.0      3.8              pmfs[r] = F[k,r] * Ptran[r,s_new[k + 1]]\n",
      "    51       148         2821     19.1      4.0          row_sum = np.sum(pmfs)\n",
      "    52       444          935      2.1      1.3          for r in range(m + 1):\n",
      "    53       296          855      2.9      1.2              pmfs[r] = pmfs[r] / row_sum\n",
      "    54       148         6968     47.1      9.9          s_new[k] = np.random.choice(np.arange(m + 1), p = pmfs)\n",
      "    55                                                   \n",
      "    56         1            1      1.0      0.0      return F_lag, F, s_new\n",
      "\n"
     ]
    }
   ],
   "source": [
    "lstats = %lprun -r -f nsc.update_Sn_naive nsc.update_Sn_naive(y, n, m, Ptran, theta, s)\n",
    "lstats.print_stats()"
   ]
  },
  {
   "cell_type": "code",
   "execution_count": 15,
   "metadata": {
    "collapsed": false
   },
   "outputs": [
    {
     "name": "stdout",
     "output_type": "stream",
     "text": [
      "Timer unit: 1e-06 s\n",
      "\n",
      "Total time: 0.038587 s\n",
      "File: OptimizedSourceCode.py\n",
      "Function: update_Sn_optimized at line 11\n",
      "\n",
      "Line #      Hits         Time  Per Hit   % Time  Line Contents\n",
      "==============================================================\n",
      "    11                                           def update_Sn_optimized(y, n, m, Ptran, theta, s):\n",
      "    12                                               \"\"\" Update latent states S_n \n",
      "    13                                                   Args: y - vector of observations\n",
      "    14                                                         n - number of obervations\n",
      "    15                                                         m - number of change point\n",
      "    16                                                         Ptran - Transition matrix\n",
      "    17                                                         theta - model parameters\n",
      "    18                                                         s - current state values for all time\n",
      "    19                                                   Return: F_lag - lag 1 predictive density\n",
      "    20                                                           F - posterior conditional density\n",
      "    21                                                           s_new - sampled latent states of length n \"\"\"\n",
      "    22                                               \n",
      "    23                                               # check input\n",
      "    24         1          161    161.0      0.4      if(any(np.delete(np.diag(Ptran), -1) <= 0.0)):\n",
      "    25                                                   return \"Error - transition probabilities should be within range 0 to 1.\"\n",
      "    26                                               \n",
      "    27                                               # read the current s values\n",
      "    28         1            1      1.0      0.0      s_new = s\n",
      "    29         1            9      9.0      0.0      sigma = np.sqrt(3.0)\n",
      "    30                                               \n",
      "    31                                               # define quantities\n",
      "    32         1            6      6.0      0.0      F_lag, F = np.zeros((n, m + 1)), np.zeros((n, m + 1))                                  \n",
      "    33         1            2      2.0      0.0      F_lag[0, 0], F[0, 0] = 1, 1\n",
      "    34                                               \n",
      "    35       150          248      1.7      0.6      for i in range(1, n):\n",
      "    36       447          754      1.7      2.0          for j in range(m + 1):\n",
      "    37       298         1771      5.9      4.6              F_lag[i,j] = (Ptran[:,j]).dot(F[i - 1,:])\n",
      "    38       149        23508    157.8     60.9          F[i,:] = F_lag[i,:] * stats.norm.pdf(y[i], loc = theta, scale = sigma)\n",
      "    39       149         3205     21.5      8.3          F[i,:] = F[i,:] / np.sum(F[i,:])\n",
      "    40                                                   \n",
      "    41                                               # Sampling s_t\n",
      "    42       149          215      1.4      0.6      for k in range(n - 2, 0, -1): # omit update s_n and s_1 because of their degeneracy\n",
      "    43       148         1901     12.8      4.9          pmfs = F[k,:] * Ptran[:,s_new[k + 1]]\n",
      "    44       148         2437     16.5      6.3          pmfs = pmfs / np.sum(pmfs)\n",
      "    45       148         4367     29.5     11.3          s_new[k] = np.random.choice(np.arange(m + 1), p = pmfs)\n",
      "    46                                                   \n",
      "    47         1            2      2.0      0.0      return F_lag, F, s_new\n",
      "\n"
     ]
    }
   ],
   "source": [
    "lstats = %lprun -r -f osc.update_Sn_optimized osc.update_Sn_optimized(y, n, m, Ptran, theta, s)\n",
    "lstats.print_stats()"
   ]
  },
  {
   "cell_type": "code",
   "execution_count": 16,
   "metadata": {
    "collapsed": false
   },
   "outputs": [
    {
     "name": "stdout",
     "output_type": "stream",
     "text": [
      "Timer unit: 1e-06 s\n",
      "\n",
      "Total time: 0.001406 s\n",
      "File: NaiveSourceCode.py\n",
      "Function: update_P_naive at line 59\n",
      "\n",
      "Line #      Hits         Time  Per Hit   % Time  Line Contents\n",
      "==============================================================\n",
      "    59                                           def update_P_naive(a, b, n, m, s, Ptran_star):\n",
      "    60                                               \"\"\" Update transition matrix P \n",
      "    61                                                   Args: a,b - prior beta parameters\n",
      "    62                                                         n - number of observations\n",
      "    63                                                         m - number of change points\n",
      "    64                                                         s - current sample of state\n",
      "    65                                                         Ptran_star - MLE of the transition matrix\n",
      "    66                                                   Return: nk - number of the same states\n",
      "    67                                                           Ptran - updated transition matrix \n",
      "    68                                                           f_Ptran_star - marginal likelihood calculation involving Ptran \"\"\"\n",
      "    69                                               \n",
      "    70                                               # define quantities\n",
      "    71         1           12     12.0      0.9      nk = np.zeros(m + 1)\n",
      "    72         1            3      3.0      0.2      Ptran = np.zeros((m + 1, m + 1))\n",
      "    73         1           15     15.0      1.1      Ptran[-1, -1] = 1\n",
      "    74         1            3      3.0      0.2      f = np.zeros(m)\n",
      "    75         1            1      1.0      0.1      f_Ptran_star = 1.0\n",
      "    76                                               \n",
      "    77                                               # number of same states\n",
      "    78         3            3      1.0      0.2      for i in range(m + 1):\n",
      "    79       302          192      0.6     13.7          for j in range(n):\n",
      "    80       300          299      1.0     21.3              if s[j] == i:\n",
      "    81       150          304      2.0     21.6                  nk[i] += 1.0 \n",
      "    82         1           38     38.0      2.7      nii = nk - 1\n",
      "    83                                               \n",
      "    84                                               # update P\n",
      "    85         2            3      1.5      0.2      for j in range(m):\n",
      "    86         1          247    247.0     17.6          Ptran[j, j] = stats.beta.rvs(a + nii[j], b + 1)\n",
      "    87         1            3      3.0      0.2          Ptran[j, j + 1] = 1.0 - Ptran[j, j]\n",
      "    88         1          280    280.0     19.9          f[j] = stats.beta.pdf(Ptran_star[j, j], a + nii[j], b + 1)\n",
      "    89         1            2      2.0      0.1          f_Ptran_star = f_Ptran_star * f[j]\n",
      "    90                                                   \n",
      "    91         1            1      1.0      0.1      return nk, Ptran, f_Ptran_star\n",
      "\n"
     ]
    }
   ],
   "source": [
    "lstats = %lprun -r -f nsc.update_P_naive nsc.update_P_naive(a, b, n, m, s, Ptran_star)\n",
    "lstats.print_stats()"
   ]
  },
  {
   "cell_type": "code",
   "execution_count": 17,
   "metadata": {
    "collapsed": false
   },
   "outputs": [
    {
     "name": "stdout",
     "output_type": "stream",
     "text": [
      "Timer unit: 1e-06 s\n",
      "\n",
      "Total time: 0.000635 s\n",
      "File: OptimizedSourceCode.py\n",
      "Function: update_P_optimized at line 50\n",
      "\n",
      "Line #      Hits         Time  Per Hit   % Time  Line Contents\n",
      "==============================================================\n",
      "    50                                           def update_P_optimized(a, b, n, m, s, Ptran_star):\n",
      "    51                                               \"\"\" Update transition matrix P \n",
      "    52                                                   Args: a,b - prior beta parameters\n",
      "    53                                                         n - number of observations\n",
      "    54                                                         m - number of change points\n",
      "    55                                                         s - current sample of state\n",
      "    56                                                         Ptran_star - MLE of the transition matrix\n",
      "    57                                                   Return: nk - number of the same states\n",
      "    58                                                           Ptran - updated transition matrix \n",
      "    59                                                           f_Ptran_star - marginal likelihood calculation involving Ptran \"\"\"\n",
      "    60                                               \n",
      "    61                                               # define quantities\n",
      "    62         1           13     13.0      2.0      nk = np.zeros(m + 1)\n",
      "    63         1            2      2.0      0.3      Ptran = np.zeros((m + 1, m + 1))\n",
      "    64         1            7      7.0      1.1      Ptran[-1, -1] = 1\n",
      "    65         1            2      2.0      0.3      f = np.zeros(m)\n",
      "    66         1            1      1.0      0.2      f_Ptran_star = 1.0\n",
      "    67                                               \n",
      "    68                                               # number of same states\n",
      "    69         3            6      2.0      0.9      for i in range(m + 1):\n",
      "    70         2          171     85.5     26.9          nk[i] = np.sum(s == i)\n",
      "    71         1           14     14.0      2.2      nii = nk - 1\n",
      "    72                                               \n",
      "    73                                               # update P\n",
      "    74         2            4      2.0      0.6      for j in range(m):\n",
      "    75         1          114    114.0     18.0          Ptran[j, j] = stats.beta.rvs(a + nii[j], b + 1)\n",
      "    76         1            3      3.0      0.5          Ptran[j, j + 1] = 1.0 - Ptran[j, j]\n",
      "    77         1          295    295.0     46.5          f[j] = stats.beta.pdf(Ptran_star[j, j], a + nii[j], b + 1)\n",
      "    78         1            2      2.0      0.3          f_Ptran_star = f_Ptran_star * f[j]\n",
      "    79                                               \n",
      "    80         1            1      1.0      0.2      return nk, Ptran, f_Ptran_star\n",
      "\n"
     ]
    }
   ],
   "source": [
    "lstats = %lprun -r -f osc.update_P_optimized osc.update_P_optimized(a, b, n, m, s, Ptran_star)\n",
    "lstats.print_stats()"
   ]
  },
  {
   "cell_type": "code",
   "execution_count": 18,
   "metadata": {
    "collapsed": false
   },
   "outputs": [
    {
     "name": "stdout",
     "output_type": "stream",
     "text": [
      "Timer unit: 1e-06 s\n",
      "\n",
      "Total time: 0.001946 s\n",
      "File: NaiveSourceCode.py\n",
      "Function: update_Theta_naive at line 94\n",
      "\n",
      "Line #      Hits         Time  Per Hit   % Time  Line Contents\n",
      "==============================================================\n",
      "    94                                           def update_Theta_naive(c, d, m, y, s, nk, theta_star):\n",
      "    95                                               \"\"\" Update model parameters Theta \n",
      "    96                                                   Args: c,d - prior normal parameters\n",
      "    97                                                         m - number of change points\n",
      "    98                                                         y - vector of observations\n",
      "    99                                                         s - current sample of state\n",
      "   100                                                         nk - number of the same states\n",
      "   101                                                         theta_star - MLE of theta\n",
      "   102                                                   Return: theta - updated model parameters \n",
      "   103                                                           f_theta_star - marginal likelihood calculation involving theta \"\"\"\n",
      "   104                                               \n",
      "   105                                               # define quantities\n",
      "   106         1            4      4.0      0.2      n = len(y)\n",
      "   107         1           31     31.0      1.6      sigma = np.sqrt(3.0)\n",
      "   108         1           50     50.0      2.6      theta = np.repeat(2.0, m + 1)\n",
      "   109         1           14     14.0      0.7      f = np.zeros(m + 1)\n",
      "   110         1            1      1.0      0.1      f_theta_star = 1.0\n",
      "   111                                               \n",
      "   112                                               # Update Theta\n",
      "   113         3            5      1.7      0.3      for i in range(m + 1):\n",
      "   114         2            1      0.5      0.1          uk = 0.0\n",
      "   115       302          245      0.8     12.6          for j in range(n):\n",
      "   116       300          657      2.2     33.8              if s[j] == i:\n",
      "   117       150          177      1.2      9.1                  uk += y[j] \n",
      "   118         2           16      8.0      0.8          var_theta = 1. / (1./d**2. + nk[i]/sigma**2.)\n",
      "   119         2            5      2.5      0.3          mu_theta = var_theta * (c/d**2. + uk/sigma**2.)\n",
      "   120         2          210    105.0     10.8          theta[i] = stats.norm.rvs(mu_theta, np.sqrt(var_theta))\n",
      "   121         2          525    262.5     27.0          f[i] = stats.norm.pdf(theta_star[i], mu_theta, np.sqrt(var_theta))\n",
      "   122         2            5      2.5      0.3          f_theta_star = f_theta_star * f[i]\n",
      "   123                                                   \n",
      "   124         1            0      0.0      0.0      return theta, f_theta_star\n",
      "\n"
     ]
    }
   ],
   "source": [
    "lstats = %lprun -r -f nsc.update_Theta_naive nsc.update_Theta_naive(c, d, m, y, s, nk, theta_star)\n",
    "lstats.print_stats()"
   ]
  },
  {
   "cell_type": "code",
   "execution_count": 19,
   "metadata": {
    "collapsed": false
   },
   "outputs": [
    {
     "name": "stdout",
     "output_type": "stream",
     "text": [
      "Timer unit: 1e-06 s\n",
      "\n",
      "Total time: 0.000851 s\n",
      "File: OptimizedSourceCode.py\n",
      "Function: update_Theta_optimized at line 83\n",
      "\n",
      "Line #      Hits         Time  Per Hit   % Time  Line Contents\n",
      "==============================================================\n",
      "    83                                           def update_Theta_optimized(c, d, m, y, s, nk, theta_star):\n",
      "    84                                               \"\"\" Update model parameters Theta \n",
      "    85                                                   Args: c,d - prior normal parameters\n",
      "    86                                                         m - number of change points\n",
      "    87                                                         y - vector of observations\n",
      "    88                                                         s - current sample of state\n",
      "    89                                                         nk - number of the same states\n",
      "    90                                                         theta_star - MLE of theta\n",
      "    91                                                   Return: theta - updated model parameters \n",
      "    92                                                           f_theta_star - marginal likelihood calculation involving theta \"\"\"\n",
      "    93                                               \n",
      "    94                                               # define quantities\n",
      "    95         1           14     14.0      1.6      n = len(y)\n",
      "    96         1           30     30.0      3.5      sigma = np.sqrt(3.0)\n",
      "    97         1           38     38.0      4.5      theta = np.repeat(2.0, m + 1)\n",
      "    98         1            6      6.0      0.7      f = np.zeros(m + 1)\n",
      "    99         1            0      0.0      0.0      f_theta_star = 1.0\n",
      "   100                                               \n",
      "   101                                               # Update Theta\n",
      "   102         3            5      1.7      0.6      for i in range(m + 1):\n",
      "   103         2           92     46.0     10.8          uk = np.sum(y[s == i])\n",
      "   104         2           19      9.5      2.2          var_theta = 1. / (1./d**2. + nk[i]/sigma**2.)\n",
      "   105         2            4      2.0      0.5          mu_theta = var_theta * (c/d**2. + uk/sigma**2.)\n",
      "   106         2          180     90.0     21.2          theta[i] = stats.norm.rvs(mu_theta, np.sqrt(var_theta))\n",
      "   107         2          457    228.5     53.7          f[i] = stats.norm.pdf(theta_star[i], mu_theta, np.sqrt(var_theta))\n",
      "   108         2            5      2.5      0.6          f_theta_star = f_theta_star * f[i]\n",
      "   109                                                   \n",
      "   110         1            1      1.0      0.1      return theta, f_theta_star\n",
      "\n"
     ]
    }
   ],
   "source": [
    "lstats = %lprun -r -f osc.update_Theta_optimized osc.update_Theta_optimized(c, d, m, y, s, nk, theta_star)\n",
    "lstats.print_stats()"
   ]
  },
  {
   "cell_type": "code",
   "execution_count": null,
   "metadata": {
    "collapsed": true
   },
   "outputs": [],
   "source": []
  }
 ],
 "metadata": {
  "kernelspec": {
   "display_name": "Python 2",
   "language": "python",
   "name": "python2"
  },
  "language_info": {
   "codemirror_mode": {
    "name": "ipython",
    "version": 2
   },
   "file_extension": ".py",
   "mimetype": "text/x-python",
   "name": "python",
   "nbconvert_exporter": "python",
   "pygments_lexer": "ipython2",
   "version": "2.7.9"
  }
 },
 "nbformat": 4,
 "nbformat_minor": 0
}
