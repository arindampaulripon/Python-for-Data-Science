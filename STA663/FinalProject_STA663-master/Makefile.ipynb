{
 "cells": [
  {
   "cell_type": "markdown",
   "metadata": {},
   "source": [
    "## Create Makefile"
   ]
  },
  {
   "cell_type": "code",
   "execution_count": 3,
   "metadata": {
    "collapsed": false
   },
   "outputs": [
    {
     "name": "stdout",
     "output_type": "stream",
     "text": [
      "Overwriting makefile\n"
     ]
    }
   ],
   "source": [
    "%%file makefile\n",
    "STA663_Final_Report_Li_Fan.pdf: STA663_Final_Report_Li_Fan.tex\n",
    "\tpdflatex STA663_Final_Report_Li_Fan\n",
    "\tpdflatex STA663_Final_Report_Li_Fan\n",
    "\tpdflatex STA663_Final_Report_Li_Fan\n",
    "\n",
    ".PHONY: all clean allclean test\n",
    "\n",
    "all: STA663_Final_Report_Li_Fan.pdf \n",
    "\n",
    "clean:\n",
    "\trm -rf *aux *log *out *pytxcode UnitTest/__pycache__ UnitTest/*pyc\n",
    "\n",
    "allclean:\n",
    "\tmake clean\n",
    "\trm -f *pdf\n",
    "\n",
    "test:\n",
    "\tpy.test ~/FinalProject_STA663/UnitTest/."
   ]
  },
  {
   "cell_type": "code",
   "execution_count": null,
   "metadata": {
    "collapsed": true
   },
   "outputs": [],
   "source": []
  }
 ],
 "metadata": {
  "kernelspec": {
   "display_name": "Python 2",
   "language": "python",
   "name": "python2"
  },
  "language_info": {
   "codemirror_mode": {
    "name": "ipython",
    "version": 2
   },
   "file_extension": ".py",
   "mimetype": "text/x-python",
   "name": "python",
   "nbconvert_exporter": "python",
   "pygments_lexer": "ipython2",
   "version": "2.7.9"
  }
 },
 "nbformat": 4,
 "nbformat_minor": 0
}
