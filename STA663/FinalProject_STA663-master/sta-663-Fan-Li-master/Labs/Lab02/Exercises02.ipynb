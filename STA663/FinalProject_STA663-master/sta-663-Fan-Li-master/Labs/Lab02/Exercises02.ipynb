{
 "metadata": {
  "name": "",
  "signature": "sha256:7997559129a1250b06bcb4be1d7a39c7d0a79a928c07bb021fd9558d27e8dc63"
 },
 "nbformat": 3,
 "nbformat_minor": 0,
 "worksheets": [
  {
   "cells": [
    {
     "cell_type": "markdown",
     "metadata": {},
     "source": [
      "Computer lab 02\n",
      "----\n",
      "\n",
      "These exercises provide more practice in data manipulation and working with numpy arrays."
     ]
    },
    {
     "cell_type": "code",
     "collapsed": false,
     "input": [
      "import os\n",
      "import sys\n",
      "import glob\n",
      "import matplotlib.pyplot as plt\n",
      "import numpy as np\n",
      "import pandas as pd\n",
      "%matplotlib inline\n",
      "%precision 4\n",
      "plt.style.use('ggplot')"
     ],
     "language": "python",
     "metadata": {},
     "outputs": [],
     "prompt_number": 12
    },
    {
     "cell_type": "markdown",
     "metadata": {},
     "source": [
      "**Exercise 1 [10 pts]**. Write a 12 by 12 times table chart without explicit looping (i.e. no for, while or comprehensions). Your code should generate this output:\n",
      "\n",
      "```python\n",
      "[[  1   2   3   4   5   6   7   8   9  10  11  12]\n",
      " [  2   4   6   8  10  12  14  16  18  20  22  24]\n",
      " [  3   6   9  12  15  18  21  24  27  30  33  36]\n",
      " [  4   8  12  16  20  24  28  32  36  40  44  48]\n",
      " [  5  10  15  20  25  30  35  40  45  50  55  60]\n",
      " [  6  12  18  24  30  36  42  48  54  60  66  72]\n",
      " [  7  14  21  28  35  42  49  56  63  70  77  84]\n",
      " [  8  16  24  32  40  48  56  64  72  80  88  96]\n",
      " [  9  18  27  36  45  54  63  72  81  90  99 108]\n",
      " [ 10  20  30  40  50  60  70  80  90 100 110 120]\n",
      " [ 11  22  33  44  55  66  77  88  99 110 121 132]\n",
      " [ 12  24  36  48  60  72  84  96 108 120 132 144]]\n",
      "```"
     ]
    },
    {
     "cell_type": "code",
     "collapsed": false,
     "input": [
      "# Your code here\n",
      "# Create two arrays with x and y indices and multiply them to get the desired table chart\n",
      "import numpy as np\n",
      "\n",
      "# Method 1\n",
      "index = np.indices((12,12)) + 1\n",
      "chart = index[0] * index[1]\n",
      "print chart\n",
      "\n",
      "# Method 2 - Broadcasting\n",
      "u = np.arange(1, 13)\n",
      "print u[None, :] * u[:, None]"
     ],
     "language": "python",
     "metadata": {},
     "outputs": [
      {
       "output_type": "stream",
       "stream": "stdout",
       "text": [
        "[[  1   2   3   4   5   6   7   8   9  10  11  12]\n",
        " [  2   4   6   8  10  12  14  16  18  20  22  24]\n",
        " [  3   6   9  12  15  18  21  24  27  30  33  36]\n",
        " [  4   8  12  16  20  24  28  32  36  40  44  48]\n",
        " [  5  10  15  20  25  30  35  40  45  50  55  60]\n",
        " [  6  12  18  24  30  36  42  48  54  60  66  72]\n",
        " [  7  14  21  28  35  42  49  56  63  70  77  84]\n",
        " [  8  16  24  32  40  48  56  64  72  80  88  96]\n",
        " [  9  18  27  36  45  54  63  72  81  90  99 108]\n",
        " [ 10  20  30  40  50  60  70  80  90 100 110 120]\n",
        " [ 11  22  33  44  55  66  77  88  99 110 121 132]\n",
        " [ 12  24  36  48  60  72  84  96 108 120 132 144]]\n",
        "[[  1   2   3   4   5   6   7   8   9  10  11  12]\n",
        " [  2   4   6   8  10  12  14  16  18  20  22  24]\n",
        " [  3   6   9  12  15  18  21  24  27  30  33  36]\n",
        " [  4   8  12  16  20  24  28  32  36  40  44  48]\n",
        " [  5  10  15  20  25  30  35  40  45  50  55  60]\n",
        " [  6  12  18  24  30  36  42  48  54  60  66  72]\n",
        " [  7  14  21  28  35  42  49  56  63  70  77  84]\n",
        " [  8  16  24  32  40  48  56  64  72  80  88  96]\n",
        " [  9  18  27  36  45  54  63  72  81  90  99 108]\n",
        " [ 10  20  30  40  50  60  70  80  90 100 110 120]\n",
        " [ 11  22  33  44  55  66  77  88  99 110 121 132]\n",
        " [ 12  24  36  48  60  72  84  96 108 120 132 144]]\n"
       ]
      }
     ],
     "prompt_number": 13
    },
    {
     "cell_type": "markdown",
     "metadata": {},
     "source": [
      "**Exercise 2 [10 pts]**. Create a new matrix that normalizes the given matrix so that all *columns* sum to 1.0 without using any loops. Create another matrix so that all *rows* sum to 1.0. In other words, if the 3 matrices were `xs` (given), `ys` (column normalized) and `zs` (row normalized), we would have \n",
      "\n",
      "`ys.sum(axis=0)` = `[ 1.,  1.,  1.,  1.,  1.,  1.]` \n",
      "\n",
      "and \n",
      "\n",
      "`zs.sum(axis=1)` = `[ 1.,  1.,  1.,  1.]`\n",
      "\n",
      "Start by creating the following matrix `xs`\n",
      "```python\n",
      "[[  1.   2.   3.   4.   5.   6.]\n",
      " [  7.   8.   9.  10.  11.  12.]\n",
      " [ 13.  14.  15.  16.  17.  18.]\n",
      " [ 19.  20.  21.  22.  23.  24.]]\n",
      "```"
     ]
    },
    {
     "cell_type": "code",
     "collapsed": false,
     "input": [
      "# Your code here\n",
      "# constuct the desired matrix\n",
      "xs = np.array(map(float, range(1, 25))).reshape((4, 6))\n",
      "\n",
      "# make use of \"broadcasting\" in numpy module\n",
      "# The basic idea is to create a new dimension\n",
      "# so that the two arrays are compatible in operation\n",
      "# But this works for column op directly\n",
      "# Only need to worry abouy the row operation\n",
      "ys = xs / xs.sum(axis = 0)\n",
      "zs = xs / xs.sum(axis = 1)[:, np.newaxis]\n",
      "\n",
      "print ys.sum(axis=0)\n",
      "print zs.sum(axis=1)"
     ],
     "language": "python",
     "metadata": {},
     "outputs": [
      {
       "output_type": "stream",
       "stream": "stdout",
       "text": [
        "[ 1.  1.  1.  1.  1.  1.]\n",
        "[ 1.  1.  1.  1.]\n"
       ]
      }
     ],
     "prompt_number": 14
    },
    {
     "cell_type": "markdown",
     "metadata": {},
     "source": [
      "**Exercise 3 [10 pts]**. In this exercise, we will practice using Pandas dataframes to explore and summarize a data set `heart`.\n",
      "\n",
      "This data contains the survival time after receiving a heart transplant, the age of the patient and whether or not the survival time was censored.\n",
      "\n",
      "- Number of Observations - 69\n",
      "- Number of Variables - 3\n",
      "\n",
      "Variable name definitions::\n",
      "\n",
      "- survival - Days after surgery until death\n",
      "- censors - indicates if an observation is censored. 1 is uncensored\n",
      "- age - age at the time of surgery\n",
      "\n",
      "Answer the following questions with respect to the `heart` data set:\n",
      "\n",
      "- How many patients were censored?\n",
      "- What is the correlation coefficient between age and survival for uncensored patients?\n",
      "- What is the average age for censored and uncensored patients?\n",
      "- What is the average survival time for censored and uncensored patients under the age of 45?\n",
      "- What is the survival time of the youngest and oldest uncensored patient?"
     ]
    },
    {
     "cell_type": "code",
     "collapsed": false,
     "input": [
      "import statsmodels.api as sm\n",
      "heart = sm.datasets.heart.load_pandas().data\n",
      "\n",
      "heart.head(n=6)"
     ],
     "language": "python",
     "metadata": {},
     "outputs": [
      {
       "html": [
        "<div style=\"max-height:1000px;max-width:1500px;overflow:auto;\">\n",
        "<table border=\"1\" class=\"dataframe\">\n",
        "  <thead>\n",
        "    <tr style=\"text-align: right;\">\n",
        "      <th></th>\n",
        "      <th>survival</th>\n",
        "      <th>censors</th>\n",
        "      <th>age</th>\n",
        "    </tr>\n",
        "  </thead>\n",
        "  <tbody>\n",
        "    <tr>\n",
        "      <th>0</th>\n",
        "      <td>  15</td>\n",
        "      <td> 1</td>\n",
        "      <td> 54.3</td>\n",
        "    </tr>\n",
        "    <tr>\n",
        "      <th>1</th>\n",
        "      <td>   3</td>\n",
        "      <td> 1</td>\n",
        "      <td> 40.4</td>\n",
        "    </tr>\n",
        "    <tr>\n",
        "      <th>2</th>\n",
        "      <td> 624</td>\n",
        "      <td> 1</td>\n",
        "      <td> 51.0</td>\n",
        "    </tr>\n",
        "    <tr>\n",
        "      <th>3</th>\n",
        "      <td>  46</td>\n",
        "      <td> 1</td>\n",
        "      <td> 42.5</td>\n",
        "    </tr>\n",
        "    <tr>\n",
        "      <th>4</th>\n",
        "      <td> 127</td>\n",
        "      <td> 1</td>\n",
        "      <td> 48.0</td>\n",
        "    </tr>\n",
        "    <tr>\n",
        "      <th>5</th>\n",
        "      <td>  64</td>\n",
        "      <td> 1</td>\n",
        "      <td> 54.6</td>\n",
        "    </tr>\n",
        "  </tbody>\n",
        "</table>\n",
        "</div>"
       ],
       "metadata": {},
       "output_type": "pyout",
       "prompt_number": 15,
       "text": [
        "   survival  censors   age\n",
        "0        15        1  54.3\n",
        "1         3        1  40.4\n",
        "2       624        1  51.0\n",
        "3        46        1  42.5\n",
        "4       127        1  48.0\n",
        "5        64        1  54.6"
       ]
      }
     ],
     "prompt_number": 15
    },
    {
     "cell_type": "code",
     "collapsed": false,
     "input": [
      "import statsmodels.api as sm\n",
      "heart = sm.datasets.heart.load_pandas().data\n",
      "\n",
      "# Your code here\n",
      "import numpy as np\n",
      "\n",
      "print \"(1) %.d patients were censored in the data set.\" % sum(heart.censors == 0)\n",
      "\n",
      "print \"(2) The correlation coefficient between age and survival for uncensored patients is %.4f.\" % np.corrcoef(list(heart.age[heart.censors == 1]), list(heart.survival[heart.censors == 1]))[0,1]\n",
      "\n",
      "print \"(3) The average age for censored and uncensored patients are %.1f and %.1f, respectively\"  % (np.mean(list(heart.age[heart.censors == 0])), np.mean(list(heart.age[heart.censors == 1])))\n",
      "\n",
      "print \"\"\"(4) The average survival time for censored patients under age 45 is %.2f while that for uncensored \n",
      "patients under age 45 is %.2f.\"\"\" %(np.mean(list(heart.survival[(heart.censors == 0) & (heart.age < 45)])), np.mean(list(heart.survival[(heart.censors == 1) & (heart.age < 45)])))\n",
      "\n",
      "print \"(5) The survival time of the youngest and oldest uncensored patient are %.2f and %.2f.\" %(heart.survival[heart.age[heart.censors == 1].argmin()], heart.survival[heart.age[heart.censors == 1].argmax()])"
     ],
     "language": "python",
     "metadata": {},
     "outputs": [
      {
       "output_type": "stream",
       "stream": "stdout",
       "text": [
        "(1) 24 patients were censored in the data set.\n",
        "(2) The correlation coefficient between age and survival for uncensored patients is 0.0033.\n",
        "(3) The average age for censored and uncensored patients are 41.7 and 48.5, respectively\n",
        "(4) The average survival time for censored patients under age 45 is 712.82 while that for uncensored \n",
        "patients under age 45 is 169.91.\n",
        "(5) The survival time of the youngest and oldest uncensored patient are 228.00 and 60.00.\n"
       ]
      }
     ],
     "prompt_number": 3
    },
    {
     "cell_type": "markdown",
     "metadata": {},
     "source": [
      "**Exercise 4 [20 pts]**. Normalize the given matrix $M$ so that all rows sum to 1.0 (as in Exercise 2). This can then be considered as a transition matrix $P$ for a Markov chain. Find the stationary distribution of this matrix in the following ways using `numpy` and `numpy.linalg` (or `scipy.linalg`):\n",
      "\n",
      "- By repeated matrix multiplication of a random probabilty vector $v$ (a row vector normalized to sum to 1.0) with $P$ using matrix multiplication with `np.dot`.\n",
      "- By raising the matrix $P$ to some large power unitl it doesn't change with higher powers (see `np.linalg.matrix_power`) and then calculating $vP$\n",
      "- From the equation for stationarity $wP = w$, we can see that $w$ must be a left eigenvector of $P$ with eigenvalue $1$ (Note: np.linalg.eig returns the right eigenvectors, but the left eighenvector of a matrix is the right eigenvector of the transposed matrix). Use this to find $w$ using `np.linalg.eig`.\n",
      "- Suppose $w = (w_1, w_2, w_3)$. Then from $wP = w$, we have:\n",
      "\\begin{align}\n",
      "w_1 P_{11} + w_2 P_{21} + w_3 P_{31} &= w_1 \\\\\n",
      "w_1 P_{12} + w_2 P_{22} + w_3 P_{32} &= w_2 \\\\\n",
      "w_1 P_{13} + w_2 P_{23} + w_3 P_{331} &= w_3 \\\\\n",
      "\\end{align}\n",
      "This is a singular system, but we also know that $w_1 + w_2 + w_3 = 1$. Use these facts to set up a linear system of equations that can be solved with `np.linalg.solve` to find $w$.\n",
      "\n",
      "Given matrix $M$\n",
      "```python\n",
      "      [[7, 8, 8],\n",
      "       [1, 3, 8],\n",
      "       [9, 2, 1]]\n",
      "```"
     ]
    },
    {
     "cell_type": "code",
     "collapsed": false,
     "input": [
      "# Your code here\n",
      "# Define matrices\n",
      "import numpy as np\n",
      "\n",
      "M = np.array([7, 8, 8, 1, 3, 8, 9, 2, 1], dtype = float).reshape((3, 3))\n",
      "P = M / M.sum(axis = 1)[:, np.newaxis]\n",
      "\n",
      "# (1) Repeated matrix multiplication\n",
      "v = np.array([0.2, 0.3, 0.5]).reshape((1, 3))\n",
      "# One trial\n",
      "temp = np.dot(v, P)\n",
      "# Execute 9 more times\n",
      "for i in range(9):\n",
      "    temp = np.dot(temp, P)\n",
      "print temp\n",
      "\n",
      "# (2) Raise P to high power so that it converges\n",
      "P_limit = np.linalg.matrix_power(P, 10)\n",
      "print np.dot(v, P_limit)\n",
      "\n",
      "# (3) Find the left eigenvector with eigenvalue 1\n",
      "L, W = np.linalg.eig(P.T)\n",
      "# since this eigenvector is real, so we can discard the imaginary part\n",
      "w = (W[:,0] / sum(W[:,0])).real # normalize to get unit length\n",
      "print(w)\n",
      "print np.dot(w, P)\n",
      "\n",
      "# (4) Setting a linear system to find w\n",
      "# Since the system is singular, we plug in the sum-to-one constraint and solve\n",
      "# w_1, w_2 with only the two equations. Finally, we calculate w_3 directly from\n",
      "# the constraint\n",
      "\n",
      "# solve a 2 times 2 non-singular system\n",
      "LHS = np.array([[P[0,0] - P[2,0] - 1, P[1,0] - P[2,0]], [P[0,1] - P[2,1], P[1,1] - P[2,1] - 1]])\n",
      "RHS = np.array([-P[2,0], -P[2,1]])\n",
      "w = np.linalg.solve(LHS, RHS)\n",
      "\n",
      "# append w_3\n",
      "w = np.append(w, 1 - sum(w))\n",
      "print(w)"
     ],
     "language": "python",
     "metadata": {},
     "outputs": [
      {
       "output_type": "stream",
       "stream": "stdout",
       "text": [
        "[[ 0.39862234  0.26059728  0.34078039]]\n",
        "[[ 0.39862234  0.26059728  0.34078039]]\n",
        "[[ 0.68069223+0.j         -0.75592895+0.j         -0.75592895-0.j        ]\n",
        " [ 0.44499943+0.j          0.29990659+0.25560817j  0.29990659-0.25560817j]\n",
        " [ 0.58192233+0.j          0.45602235-0.25560817j  0.45602235+0.25560817j]]\n",
        "[ 0.39862184  0.2605972   0.34078096]\n",
        "[ 0.39862184  0.2605972   0.34078096]\n",
        "[ 0.39862184  0.2605972   0.34078096]\n"
       ]
      }
     ],
     "prompt_number": 5
    },
    {
     "cell_type": "code",
     "collapsed": false,
     "input": [],
     "language": "python",
     "metadata": {},
     "outputs": []
    }
   ],
   "metadata": {}
  }
 ]
}