{
 "metadata": {
  "name": "",
  "signature": "sha256:f315e3fd62c9d9761f8998395a1e4f0b8658475cf1e2705d8f582a07622431cc"
 },
 "nbformat": 3,
 "nbformat_minor": 0,
 "worksheets": [
  {
   "cells": [
    {
     "cell_type": "code",
     "collapsed": false,
     "input": [
      "from __future__ import division\n",
      "\n",
      "import os\n",
      "import sys\n",
      "import glob\n",
      "import matplotlib.pyplot as plt\n",
      "import numpy as np\n",
      "import pandas as pd\n",
      "%matplotlib inline\n",
      "%precision 4\n",
      "plt.style.use('ggplot')\n"
     ],
     "language": "python",
     "metadata": {},
     "outputs": [],
     "prompt_number": 16
    },
    {
     "cell_type": "code",
     "collapsed": false,
     "input": [
      "import scipy.optimize as opt\n",
      "import scipy.stats as stats\n",
      "import scipy.linalg as la\n",
      "from IPython.display import Image"
     ],
     "language": "python",
     "metadata": {},
     "outputs": [],
     "prompt_number": 17
    },
    {
     "cell_type": "markdown",
     "metadata": {},
     "source": [
      "**Exercise 1 (10 points)**.\n",
      "\n",
      "A milkmaid is at point A and needs to get to point B. However, she also needs to fill a pail of water from the river en route from A to B. The equation of the river's path is shown in the figure below. \n",
      "\n",
      "- What is the minimum distance she has to travel to do this?\n",
      "- Modify the code below so that the path taken by the milkmaid is shown as a dashed line.\n",
      "\n",
      "```\n",
      "x = np.linspace(0, 10, 100)\n",
      "plt.xlim([0, 10])\n",
      "plt.plot(x, 10.0/(1+x), 'b', linewidth=5)\n",
      "plt.scatter([2,8], [8,4], c=[0,1], s=100)\n",
      "plt.text(8, 5, 'B (8,4)', fontsize=16)\n",
      "plt.text(2, 9, 'A (2,8)', fontsize=16)\n",
      "plt.text(0.5, 2, 'River', fontsize=16)\n",
      "plt.text(0.5, 0.5, 'g(x y) = y - 10/(1+x)', fontsize=16);\n",
      "```"
     ]
    },
    {
     "cell_type": "code",
     "collapsed": false,
     "input": [
      "# minimum distance function\n",
      "def g(x):\n",
      "    \"distance function\"\n",
      "    return ((x-2.)**2 + (10./(1.+x)-8.)**2)**0.5 + ((x-8.)**2 + (10./(1.+x)-4)**2)**0.5\n",
      "# choose four distinct starting points\n",
      "start = np.array([2.,4.,6.,8.])\n",
      "x1 = opt.minimize(g, start[0]).x\n",
      "x2 = opt.minimize(g, start[1]).x\n",
      "x3 = opt.minimize(g, start[2]).x\n",
      "x4 = opt.minimize(g, start[3]).x\n",
      "print x1, x2, x3, x4\n",
      "print g(x1), g(x2)\n",
      "# However, since we specify that the point has to be en route from A to B, so x1 is excluded although it yeilds a smaller distance\n",
      "print \"The minimum distance is\", g(x2)\n",
      "P = np.array([x2, 10./(1.+x2)]).squeeze()\n",
      "print \"The point has coordinates\", P"
     ],
     "language": "python",
     "metadata": {},
     "outputs": [
      {
       "output_type": "stream",
       "stream": "stdout",
       "text": [
        "[ 0.5323] [ 4.3988] [ 4.3988] [ 4.3988]\n",
        "[ 9.9634] [ 10.7922]\n",
        "The minimum distance is [ 10.7922]\n",
        "The point has coordinates [ 4.3988  1.8523]\n"
       ]
      }
     ],
     "prompt_number": 18
    },
    {
     "cell_type": "code",
     "collapsed": false,
     "input": [
      "x = np.linspace(0, 10, 100)\n",
      "plt.xlim([0, 10])\n",
      "plt.plot(x, 10.0/(1+x), 'b', linewidth=5)\n",
      "plt.scatter([2,8,P[0]], [8,4,P[1]], c=[0,5,1], s=100)\n",
      "plt.plot([2,P[0]], [8,P[1]], '--b', linewidth=4)\n",
      "plt.plot([P[0],8], [P[1],4], '--b', linewidth=4)\n",
      "plt.text(8, 5, 'B (8,4)', fontsize=16)\n",
      "plt.text(2, 9, 'A (2,8)', fontsize=16)\n",
      "plt.text(0.5, 2, 'River', fontsize=16)\n",
      "plt.text(0.5, 0.5, 'g(x y) = y - 10/(1+x)', fontsize=16)"
     ],
     "language": "python",
     "metadata": {},
     "outputs": [
      {
       "metadata": {},
       "output_type": "pyout",
       "prompt_number": 19,
       "text": [
        "<matplotlib.text.Text at 0x7efee0ae1990>"
       ]
      },
      {
       "metadata": {},
       "output_type": "display_data",
       "png": "[encoded data removed]",
       "text": [
        "<matplotlib.figure.Figure at 0x7efee2443c10>"
       ]
      }
     ],
     "prompt_number": 19
    },
    {
     "cell_type": "markdown",
     "metadata": {},
     "source": [
      "**Exercise 2 (10 points)**.\n",
      "\n",
      "You are given 5 samples of 100 rolls of a die. The die is chosen at random from one of two dice, either of which may be biased. Given the following counts, estimate the parameters for each die (i.e. the probabilites of getting a 1, 2, 3, 4, 5 or 6)."
     ]
    },
    {
     "cell_type": "code",
     "collapsed": false,
     "input": [
      "df = pd.read_csv('dice.csv', index_col=0)\n",
      "df"
     ],
     "language": "python",
     "metadata": {},
     "outputs": [
      {
       "html": [
        "<div style=\"max-height:1000px;max-width:1500px;overflow:auto;\">\n",
        "<table border=\"1\" class=\"dataframe\">\n",
        "  <thead>\n",
        "    <tr style=\"text-align: right;\">\n",
        "      <th></th>\n",
        "      <th>1</th>\n",
        "      <th>2</th>\n",
        "      <th>3</th>\n",
        "      <th>4</th>\n",
        "      <th>5</th>\n",
        "      <th>6</th>\n",
        "    </tr>\n",
        "  </thead>\n",
        "  <tbody>\n",
        "    <tr>\n",
        "      <th>Sample 1</th>\n",
        "      <td>  2</td>\n",
        "      <td> 14</td>\n",
        "      <td> 10</td>\n",
        "      <td> 20</td>\n",
        "      <td> 26</td>\n",
        "      <td> 28</td>\n",
        "    </tr>\n",
        "    <tr>\n",
        "      <th>Sample 2</th>\n",
        "      <td>  1</td>\n",
        "      <td> 13</td>\n",
        "      <td> 12</td>\n",
        "      <td> 17</td>\n",
        "      <td> 21</td>\n",
        "      <td> 36</td>\n",
        "    </tr>\n",
        "    <tr>\n",
        "      <th>Sample 3</th>\n",
        "      <td> 21</td>\n",
        "      <td> 18</td>\n",
        "      <td> 16</td>\n",
        "      <td> 12</td>\n",
        "      <td> 14</td>\n",
        "      <td> 19</td>\n",
        "    </tr>\n",
        "    <tr>\n",
        "      <th>Sample 4</th>\n",
        "      <td> 15</td>\n",
        "      <td> 20</td>\n",
        "      <td> 20</td>\n",
        "      <td> 15</td>\n",
        "      <td> 12</td>\n",
        "      <td> 18</td>\n",
        "    </tr>\n",
        "    <tr>\n",
        "      <th>Sample 5</th>\n",
        "      <td>  5</td>\n",
        "      <td> 10</td>\n",
        "      <td> 11</td>\n",
        "      <td> 24</td>\n",
        "      <td> 17</td>\n",
        "      <td> 33</td>\n",
        "    </tr>\n",
        "  </tbody>\n",
        "</table>\n",
        "</div>"
       ],
       "metadata": {},
       "output_type": "pyout",
       "prompt_number": 20,
       "text": [
        "           1   2   3   4   5   6\n",
        "Sample 1   2  14  10  20  26  28\n",
        "Sample 2   1  13  12  17  21  36\n",
        "Sample 3  21  18  16  12  14  19\n",
        "Sample 4  15  20  20  15  12  18\n",
        "Sample 5   5  10  11  24  17  33"
       ]
      }
     ],
     "prompt_number": 20
    },
    {
     "cell_type": "code",
     "collapsed": false,
     "input": [
      "# implement EM algorithm\n",
      "xs = np.array(df)\n",
      "thetas = np.array([np.array(df.ix[0,:]/100.), np.array(df.ix[2,:]/100.)])\n",
      "\n",
      "tol = 0.001\n",
      "max_iter = 100\n",
      "\n",
      "ll_old = -np.infty\n",
      "for i in range(max_iter):\n",
      "    ll_A = np.sum(xs * np.log(thetas[0]), axis=1)\n",
      "    ll_B = np.sum(xs * np.log(thetas[1]), axis=1)\n",
      "    denom = np.exp(ll_A) + np.exp(ll_B)\n",
      "    w_A = np.exp(ll_A)/denom\n",
      "    w_B = np.exp(ll_B)/denom\n",
      "\n",
      "    vs_A = w_A[:, None] * xs\n",
      "    vs_B = w_B[:, None] * xs\n",
      "    \n",
      "    thetas[0] = np.sum(vs_A, 0)/np.sum(vs_A)\n",
      "    thetas[1] = np.sum(vs_B, 0)/np.sum(vs_B)\n",
      "\n",
      "    ll_new = w_A.dot(ll_A) + w_B.dot(ll_B)\n",
      "    \n",
      "    print \"Iteration: %d\" % (i+1)\n",
      "    print \"\"\"theta_A1 = %.2f, theta_A2 = %.2f, theta_A3 = %.2f, theta_A4 = %.2f, theta_A5 = %.2f, theta_A6 = %.2f,\n",
      "theta_B1 = %.2f, theta_B2 = %.2f, theta_B3 = %.2f, theta_B4 = %.2f, theta_B5 = %.2f, theta_B6 = %.2f,\n",
      "ll = %.2f\"\"\" % (thetas[0,0], thetas[0,1], thetas[0,2], thetas[0,3], thetas[0,4], thetas[0,5], \n",
      "                             thetas[1,0], thetas[1,1], thetas[1,2], thetas[1,3], thetas[1,4], thetas[1,5], \n",
      "                             ll_new)\n",
      "    \n",
      "    if np.abs(ll_new - ll_old) < tol:\n",
      "        break\n",
      "    ll_old = ll_new"
     ],
     "language": "python",
     "metadata": {},
     "outputs": [
      {
       "output_type": "stream",
       "stream": "stdout",
       "text": [
        "Iteration: 1\n",
        "theta_A1 = 0.03, theta_A2 = 0.12, theta_A3 = 0.11, theta_A4 = 0.20, theta_A5 = 0.21, theta_A6 = 0.32,\n",
        "theta_B1 = 0.18, theta_B2 = 0.19, theta_B3 = 0.18, theta_B4 = 0.14, theta_B5 = 0.13, theta_B6 = 0.19,\n",
        "ll = -845.03\n",
        "Iteration: 2\n",
        "theta_A1 = 0.03, theta_A2 = 0.12, theta_A3 = 0.11, theta_A4 = 0.20, theta_A5 = 0.21, theta_A6 = 0.32,\n",
        "theta_B1 = 0.18, theta_B2 = 0.19, theta_B3 = 0.18, theta_B4 = 0.14, theta_B5 = 0.13, theta_B6 = 0.19,\n",
        "ll = -840.95\n",
        "Iteration: 3\n",
        "theta_A1 = 0.03, theta_A2 = 0.12, theta_A3 = 0.11, theta_A4 = 0.20, theta_A5 = 0.21, theta_A6 = 0.32,\n",
        "theta_B1 = 0.18, theta_B2 = 0.19, theta_B3 = 0.18, theta_B4 = 0.14, theta_B5 = 0.13, theta_B6 = 0.19,\n",
        "ll = -840.95\n"
       ]
      }
     ],
     "prompt_number": 21
    },
    {
     "cell_type": "markdown",
     "metadata": {},
     "source": [
      "**Exercise 3 (10 points)**\n",
      "\n",
      "You have some data about the intervals between arrivals (in minutes) of customers to a bank. You want to know how many customers to expect from 9 AM to 5 PM. Simulate 1000 sequences of customer arrivals over an 8 hour period and esitmate the mean and variance. "
     ]
    },
    {
     "cell_type": "code",
     "collapsed": false,
     "input": [
      "data = np.loadtxt('arrival_intervals.txt')"
     ],
     "language": "python",
     "metadata": {},
     "outputs": [],
     "prompt_number": 31
    },
    {
     "cell_type": "code",
     "collapsed": false,
     "input": [
      "# Use Inverse-EDF methods\n",
      "from scipy.interpolate import interp1d\n",
      "\n",
      "def extrap1d(interpolator):\n",
      "    \"\"\"From StackOverflow http://bit.ly/1BjyRfk\"\"\"\n",
      "    xs = interpolator.x\n",
      "    ys = interpolator.y\n",
      "\n",
      "    def pointwise(x):\n",
      "        if x < xs[0]:\n",
      "            return ys[0]+(x-xs[0])*(ys[1]-ys[0])/(xs[1]-xs[0])\n",
      "        elif x > xs[-1]:\n",
      "            return ys[-1]+(x-xs[-1])*(ys[-1]-ys[-2])/(xs[-1]-xs[-2])\n",
      "        else:\n",
      "            return interpolator(x)\n",
      "\n",
      "    def ufunclike(xs):\n",
      "        return np.array(map(pointwise, np.array(xs)))\n",
      "\n",
      "    return ufunclike"
     ],
     "language": "python",
     "metadata": {},
     "outputs": [],
     "prompt_number": 32
    },
    {
     "cell_type": "code",
     "collapsed": false,
     "input": [
      "from statsmodels.distributions.empirical_distribution import ECDF\n",
      "\n",
      "ecdf = ECDF(data)\n",
      "inv_cdf = extrap1d(interp1d(ecdf.y, ecdf.x, \n",
      "                            bounds_error=False, assume_sorted=True))\n",
      "np.random.seed(12345)\n",
      "SAMPLES = []\n",
      "for i in range(1000):\n",
      "    sample = []\n",
      "    cond = True\n",
      "    while(cond == True):\n",
      "        temp = inv_cdf(np.random.uniform(0, 1, 1))[0]\n",
      "        if np.sum(sample) + temp <= 480.:\n",
      "            sample.append(temp)\n",
      "        else:\n",
      "            break\n",
      "    SAMPLES.append(sample)"
     ],
     "language": "python",
     "metadata": {},
     "outputs": [],
     "prompt_number": 36
    },
    {
     "cell_type": "code",
     "collapsed": false,
     "input": [
      "print []==[]"
     ],
     "language": "python",
     "metadata": {},
     "outputs": [
      {
       "output_type": "stream",
       "stream": "stdout",
       "text": [
        "True\n"
       ]
      }
     ],
     "prompt_number": 37
    },
    {
     "cell_type": "code",
     "collapsed": false,
     "input": [
      "# estimate the mean and variance of number of customers between 9AM to 5PM (480 min)\n",
      "print \"The mean is estimated by\", np.mean([len(s) for s in SAMPLES])\n",
      "print \"The variance is estimated by\", np.var([len(s) for s in SAMPLES])"
     ],
     "language": "python",
     "metadata": {},
     "outputs": [
      {
       "output_type": "stream",
       "stream": "stdout",
       "text": [
        "The mean is estimated by 32.653\n",
        "The variance is estimated by 96.656591\n"
       ]
      }
     ],
     "prompt_number": 38
    },
    {
     "cell_type": "markdown",
     "metadata": {},
     "source": [
      "**Exercsie 4 (10 points)**\n",
      "\n",
      "The Cauchy distribution is given by \n",
      "$$\n",
      "f(x) = \\frac{1}{\\pi (1 + x^2)}, \\ \\ -\\infty \\lt x \\lt \\infty \n",
      "$$\n",
      "\n",
      "1. Integrate the tail probability $P(X > 2)$ using Monte Carlo with 1,000 samples:\n",
      "    1. Sampling from the Cauchy distribution directly\n",
      "    2. Sampling from the uniform distribution using an appropriate change of variables\n",
      "2. Plot the 95% CI for the Monte Carlo estimates for the number of samples from 1 to 1,000, and using 1,000 reps to estimate the lower and upper bounds:\n",
      "    1. For sampling from the Cauchy distribution using mulitple Monte Carlo sequences\n",
      "    2. For sampling from the uniform distribution using bootstrap samples of a single Monte Carlo sequence\n",
      "\n"
     ]
    },
    {
     "cell_type": "code",
     "collapsed": false,
     "input": [
      "# 1.A\n",
      "import scipy.stats as stats\n",
      "np.random.seed(1)\n",
      "n = 1000\n",
      "x = stats.cauchy().rvs(n)\n",
      "p1 = (x > 2).mean()\n",
      "print \"P(X>2) =\", p1\n",
      "\n",
      "# 1.B\n",
      "np.random.seed(1)\n",
      "y = stats.uniform().rvs(n)\n",
      "p2 = np.mean(2.0/(np.pi * (4 + y**2)))\n",
      "print \"P(X>2) =\", p2"
     ],
     "language": "python",
     "metadata": {},
     "outputs": [
      {
       "output_type": "stream",
       "stream": "stdout",
       "text": [
        "P(X>2) = 0.148\n",
        "P(X>2) = 0.147561820122\n"
       ]
      }
     ],
     "prompt_number": 26
    },
    {
     "cell_type": "code",
     "collapsed": false,
     "input": [
      "# 2.A\n",
      "np.random.seed(1)\n",
      "n = 1000\n",
      "rep = 1000\n",
      "size = np.arange(1, n+1)\n",
      "x = stats.cauchy().rvs((n, rep))\n",
      "y = (x > 2).cumsum(axis=0) / size[:,None]\n",
      "lower, upper = np.percentile(y, [2.5, 97.5], axis=1)\n",
      "plt.plot(size, upper, 'b', size, lower, 'b')"
     ],
     "language": "python",
     "metadata": {},
     "outputs": [
      {
       "metadata": {},
       "output_type": "pyout",
       "prompt_number": 27,
       "text": [
        "[<matplotlib.lines.Line2D at 0x7efee0a2c350>,\n",
        " <matplotlib.lines.Line2D at 0x7efee0a2c5d0>]"
       ]
      },
      {
       "metadata": {},
       "output_type": "display_data",
       "png": "[encoded data removed]",
       "text": [
        "<matplotlib.figure.Figure at 0x7efee2bd9f50>"
       ]
      }
     ],
     "prompt_number": 27
    },
    {
     "cell_type": "code",
     "collapsed": false,
     "input": [
      "# 2.B\n",
      "np.random.seed(1)\n",
      "n = 1000\n",
      "rep = 1000\n",
      "size = np.arange(1, n+1)\n",
      "y = stats.uniform().rvs((n, rep))\n",
      "y = (2.0/(np.pi * (4 + y**2))).cumsum(axis=0) / size[:,None]\n",
      "lower, upper = np.percentile(y, [2.5, 97.5], axis=1)\n",
      "plt.plot(size, upper, 'r', size, lower, 'r')"
     ],
     "language": "python",
     "metadata": {},
     "outputs": [
      {
       "metadata": {},
       "output_type": "pyout",
       "prompt_number": 28,
       "text": [
        "[<matplotlib.lines.Line2D at 0x7efee09ddad0>,\n",
        " <matplotlib.lines.Line2D at 0x7efee09ddd50>]"
       ]
      },
      {
       "metadata": {},
       "output_type": "display_data",
       "png": "[encoded data removed]",
       "text": [
        "<matplotlib.figure.Figure at 0x7efee0a63190>"
       ]
      }
     ],
     "prompt_number": 28
    },
    {
     "cell_type": "markdown",
     "metadata": {},
     "source": [
      "**Exercise 5 (10 points)**.\n",
      "\n",
      "Estimate the following integral using Monte Carlo integration\n",
      "\n",
      "$$\n",
      "\\int_{-\\infty}^{\\infty} x^2 \\frac{1}{2}e^{-|x|} dx\n",
      "$$\n",
      "\n",
      "Hint: See figure.\n",
      "\n",
      "![Hint](./dexp.png)"
     ]
    },
    {
     "cell_type": "code",
     "collapsed": false,
     "input": [
      "# Estimate the integral\n",
      "np.random.seed(32)\n",
      "n = 100000\n",
      "iv = stats.norm(loc = 0, scale = 2**0.5)\n",
      "x = iv.rvs(n)\n",
      "rv = stats.laplace(loc = 0, scale = 1)\n",
      "h = x**2 * rv.pdf(x) / iv.pdf(x)\n",
      "print \"The estimate of the integral is\", h.mean()"
     ],
     "language": "python",
     "metadata": {},
     "outputs": [
      {
       "output_type": "stream",
       "stream": "stdout",
       "text": [
        "The estimate of the integral is 1.94392434459\n"
       ]
      }
     ],
     "prompt_number": 29
    }
   ],
   "metadata": {}
  }
 ]
}