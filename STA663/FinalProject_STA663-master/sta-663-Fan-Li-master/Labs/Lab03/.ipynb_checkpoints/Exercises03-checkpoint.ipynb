{
 "metadata": {
  "name": "",
  "signature": "sha256:9d8c85088762c0f77b207edd7d9d0c004aa51202382f8ac8141069a34d5ea987"
 },
 "nbformat": 3,
 "nbformat_minor": 0,
 "worksheets": [
  {
   "cells": [
    {
     "cell_type": "code",
     "collapsed": false,
     "input": [
      "import os\n",
      "import sys\n",
      "import glob\n",
      "import matplotlib.pyplot as plt\n",
      "import numpy as np\n",
      "import pandas as pd\n",
      "%matplotlib inline\n",
      "plt.style.use('ggplot')\n"
     ],
     "language": "python",
     "metadata": {},
     "outputs": [],
     "prompt_number": 65
    },
    {
     "cell_type": "markdown",
     "metadata": {},
     "source": [
      "**Exercise 1 (10 pts)**. Avoding catastrophic cancellation.\n",
      "\n",
      "The tail of the standard logistic distributon is given by $1 - F(t) = 1 - (1+e^{-1})^{-1}$.\n",
      "\n",
      "- Define a function `f1` to calculate the tail probability of the logistic distribution using the formula given above\n",
      "- Use `sympy` to find the exact value of the tail distribution (using the same symbolic formula) to 20 decimal digits\n",
      "- Calculate the *relative error* of `f1` when $t = 25$ (The relative error is given by `abs(exact - approximate)/exact`)\n",
      "- Rewrite the expression for the tail of the logistic distribution using simple algebra so that there is no risk of cancellation, and write a function `f2` using this formula. Calculate the *relative error* of `f2` when $t = 25$. \n",
      "- How much more accurate is `f2` compared with `f1` in terms of the relative error?"
     ]
    },
    {
     "cell_type": "code",
     "collapsed": false,
     "input": [
      "# Your code here\n",
      "\n",
      "# Create f1\n",
      "def f1(t):\n",
      "    \"Calculate the tail probability of the logistic distribution\"\n",
      "    from math import exp \n",
      "    return (1 - (1 + exp(-t))**(-1))\n",
      "\n",
      "# Use sympy to find the exact value to 20 decimal digits\n",
      "# An example with t = 25\n",
      "from sympy import N, E\n",
      "exact = N(1 - (1 + E**(-25))**(-1), 20)\n",
      "print exact\n",
      "\n",
      "# Relative error for f1\n",
      "error1 = (exact - f1(25)) / exact\n",
      "print error1\n",
      "\n",
      "# Relative error for f2\n",
      "def f2(t):\n",
      "    \"Calculate the tail probability of the logistic distribution with simplified expression\"\n",
      "    from math import exp \n",
      "    return (1 + exp(t))**(-1)\n",
      "\n",
      "error2 = (exact - f2(25)) / exact\n",
      "print error2\n",
      "\n",
      "# Gain in accuracy using f2 relative to f1\n",
      "# we compute the ratio of the absolute relative errors (f1/f2)\n",
      "print (\"The ratio of absolute relative error from f1 to f2 is %.1f.\" %(abs(error1 / error2)))\n",
      "\n",
      "print f1(25)\n",
      "print f2(25)"
     ],
     "language": "python",
     "metadata": {},
     "outputs": [
      {
       "output_type": "stream",
       "stream": "stdout",
       "text": [
        "1.3887943864771145610e-11\n",
        "-4.1759147665982646285e-6\n",
        "1.1401906367350844868e-16\n",
        "The ratio of absolute relative error from f1 to f2 is 36624706711.8.\n",
        "1.38880018596e-11\n",
        "1.38879438648e-11\n"
       ]
      }
     ],
     "prompt_number": 48
    },
    {
     "cell_type": "markdown",
     "metadata": {},
     "source": [
      "**Exercise 2 (10 pts)**. Ill-conditioned linear problems.\n",
      "\n",
      "You are given a $n \\times p$ design matrix $X$ and a $p$-vector of observations $y$ and asked to find the coefficients $\\beta$ that solve the linear equations $X \\beta = y$. \n",
      "```python\n",
      "X = np.load('x.npy')\n",
      "y = np.load('y.npy')\n",
      "```\n",
      "\n",
      "The solution $\\beta$ can also be loaded as\n",
      "```python\n",
      "beta = np.load('b.npy')\n",
      "```\n",
      "\n",
      "- Write a formula that could solve the system of linear equations in terms of $X$ and $y$ Write a function `f1` that takes arguments $X$ and $y$ and returns $\\beta$ using this formula.\n",
      "- How could you code this formula using `np.linalg.solve` that does not require inverting a matrix? Write a function `f2` that takes arguments $X$ and $y$ and returns $\\beta$ using this.\n",
      "- Note that carefully designed algorithms *can* solve this ill-conditioned problem, which is why you should always use library functions for linear algebra rather than write your own.\n",
      "```python\n",
      "np.linalg.lstsq(x, y)[0]\n",
      "```\n",
      "- What happens if you try to solve for $\\beta$ using `f1` or `f2`? Remove the column of $X$ that is making the matrix singluar and find the $p-1$ vector $b$ using `f2`.\n",
      "- Note that the solution differs from that given by `np.linalg.lstsq`? This arises because the relevant condition number for `f2` is actually for the matrix $X^TX$ while the condition number of `lstsq` is for the matrix $X$. Why is the condition so high even after removing the column that makes the matrix singular?"
     ]
    },
    {
     "cell_type": "code",
     "collapsed": false,
     "input": [
      "# Your code here\n",
      "import numpy as np\n",
      "import numpy.linalg as la\n",
      "X = np.load('x.npy')\n",
      "y = np.load('y.npy')\n",
      "beta = np.load('b.npy')\n",
      "\n",
      "# The formula (using MP G-inverse) and the function f1\n",
      "beta_tilde = np.dot(np.dot(la.pinv(np.dot(X.T, X)), X.T), y) \n",
      "\n",
      "def f1(X, y):\n",
      "    \"A function takes matrix X and vector y and returns the solution to the linear system\"\n",
      "    return np.dot(np.dot(la.pinv(np.dot(X.T, X)), X.T), y) \n",
      "\n",
      "# The function f2 without matrix inversion\n",
      "def f2(X, y):\n",
      "    \"A function to solve the linear system without explicit inversion\"\n",
      "    return la.solve(np.dot(X.T, X), np.dot(X.T, y))\n",
      "\n",
      "# Use lstsq\n",
      "print \"The least square solution using built-in function is\"\n",
      "print np.linalg.lstsq(X, y)[0]\n",
      "\n",
      "# What happens if you try to solve for beta using f1 or f2?\n",
      "# Answer: (1) If using f1, then the solution is one of the many non-unique solutions; (2) If using f2, then no solutions are\n",
      "#         produced since the input matrix X is not square.\n",
      "#         (2) Now compute beta from both f1 and f2\n",
      "print \"The solution with f1 is\"\n",
      "print f1(X, y) # using f1\n",
      "print \"The solution given by f2 is\"\n",
      "print f2(X[:,0:5], y) # since the last column is a scale multilple of the 4th column, we remove it\n",
      "\n",
      "# Why is the condition so high even after removing the column that makes the matrix singular?\n",
      "print \"The condition number of X\"\n",
      "print la.cond(X)\n",
      "print \"The condition number of X^T X\"\n",
      "print la.cond(np.dot(X.T, X))\n",
      "print \"The condition number of the above after removing redundant column\"\n",
      "print la.cond(np.dot(X[:,0:5].T, X[:,0:5]))\n",
      "# The reason why the condition number is still high after removal of the last column is that the columns of X[:,0:5] are still \n",
      "# highly correlated (think about multicollinearity problems in regression), and any minor changes in the input will result in\n",
      "# great variability of the solution."
     ],
     "language": "python",
     "metadata": {},
     "outputs": [
      {
       "output_type": "stream",
       "stream": "stdout",
       "text": [
        "The least square solution using built-in function is\n",
        "[ 0.46950359  0.09617226  0.90379971  0.00945473  0.52517152  0.09454725]\n",
        "The solution with f1 is\n",
        "[  1.37452663e-15   9.61722604e-02   1.25618990e-15   1.44734924e-15\n",
        "   7.37328856e-16   1.44734924e-14]\n",
        "The solution given by f2 is\n",
        "[ 0.47221111  0.09617226  0.90449896  0.95138296  0.52497683]\n",
        "The condition number of X\n",
        "5.4572325963e+29\n",
        "The condition number of X^T X\n",
        "1.10542540697e+44\n",
        "The condition number of the above after removing redundant column\n",
        "3.56916189007e+28\n"
       ]
      }
     ],
     "prompt_number": 147
    },
    {
     "cell_type": "markdown",
     "metadata": {},
     "source": [
      "**Exercise 3 (10 pts)**. Importance of using efficient algorihtms.\n",
      "\n",
      "- Implement bubble sort\n",
      "- Calculate its big $\\mathcal{O}$ algorithmic complexity\n",
      "- Time the performance of bubble sort on random uniform deviate vectors of sizes `range(100, 2000, 100)` using `time.time()` from the standard library\n",
      "- Use `scipy.optimize.curve_fit` to fit an appropriate function to the collection of (size, execution time) data points. Extrapolate how long it would take to sort a random vector of size 1,000,000. Now time how long it takes for the system sort to sort a random vector of size 1,000,000.\n",
      "- Plot the fits together with the data points uisng `matplotlib.pyplot` functions."
     ]
    },
    {
     "cell_type": "code",
     "collapsed": false,
     "input": [
      "# Set the seed\n",
      "import numpy.random as npr\n",
      "npr.seed(1028)\n",
      "\n",
      "# implement bubble sort\n",
      "def bubble(list):\n",
      "    \" A function implementing bubble sort algorithm \"\n",
      "    for i in range(len(list) - 1, 0, -1):\n",
      "        for j in range(i):\n",
      "            if list[j] > list[j+1]:\n",
      "                list[j], list[j+1] = list[j+1], list[j]\n",
      "    return list\n",
      "\n",
      "list = [3, 6, 1, 99, 23, 10, 5, 32, 9]\n",
      "print bubble(list)\n",
      "\n",
      "# Big Oh complexity - O(n^2)\n",
      "def f1(n):\n",
      "    # calculate the big-oh algorithm complexity of bubble sort\n",
      "    # simply the sum of the first n-1 numbers\n",
      "    return 0.5 * n**2 - 0.5 * n\n",
      "\n",
      "# Time the bubble sort with increasing list length\n",
      "sort_time = []\n",
      "for n in range(100, 2000, 100):\n",
      "    import time\n",
      "    ran_list = np.random.uniform(size = n)\n",
      "    t0 = time.time()\n",
      "    sort_list = bubble(ran_list)\n",
      "    t1 = time.time()\n",
      "    d = t1 - t0\n",
      "    sort_time.append(d)"
     ],
     "language": "python",
     "metadata": {},
     "outputs": [
      {
       "output_type": "stream",
       "stream": "stdout",
       "text": [
        "[1, 3, 5, 6, 9, 10, 23, 32, 99]\n"
       ]
      }
     ],
     "prompt_number": 144
    },
    {
     "cell_type": "code",
     "collapsed": false,
     "input": [
      "# Fit the curve and extrapolate the time to sort a list of length 1,000,000 and compare with the truth\n",
      "import matplotlib.pyplot as plt\n",
      "%matplotlib inline\n",
      "%precision 4\n",
      "plt.style.use('ggplot')\n",
      "\n",
      "# (a) Fit the curve - curve_fit\n",
      "from scipy.optimize import curve_fit\n",
      "x = np.array(range(100, 2000, 100))\n",
      "def ft(t, a, b, c):\n",
      "    return a*t**2 + b*t + c\n",
      "b, bcov = curve_fit(ft, x, sort_time)\n",
      "y_fit = b[0]*x*x + b[1]*x + b[2]\n",
      "\n",
      "# (b) Extrapolation and comparison\n",
      "t = 1000000\n",
      "print \"The extrapolated time is\", b[0]*t*t + b[1]*t + b[2]\n",
      "\n",
      "# Time the bubble sort algorithm for a vector of length 1,000,000\n",
      "# But it is too time consuming, so it is advised not to execute it here in the notebook\n",
      "# The code is commented out\n",
      "\n",
      "# ran_list = np.random.uniform(size = t)\n",
      "# t0 = time.time()\n",
      "# sort_list = bubble(ran_list)\n",
      "# t1 = time.time()\n",
      "# print \"The true time is\", t1 - t0\n",
      "\n",
      "# Plot the fits together with the data points\n",
      "plt.plot(x, sort_time, 'o')\n",
      "plt.plot(x, y_fit, 'r-')"
     ],
     "language": "python",
     "metadata": {},
     "outputs": [
      {
       "output_type": "stream",
       "stream": "stdout",
       "text": [
        "The extrapolated time is 240013.744397\n"
       ]
      },
      {
       "metadata": {},
       "output_type": "pyout",
       "prompt_number": 153,
       "text": [
        "[<matplotlib.lines.Line2D at 0x7f8509e62490>]"
       ]
      },
      {
       "metadata": {},
       "output_type": "display_data",
       "png": "[encoded data removed]",
       "text": [
        "<matplotlib.figure.Figure at 0x7f852004eb10>"
       ]
      }
     ],
     "prompt_number": 153
    },
    {
     "cell_type": "markdown",
     "metadata": {},
     "source": [
      "**Exercise 4 (20 pts)**. One of the goals of the course it that you will be able to implement novel algorihtms from the literature. \n",
      "\n",
      "- Implement the mean-shift algorithm in 1D as described [here](http://homepages.inf.ed.ac.uk/rbf/CVonline/LOCAL_COPIES/TUZEL1/MeanShift.pdf). \n",
      "    - Use the following function signature\n",
      "    ```python\n",
      "    def mean_shift(xs, x, kernel, max_iters=100, tol=1e-6):\n",
      "    ```\n",
      "    - xs is the data set, x is the starting location, and kernel is a kernel function\n",
      "    - tol is the difference in $||x||$ across iterations\n",
      "- Use the following kernels with bandwidth $h$ (a default value of 1.0 will work fine)\n",
      "    - Flat - return 1 if $||x|| < h$ and 0 otherwise\n",
      "    - Gaussian \n",
      "    $$\\frac{1}{\\sqrt{2 \\pi h}}e^{\\frac{-||x||^2}{h^2}}$$\n",
      "    - Note that $||x||$ is the norm of the data point being evaluated minus the current value of $x$\n",
      "- Use both kernels to find all 3 modes of the data set in `x1d.npy`\n",
      "- Modify the algorithm and/or kernels so that it now works in an arbitrary number of dimensions.\n",
      "- Use both kernels to find all 3 modes of the data set in `x2d.npy`\n",
      "- Plot the path of successive intermediate solutions of the mean-shift algorithm starting from `x0 = (-4, 10)` until it converges onto a mode in the 2D data for each kernel. Superimpose the path on top of a contour plot of the data density."
     ]
    },
    {
     "cell_type": "code",
     "collapsed": false,
     "input": [
      "# Your code here\n",
      "import numpy as np\n",
      "from sets import Set\n",
      "\n",
      "# Implement the mean-shift algorithm in 1D\n",
      "def mean_shift(xs, x, kernel, max_iters = 100, tol = 1e-6):\n",
      "    \"\"\" The mean-shift algorithm function\n",
      "        Given the data set xs, it starts with an initial value x\n",
      "        weighting by the kernel function, and return one of the local \n",
      "        mode of the data set \"\"\"\n",
      "    completed_iters = 0\n",
      "    m_current = x\n",
      "    diff = 1\n",
      "    while abs(diff) > tol:\n",
      "        g = kernel(m_current - xs)\n",
      "        m_update = (xs*g).sum() / g.sum()\n",
      "        diff = m_update - m_current\n",
      "        m_current = m_update\n",
      "        completed_iters += 1\n",
      "        if completed_iters == max_iters:\n",
      "            break\n",
      "    mode = m_update\n",
      "    return mode\n",
      "\n",
      "# Read in data set\n",
      "xs = np.load('x1d.npy')\n",
      "\n",
      "# Use flat kernel\n",
      "def flat(x, h = 2):\n",
      "    return 1 if abs(x) < h else 0\n",
      "\n",
      "mode_flat = np.zeros(len(xs))\n",
      "for i in range(0, len(xs)):\n",
      "    mode_flat[i] = mean_shift(xs, x = xs[i], kernel = np.vectorize(flat), max_iters = 1000, tol = 1e-6).round()\n",
      "\n",
      "print \"Using the flat kernel, we found exactly 3 modes, but we need to increase the bandwidth to 2.\"\n",
      "print Set(mode_flat)\n",
      "print \"We can deduce that the three most frequent values to be the modes.\"\n",
      "\n",
      "# Use Gaussian kernel\n",
      "def gauss(x, h = 1):\n",
      "    return (2 * np.pi * h)**(-0.5)*np.exp(-x**2 / h**2)\n",
      "\n",
      "mode_gauss = np.zeros(len(xs))\n",
      "\n",
      "for i in range(0, len(xs)):\n",
      "    mode_gauss[i] = mean_shift(xs, x = xs[i], kernel = gauss, max_iters = 200, tol = 1e-6).round()\n",
      "\n",
      "print \"Using the Gaussian kernel, we found exactly 3 modes (note that the Gaussian kernel is more efficient),\"    \n",
      "print Set(mode_gauss)"
     ],
     "language": "python",
     "metadata": {},
     "outputs": [
      {
       "output_type": "stream",
       "stream": "stdout",
       "text": [
        "Using the flat kernel, we found exactly 3 modes, but we need to increase the bandwidth to 2.\n",
        "Set([1.0, -5.0, 4.0])\n",
        "We can deduce that the three most frequent values to be the modes.\n",
        "Using the Gaussian kernel, we found exactly 3 modes (note that the Gaussian kernel is more efficient),"
       ]
      },
      {
       "output_type": "stream",
       "stream": "stdout",
       "text": [
        "\n",
        "Set([1.0, -5.0, 4.0])\n"
       ]
      }
     ],
     "prompt_number": 4
    },
    {
     "cell_type": "code",
     "collapsed": false,
     "input": [
      "# Modify the algorithm \n",
      "# For the flat kernel, we increased h = 2.5 to improve smoothness\n",
      "import numpy as np\n",
      "import numpy.linalg as la\n",
      "\n",
      "# A function to extract unique rows from an array (to be used when summarizing the results)\n",
      "def unique_rows(data):\n",
      "    uniq = np.unique(data.view(data.dtype.descr * data.shape[1]))\n",
      "    return uniq.view(data.dtype).reshape(-1, data.shape[1])\n",
      "\n",
      "# Implement the mean-shift algorithm in pD\n",
      "def mean_shift(xs, x, kernel, max_iters = 100, tol = 1e-6):\n",
      "    \"\"\" The mean-shift algorithm function\n",
      "        Given the data set xs, it starts with an initial vector x\n",
      "        weighting by the kernel function, and return one of the local \n",
      "        mode of the data set \"\"\"\n",
      "    completed_iters = 0\n",
      "    m_current = x\n",
      "    diff = 1\n",
      "    while abs(diff) > tol:\n",
      "        g = kernel(la.norm(m_current - xs, axis = 1))\n",
      "        m_update = (xs*g[:, np.newaxis]).sum(axis = 0) / g.sum() # using broadcasting\n",
      "        diff  = la.norm(m_update - m_current) # using norm function\n",
      "        m_current = m_update\n",
      "        completed_iters += 1\n",
      "        if completed_iters == max_iters:\n",
      "            break\n",
      "    mode = m_update\n",
      "    return mode\n",
      "\n",
      "# Read in data set\n",
      "xs = np.load('x2d.npy')\n",
      "\n",
      "# Use flat kernel\n",
      "def flat(x, h = 2.5):\n",
      "    return 1 if abs(x) < h else 0\n",
      "\n",
      "mode_flat = np.zeros(2 * len(xs)).reshape(len(xs), 2)\n",
      "for i in range(0, len(xs)):\n",
      "    mode_flat[i,:] = mean_shift(xs, x = xs[i], kernel = np.vectorize(flat), max_iters = 100, tol = 1e-6).round()\n",
      "    \n",
      "print \"\"\" Using the flat kernel, we found exactly 3 modes as. \"\"\"\n",
      "print unique_rows(mode_flat)\n",
      "\n",
      "# Use Gaussian kernel\n",
      "def gauss(x, h = 1):\n",
      "    return (2 * np.pi * h)**(-0.5)*np.exp(-x**2 / h**2)\n",
      "\n",
      "mode_gauss = np.zeros(2 * len(xs)).reshape(len(xs), 2)\n",
      "for i in range(0, len(xs)):\n",
      "    mode_gauss[i,:] = mean_shift(xs, x = xs[i], kernel = gauss, max_iters = 200, tol = 1e-6).round()\n",
      "\n",
      "print \"Using the Gaussian kernel, we found exactly 3 modes as below. Our conclusion is no different from the flat kernel.\"    \n",
      "print unique_rows(mode_gauss)"
     ],
     "language": "python",
     "metadata": {},
     "outputs": [
      {
       "output_type": "stream",
       "stream": "stdout",
       "text": [
        " Using the flat kernel, we found exactly 3 modes as. \n",
        "[[-3.  3.]\n",
        " [ 2.  3.]\n",
        " [ 6.  9.]]\n",
        "Using the Gaussian kernel, we found exactly 3 modes as below. Our conclusion is no different from the flat kernel."
       ]
      },
      {
       "output_type": "stream",
       "stream": "stdout",
       "text": [
        "\n",
        "[[-3.  3.]\n",
        " [ 2.  3.]\n",
        " [ 6.  9.]]\n"
       ]
      }
     ],
     "prompt_number": 127
    },
    {
     "cell_type": "code",
     "collapsed": false,
     "input": [
      "# Plotting the paths and superimpose them over the densities\n",
      "import numpy as np\n",
      "import numpy.linalg as la\n",
      "import matplotlib.pyplot as plt\n",
      "import seaborn as sns\n",
      "%matplotlib inline\n",
      "plt.style.use('ggplot')\n",
      "\n",
      "# Implement the mean-shift algorithm returning the whole path in pD, p >= 2\n",
      "def mean_shift_path(xs, x, kernel, max_iters = 100, tol = 1e-6):\n",
      "    \"\"\" The mean-shift algorithm function returning the whole path\n",
      "        Given the data set xs, it starts with an initial vector x\n",
      "        weighting by the kernel function, and return the complete data\n",
      "        path until reaching the local mode of the data set \"\"\"\n",
      "    completed_iters = 0\n",
      "    m_current = x\n",
      "    path = x\n",
      "    diff = 1\n",
      "    while abs(diff) > tol:\n",
      "        g = kernel(la.norm(m_current - xs, axis = 1))\n",
      "        m_update = (xs*g[:, np.newaxis]).sum(axis = 0) / g.sum() # using broadcasting\n",
      "        diff  = la.norm(m_update - m_current) # using norm function\n",
      "        m_current = m_update\n",
      "        completed_iters += 1\n",
      "        path = np.vstack((path, m_current))\n",
      "        if completed_iters == max_iters:\n",
      "            break\n",
      "    return path\n",
      "\n",
      "# Read in data set\n",
      "xs = np.load('x2d.npy')\n",
      "\n",
      "# Use flat kernel (increase the bandwidth to improve smoothness)\n",
      "def flat(x, h = 5):\n",
      "    return 1 if abs(x) < h else 0\n",
      "\n",
      "path_flat = mean_shift_path(xs, x = np.array([-4, 10]), kernel = np.vectorize(flat), max_iters = 100, tol = 1e-6)\n",
      "\n",
      "# Use Gaussian kernel\n",
      "def gauss(x, h = 1):\n",
      "    return (2 * np.pi * h)**(-0.5)*np.exp(-x**2 / h**2)\n",
      "\n",
      "path_gauss = mean_shift_path(xs, x = np.array([-4, 10]), kernel = gauss, max_iters = 100, tol = 1e-6)\n",
      "\n",
      "# Plotting\n",
      "sns.kdeplot(xs, clip=[(-6, 10), (-5, 15)], cmap=\"PuRd_d\")\n",
      "plt.plot(path_flat[:,0], path_flat[:, 1], '-ro', label = 'Falt kernal')\n",
      "plt.plot(path_gauss[:,0], path_gauss[:, 1], '-bo', label = 'Gaussian kernel')\n",
      "plt.legend(loc = 'upper left')"
     ],
     "language": "python",
     "metadata": {},
     "outputs": [
      {
       "metadata": {},
       "output_type": "pyout",
       "prompt_number": 143,
       "text": [
        "<matplotlib.legend.Legend at 0x7f8509e3a150>"
       ]
      },
      {
       "metadata": {},
       "output_type": "display_data",
       "png": "[encoded data removed]",
       "text": [
        "<matplotlib.figure.Figure at 0x7f850a434a10>"
       ]
      }
     ],
     "prompt_number": 143
    }
   ],
   "metadata": {}
  }
 ]
}