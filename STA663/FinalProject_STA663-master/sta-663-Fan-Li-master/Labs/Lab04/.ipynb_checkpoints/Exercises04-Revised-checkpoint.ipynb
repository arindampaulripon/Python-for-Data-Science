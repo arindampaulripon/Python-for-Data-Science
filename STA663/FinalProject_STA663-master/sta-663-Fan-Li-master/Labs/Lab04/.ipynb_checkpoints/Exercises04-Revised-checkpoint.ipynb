{
 "metadata": {
  "name": "",
  "signature": "sha256:3f602f07074ec8c126d90d05ee94d05daee04364ed31bcc0a78642d0667f94aa"
 },
 "nbformat": 3,
 "nbformat_minor": 0,
 "worksheets": [
  {
   "cells": [
    {
     "cell_type": "code",
     "collapsed": false,
     "input": [
      "import os\n",
      "import sys\n",
      "import glob\n",
      "import matplotlib.pyplot as plt\n",
      "import numpy as np\n",
      "import pandas as pd\n",
      "%matplotlib inline\n",
      "%precision 4\n",
      "plt.style.use('ggplot')"
     ],
     "language": "python",
     "metadata": {},
     "outputs": [],
     "prompt_number": 35
    },
    {
     "cell_type": "code",
     "collapsed": false,
     "input": [
      "import scipy.linalg as la\n",
      "import scipy.stats as st"
     ],
     "language": "python",
     "metadata": {},
     "outputs": [],
     "prompt_number": 36
    },
    {
     "cell_type": "code",
     "collapsed": false,
     "input": [
      "import cPickle"
     ],
     "language": "python",
     "metadata": {},
     "outputs": [],
     "prompt_number": 37
    },
    {
     "cell_type": "code",
     "collapsed": false,
     "input": [
      "np.set_printoptions(formatter={'float': '{: 0.3f}'.format})"
     ],
     "language": "python",
     "metadata": {},
     "outputs": [],
     "prompt_number": 38
    },
    {
     "cell_type": "markdown",
     "metadata": {},
     "source": [
      "Latent Semantic Analysis (LSA) is a method for reducing the dimnesionality of documents treated as a bag of words. It is used for document classification, clustering and retrieval. For example, LSA can be used to search for prior art given a new patent application. In this homework, we will implement a small library for simple latent semantic analysis as a practical example of the application of SVD. The ideas are very similar to PCA.\n",
      "\n",
      "We will implement a toy example of LSA to get familiar with the ideas. If you want to use LSA or similar methods for statiscal language analyis, the most efficient Python library is probably [gensim](https://radimrehurek.com/gensim/) - this also provides an online algorithm - i.e. the training information can be continuously updated. Other useful functions for processing natural language can be found in the [Natural Lnaguage Toolkit](http://www.nltk.org/)."
     ]
    },
    {
     "cell_type": "markdown",
     "metadata": {},
     "source": [
      "**Note**: The SVD from scipy.linalg performs a full decomposition, which is inefficient since we only need to decompose until we get the first k singluar values. If the SVD from `scipy.linalg` is too slow, please use the `sparsesvd` function from the [sparsesvd](https://pypi.python.org/pypi/sparsesvd/) package to perform SVD instead.  You can install in the usual way with \n",
      "```\n",
      "!pip install sparsesvd\n",
      "```\n",
      "\n",
      "Then import the following\n",
      "```python\n",
      "from sparsesvd import sparsesvd \n",
      "from scipy.sparse import csc_matrix \n",
      "```\n",
      "\n",
      "and use as follows\n",
      "```python\n",
      "sparsesvd(csc_matrix(M), k=10)\n",
      "```"
     ]
    },
    {
     "cell_type": "markdown",
     "metadata": {},
     "source": [
      "**Exercise 1 (10 points)**.  Calculating pairwise distance matrices.\n",
      "\n",
      "Suppose we want to construct a distance matrix between the rows of a matrix. For example, given the matrix \n",
      "\n",
      "```python\n",
      "M = np.array([[1,2,3],[4,5,6]])\n",
      "```\n",
      "\n",
      "the distance matrix using Euclidean distance as the measure would be\n",
      "```python\n",
      "[[ 0.000  1.414  2.828]\n",
      " [ 1.414  0.000  1.414]\n",
      " [ 2.828  1.414  0.000]] \n",
      "```\n",
      "if $M$ was a collection of column vectors.\n",
      "\n",
      "Write a function to calculate the pairwise-distance matrix given the matrix $M$ and some arbitrary distance function. Your functions should have the following signature:\n",
      "```\n",
      "def func_name(M, distance_func):\n",
      "    pass\n",
      "```\n",
      "\n",
      "0. Write a distance function for the Euclidean, squared Euclidean and cosine measures.\n",
      "1. Write the function using looping for M as a collection of row vectors.\n",
      "2. Write the function using looping for M as a collection of column vectors.\n",
      "3. Wrtie the function using broadcasting for M as a colleciton of row vectors.\n",
      "4. Write the function using broadcasting for M as a colleciton of column vectors. \n",
      "\n",
      "For 3 and 4, try to avoid using transposition (but if you get stuck, there will be no penalty for using transpoition). Check that all four functions give the same result when applied to the given matrix $M$."
     ]
    },
    {
     "cell_type": "code",
     "collapsed": false,
     "input": [
      "# Your code here\n",
      "# 1. \n",
      "def euclid(x, y):\n",
      "    \" Euclidean Distance \"\n",
      "    return np.sum((x - y)**2, -1)**0.5\n",
      "def euclid2(x, y):\n",
      "    \" Squared Euclidean Distance \"\n",
      "    return np.sum((x - y)**2, -1)\n",
      "def cosine(x, y):\n",
      "    \" Cosine Similarity \"\n",
      "    return np.sum(x*y, -1) / (np.sum(x**2, -1) * np.sum(y**2, -1))**0.5"
     ],
     "language": "python",
     "metadata": {},
     "outputs": [],
     "prompt_number": 39
    },
    {
     "cell_type": "code",
     "collapsed": false,
     "input": [
      "# 2. \n",
      "def dist_row_loop(M, distance_func):\n",
      "    \" the function using looping for M as a collection of row vectors \"\n",
      "    m, n = M.shape # loop for rows (m)\n",
      "    dist_mat = np.zeros((m, m))\n",
      "    for i in range(m):\n",
      "        for j in range(m):\n",
      "            dist_mat[i, j] = distance_func(M[i,:], M[j,:])\n",
      "    return dist_mat\n",
      "# 3.\n",
      "def dist_col_loop(M, distance_func):\n",
      "    \" the function using looping for M as a collection of column vectors \"\n",
      "    m, n = M.shape # loop for columns (n)\n",
      "    dist_mat = np.zeros((n, n))\n",
      "    for i in range(n):\n",
      "        for j in range(n):\n",
      "            dist_mat[i, j] = distance_func(M[:,i], M[:,j])\n",
      "    return dist_mat"
     ],
     "language": "python",
     "metadata": {},
     "outputs": [],
     "prompt_number": 40
    },
    {
     "cell_type": "code",
     "collapsed": false,
     "input": [
      "# 4.\n",
      "def dist_row_bc(M, distance_func):\n",
      "    return distance_func(M[None,:], M[:,None])\n",
      "# 5.\n",
      "def dist_col_bc(M, distance_func):\n",
      "    return distance_func(M.T[None,:], M.T[:,None])"
     ],
     "language": "python",
     "metadata": {},
     "outputs": [],
     "prompt_number": 41
    },
    {
     "cell_type": "code",
     "collapsed": false,
     "input": [
      "# Confirm that my functions can return the correct answer for any given matrix M\n",
      "M = np.array([[1,2,3],[4,5,6]])\n",
      "print \"The matrix is defined\"\n",
      "print M\n",
      "\n",
      "print \"\"\" ********** Euclidean Distance **********\u3000\"\"\"\n",
      "print \" Compare loop vs broadcast (row operations) \"\n",
      "print dist_row_loop(M, euclid)\n",
      "print dist_row_bc(M, euclid)\n",
      "print \" Compare loop vs broadcast (column operations) \"\n",
      "print dist_col_loop(M, euclid)\n",
      "print dist_col_bc(M, euclid)\n",
      "\n",
      "print \"\"\" ********** Squared Euclidean Distance **********\u3000\"\"\"\n",
      "print \" Compare loop vs broadcast (row operations) \"\n",
      "print dist_row_loop(M, euclid2)\n",
      "print dist_row_bc(M, euclid2)\n",
      "print \" Compare loop vs broadcast (column operations) \"\n",
      "print dist_col_loop(M, euclid2)\n",
      "print dist_col_bc(M, euclid2)\n",
      "\n",
      "print \"\"\" ********** Cosine Similarity **********\u3000\"\"\"\n",
      "print \" Compare loop vs broadcast (row operations) \"\n",
      "print dist_row_loop(M, cosine)\n",
      "print dist_row_bc(M, cosine)\n",
      "print \" Compare loop vs broadcast (column operations) \"\n",
      "print dist_col_loop(M, cosine)\n",
      "print dist_col_bc(M, cosine)"
     ],
     "language": "python",
     "metadata": {},
     "outputs": [
      {
       "output_type": "stream",
       "stream": "stdout",
       "text": [
        "The matrix is defined\n",
        "[[1 2 3]\n",
        " [4 5 6]]\n",
        " ********** Euclidean Distance **********\u3000\n",
        " Compare loop vs broadcast (row operations) \n",
        "[[ 0.000  5.196]\n",
        " [ 5.196  0.000]]\n",
        "[[ 0.000  5.196]\n",
        " [ 5.196  0.000]]\n",
        " Compare loop vs broadcast (column operations) \n",
        "[[ 0.000  1.414  2.828]\n",
        " [ 1.414  0.000  1.414]\n",
        " [ 2.828  1.414  0.000]]\n",
        "[[ 0.000  1.414  2.828]\n",
        " [ 1.414  0.000  1.414]\n",
        " [ 2.828  1.414  0.000]]\n",
        " ********** Squared Euclidean Distance **********\u3000\n",
        " Compare loop vs broadcast (row operations) \n",
        "[[ 0.000  27.000]\n",
        " [ 27.000  0.000]]\n",
        "[[ 0 27]\n",
        " [27  0]]\n",
        " Compare loop vs broadcast (column operations) \n",
        "[[ 0.000  2.000  8.000]\n",
        " [ 2.000  0.000  2.000]\n",
        " [ 8.000  2.000  0.000]]\n",
        "[[0 2 8]\n",
        " [2 0 2]\n",
        " [8 2 0]]\n",
        " ********** Cosine Similarity **********\u3000\n",
        " Compare loop vs broadcast (row operations) \n",
        "[[ 1.000  0.975]\n",
        " [ 0.975  1.000]]\n",
        "[[ 1.000  0.975]\n",
        " [ 0.975  1.000]]\n",
        " Compare loop vs broadcast (column operations) \n",
        "[[ 1.000  0.991  0.976]\n",
        " [ 0.991  1.000  0.997]\n",
        " [ 0.976  0.997  1.000]]\n",
        "[[ 1.000  0.991  0.976]\n",
        " [ 0.991  1.000  0.997]\n",
        " [ 0.976  0.997  1.000]]\n"
       ]
      }
     ],
     "prompt_number": 42
    },
    {
     "cell_type": "markdown",
     "metadata": {},
     "source": [
      "**Exercise 2 (10 points)**. Write 3 functions to calculate the term frequency (tf), the inverse document frequency (idf) and the product (tf-idf). Each function should take a single argument `docs`, which is a dictionary of (key=identifier, value=dcoument text) pairs, and return an appropriately sized array. Convert '-' to ' ' (space), remove punctuation, convert text to lowercase and split on whitespace to generate a collection of terms from the dcoument text.\n",
      "\n",
      "- tf = the number of occurrences of term $i$ in document $j$\n",
      "- idf = $\\log \\frac{n}{1 + \\text{df}_i}$ where $n$ is the total number of documents and $\\text{df}_i$ is the number of documents in which term $i$ occurs.\n",
      "\n",
      "Print the table of tf-idf values for the following document collection\n",
      "\n",
      "```\n",
      "s1 = \"The quick brown fox\"\n",
      "s2 = \"Brown fox jumps over the jumps jumps jumps\"\n",
      "s3 = \"The the the lazy dog elephant.\"\n",
      "s4 = \"The the the the the dog peacock lion tiger elephant\"\n",
      "\n",
      "docs = {'s1': s1, 's2': s2, 's3': s3, 's4': s4}\n",
      "```\n",
      "\n",
      "Note: You can use either a numpy array or pandas dataframe to store the matrix. However, we suggest using a Pnadas dataframe since that will allow you to keep track of the row (term) and column (document) names in a single object. Of course, you could also maintain a numpy matrix, a list of terms, and a list of documents separately if you prefer."
     ]
    },
    {
     "cell_type": "code",
     "collapsed": false,
     "input": [
      "# Your code here\n",
      "import string\n",
      "from collections import Counter\n",
      "\n",
      "# Suggeste function signatures\n",
      "def tf(doc):\n",
      "    \"\"\"Returns the number of times each term occurs in a dcoument.\n",
      "    We preprocess the document to strip punctuation and convert to lowercase.\n",
      "    Terms are found by splitting on whitespace.\"\"\"\n",
      "    return Counter(doc.replace('-', ' ').translate(None, string.punctuation).lower().split())\n",
      "\n",
      "def tfs(docs):\n",
      "    \"\"\"Create a term freqeuncy dataframe from a dictionary of documents.\"\"\"\n",
      "    return pd.DataFrame(dict((k, tf(v)) for k, v in docs.items())).fillna(0)\n",
      "\n",
      "def idf(docs):\n",
      "    \"\"\"Find inverse document frequecny series from a dictionry of doucmnets.\"\"\"\n",
      "    freq, n = tfs(docs), len(docs)\n",
      "    return pd.DataFrame([np.log(float(n) / float(1 + dfi)) for dfi in (freq != 0).sum(axis = 1)], index = freq.index, columns = ['idf'])\n",
      "\n",
      "def tf_idf(docs):\n",
      "    \"\"\"Return the product of the term-frequency and inverse document freqeucny.\"\"\"\n",
      "    freq, docf= tfs(docs), idf(docs)\n",
      "    return pd.DataFrame(np.array(freq)*np.array(docf), index = freq.index, columns = freq.columns)"
     ],
     "language": "python",
     "metadata": {},
     "outputs": [],
     "prompt_number": 43
    },
    {
     "cell_type": "code",
     "collapsed": false,
     "input": [
      "## Now let's see whether those functions can do what they need to do\n",
      "s1 = \"The quick brown fox\"\n",
      "s2 = \"Brown fox jumps over the jumps jumps jumps\"\n",
      "s3 = \"The the the lazy dog elephant.\"\n",
      "s4 = \"The the the the the dog peacock lion tiger elephant\"\n",
      "docs = {'s1': s1, 's2': s2, 's3': s3, 's4': s4}\n",
      "\n",
      "print \" *** Term Freqs *** \"\n",
      "print tfs(docs)\n",
      "print \" *** Inverse Doc Freqs *** \"\n",
      "print idf(docs)\n",
      "print \" *** The Product of the Two *** \"\n",
      "print tf_idf(docs)"
     ],
     "language": "python",
     "metadata": {},
     "outputs": [
      {
       "output_type": "stream",
       "stream": "stdout",
       "text": [
        " *** Term Freqs *** \n",
        "          s1  s2  s3  s4\n",
        "brown      1   1   0   0\n",
        "dog        0   0   1   1\n",
        "elephant   0   0   1   1\n",
        "fox        1   1   0   0\n",
        "jumps      0   4   0   0\n",
        "lazy       0   0   1   0\n",
        "lion       0   0   0   1\n",
        "over       0   1   0   0\n",
        "peacock    0   0   0   1\n",
        "quick      1   0   0   0\n",
        "the        1   1   3   5\n",
        "tiger      0   0   0   1"
       ]
      },
      {
       "output_type": "stream",
       "stream": "stdout",
       "text": [
        "\n",
        " *** Inverse Doc Freqs *** \n",
        "               idf\n",
        "brown     0.287682\n",
        "dog       0.287682\n",
        "elephant  0.287682\n",
        "fox       0.287682\n",
        "jumps     0.693147\n",
        "lazy      0.693147\n",
        "lion      0.693147\n",
        "over      0.693147\n",
        "peacock   0.693147\n",
        "quick     0.693147\n",
        "the      -0.223144\n",
        "tiger     0.693147\n",
        " *** The Product of the Two *** \n",
        "                s1        s2        s3        s4\n",
        "brown     0.287682  0.287682  0.000000  0.000000\n",
        "dog       0.000000  0.000000  0.287682  0.287682\n",
        "elephant  0.000000  0.000000  0.287682  0.287682\n",
        "fox       0.287682  0.287682  0.000000  0.000000\n",
        "jumps     0.000000  2.772589  0.000000  0.000000\n",
        "lazy      0.000000  0.000000  0.693147  0.000000\n",
        "lion      0.000000  0.000000  0.000000  0.693147\n",
        "over      0.000000  0.693147  0.000000  0.000000\n",
        "peacock   0.000000  0.000000  0.000000  0.693147\n",
        "quick     0.693147  0.000000  0.000000  0.000000\n",
        "the      -0.223144 -0.223144 -0.669431 -1.115718\n",
        "tiger     0.000000  0.000000  0.000000  0.693147\n"
       ]
      }
     ],
     "prompt_number": 44
    },
    {
     "cell_type": "markdown",
     "metadata": {},
     "source": [
      "**Exercise 3 (10 points)**. \n",
      "\n",
      "1. Write a function that takes a matrix $M$ and an integer $k$ as arguments, and reconstructs a reduced matrix using only the $k$ largest singular values. Use the `scipy.linagl.svd` function to perform the decomposition. This is the least squares approximation to the matrix $M$ in $k$ dimensions.\n",
      "\n",
      "2. Apply the function you just wrote to the following term-frequency matrix for a set of $9$ documents using $k=2$ and print the reconstructed matrix $M'$.\n",
      "```\n",
      "M = np.array([[1, 0, 0, 1, 0, 0, 0, 0, 0],\n",
      "       [1, 0, 1, 0, 0, 0, 0, 0, 0],\n",
      "       [1, 1, 0, 0, 0, 0, 0, 0, 0],\n",
      "       [0, 1, 1, 0, 1, 0, 0, 0, 0],\n",
      "       [0, 1, 1, 2, 0, 0, 0, 0, 0],\n",
      "       [0, 1, 0, 0, 1, 0, 0, 0, 0],\n",
      "       [0, 1, 0, 0, 1, 0, 0, 0, 0],\n",
      "       [0, 0, 1, 1, 0, 0, 0, 0, 0],\n",
      "       [0, 1, 0, 0, 0, 0, 0, 0, 1],\n",
      "       [0, 0, 0, 0, 0, 1, 1, 1, 0],\n",
      "       [0, 0, 0, 0, 0, 0, 1, 1, 1],\n",
      "       [0, 0, 0, 0, 0, 0, 0, 1, 1]])\n",
      "```\n",
      "\n",
      "3. Calculate the pairwise correlation matrix for the original matrix M and the reconstructed matrix using $k=2$ singular values (you may use [scipy.stats.spearmanr](http://docs.scipy.org/doc/scipy/reference/generated/scipy.stats.spearmanr.html) to do the calculations). Consider the fist 5 sets of documents as one group $G1$ and the last 4 as another group $G2$ (i.e. first 5 and last 4 columns). What is the average within group correlation for $G1$, $G2$ and the average cross-group correlation for G1-G2 using either $M$ or $M'$. (Do not include self-correlation in the within-group calculations.)."
     ]
    },
    {
     "cell_type": "code",
     "collapsed": false,
     "input": [
      "# Your code here\n",
      "# 1.\n",
      "import scipy as sp\n",
      "def mat_lsapprox(M, k):\n",
      "    \"Least squares approximate to the matrix M in k dimensions\"\n",
      "    u, s, v = sp.linalg.svd(M)\n",
      "    return np.dot(u[:, :k], np.dot(np.diag(s[:k]), v[:k, :]))\n",
      "\n",
      "# 2.\n",
      "M = np.array([[1, 0, 0, 1, 0, 0, 0, 0, 0],\n",
      "       [1, 0, 1, 0, 0, 0, 0, 0, 0],\n",
      "       [1, 1, 0, 0, 0, 0, 0, 0, 0],\n",
      "       [0, 1, 1, 0, 1, 0, 0, 0, 0],\n",
      "       [0, 1, 1, 2, 0, 0, 0, 0, 0],\n",
      "       [0, 1, 0, 0, 1, 0, 0, 0, 0],\n",
      "       [0, 1, 0, 0, 1, 0, 0, 0, 0],\n",
      "       [0, 0, 1, 1, 0, 0, 0, 0, 0],\n",
      "       [0, 1, 0, 0, 0, 0, 0, 0, 1],\n",
      "       [0, 0, 0, 0, 0, 1, 1, 1, 0],\n",
      "       [0, 0, 0, 0, 0, 0, 1, 1, 1],\n",
      "       [0, 0, 0, 0, 0, 0, 0, 1, 1]])\n",
      "M_prime = mat_lsapprox(M, k = 2)\n",
      "print \"The reconstructed matrix is given as (k = 2)\"\n",
      "print M_prime"
     ],
     "language": "python",
     "metadata": {},
     "outputs": [
      {
       "output_type": "stream",
       "stream": "stdout",
       "text": [
        "The reconstructed matrix is given as (k = 2)\n",
        "[[ 0.162  0.400  0.379  0.468  0.176 -0.053 -0.115 -0.159 -0.092]\n",
        " [ 0.141  0.370  0.329  0.400  0.165 -0.033 -0.071 -0.097 -0.043]\n",
        " [ 0.152  0.505  0.358  0.410  0.236  0.024  0.060  0.087  0.124]\n",
        " [ 0.258  0.841  0.606  0.697  0.392  0.033  0.083  0.122  0.187]\n",
        " [ 0.449  1.234  1.051  1.266  0.556 -0.074 -0.155 -0.210 -0.049]\n",
        " [ 0.160  0.582  0.375  0.417  0.277  0.056  0.132  0.189  0.217]\n",
        " [ 0.160  0.582  0.375  0.417  0.277  0.056  0.132  0.189  0.217]\n",
        " [ 0.218  0.550  0.511  0.628  0.243 -0.065 -0.143 -0.197 -0.108]\n",
        " [ 0.097  0.532  0.230  0.212  0.267  0.137  0.315  0.444  0.425]\n",
        " [-0.061  0.232 -0.139 -0.266  0.145  0.240  0.546  0.767  0.664]\n",
        " [-0.065  0.335 -0.146 -0.301  0.203  0.306  0.695  0.977  0.849]\n",
        " [-0.043  0.254 -0.097 -0.208  0.152  0.221  0.503  0.707  0.616]]\n"
       ]
      }
     ],
     "prompt_number": 45
    },
    {
     "cell_type": "code",
     "collapsed": false,
     "input": [
      "# 3. Pairwise correlation matrix\n",
      "def corr_col_loop(M):\n",
      "    \"Calculate column-wise correlation matrix for M\"\n",
      "    n = M.shape[1]\n",
      "    M_corr = np.zeros((n, n))\n",
      "    for i in range(n):\n",
      "        for j in range(n):\n",
      "            rho, p = sp.stats.spearmanr(M[:,i], M[:,j])\n",
      "            M_corr[i, j] = rho\n",
      "    return M_corr\n",
      "\n",
      "print \"Column-wise rank correlation matrix for M is\"\n",
      "M_corr = corr_col_loop(M)\n",
      "print M_corr\n",
      "print \"Column-wise rank correlation matrix for M_prime is\"\n",
      "M_prime_corr = corr_col_loop(M_prime)\n",
      "print M_prime_corr\n",
      "\n",
      "print \"******Within G1******\"\n",
      "print \"Average Corr of M\"\n",
      "print np.mean(M_corr[:5,:5][np.triu_indices(n = 5, k = 1)])\n",
      "print \"Average Corr of M_prime\"\n",
      "print np.mean(M_prime_corr[:5,:5][np.triu_indices(n = 5, k = 1)])\n",
      "\n",
      "print \"******Within G2******\"\n",
      "print \"Average Corr of M\"\n",
      "print np.mean(M_corr[5:,5:][np.triu_indices(n = 4, k = 1)])\n",
      "print \"Average Corr of M_prime\"\n",
      "print np.mean(M_prime_corr[5:,5:][np.triu_indices(n = 4, k = 1)])\n",
      "\n",
      "print \"******Between G1 and G2****** (Need to average the whole partitioned matrix since each one is a unique correlation)\"\n",
      "print \"Average Corr of M\"\n",
      "print np.mean(M_corr[5:,:5])\n",
      "print \"Average Corr of M_prime\"\n",
      "print np.mean(M_prime_corr[5:,:5])\n"
     ],
     "language": "python",
     "metadata": {},
     "outputs": [
      {
       "output_type": "stream",
       "stream": "stdout",
       "text": [
        "Column-wise rank correlation matrix for M is\n",
        "[[ 1.000 -0.192  0.000  0.073 -0.333 -0.174 -0.258 -0.333 -0.333]\n",
        " [-0.192  1.000  0.000 -0.127  0.577 -0.302 -0.447 -0.577 -0.192]\n",
        " [ 0.000  0.000  1.000  0.438  0.000 -0.213 -0.316 -0.408 -0.408]\n",
        " [ 0.073 -0.127  0.438  1.000 -0.330 -0.172 -0.256 -0.330 -0.330]\n",
        " [-0.333  0.577  0.000 -0.330  1.000 -0.174 -0.258 -0.333 -0.333]\n",
        " [-0.174 -0.302 -0.213 -0.172 -0.174  1.000  0.674  0.522 -0.174]\n",
        " [-0.258 -0.447 -0.316 -0.256 -0.258  0.674  1.000  0.775  0.258]\n",
        " [-0.333 -0.577 -0.408 -0.330 -0.333  0.522  0.775  1.000  0.556]\n",
        " [-0.333 -0.192 -0.408 -0.330 -0.333 -0.174  0.258  0.556  1.000]]"
       ]
      },
      {
       "output_type": "stream",
       "stream": "stdout",
       "text": [
        "\n",
        "Column-wise rank correlation matrix for M_prime is\n",
        "[[ 1.000  0.846  1.000  0.998  0.719 -0.837 -0.837 -0.837 -0.802]\n",
        " [ 0.846  1.000  0.846  0.844  0.972 -0.557 -0.557 -0.557 -0.480]\n",
        " [ 1.000  0.846  1.000  0.998  0.719 -0.837 -0.837 -0.837 -0.802]\n",
        " [ 0.998  0.844  0.998  1.000  0.718 -0.839 -0.839 -0.839 -0.804]\n",
        " [ 0.719  0.972  0.719  0.718  1.000 -0.389 -0.389 -0.389 -0.298]\n",
        " [-0.837 -0.557 -0.837 -0.839 -0.389  1.000  1.000  1.000  0.979]\n",
        " [-0.837 -0.557 -0.837 -0.839 -0.389  1.000  1.000  1.000  0.979]\n",
        " [-0.837 -0.557 -0.837 -0.839 -0.389  1.000  1.000  1.000  0.979]\n",
        " [-0.802 -0.480 -0.802 -0.804 -0.298  0.979  0.979  0.979  1.000]]\n",
        "******Within G1******\n",
        "Average Corr of M\n",
        "0.0105776866299\n",
        "Average Corr of M_prime\n",
        "0.866042884512\n",
        "******Within G2******\n",
        "Average Corr of M\n",
        "0.43511771482\n",
        "Average Corr of M_prime\n",
        "0.98951048951\n",
        "******Between G1 and G2****** (Need to average the whole partitioned matrix since each one is a unique correlation)\n",
        "Average Corr of M\n",
        "-0.307562188906\n",
        "Average Corr of M_prime\n",
        "-0.678168764439\n"
       ]
      }
     ],
     "prompt_number": 46
    },
    {
     "cell_type": "markdown",
     "metadata": {},
     "source": [
      "**Exercise 4 (20 points)**. Clustering with LSA\n",
      "\n",
      "1. Begin by loading a pubmed database of selected article titles using 'cPickle'. With the following:\n",
      "```import cPickle\n",
      "docs = cPickle.load(open('pubmed.pic'))```\n",
      "\n",
      "    Create a tf-idf matrix for every term that appears at least once in any of the documents. What is the shape of the tf-idf matrix? \n",
      "\n",
      "2. Perform SVD on the tf-idf matrix to obtain $U \\Sigma V^T$ (often written as $T \\Sigma D^T$ in this context with $T$ representing the terms and $D$ representing the documents). If we set all but the top $k$ singular values to 0, the reconstructed matrix is essentially $U_k \\Sigma_k V_k^T$, where $U_k$ is $m \\times k$, $\\Sigma_k$ is $k \\times k$ and $V_k^T$ is $k \\times n$. Terms in this reduced space are represented by $U_k \\Sigma_k$ and documents by $\\Sigma_k V^T_k$. Reconstruct the matrix using the first $k=10$ singular values.\n",
      "\n",
      "3. Use agglomerative hierachical clustering with complete linkage to plot a dendrogram and comment on the likely number of  document clusters with $k = 100$. Use the dendrogram function from [SciPy ](https://docs.scipy.org/doc/scipy-0.15.1/reference/generated/scipy.cluster.hierarchy.dendrogram.html).\n",
      "\n",
      "4. Determine how similar each of the original documents is to the new document `mystery.txt`. Since $A = U \\Sigma V^T$, we also have $V = A^T U S^{-1}$ using orthogonality and the rule for transposing matrix products. This suggests that in order to map the new document to the same concept space, first find the tf-idf vector $v$ for the new document - this must contain all (and only) the terms present in the existing tf-idx matrix. Then the query vector $q$ is given by $v^T U_k \\Sigma_k^{-1}$. Find the 10 documents most similar to the new document and the 10 most dissimilar. \n",
      "\n",
      "5. Many documents often have some boilerplate material such as organization information, Copyright, etc. at the front or back of the document. Does it matter that the front and back matter of each document is essentially identical for either LSA-based clustering (part 3) or information retrieval (part 4)? Why or why not?"
     ]
    },
    {
     "cell_type": "code",
     "collapsed": false,
     "input": [
      "# your code here\n",
      "# 1.\n",
      "import cPickle\n",
      "docs = cPickle.load(open('pubmed.pic'))\n",
      "tfidf_M = tf_idf(docs)\n",
      "M = tfidf_M.values\n",
      "print M.shape"
     ],
     "language": "python",
     "metadata": {},
     "outputs": [
      {
       "output_type": "stream",
       "stream": "stdout",
       "text": [
        "(6488, 178)\n"
       ]
      }
     ],
     "prompt_number": 47
    },
    {
     "cell_type": "code",
     "collapsed": false,
     "input": [
      "# 2.\n",
      "M_10 = mat_lsapprox(M, k = 10)\n",
      "print M_10.shape\n",
      "print M_10"
     ],
     "language": "python",
     "metadata": {},
     "outputs": [
      {
       "output_type": "stream",
       "stream": "stdout",
       "text": [
        "(6488, 178)\n",
        "[[ 0.044 -0.051  0.177 ...,  0.023  0.127 -0.210]\n",
        " [ 0.003  0.043  0.008 ...,  0.035  0.029  0.092]\n",
        " [ 0.002 -0.076  0.066 ..., -0.041 -0.009 -0.180]\n",
        " ..., \n",
        " [ 0.008  0.009  0.016 ...,  0.006  0.026  0.012]\n",
        " [ 0.031  0.122  0.070 ...,  0.093  0.128  0.198]\n",
        " [ 0.008  0.016  0.017 ...,  0.011  0.031  0.026]]\n"
       ]
      }
     ],
     "prompt_number": 48
    },
    {
     "cell_type": "code",
     "collapsed": false,
     "input": [
      "# 3.\n",
      "from scipy.cluster.hierarchy import linkage, dendrogram\n",
      "M_100 = mat_lsapprox(M, k = 100)\n",
      "# Obtain the distance matrix\n",
      "M_100_dist = dist_col_bc(M_100, cosine)\n",
      "# Clustering\n",
      "plt.figure(figsize=(16, 9))\n",
      "R = dendrogram(linkage(M_100_dist, method='complete'))\n",
      "plt.xlabel('Document')\n",
      "plt.ylabel('Height')\n",
      "plt.suptitle('Hierachical Agglomerative Clustering Dendrogram', fontweight='bold', fontsize=14)\n",
      "\n",
      "print \"******* comments ********\"\n",
      "print \"\"\" Answer: It is generally a quite subjective decision in determing Hierachical Agglomerative Clustering. From the dendrogram, \n",
      "we see it is entirely up to us as to how crude/accurate we define the similarity between documents. The height in the dendrogram \n",
      "represents the tolerance of differences. Suppose we fix the height at 3.5, we only end up with 2 clusters (draw a line at 3.5 and \n",
      "discard the upper part), but we might have around 14 clusters if we choose a height of 2.5. \"\"\""
     ],
     "language": "python",
     "metadata": {},
     "outputs": [
      {
       "output_type": "stream",
       "stream": "stdout",
       "text": [
        "******* comments ********\n",
        " Answer: It is generally a quite subjective decision in determing Hierachical Agglomerative Clustering. From the dendrogram, \n",
        "we see it is entirely up to us as to how crude/accurate we define the similarity between documents. The height in the dendrogram \n",
        "represents the tolerance of differences. Suppose we fix the height at 3.5, we only end up with 2 clusters (draw a line at 3.5 and \n",
        "discard the upper part), but we might have around 14 clusters if we choose a height of 2.5. \n"
       ]
      },
      {
       "metadata": {},
       "output_type": "display_data",
       "png": "[encoded data removed]",
       "text": [
        "<matplotlib.figure.Figure at 0x7fe2e7191690>"
       ]
      }
     ],
     "prompt_number": 49
    },
    {
     "cell_type": "code",
     "collapsed": false,
     "input": [
      "# 4.\n",
      "# Read in new text and set to D\n",
      "mystery = open('mystery.txt')\n",
      "docs_new = {\"mystery\": mystery.read().decode(\"utf-8-sig\").encode(\"utf-8\")} # remove extra escape signs (the text is cleaner)\n",
      "\n",
      "# tf_idf matrix of \"mystery.txt\"\n",
      "N = tf_idf(docs_new)\n",
      "\n",
      "# Compute query vector q - mapping into the original concept space\n",
      "v = np.array([N.loc[tm, 'mystery'] if tm in list(N.index) else 0 for tm in list(tfidf_M.index)])\n",
      "v = v[None, :] # essentially a transpose (v.T)\n",
      "\n",
      "k = 100 # let us proceed with approximations in 100 dims\n",
      "U, s, V = sp.linalg.svd(M)\n",
      "q = v.dot(U[:, :k].dot(np.diag(s[:k]**(-1)))).squeeze() # make q a 1-D array for use in functions later\n",
      "V_k = V[:k, :]                                          # original concept space\n",
      "\n",
      "# Construct similarity vector - use cosine measure to match the previous question\n",
      "corr_cosine = np.zeros(V_k.shape[1])\n",
      "for i in range(V_k.shape[1]):\n",
      "    corr_cosine[i] = cosine(q, V_k[:,i])\n",
      "\n",
      "# indices for dissimilar docs (small cosine values) and similar docs (large cosine values)\n",
      "dissim = np.argsort(corr_cosine)[0:10]\n",
      "sim = np.argsort(corr_cosine)[::-1][0:10]\n",
      "\n",
      "# print results in a legible way - one entry per line\n",
      "print \"********** The 10 most dissimilar documents to the new text **********\"\n",
      "print \"\\n\".join([list(tfidf_M.columns)[s] for s in dissim])\n",
      "\n",
      "print \"********** The 10 most similar documents to the new text **********\"\n",
      "print \"\\n\".join([list(tfidf_M.columns)[l] for l in sim])"
     ],
     "language": "python",
     "metadata": {},
     "outputs": [
      {
       "output_type": "stream",
       "stream": "stdout",
       "text": [
        "********** The 10 most dissimilar documents to the new text **********\n",
        "Diabetes Numeracy and Blood Glucose Control: Association With Type of Diabetes and Source of Care.\n",
        "Feasibility of the SMART Project: A Text Message Program for Adolescents With Type 1 Diabetes.\n",
        "Health Care Utilization Among U.S. Adults With Diagnosed Diabetes, 2013.\n",
        "Disparities in Postpartum Follow-Up in Women With Gestational Diabetes Mellitus.\n",
        "Demographic Disparities Among Medicare Beneficiaries with Type 2 Diabetes Mellitus in 2011: Diabetes Prevalence, Comorbidities, and Hypoglycemia Events.\n",
        "Outcomes of a Diabetes Education Program for Registered Nurses Caring for Individuals With Diabetes.\n",
        "Prevalence and Determinants of Anemia in Older People With Diabetes Attending an Outpatient Clinic: A Cross-Sectional Audit.\n",
        "\"Living Well with Diabetes\": Evaluation of a Pilot Program to Promote Diabetes Prevention and Self-Management in a Medically Underserved Community.\n",
        "Gestational Diabetes Mellitus Screening Using the One-Step Versus Two-Step Method in a High-Risk Practice.\n",
        "Evaluating the toxic and beneficial effects of lichen extracts in normal and diabetic rats.\n",
        "********** The 10 most similar documents to the new text **********\n",
        "CD40 Is Required for Protective Immunity against Liver Stage Plasmodium Infection.\n",
        "IRGM3 contributes to immunopathology and is required for differentiation of antigen-specific effector CD8+ T cells in experimental cerebral malaria.\n",
        "CD4 T-cell subsets in malaria: TH1/TH2 revisited.\n",
        "Antibodies to the Plasmodium falciparum proteins MSPDBL1 and MSPDBL2 opsonise merozoites, inhibit parasite growth and predict protection from clinical malaria.\n",
        "Crystal Structures of the Carboxyl cGMP Binding Domain of the Plasmodium falciparum cGMP-dependent Protein Kinase Reveal a Novel Capping Triad Crucial for Merozoite Egress.\n",
        "In situ hybridization and sequence analysis reveal an association of Plasmodium spp. with mortalities in wild passerine birds in Austria.\n",
        "Nerve Growth Factor Potentiates Nicotinic Synaptic Transmission in Mouse Airway Parasympathetic Neurons.\n",
        "Avian haemosporidians from Neotropical highlands: Evidence from morphological and molecular data.\n",
        "Dopamine Increases CD14+CD16+ Monocyte Migration and Adhesion in the Context of Substance Abuse and HIV Neuropathogenesis.\n",
        "Molecular detection of Plasmodium in free-ranging birds and captive flamingos (Phoenicopterus chilensis) in Chicago.\n"
       ]
      }
     ],
     "prompt_number": 50
    },
    {
     "cell_type": "code",
     "collapsed": false,
     "input": [
      "# 5. \n",
      "print \"\"\" Answer: It shouldn't matter much for either LSA-based clustering (part 3) or information retrieval (part 4). Since they are\n",
      "almost identical across documents, this portion will only slightly affect the part involving smaller singular values, which will be \n",
      "discarded through the least squares approximation. So the effect is minimal. Intuitively, since these information only change in the \n",
      "directions that documents are cluttered, these information are essentially ignored in extracting the concept bases along which the \n",
      "variability of all documents is maximized. \"\"\"\n"
     ],
     "language": "python",
     "metadata": {},
     "outputs": [
      {
       "output_type": "stream",
       "stream": "stdout",
       "text": [
        " Answer: It shouldn't matter much for either LSA-based clustering (part 3) or information retrieval (part 4). Since they are\n",
        "almost identical across documents, this portion will only slightly affect the part involving smaller singular values, which will be \n",
        "discarded through the least squares approximation. So the effect is minimal. Intuitively, since these information only change in the \n",
        "directions that documents are cluttered, these information are essentially ignored in extracting the concept bases along which the \n",
        "variability of all documents is maximized. \n"
       ]
      }
     ],
     "prompt_number": 51
    },
    {
     "cell_type": "markdown",
     "metadata": {},
     "source": [
      "Notes on the Pubmed articles\n",
      "----\n",
      "\n",
      "These were downloaded with the following script.\n",
      "\n",
      "```python\n",
      "from Bio import Entrez, Medline\n",
      "Entrez.email = \"YOUR EMAIL HERE\"\n",
      "import cPickle\n",
      "\n",
      "try:\n",
      "    docs = cPickle.load(open('pubmed.pic'))\n",
      "except Exception, e:\n",
      "    print e\n",
      "\n",
      "    docs = {}\n",
      "    for term in ['plasmodium', 'diabetes', 'asthma', 'cytometry']:\n",
      "        handle = Entrez.esearch(db=\"pubmed\", term=term, retmax=50)\n",
      "        result = Entrez.read(handle)\n",
      "        handle.close()\n",
      "        idlist = result[\"IdList\"]\n",
      "        handle2 = Entrez.efetch(db=\"pubmed\", id=idlist, rettype=\"medline\", retmode=\"text\")\n",
      "        result2 = Medline.parse(handle2)\n",
      "        for record in result2:\n",
      "            title = record.get(\"TI\", None)\n",
      "            abstract = record.get(\"AB\", None)\n",
      "            if title is None or abstract is None:\n",
      "                continue\n",
      "            docs[title] = '\\n'.join([title, abstract])\n",
      "            print title\n",
      "        handle2.close()\n",
      "    cPickle.dump(docs, open('pubmed.pic', 'w'))\n",
      "docs.values()\n",
      "```"
     ]
    }
   ],
   "metadata": {}
  }
 ]
}