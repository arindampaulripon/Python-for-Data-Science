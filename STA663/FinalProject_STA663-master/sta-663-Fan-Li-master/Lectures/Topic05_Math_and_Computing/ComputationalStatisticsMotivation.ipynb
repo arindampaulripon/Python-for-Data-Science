{
 "metadata": {
  "name": "",
  "signature": "sha256:538ce29c69adf93c7a3361359de94e38e5d1c42c6bdb9609175bca30294f136c"
 },
 "nbformat": 3,
 "nbformat_minor": 0,
 "worksheets": [
  {
   "cells": [
    {
     "cell_type": "code",
     "collapsed": false,
     "input": [
      "import os\n",
      "import sys\n",
      "import glob\n",
      "import matplotlib.pyplot as plt\n",
      "import numpy as np\n",
      "import pandas as pd\n",
      "%matplotlib inline\n",
      "%precision 4\n",
      "np.random.seed(1)\n",
      "plt.style.use('ggplot')"
     ],
     "language": "python",
     "metadata": {},
     "outputs": [],
     "prompt_number": 1
    },
    {
     "cell_type": "code",
     "collapsed": false,
     "input": [
      "import scipy.stats as st"
     ],
     "language": "python",
     "metadata": {},
     "outputs": [],
     "prompt_number": 2
    },
    {
     "cell_type": "markdown",
     "metadata": {},
     "source": [
      "Computational problems in statistics\n",
      "----\n",
      "\n",
      "Starting with some data (which may come from an experiment or a simulation), we often use statsitics to answer a few typcical questions:\n",
      "\n",
      "- How well does the data match some assumed (null) distribution [hypotehsis testing]?\n",
      "- If it doesn't match well but we think it is likely to belong to a known family of distributions, can we estiamte the parameters [point estimate]?\n",
      "- How accurate are the parameter estimates [interval estimates]?\n",
      "- Can we estimate the entire distribution [function estimation or approximation]?\n",
      "\n",
      "Most commonly, the computational approaches used to address these questions will involve\n",
      "\n",
      "- minimization off residuals (e.g. least squeares)\n",
      "    - Numerical optimization\n",
      "- maximum likelihood\n",
      "    - Numerical optimization\n",
      "    - Expectation maximization (EM)\n",
      "- Monte Carlo methods\n",
      "    - Simulation of null distribution (bootstrap, permutation)\n",
      "    - Estimation of posterior density (Monte Carlo integration, MCMC, EM) \n",
      "\n",
      "Rarely (i.e. textbook examples), we can find a closed form solution to these problems."
     ]
    },
    {
     "cell_type": "markdown",
     "metadata": {},
     "source": [
      "Textbook example - is coin fair?\n",
      "----\n",
      "\n",
      "Data comes from simulation."
     ]
    },
    {
     "cell_type": "code",
     "collapsed": false,
     "input": [
      "n = 100\n",
      "pcoin = 0.62 # actual value of p for coin\n",
      "results = st.bernoulli(pcoin).rvs(n)\n",
      "h = sum(results)\n",
      "print h"
     ],
     "language": "python",
     "metadata": {},
     "outputs": [
      {
       "output_type": "stream",
       "stream": "stdout",
       "text": [
        "59\n"
       ]
      }
     ],
     "prompt_number": 7
    },
    {
     "cell_type": "code",
     "collapsed": false,
     "input": [
      "# Expected distribution for fair coin\n",
      "p = 0.5\n",
      "rv = st.binom(n, p)\n",
      "mu = rv.mean()\n",
      "sd = rv.std()\n",
      "mu, sd"
     ],
     "language": "python",
     "metadata": {},
     "outputs": [
      {
       "metadata": {},
       "output_type": "pyout",
       "prompt_number": 8,
       "text": [
        "(50.0000, 5.0000)"
       ]
      }
     ],
     "prompt_number": 8
    },
    {
     "cell_type": "markdown",
     "metadata": {},
     "source": [
      "### Using binomial test\n",
      "\n",
      "Hypothesis testing framework."
     ]
    },
    {
     "cell_type": "code",
     "collapsed": false,
     "input": [
      "st.binom_test(h, n, p)"
     ],
     "language": "python",
     "metadata": {},
     "outputs": [
      {
       "metadata": {},
       "output_type": "pyout",
       "prompt_number": 9,
       "text": [
        "0.0886"
       ]
      }
     ],
     "prompt_number": 9
    },
    {
     "cell_type": "markdown",
     "metadata": {},
     "source": [
      "### Using z-test approximation with continuity correction\n",
      "\n",
      "Use of approximation when true solution is computatioanlly expensive."
     ]
    },
    {
     "cell_type": "code",
     "collapsed": false,
     "input": [
      "z = (h-0.5-mu)/sd\n",
      "z"
     ],
     "language": "python",
     "metadata": {},
     "outputs": [
      {
       "metadata": {},
       "output_type": "pyout",
       "prompt_number": 10,
       "text": [
        "1.7000"
       ]
      }
     ],
     "prompt_number": 10
    },
    {
     "cell_type": "code",
     "collapsed": false,
     "input": [
      "2*(1 - st.norm.cdf(z))"
     ],
     "language": "python",
     "metadata": {},
     "outputs": [
      {
       "metadata": {},
       "output_type": "pyout",
       "prompt_number": 11,
       "text": [
        "0.0891"
       ]
      }
     ],
     "prompt_number": 11
    },
    {
     "cell_type": "markdown",
     "metadata": {},
     "source": [
      "### Using simulation to estimate null distribution\n",
      "\n",
      "Use simulaiton when we don't have any theory (e.g. data doesen't meet assumptions of test)"
     ]
    },
    {
     "cell_type": "code",
     "collapsed": false,
     "input": [
      "nsamples = 100000\n",
      "xs = np.random.binomial(n, p, nsamples)"
     ],
     "language": "python",
     "metadata": {},
     "outputs": [],
     "prompt_number": 12
    },
    {
     "cell_type": "code",
     "collapsed": false,
     "input": [
      "2*np.sum(xs >= h)/(xs.size + 0.0)"
     ],
     "language": "python",
     "metadata": {},
     "outputs": [
      {
       "metadata": {},
       "output_type": "pyout",
       "prompt_number": 13,
       "text": [
        "0.0875"
       ]
      }
     ],
     "prompt_number": 13
    },
    {
     "cell_type": "markdown",
     "metadata": {},
     "source": [
      "### Maximum likelihood estimate of pcoin\n",
      "\n",
      "Point estimate of parameter."
     ]
    },
    {
     "cell_type": "code",
     "collapsed": false,
     "input": [
      "print \"Maximum likelihood\", np.sum(results)/float(len(results))"
     ],
     "language": "python",
     "metadata": {},
     "outputs": [
      {
       "output_type": "stream",
       "stream": "stdout",
       "text": [
        "Maximum likelihood 0.62\n"
       ]
      }
     ],
     "prompt_number": 38
    },
    {
     "cell_type": "markdown",
     "metadata": {},
     "source": [
      "### Using bootstrap to esitmate confidenc intervals for pcoin\n",
      "\n",
      "Interval etsimate of parameter."
     ]
    },
    {
     "cell_type": "code",
     "collapsed": false,
     "input": [
      "bs_samples = np.random.choice(results, (nsamples, len(results)), replace=True)\n",
      "bs_ps = np.mean(bs_samples, axis=1)\n",
      "bs_ps.sort()\n",
      "print \"Bootstrap CI: (%.4f, %.4f)\" % (bs_ps[int(0.025*nsamples)], bs_ps[int(0.975*nsamples)])"
     ],
     "language": "python",
     "metadata": {},
     "outputs": [
      {
       "output_type": "stream",
       "stream": "stdout",
       "text": [
        "Bootstrap CI: (0.5200, 0.7100)\n"
       ]
      }
     ],
     "prompt_number": 39
    },
    {
     "cell_type": "markdown",
     "metadata": {},
     "source": [
      "Bayesian approach\n",
      "----\n",
      "\n",
      "The Bayesian approach directly estimates the posterior distribution, from which all other point/interval statistics can be estimated."
     ]
    },
    {
     "cell_type": "code",
     "collapsed": false,
     "input": [
      "a, b = 10, 10\n",
      "prior = st.beta(a, b)\n",
      "post = st.beta(h+a, n-h+b)\n",
      "ci = post.interval(0.95)\n",
      "map_ =(h+a-1.0)/(n+a+b-2.0)\n",
      "\n",
      "xs = np.linspace(0, 1, 100)\n",
      "plt.plot(prior.pdf(xs), label='Prior')\n",
      "plt.plot(post.pdf(xs), label='Posterior')\n",
      "plt.axvline(mu, c='red', linestyle='dashed', alpha=0.4)\n",
      "plt.xlim([0, 100])\n",
      "plt.axhline(0.3, ci[0], ci[1], c='black', linewidth=2, label='95% CI');\n",
      "plt.axvline(n*map_, c='blue', linestyle='dashed', alpha=0.4)\n",
      "plt.legend();"
     ],
     "language": "python",
     "metadata": {},
     "outputs": [
      {
       "metadata": {},
       "output_type": "display_data",
       "png": "[encoded data removed]",
       "text": [
        "<matplotlib.figure.Figure at 0x7f3fa9930f50>"
       ]
      }
     ],
     "prompt_number": 14
    },
    {
     "cell_type": "markdown",
     "metadata": {},
     "source": [
      "Comment\n",
      "----\n",
      "\n",
      "All the above calculations have simple analytic solutions. For most real life problems reuqireing more complex statistical models, we will need to search for solutions using more advanced numerical methods and simulations. However, the types of problems that we will be addressing are largely similar to those asked of the toy coin toss problem. These include\n",
      "\n",
      "- point estimation (e.g. summary statistics)\n",
      "- interval estimation (e.g. confidence intervals or Bayesian credible intervals)\n",
      "- function estimation (e.g. density estimation, posteriro distributions)\n",
      "\n",
      "and most will require some knowledge of numerical methods for \n",
      "\n",
      "- optimization (e.g. least squares minimizaiton, maximum likelihood)\n",
      "- Monte Carlo simulations (e.g. Monte Carlo integration, MCMC, bootstrap, permutation-resampling)\n",
      "\n",
      "The next section of the course will focus on the ideas behiind these numerical methods."
     ]
    },
    {
     "cell_type": "code",
     "collapsed": false,
     "input": [],
     "language": "python",
     "metadata": {},
     "outputs": [],
     "prompt_number": 40
    }
   ],
   "metadata": {}
  }
 ]
}