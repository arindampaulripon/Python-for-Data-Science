{
 "metadata": {
  "name": "",
  "signature": "sha256:4b38ac976c09baa0072013d6dca2e2fe32a45b460dead3e30d2e2eecc5ec2115"
 },
 "nbformat": 3,
 "nbformat_minor": 0,
 "worksheets": [
  {
   "cells": [
    {
     "cell_type": "code",
     "collapsed": false,
     "input": [
      "from IPython.display import Image"
     ],
     "language": "python",
     "metadata": {},
     "outputs": [],
     "prompt_number": 220
    },
    {
     "cell_type": "markdown",
     "metadata": {},
     "source": [
      "Computer lab\n",
      "----\n",
      "\n",
      "These exercises are designed to give you some practice coding in Python and proivde familiarity with the language syntax."
     ]
    },
    {
     "cell_type": "markdown",
     "metadata": {},
     "source": [
      "**Exercise 1 [10 pts]**. Write code to solve the [Project Euler puzzle 1](https://projecteuler.net/problems)"
     ]
    },
    {
     "cell_type": "code",
     "collapsed": false,
     "input": [
      "# Your code here\n",
      "# Method 1\n",
      "num = []\n",
      "for i in range(1, 1000):\n",
      "    if (i % 3 == 0 or i % 5 == 0):\n",
      "        num.append(i)\n",
      "i += 1\n",
      "print(sum(num))\n",
      "\n",
      "# Method 2 an easier way\n",
      "num01 = [a for a in range(1, 1000)\n",
      "           if a % 3 == 0 or a % 5 == 0]\n",
      "print(sum(num01))\n"
     ],
     "language": "python",
     "metadata": {},
     "outputs": [
      {
       "output_type": "stream",
       "stream": "stdout",
       "text": [
        "233168\n",
        "233168\n"
       ]
      }
     ],
     "prompt_number": 215
    },
    {
     "cell_type": "markdown",
     "metadata": {},
     "source": [
      "**Exericse 2 [10 pts]**. Wikipedia gives the sample correlation coefficient formula as shown below. Write functions to calculate the sample mean, the sample standard deviation and the sample correlation coefficient. Calculate the sample correlation coefficent for the following lists of numbers:\n",
      "\n",
      "```python\n",
      "x = [10.0, 8.0, 13.0, 9.0, 11.0, 14.0, 6.0, 4.0, 12.0, 7.0, 5.0]\n",
      "y = [8.04, 6.95, 7.58, 8.81, 8.33, 9.96, 7.24, 4.26, 10.84, 4.82, 5.68]\n",
      "```\n",
      "\n",
      "Do NOT use `numpy`  functions - the idea is to code the functions yourself! The square root of $x$ can be calculated as ```x**0.5```."
     ]
    },
    {
     "cell_type": "code",
     "collapsed": false,
     "input": [
      "Image(url=\"http://upload.wikimedia.org/math/0/4/e/04e3ee493ddb1f01e03d8bf024fbd0a5.png\")"
     ],
     "language": "python",
     "metadata": {},
     "outputs": [
      {
       "html": [
        "<img src=\"http://upload.wikimedia.org/math/0/4/e/04e3ee493ddb1f01e03d8bf024fbd0a5.png\"/>"
       ],
       "metadata": {},
       "output_type": "pyout",
       "prompt_number": 4,
       "text": [
        "<IPython.core.display.Image at 0x7f9126a78550>"
       ]
      }
     ],
     "prompt_number": 4
    },
    {
     "cell_type": "code",
     "collapsed": false,
     "input": [
      "Image(url=\"http://upload.wikimedia.org/math/7/0/d/70df5220933ae8298cd5ef1c719360bf.png\")"
     ],
     "language": "python",
     "metadata": {},
     "outputs": [
      {
       "html": [
        "<img src=\"http://upload.wikimedia.org/math/7/0/d/70df5220933ae8298cd5ef1c719360bf.png\"/>"
       ],
       "metadata": {},
       "output_type": "pyout",
       "prompt_number": 5,
       "text": [
        "<IPython.core.display.Image at 0x7f9126a78590>"
       ]
      }
     ],
     "prompt_number": 5
    },
    {
     "cell_type": "code",
     "collapsed": false,
     "input": [
      "# Your code here\n",
      "# Initialize data\n",
      "x = [10.0, 8.0, 13.0, 9.0, 11.0, 14.0, 6.0, 4.0, 12.0, 7.0, 5.0]\n",
      "y = [8.04, 6.95, 7.58, 8.81, 8.33, 9.96, 7.24, 4.26, 10.84, 4.82, 5.68]\n",
      "\n",
      "def spmean(x):\n",
      "    \"\"\" sample mean function\"\"\"\n",
      "    return sum(x) / float(len(x))\n",
      "\n",
      "def spsd(x):\n",
      "    \n",
      "    \"\"\" sample standard deviation function\n",
      "        using map function to do operations on a list \"\"\"\n",
      "    \n",
      "    return (sum(map(lambda t: t**2, map(lambda t: t - spmean(x), x))) / float((len(x) - 1)))**0.5\n",
      "\n",
      "def spcorr(x, y):\n",
      "    \n",
      "    \"\"\" sample correlation coef function\n",
      "        first standardize variables and then get the averaged cross-product \"\"\"\n",
      "    \n",
      "    x_std = map(lambda t: (t - spmean(x)) / spsd(x), x)\n",
      "    y_std = map(lambda t: (t - spmean(y)) / spsd(y), y)\n",
      "    return sum([x_std[i] * y_std[i] for i in range(0, len(x_std))]) / float((len(x_std) - 1))\n",
      "\n",
      "# Results\n",
      "print(\"The mean of x is %.3f and the mean of y is %.3f.\" % (spmean(x), spmean(y)))\n",
      "print(\"The standard deviation of x is %.3f and of y is %.3f.\" % (spsd(x), spsd(y)))\n",
      "print(\"The correlation coefficients of x and y is %.3f.\" % spcorr(x, y))"
     ],
     "language": "python",
     "metadata": {},
     "outputs": [
      {
       "output_type": "stream",
       "stream": "stdout",
       "text": [
        "The mean of x is 9.000 and the mean of y is 7.501.\n",
        "The standard deviation of x is 3.317 and of y is 2.032.\n",
        "The correlation coefficients of x and y is 0.816.\n"
       ]
      }
     ],
     "prompt_number": 216
    },
    {
     "cell_type": "markdown",
     "metadata": {},
     "source": [
      "**Exercise 3** [10 pts]. Write a function to calculate hailstone numbers.\n",
      "\n",
      "Start with any positive integer (an initial seed) and obtain a sequence of numbers by following these rules.\n",
      "\n",
      "1. Base case: If the number is 1, stop.\n",
      "2. Recursive case: If the current number is even, divide it by two; else if it is odd, multiply it by three and add one. \n",
      "\n",
      "The seqeunce of numbers obtained are known as *hailstone numbers* - although it is not proven that all sequences will eventually terminate with 1 (Collatz conjecture), no counter-example has yet been found. \n",
      "\n",
      "For example, starting with 7, we get the sequence 7, 22, 11, 34, 17, 52, 26, 13, 40, 20, 10, 5, 16, 8, 4, 2, 1.\n",
      "\n",
      "A recursive function to find the sequence of hailstone numbers is given below. Write a *non-recursive* version of the function that gives the same result. Using your function, what is the length of the sequeence obtained when we start with 23?\n",
      "\n",
      "```python\n",
      "def hailstone(n, acc=None):\n",
      "    \"\"\"Given a positive integer n, return the series of hailstone numbers.\"\"\"\n",
      "    if acc is None:\n",
      "        acc = []\n",
      "    acc.append(n)\n",
      "    if n == 1:\n",
      "        return acc\n",
      "    else:\n",
      "        if n%2 == 0:\n",
      "            return hailstone(n/2, acc)\n",
      "        else:\n",
      "            return hailstone(n*3 + 1, acc)\n",
      "```"
     ]
    },
    {
     "cell_type": "code",
     "collapsed": false,
     "input": [
      "# Your code here\n",
      "# Below is non-recursive function to obtain a sequence of hailstone numbers\n",
      "def hailstoneFan(n, acc = None):\n",
      "    \"\"\"Given a positive integer n, return the series of hailstone numbers.\"\"\"\n",
      "    if acc is None:\n",
      "        acc = []\n",
      "    acc.append(n)\n",
      "    i = 0\n",
      "    if (acc[i] == 1):\n",
      "        return acc\n",
      "    else:\n",
      "        while(acc[i] != 1):\n",
      "            if (acc[i] % 2 == 0):\n",
      "                acc.append(acc[i] / 2)\n",
      "            else:\n",
      "                acc.append(acc[i]*3 + 1)\n",
      "            i += 1    \n",
      "        return acc\n",
      "\n",
      "# Generate the sequence and calculate its length\n",
      "print(\"The hailstone sequence is\")\n",
      "print(hailstoneFan(23))\n",
      "print(\"The length of the sequence is %.d.\" % len(hailstoneFan(23)))"
     ],
     "language": "python",
     "metadata": {},
     "outputs": [
      {
       "output_type": "stream",
       "stream": "stdout",
       "text": [
        "The hailstone sequence is\n",
        "[23, 70, 35, 106, 53, 160, 80, 40, 20, 10, 5, 16, 8, 4, 2, 1]\n",
        "The length of the sequence is 16.\n"
       ]
      }
     ],
     "prompt_number": 217
    },
    {
     "cell_type": "markdown",
     "metadata": {},
     "source": [
      "**Exercise 4 [20 pts]**. A Caesar cipher replaces each in a string with the letter $k$ modulo 26 positions down. For example, with $k=3$, 'a' would become 'd', 'b' would become 'e' and so on. The Caesar cipher is very easy to crack, since the relative letter frequencies are preserved - that is, 'e' is the most commonly used English letter, so the most frequent letter in the cipher is likely to be the code for 'e'. We can download a large corpus of English text (e.g. a few books from Project Gutenberg), and estimate the individual letter frequencies. Using for example, a multinomial model where each letter is one of 26 possibiilites with frequencies given by the the previous estimates, and assuming that each letter is independent, we can simply go through all 26 possible values of $k$ and choose the model with the highest likelihood. Or just use $\\chi^2$ statistic to compare observed and expected frequencies.\n",
      "\n",
      "Here is an extended exercise to write a Caesar encoder and code to crack the cipher. \n",
      "\n",
      "**Writing the encoder/decoder**:\n",
      "    - Convert a sentence to lowercase\n",
      "    - Write a function let2int to convert a lowercase letter to a number from $0$ to $25$\n",
      "        - Hint: look up ord() function\n",
      "    - Write the reverse function int2let to convert a number to a lowercase letter\n",
      "        - Hint: look up chr() function\n",
      "    - Write a functiton to encode a sentence with shift $k$\n",
      "        - Hint: Use list comprehension with [ternary operator](https://docs.python.org/3.3/faq/programming.html#is-there-an-equivalent-of-c-s-ternary-operator) to check for a lowercase letter\n",
      "    - Write a function to decode a sentence with shift $k$\n",
      "        - Hint: Use the encode function\n",
      "    - Confirm that sentence = decode(encode(sentence))\n",
      "\n",
      "**More hints for encoding/decoding**:\n",
      "\n",
      "There are two slightly tricky aspects to encoding/decoding. First is that we want to convert any character into an integer in $[0, 26)$. Because letters are ordered ('b' comes after 'a'), this can be done by subtracting `ord('a')` for the lowercase letters. After adding $k$, we need to take the number modulo $26$ since the Caesar cipher \"wraps around\". Second is that this will only work for lowercase letters - so we need to pass along any characters that are not in 'a-z' unchanged.\n",
      "    \n",
      "**Writing the cracker**:\n",
      "    - Write a function to download a book from Project Gutenberg\n",
      "        - Hint: use\n",
      "        ```python\n",
      "        text = urllib2.urlopen('http://www.gutenberg.org/ebooks/1342.txt.utf-8').read()\n",
      "        ```\n",
      "    - Write a fucntion to estimate letter frequencies in text\n",
      "        - Hint: recall various ways to count letters in a string from Lecture 1\n",
      "    - Write a function to calculate the $\\chi^2$ statistic given observed and expected frequencies\n",
      "        - Hint: $\\chi^2 = \\sum_{i=1}{k} \\frac{(\\text{Observed} - \\text{Expected})^2}{\\text{Expected}}$\n",
      "    - Write a cracker to decode encrypted text by choosing the shift $k$ with the smallest $\\chi^2$ score\n",
      "        - Hint: xs.index(min(xs)) gives location of minimum value in the list xs."
     ]
    },
    {
     "cell_type": "code",
     "collapsed": false,
     "input": [
      "# Your code here\n",
      "\n",
      "################################################\n",
      "# STEP 1 Writing the encoder/decoder\n",
      "################################################\n",
      "\n",
      "# (1) convert a sentence to lowercase\n",
      "s = \"\"\"The Caesar cipher is very easy to crack.\"\"\"\n",
      "sl = s.lower()\n",
      "print(sl)\n",
      "\n",
      "# (2) Write a function let2int to convert a lowercase letter to a number from 0 to 25\n",
      "def let2int(x):\n",
      "    \"\"\" convert a lowercase letter to a number from 0 to 25\"\"\"\n",
      "    return ord(x) - 97\n",
      "\n",
      "# (3) Write the reverse function int2let to convert a number to a lowercase letter\n",
      "def int2let(x):\n",
      "    \"\"\" the reverse function to convert a number to a lowercase letter\"\"\"\n",
      "    return chr(x + 97)\n",
      "\n",
      "# (4) Write a functiton to encode a sentecne with shift k\n",
      "def encode(x, k):\n",
      "    \"\"\" \n",
      "    This function requires input x (the sentence), k (amount of shift)\n",
      "    and outputs the shifted sentence. \n",
      "    (1) This is a simple case where the shift is only applied to the lowercase\n",
      "    letters, into which all the uppercase letters will be coerced;\n",
      "    (2) All non-letter characters are kept as they are, so the shift is only\n",
      "    restricted to letters.\n",
      "    \"\"\"\n",
      "    xl = x.lower()\n",
      "    shifted = [int2let((let2int(unit) + k) % 26) if unit.isalpha() else unit for unit in xl] # ternary operator\n",
      "    return ''.join(shifted)\n",
      "\n",
      "# (5) Write a function to decode a sentence with shfit k\n",
      "def decode(x, k):\n",
      "    \"\"\" \n",
      "    This function requires input x (the shifted sentence), k (amount of shift)\n",
      "    and outputs the original sentence. \n",
      "    \"\"\"\n",
      "    kc = 26 - k\n",
      "    return encode(x, kc)\n",
      "\n",
      "# (6) Confirm that sentence = decode(encode(sentence))\n",
      "print(decode(encode(s, 2), 2))\n"
     ],
     "language": "python",
     "metadata": {},
     "outputs": [
      {
       "output_type": "stream",
       "stream": "stdout",
       "text": [
        "the caesar cipher is very easy to crack.\n",
        "the caesar cipher is very easy to crack.\n"
       ]
      }
     ],
     "prompt_number": 218
    },
    {
     "cell_type": "code",
     "collapsed": false,
     "input": [
      "################################################\n",
      "# STEP 2 Writing the cracker\n",
      "################################################\n",
      "\n",
      "# (1) Write a function to download a book from Project Gutenberg\n",
      "def ReadText(link):\n",
      "    \"\"\"\n",
      "    The function takes an url as argument and output texts \n",
      "    accessed by that url.\n",
      "    \"\"\"\n",
      "    import urllib2\n",
      "    text = urllib2.urlopen(link).read()\n",
      "    return text\n",
      "\n",
      "text = ReadText('http://www.gutenberg.org/ebooks/1342.txt.utf-8')\n",
      "\n",
      "# (2) Write a fucntion to estimte letter frequencies in text\n",
      "def freq(x):\n",
      "    \"\"\"\n",
      "    The function takes sentences as argument and returns\n",
      "    the observed frequency of each alphabetical letter (all in\n",
      "    lower cases).\n",
      "    \"\"\"\n",
      "    obs_count = [x.lower().count(chr(i + 97)) for i in range(0, 26)]\n",
      "    return map(lambda x: float(x) / float(sum(obs_count)), obs_count)\n",
      "\n",
      "# print(freq(text))\n",
      "\n",
      "# (3) Write a function to calculate the \u03c72 statistic given observed and expected frequencies\n",
      "def chi_value(Observed):\n",
      "    \"\"\"\n",
      "    This function takes the obeserved frequencies and returns the \n",
      "    chi-squared statistic wrt the expected letter frequencies.\n",
      "    \"\"\"\n",
      "    Expected = [0.08167, 0.01492, 0.02782, 0.04253, 0.12702, 0.02228, 0.02015, 0.06094, 0.06966, 0.00153, 0.00772, 0.04025, \n",
      "                0.02406, 0.06749, 0.07507, 0.01929, 0.00095, 0.05987, 0.06327, 0.09056, 0.02758, 0.00978, 0.02360, 0.00150,\n",
      "                0.01974, 0.00074]\n",
      "    return sum([((Observed[i] - Expected[i])**2 / Expected[i]) for i in range(0, 26)])\n",
      "\n",
      "Observed = freq(text)\n",
      "print(\"The Chi-squared statistic is %.4f.\" % chi_value(Observed))\n",
      "\n",
      "# (4) Write a cracker to deecode encrypted text by choosing the shift k with the smallest \u03c72 score\n",
      "# First encode the text by a shift of 14\n",
      "text_encripted = encode(text, k = 14)\n",
      "\n",
      "# test whether the cracker returns the original shift\n",
      "# should return k = 14\n",
      "xs = []\n",
      "for k in range(0, 26):\n",
      "    temp = decode(text_encripted, k)\n",
      "    xs.append(chi_value(freq(temp)))\n",
      "    \n",
      "print(xs.index(min(xs)))"
     ],
     "language": "python",
     "metadata": {},
     "outputs": [
      {
       "output_type": "stream",
       "stream": "stdout",
       "text": [
        "The Chi-squared statistic is 0.0049.\n",
        "14"
       ]
      },
      {
       "output_type": "stream",
       "stream": "stdout",
       "text": [
        "\n"
       ]
      }
     ],
     "prompt_number": 219
    },
    {
     "cell_type": "code",
     "collapsed": false,
     "input": [],
     "language": "python",
     "metadata": {},
     "outputs": []
    }
   ],
   "metadata": {}
  }
 ]
}