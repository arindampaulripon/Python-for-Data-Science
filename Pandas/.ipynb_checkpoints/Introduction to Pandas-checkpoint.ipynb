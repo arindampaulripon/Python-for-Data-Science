{
 "cells": [
  {
   "cell_type": "markdown",
   "metadata": {},
   "source": [
    "# Introduction to Pandas\n"
   ]
  },
  {
   "cell_type": "markdown",
   "metadata": {},
   "source": [
    "## Creating and Navigating a Dataframe"
   ]
  },
  {
   "cell_type": "code",
   "execution_count": 1,
   "metadata": {
    "collapsed": true
   },
   "outputs": [],
   "source": [
    "import pandas as pd"
   ]
  },
  {
   "cell_type": "code",
   "execution_count": 22,
   "metadata": {
    "collapsed": false
   },
   "outputs": [],
   "source": [
    "starting = {'Col_1':['5',2,4,5,1,3,5]\n",
    "         ,'Col_2':[7,8,2,1,2,3,4]\n",
    "         ,'Col_3':['10','4','2','1','6','7','8']\n",
    "         ,'Col_4':[5,6,7,8,10,11,2]\n",
    "         ,'Col_5':[9,9,2,3,9,9,1]\n",
    "         ,'Col_6':[7,5,2,1,5,4,2]}"
   ]
  },
  {
   "cell_type": "code",
   "execution_count": 23,
   "metadata": {
    "collapsed": true
   },
   "outputs": [],
   "source": [
    "df = pd.DataFrame(starting)"
   ]
  },
  {
   "cell_type": "code",
   "execution_count": 24,
   "metadata": {
    "collapsed": false
   },
   "outputs": [
    {
     "name": "stdout",
     "output_type": "stream",
     "text": [
      "  Col_1  Col_2 Col_3  Col_4  Col_5  Col_6\n",
      "0     5      7    10      5      9      7\n",
      "1     2      8     4      6      9      5\n",
      "2     4      2     2      7      2      2\n",
      "3     5      1     1      8      3      1\n",
      "4     1      2     6     10      9      5\n",
      "5     3      3     7     11      9      4\n",
      "6     5      4     8      2      1      2\n"
     ]
    }
   ],
   "source": [
    "print(df)"
   ]
  },
  {
   "cell_type": "code",
   "execution_count": 25,
   "metadata": {
    "collapsed": false
   },
   "outputs": [
    {
     "name": "stdout",
     "output_type": "stream",
     "text": [
      "Col_1    object\n",
      "Col_2     int64\n",
      "Col_3    object\n",
      "Col_4     int64\n",
      "Col_5     int64\n",
      "Col_6     int64\n",
      "dtype: object\n"
     ]
    }
   ],
   "source": [
    "print(df.dtypes)"
   ]
  },
  {
   "cell_type": "code",
   "execution_count": 26,
   "metadata": {
    "collapsed": false
   },
   "outputs": [
    {
     "name": "stdout",
     "output_type": "stream",
     "text": [
      "0    5\n",
      "1    2\n",
      "2    4\n",
      "3    5\n",
      "4    1\n",
      "5    3\n",
      "6    5\n",
      "Name: Col_1, dtype: object\n"
     ]
    }
   ],
   "source": [
    "print(df['Col_1'])"
   ]
  },
  {
   "cell_type": "code",
   "execution_count": 27,
   "metadata": {
    "collapsed": false
   },
   "outputs": [
    {
     "name": "stdout",
     "output_type": "stream",
     "text": [
      "5\n"
     ]
    }
   ],
   "source": [
    "print(df['Col_1'][0])"
   ]
  },
  {
   "cell_type": "code",
   "execution_count": 28,
   "metadata": {
    "collapsed": false
   },
   "outputs": [
    {
     "name": "stdout",
     "output_type": "stream",
     "text": [
      "0    5\n",
      "1    2\n",
      "2    4\n",
      "3    5\n",
      "4    1\n",
      "5    3\n",
      "6    5\n",
      "Name: Col_1, dtype: object\n"
     ]
    }
   ],
   "source": [
    "print(df.Col_1)"
   ]
  },
  {
   "cell_type": "markdown",
   "metadata": {},
   "source": [
    "## Slices, Head and Tail"
   ]
  },
  {
   "cell_type": "code",
   "execution_count": 29,
   "metadata": {
    "collapsed": false
   },
   "outputs": [
    {
     "name": "stdout",
     "output_type": "stream",
     "text": [
      "  Col_1  Col_2 Col_3  Col_4  Col_5  Col_6\n",
      "0     5      7    10      5      9      7\n",
      "1     2      8     4      6      9      5\n",
      "2     4      2     2      7      2      2\n",
      "3     5      1     1      8      3      1\n",
      "4     1      2     6     10      9      5\n"
     ]
    }
   ],
   "source": [
    "print(df.head()) #first 5 rows"
   ]
  },
  {
   "cell_type": "code",
   "execution_count": 30,
   "metadata": {
    "collapsed": false
   },
   "outputs": [
    {
     "name": "stdout",
     "output_type": "stream",
     "text": [
      "  Col_1  Col_2 Col_3  Col_4  Col_5  Col_6\n",
      "2     4      2     2      7      2      2\n",
      "3     5      1     1      8      3      1\n",
      "4     1      2     6     10      9      5\n",
      "5     3      3     7     11      9      4\n",
      "6     5      4     8      2      1      2\n"
     ]
    }
   ],
   "source": [
    "print(df.tail()) #last 5 rows"
   ]
  },
  {
   "cell_type": "code",
   "execution_count": 31,
   "metadata": {
    "collapsed": false
   },
   "outputs": [
    {
     "name": "stdout",
     "output_type": "stream",
     "text": [
      "  Col_1  Col_2 Col_3  Col_4  Col_5  Col_6\n",
      "0     5      7    10      5      9      7\n",
      "1     2      8     4      6      9      5\n"
     ]
    }
   ],
   "source": [
    "print(df.head(2)) #first 2 rows"
   ]
  },
  {
   "cell_type": "code",
   "execution_count": 32,
   "metadata": {
    "collapsed": false
   },
   "outputs": [
    {
     "name": "stdout",
     "output_type": "stream",
     "text": [
      "  Col_1  Col_2 Col_3  Col_4  Col_5  Col_6\n",
      "5     3      3     7     11      9      4\n",
      "6     5      4     8      2      1      2\n"
     ]
    }
   ],
   "source": [
    "print(df.tail(2)) #last 2 rows"
   ]
  },
  {
   "cell_type": "code",
   "execution_count": 37,
   "metadata": {
    "collapsed": false
   },
   "outputs": [
    {
     "name": "stdout",
     "output_type": "stream",
     "text": [
      "4\n"
     ]
    }
   ],
   "source": [
    "print(df['Col_1']) #slice by column"
   ]
  },
  {
   "cell_type": "code",
   "execution_count": 46,
   "metadata": {
    "collapsed": false
   },
   "outputs": [
    {
     "name": "stdout",
     "output_type": "stream",
     "text": [
      "  Col_1  Col_2 Col_3  Col_4  Col_5  Col_6\n",
      "2     4      2     2      7      2      2\n"
     ]
    }
   ],
   "source": [
    "print(df[2:3]) #slice by rows"
   ]
  },
  {
   "cell_type": "code",
   "execution_count": null,
   "metadata": {
    "collapsed": true
   },
   "outputs": [],
   "source": []
  }
 ],
 "metadata": {
  "kernelspec": {
   "display_name": "Python 2",
   "language": "python",
   "name": "python2"
  },
  "language_info": {
   "codemirror_mode": {
    "name": "ipython",
    "version": 2
   },
   "file_extension": ".py",
   "mimetype": "text/x-python",
   "name": "python",
   "nbconvert_exporter": "python",
   "pygments_lexer": "ipython2",
   "version": "2.7.11"
  }
 },
 "nbformat": 4,
 "nbformat_minor": 0
}
