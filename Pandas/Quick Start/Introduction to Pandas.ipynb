{
 "cells": [
  {
   "cell_type": "markdown",
   "metadata": {},
   "source": [
    "# Introduction to Pandas\n"
   ]
  },
  {
   "cell_type": "markdown",
   "metadata": {},
   "source": [
    "## Creating and Navigating a Dataframe"
   ]
  },
  {
   "cell_type": "code",
   "execution_count": 1,
   "metadata": {
    "collapsed": true
   },
   "outputs": [],
   "source": [
    "import pandas as pd"
   ]
  },
  {
   "cell_type": "code",
   "execution_count": 49,
   "metadata": {
    "collapsed": false
   },
   "outputs": [],
   "source": [
    "starting = {'Col_1':['5',2,4,5,1,3,5]\n",
    "         ,'Col_2':[7,8,2,1,2,3,4]\n",
    "         ,'Col_3':['10','4','2','1','6','7','8']\n",
    "         ,'Name' :['HG','TX','YT','UY','IS','GI','IN']\n",
    "         ,'Col_4':[5,6,7,8,10,11,2]\n",
    "         ,'Col_5':[9,9,2,3,9,9,1]\n",
    "         ,'Col_6':[7,5,2,1,5,4,2]}"
   ]
  },
  {
   "cell_type": "code",
   "execution_count": 50,
   "metadata": {
    "collapsed": true
   },
   "outputs": [],
   "source": [
    "df = pd.DataFrame(starting)"
   ]
  },
  {
   "cell_type": "code",
   "execution_count": 51,
   "metadata": {
    "collapsed": false
   },
   "outputs": [
    {
     "name": "stdout",
     "output_type": "stream",
     "text": [
      "  Col_1  Col_2 Col_3  Col_4  Col_5  Col_6 Name\n",
      "0     5      7    10      5      9      7   HG\n",
      "1     2      8     4      6      9      5   TX\n",
      "2     4      2     2      7      2      2   YT\n",
      "3     5      1     1      8      3      1   UY\n",
      "4     1      2     6     10      9      5   IS\n",
      "5     3      3     7     11      9      4   GI\n",
      "6     5      4     8      2      1      2   IN\n"
     ]
    }
   ],
   "source": [
    "print(df)"
   ]
  },
  {
   "cell_type": "code",
   "execution_count": 52,
   "metadata": {
    "collapsed": false
   },
   "outputs": [
    {
     "name": "stdout",
     "output_type": "stream",
     "text": [
      "Col_1    object\n",
      "Col_2     int64\n",
      "Col_3    object\n",
      "Col_4     int64\n",
      "Col_5     int64\n",
      "Col_6     int64\n",
      "Name     object\n",
      "dtype: object\n"
     ]
    }
   ],
   "source": [
    "print(df.dtypes)"
   ]
  },
  {
   "cell_type": "code",
   "execution_count": 53,
   "metadata": {
    "collapsed": false
   },
   "outputs": [
    {
     "name": "stdout",
     "output_type": "stream",
     "text": [
      "0    5\n",
      "1    2\n",
      "2    4\n",
      "3    5\n",
      "4    1\n",
      "5    3\n",
      "6    5\n",
      "Name: Col_1, dtype: object\n"
     ]
    }
   ],
   "source": [
    "print(df['Col_1'])"
   ]
  },
  {
   "cell_type": "code",
   "execution_count": 54,
   "metadata": {
    "collapsed": false
   },
   "outputs": [
    {
     "name": "stdout",
     "output_type": "stream",
     "text": [
      "5\n"
     ]
    }
   ],
   "source": [
    "print(df['Col_1'][0])"
   ]
  },
  {
   "cell_type": "code",
   "execution_count": 55,
   "metadata": {
    "collapsed": false
   },
   "outputs": [
    {
     "name": "stdout",
     "output_type": "stream",
     "text": [
      "0    5\n",
      "1    2\n",
      "2    4\n",
      "3    5\n",
      "4    1\n",
      "5    3\n",
      "6    5\n",
      "Name: Col_1, dtype: object\n"
     ]
    }
   ],
   "source": [
    "print(df.Col_1)"
   ]
  },
  {
   "cell_type": "markdown",
   "metadata": {},
   "source": [
    "## Slices, Head and Tail"
   ]
  },
  {
   "cell_type": "code",
   "execution_count": 56,
   "metadata": {
    "collapsed": false
   },
   "outputs": [
    {
     "name": "stdout",
     "output_type": "stream",
     "text": [
      "  Col_1  Col_2 Col_3  Col_4  Col_5  Col_6 Name\n",
      "0     5      7    10      5      9      7   HG\n",
      "1     2      8     4      6      9      5   TX\n",
      "2     4      2     2      7      2      2   YT\n",
      "3     5      1     1      8      3      1   UY\n",
      "4     1      2     6     10      9      5   IS\n"
     ]
    }
   ],
   "source": [
    "print(df.head()) #first 5 rows"
   ]
  },
  {
   "cell_type": "code",
   "execution_count": 57,
   "metadata": {
    "collapsed": false
   },
   "outputs": [
    {
     "name": "stdout",
     "output_type": "stream",
     "text": [
      "  Col_1  Col_2 Col_3  Col_4  Col_5  Col_6 Name\n",
      "2     4      2     2      7      2      2   YT\n",
      "3     5      1     1      8      3      1   UY\n",
      "4     1      2     6     10      9      5   IS\n",
      "5     3      3     7     11      9      4   GI\n",
      "6     5      4     8      2      1      2   IN\n"
     ]
    }
   ],
   "source": [
    "print(df.tail()) #last 5 rows"
   ]
  },
  {
   "cell_type": "code",
   "execution_count": 58,
   "metadata": {
    "collapsed": false
   },
   "outputs": [
    {
     "name": "stdout",
     "output_type": "stream",
     "text": [
      "  Col_1  Col_2 Col_3  Col_4  Col_5  Col_6 Name\n",
      "0     5      7    10      5      9      7   HG\n",
      "1     2      8     4      6      9      5   TX\n"
     ]
    }
   ],
   "source": [
    "print(df.head(2)) #first 2 rows"
   ]
  },
  {
   "cell_type": "code",
   "execution_count": 59,
   "metadata": {
    "collapsed": false
   },
   "outputs": [
    {
     "name": "stdout",
     "output_type": "stream",
     "text": [
      "  Col_1  Col_2 Col_3  Col_4  Col_5  Col_6 Name\n",
      "5     3      3     7     11      9      4   GI\n",
      "6     5      4     8      2      1      2   IN\n"
     ]
    }
   ],
   "source": [
    "print(df.tail(2)) #last 2 rows"
   ]
  },
  {
   "cell_type": "code",
   "execution_count": 60,
   "metadata": {
    "collapsed": false
   },
   "outputs": [
    {
     "name": "stdout",
     "output_type": "stream",
     "text": [
      "0    5\n",
      "1    2\n",
      "2    4\n",
      "3    5\n",
      "4    1\n",
      "5    3\n",
      "6    5\n",
      "Name: Col_1, dtype: object\n"
     ]
    }
   ],
   "source": [
    "print(df['Col_1']) #slice by column"
   ]
  },
  {
   "cell_type": "code",
   "execution_count": 61,
   "metadata": {
    "collapsed": false
   },
   "outputs": [
    {
     "name": "stdout",
     "output_type": "stream",
     "text": [
      "  Col_1  Col_2 Col_3  Col_4  Col_5  Col_6 Name\n",
      "2     4      2     2      7      2      2   YT\n"
     ]
    }
   ],
   "source": [
    "print(df[2:3]) #slice by rows"
   ]
  },
  {
   "cell_type": "markdown",
   "metadata": {},
   "source": [
    "## Indexing"
   ]
  },
  {
   "cell_type": "code",
   "execution_count": 62,
   "metadata": {
    "collapsed": false
   },
   "outputs": [
    {
     "name": "stdout",
     "output_type": "stream",
     "text": [
      "Int64Index([0, 1, 2, 3, 4, 5, 6], dtype='int64')\n"
     ]
    }
   ],
   "source": [
    "print(df.index)"
   ]
  },
  {
   "cell_type": "code",
   "execution_count": 63,
   "metadata": {
    "collapsed": false
   },
   "outputs": [],
   "source": [
    "df = df.set_index('Name')"
   ]
  },
  {
   "cell_type": "code",
   "execution_count": 65,
   "metadata": {
    "collapsed": false
   },
   "outputs": [
    {
     "name": "stdout",
     "output_type": "stream",
     "text": [
      "     Col_1  Col_2 Col_3  Col_4  Col_5  Col_6\n",
      "Name                                        \n",
      "HG       5      7    10      5      9      7\n",
      "TX       2      8     4      6      9      5\n",
      "YT       4      2     2      7      2      2\n",
      "UY       5      1     1      8      3      1\n",
      "IS       1      2     6     10      9      5\n",
      "GI       3      3     7     11      9      4\n",
      "IN       5      4     8      2      1      2\n"
     ]
    }
   ],
   "source": [
    "print(df)"
   ]
  },
  {
   "cell_type": "code",
   "execution_count": 66,
   "metadata": {
    "collapsed": false
   },
   "outputs": [
    {
     "name": "stdout",
     "output_type": "stream",
     "text": [
      "Index([u'HG', u'TX', u'YT', u'UY', u'IS', u'GI', u'IN'], dtype='object', name=u'Name')\n"
     ]
    }
   ],
   "source": [
    "print(df.index)"
   ]
  },
  {
   "cell_type": "markdown",
   "metadata": {},
   "source": [
    "## Visualizing the Data"
   ]
  },
  {
   "cell_type": "code",
   "execution_count": 75,
   "metadata": {
    "collapsed": false
   },
   "outputs": [],
   "source": [
    "import matplotlib.pyplot as plt\n",
    "from matplotlib import style\n",
    "import pandas.io.data as web\n",
    "import datetime"
   ]
  },
  {
   "cell_type": "code",
   "execution_count": 76,
   "metadata": {
    "collapsed": true
   },
   "outputs": [],
   "source": [
    "style.use('fivethirtyeight')"
   ]
  },
  {
   "cell_type": "code",
   "execution_count": 78,
   "metadata": {
    "collapsed": false
   },
   "outputs": [],
   "source": [
    "start = datetime.datetime(2010, 1, 1)\n",
    "end = datetime.datetime(2016, 2, 18)\n",
    "\n",
    "att = web.DataReader(\"T\", \"yahoo\", start, end)"
   ]
  },
  {
   "cell_type": "code",
   "execution_count": 80,
   "metadata": {
    "collapsed": false
   },
   "outputs": [
    {
     "name": "stdout",
     "output_type": "stream",
     "text": [
      "                 Open       High        Low      Close    Volume  Adj Close\n",
      "Date                                                                       \n",
      "2010-01-04  28.410000  28.610001  28.280001  28.580000  29136600  20.230668\n",
      "2010-01-05  28.700001  28.730000  28.350000  28.440001  35234500  20.131567\n",
      "2010-01-06  27.950001  28.030001  27.549999  27.610001  37894600  19.836994\n",
      "2010-01-07  27.580000  27.690001  27.120001  27.299999  33600300  19.614267\n",
      "2010-01-08  27.290001  27.389999  26.879999  27.100000  27633400  19.470574\n"
     ]
    }
   ],
   "source": [
    "print(att.head())"
   ]
  },
  {
   "cell_type": "code",
   "execution_count": 94,
   "metadata": {
    "collapsed": false
   },
   "outputs": [
    {
     "data": {
      "image/png": "[encoded data removed]",
      "text/plain": [
       "<matplotlib.figure.Figure at 0x10c04908>"
      ]
     },
     "metadata": {},
     "output_type": "display_data"
    }
   ],
   "source": [
    "%matplotlib inline\n",
    "att['Adj Close'].plot()\n",
    "plt.legend()\n",
    "plt.ylabel('Price in $')\n",
    "plt.show()"
   ]
  },
  {
   "cell_type": "code",
   "execution_count": 90,
   "metadata": {
    "collapsed": false
   },
   "outputs": [
    {
     "data": {
      "image/png": "[encoded data removed]",
      "text/plain": [
       "<matplotlib.figure.Figure at 0x1052ab00>"
      ]
     },
     "metadata": {},
     "output_type": "display_data"
    }
   ],
   "source": [
    "att['High'].plot()\n",
    "att['Low'].plot()\n",
    "plt.legend()\n",
    "plt.show()"
   ]
  },
  {
   "cell_type": "code",
   "execution_count": 93,
   "metadata": {
    "collapsed": false
   },
   "outputs": [
    {
     "data": {
      "image/png": "[encoded data removed]",
      "text/plain": [
       "<matplotlib.figure.Figure at 0xe2e1588>"
      ]
     },
     "metadata": {},
     "output_type": "display_data"
    }
   ],
   "source": [
    "att.plot()\n",
    "plt.legend()\n",
    "plt.show()"
   ]
  },
  {
   "cell_type": "markdown",
   "metadata": {},
   "source": [
    "## Converting to Python List or Pandas Series"
   ]
  },
  {
   "cell_type": "markdown",
   "metadata": {},
   "source": [
    "If you want to iterate through the data or other reasons to use lists."
   ]
  },
  {
   "cell_type": "code",
   "execution_count": 96,
   "metadata": {
    "collapsed": false
   },
   "outputs": [
    {
     "name": "stdout",
     "output_type": "stream",
     "text": [
      "[28.610001, 28.73, 28.030001000000002, 27.690001000000002, 27.389999, 27.219998999999998, 27.110001, 27.100000000000001, 26.850000000000001, 26.27, 26.25, 26.030001000000002, 25.98, 25.829999999999998, 25.899999999999999, 25.510000000000002, 26.120001000000002, 26.149999999999999, 25.75, 25.709999, 25.84, 25.809998999999998, 25.489999999999998, 25.309998999999998, 25.27, 25.420000000000002, 25.25, 25.379998999999998, 25.149999999999999, 25.489999999999998, 25.52, 25.530001000000002, 25.399999999999999, 25.16, 25.030001000000002, 24.950001, 24.860001, 24.91, 25.07, 25.059998999999998, 25.030001000000002, 25.0, 25.049999, 25.360001, 25.73, 25.719998999999998, 25.600000000000001, 25.73, 25.799999, 25.989999999999998, 25.989999999999998, 26.09, 26.309998999999998, 26.540001, 26.57, 26.5, 26.440001000000002, 26.5, 26.57, 26.329999999999998, 26.040001, 26.209999, 26.360001, 26.360001, 26.030001000000002, 26.059998999999998, 26.510000000000002, 26.670000000000002, 26.43, 26.239999999999998, 26.299999, 26.350000000000001, 26.450001, 26.739999999999998, 26.75, 26.309998999999998, 26.290001, 26.420000000000002, 26.309998999999998, 26.100000000000001, 26.299999, 26.5, 26.43, 26.43, 26.139999, 25.739999999999998, 25.489999999999998, 26.02, 25.809998999999998, 25.889999, 25.969998999999998, 25.780001000000002, 25.889999, 25.899999999999999, 25.709999, 25.299999, 24.870001000000002, 24.75, 24.389999, 24.420000000000002, 24.66, 24.73, 24.799999, 24.790001, 24.93, 24.540001, 24.649999999999999, 25.030001000000002, 25.209999, 25.52, 25.34, 25.549999, 25.540001, 25.530001000000002, 25.57, 25.66, 25.610001, 25.600000000000001, 25.600000000000001, 25.52, 25.149999999999999, 25.18, 24.899999999999999, 24.440001000000002, 24.399999999999999, 24.43, 24.5, 24.399999999999999, 24.579999999999998, 24.879998999999998, 24.860001, 25.18, 25.110001, 25.049999, 25.100000000000001, 24.959999, 24.799999, 25.170000000000002, 25.829999999999998, 25.920000000000002, 26.09, 26.41, 26.350000000000001, 26.399999999999999, 26.100000000000001, 26.690001000000002, 26.889999, 26.75, 26.899999999999999, 26.649999999999999, 26.959999, 27.079999999999998, 26.790001, 26.950001, 26.879998999999998, 26.709999, 27.100000000000001, 27.389999, 27.299999, 26.879998999999998, 26.790001, 26.850000000000001, 26.989999999999998, 27.0, 27.0, 26.93, 27.030001000000002, 27.489999999999998, 27.48, 27.489999999999998, 27.450001, 27.469998999999998, 27.959999, 27.920000000000002, 28.079999999999998, 28.120001000000002, 28.149999999999999, 28.16, 28.32, 28.629998999999998, 28.879998999999998, 28.920000000000002, 28.75, 28.799999, 29.149999999999999, 29.030001000000002, 28.98, 29.059998999999998, 28.959999, 29.079999999999998, 29.43, 29.049999, 28.73, 28.379998999999998, 28.450001, 28.5, 28.68, 28.629998999999998, 28.709999, 28.700001, 28.469998999999998, 28.670000000000002, 28.600000000000001, 28.41, 28.52, 28.530001000000002, 28.41, 28.639999, 28.629998999999998, 28.889999, 29.110001, 29.110001, 29.489999999999998, 29.469998999999998, 29.23, 29.27, 29.079999999999998, 29.110001, 28.760000000000002, 28.889999, 28.5, 28.239999999999998, 28.459999, 28.48, 28.329999999999998, 28.149999999999999, 28.23, 28.09, 27.870001000000002, 27.93, 28.309998999999998, 28.649999999999999, 28.5, 28.52, 28.75, 28.709999, 28.82, 28.969998999999998, 29.0, 29.34, 29.559998999999998, 29.350000000000001, 29.27, 29.52, 29.280001000000002, 29.16, 29.239999999999998, 29.399999999999999, 29.399999999999999, 29.440001000000002, 29.360001, 29.530001000000002, 29.73, 29.91, 30.100000000000001, 29.610001, 29.110001, 28.610001, 28.23, 28.209999, 28.190001000000002, 28.450001, 28.59, 28.469998999999998, 28.510000000000002, 28.48, 28.559998999999998, 28.760000000000002, 28.950001, 28.25, 28.02, 27.579999999999998, 27.920000000000002, 28.049999, 28.010000000000002, 28.059998999999998, 28.010000000000002, 28.0, 28.010000000000002, 28.440001000000002, 28.59, 28.530001000000002, 28.34, 28.389999, 28.549999, 28.579999999999998, 28.420000000000002, 28.290001, 28.049999, 28.18, 28.399999999999999, 28.530001000000002, 28.52, 28.389999, 28.350000000000001, 28.100000000000001, 28.600000000000001, 28.889999, 28.809998999999998, 28.719998999999998, 28.420000000000002, 27.940001000000002, 27.739999999999998, 27.91, 28.049999, 29.100000000000001, 28.299999, 28.219998999999998, 28.77, 28.899999999999999, 29.629998999999998, 30.079999999999998, 30.969998999999998, 30.850000000000001, 30.93, 30.84, 31.0, 30.549999, 30.57, 30.719998999999998, 30.84, 30.57, 30.549999, 30.43, 30.68, 30.48, 30.440001000000002, 30.5, 30.75, 30.73, 30.989999999999998, 31.5, 31.82, 31.799999, 31.719998999999998, 31.940001000000002, 31.91, 31.920000000000002, 31.68, 31.420000000000002, 31.739999999999998, 31.739999999999998, 31.790001, 31.66, 31.389999, 31.27, 31.25, 31.459999, 31.77, 31.16, 31.299999, 31.23, 31.260000000000002, 31.350000000000001, 31.649999999999999, 31.579999999999998, 31.239999999999998, 30.870001000000002, 30.600000000000001, 30.610001, 30.530001000000002, 30.540001, 30.549999, 30.84, 30.93, 30.73, 30.459999, 30.950001, 31.120001000000002, 31.34, 31.16, 30.739999999999998, 30.790001, 30.940001000000002, 31.040001, 31.379998999999998, 31.5, 31.73, 31.780001000000002, 31.389999, 31.309998999999998, 31.290001, 30.969998999999998, 31.139999, 31.09, 30.93, 30.700001, 30.18, 30.350000000000001, 30.370001000000002, 30.739999999999998, 30.360001, 30.170000000000002, 30.100000000000001, 30.209999, 30.129998999999998, 29.34, 30.079999999999998, 29.600000000000001, 29.530001000000002, 29.219998999999998, 29.280001000000002, 28.91, 28.899999999999999, 28.98, 28.68, 28.940001000000002, 28.850000000000001, 28.91, 29.299999, 29.049999, 28.620001000000002, 28.68, 28.98, 29.5, 29.639999, 29.209999, 29.469998999999998, 29.799999, 29.899999999999999, 28.700001, 28.370001000000002, 27.989999999999998, 28.129998999999998, 28.129998999999998, 27.860001, 27.920000000000002, 28.239999999999998, 28.5, 28.649999999999999, 28.940001000000002, 28.670000000000002, 29.18, 28.989999999999998, 28.07, 27.950001, 28.420000000000002, 29.0, 29.09, 28.959999, 29.0, 28.850000000000001, 28.379998999999998, 28.34, 28.43, 28.73, 29.170000000000002, 29.0, 29.23, 29.120001000000002, 29.43, 29.379998999999998, 29.350000000000001, 29.350000000000001, 29.049999, 29.370001000000002, 29.139999, 28.850000000000001, 28.780001000000002, 29.670000000000002, 29.799999, 29.649999999999999, 29.110001, 29.309998999999998, 29.489999999999998, 29.239999999999998, 29.450001, 29.5, 29.25, 29.34, 29.549999, 29.32, 29.370001000000002, 29.219998999999998, 28.850000000000001, 28.75, 28.489999999999998, 28.43, 28.010000000000002, 27.719998999999998, 28.110001, 28.280001000000002, 28.98, 28.950001, 29.120001000000002, 29.299999, 29.32, 29.399999999999999, 29.239999999999998, 29.100000000000001, 29.079999999999998, 29.25, 29.190001000000002, 29.02, 28.850000000000001, 29.059998999999998, 29.16, 29.299999, 29.82, 29.98, 30.16, 30.16, 30.190001000000002, 30.299999, 30.540001, 30.68, 30.5, 30.09, 29.850000000000001, 29.920000000000002, 30.030001000000002, 30.25, 30.100000000000001, 30.469998999999998, 30.350000000000001, 30.450001, 30.52, 30.559998999999998, 30.200001, 30.239999999999998, 29.98, 29.530001000000002, 29.379998999999998, 29.540001, 29.93, 29.91, 30.07, 29.98, 30.149999999999999, 30.149999999999999, 30.059998999999998, 29.969998999999998, 30.120001000000002, 30.149999999999999, 30.07, 30.18, 30.149999999999999, 30.399999999999999, 30.370001000000002, 30.48, 30.489999999999998, 30.43, 30.59, 30.639999, 30.66, 31.0, 31.120001000000002, 30.969998999999998, 30.969998999999998, 31.149999999999999, 31.18, 31.52, 31.639999, 31.799999, 31.649999999999999, 31.709999, 31.739999999999998, 31.829999999999998, 31.969998999999998, 31.860001, 31.719998999999998, 31.829999999999998, 31.950001, 31.57, 31.209999, 31.379998999999998, 31.59, 31.600000000000001, 31.66, 31.16, 30.850000000000001, 30.620001000000002, 30.510000000000002, 30.879998999999998, 30.860001, 30.719998999999998, 30.950001, 30.850000000000001, 30.879998999999998, 31.09, 30.899999999999999, 31.920000000000002, 31.969998999999998, 32.529998999999997, 32.75, 32.950001, 33.330002, 33.169998, 33.150002000000001, 33.110001000000004, 33.090000000000003, 33.200001, 33.029998999999997, 33.25, 33.919998, 33.560001, 33.599997999999999, 33.549999, 33.520000000000003, 33.810001, 33.939999, 33.810001, 33.650002000000001, 33.700001, 33.849997999999999, 33.979999999999997, 34.110001000000004, 34.409999999999997, 34.209998999999996, 34.270000000000003, 34.259997999999996, 34.560001, 34.740002000000004, 34.659999999999997, 35.0, 34.990002000000004, 35.060001, 35.919998, 36.0, 35.979999999999997, 35.799999, 35.630001, 35.650002000000001, 35.330002, 35.049999, 35.119999, 35.279998999999997, 35.400002000000001, 35.729999999999997, 36.200001, 36.209998999999996, 35.970001000000003, 35.5, 35.540001000000004, 35.729999999999997, 35.479999999999997, 35.099997999999999, 35.349997999999999, 35.560001, 35.900002000000001, 36.189999, 35.869999, 35.5, 35.5, 35.650002000000001, 35.520000000000003, 36.43, 37.349997999999999, 37.689999, 38.110001000000004, 38.279998999999997, 37.759997999999996, 38.0, 37.970001000000003, 37.799999, 37.509997999999996, 37.389998999999996, 37.5, 37.509997999999996, 37.520000000000003, 37.270000000000003, 37.32, 37.270000000000003, 37.040001000000004, 36.889998999999996, 36.729999999999997, 36.700001, 37.040001000000004, 36.990002000000004, 37.0, 37.049999, 36.840000000000003, 36.970001000000003, 36.919998, 37.020000000000003, 37.540001000000004, 37.459998999999996, 37.639998999999996, 37.799999, 38.110001000000004, 38.209998999999996, 37.880001, 37.650002000000001, 37.740002000000004, 37.959998999999996, 38.110001000000004, 38.580002, 38.490002000000004, 38.57, 38.380001, 38.290001000000004, 37.970001000000003, 37.970001000000003, 38.099997999999999, 38.330002, 38.43, 38.290001000000004, 37.880001, 37.689999, 37.150002000000001, 37.099997999999999, 36.270000000000003, 35.43, 35.669998, 35.880001, 36.57, 36.099997999999999, 35.389998999999996, 35.470001000000003, 34.979999999999997, 34.950001, 34.799999, 34.880001, 35.119999, 35.380001, 34.939999, 34.93, 34.150002000000001, 33.939999, 33.720001000000003, 34.040001000000004, 34.43, 34.279998999999997, 33.939999, 33.400002000000001, 33.889998999999996, 33.840000000000003, 33.900002000000001, 34.360001000000004, 34.220001000000003, 34.020000000000003, 33.669998, 34.07, 34.349997999999999, 34.400002000000001, 34.119999, 34.310001, 34.060001, 33.810001, 33.880001, 34.229999999999997, 34.689999, 34.630001, 34.389998999999996, 34.270000000000003, 34.439999, 34.340000000000003, 34.200001, 34.139998999999996, 33.950001, 33.950001, 33.869999, 33.630001, 33.729999999999997, 35.0, 35.169998, 35.270000000000003, 35.5, 35.040001000000004, 34.580002, 34.619999, 34.490002000000004, 34.220001000000003, 34.029998999999997, 33.68, 33.360001000000004, 33.439999, 33.840000000000003, 33.939999, 34.080002, 34.240002000000004, 34.299999, 34.830002, 34.869999, 34.950001, 35.630001, 35.470001000000003, 35.630001, 35.490002000000004, 35.549999, 35.529998999999997, 35.310001, 35.669998, 35.810001, 35.439999, 35.549999, 35.689999, 35.979999999999997, 35.619999, 35.700001, 36.080002, 35.700001, 35.900002000000001, 36.25, 36.080002, 36.270000000000003, 36.700001, 36.82, 36.520000000000003, 36.740002000000004, 36.770000000000003, 36.840000000000003, 36.82, 36.869999, 36.700001, 36.340000000000003, 36.380001, 36.43, 36.25, 36.520000000000003, 36.590000000000003, 36.770000000000003, 36.790001000000004, 36.830002, 37.32, 37.689999, 37.599997999999999, 37.959998999999996, 38.049999, 37.790001000000004, 37.889998999999996, 38.299999, 38.799999, 38.639998999999996, 38.549999, 38.279998999999997, 38.0, 38.130001, 38.360001000000004, 38.759997999999996, 39.0, 37.259997999999996, 37.439999, 37.310001, 37.340000000000003, 37.619999, 37.970001000000003, 37.840000000000003, 37.880001, 37.330002, 37.520000000000003, 37.849997999999999, 37.779998999999997, 37.529998999999997, 37.32, 37.229999999999997, 37.830002, 37.619999, 37.470001000000003, 37.439999, 37.240002000000004, 37.169998, 36.810001, 36.779998999999997, 37.150002000000001, 36.060001, 36.080002, 35.5, 35.209998999999996, 35.869999, 35.720001000000003, 35.860001000000004, 36.049999, 36.110001000000004, 36.200001, 36.139998999999996, 36.389998999999996, 36.310001, 36.139998999999996, 36.349997999999999, 36.139998999999996, 35.200001, 34.729999999999997, 34.849997999999999, 35.209998999999996, 35.490002000000004, 35.950001, 35.689999, 35.68, 35.799999, 35.740002000000004, 35.900002000000001, 35.689999, 35.830002, 35.68, 36.009997999999996, 35.909999999999997, 35.759997999999996, 35.900002000000001, 36.310001, 35.990002000000004, 35.849997999999999, 35.889998999999996, 35.950001, 35.5, 35.57, 35.700001, 36.0, 36.07, 35.580002, 35.82, 35.779998999999997, 35.849997999999999, 35.659999999999997, 35.729999999999997, 35.720001000000003, 35.310001, 34.970001000000003, 34.990002000000004, 34.790001000000004, 34.709998999999996, 34.380001, 34.18, 34.090000000000003, 33.849997999999999, 34.0, 34.330002, 34.409999999999997, 34.060001, 33.840000000000003, 34.060001, 33.889998999999996, 34.110001000000004, 33.75, 33.919998, 33.580002, 33.720001000000003, 34.099997999999999, 34.25, 34.450001, 34.729999999999997, 34.729999999999997, 34.849997999999999, 35.009997999999996, 34.950001, 34.849997999999999, 34.400002000000001, 34.290001000000004, 34.369999, 34.43, 34.150002000000001, 33.889998999999996, 34.240002000000004, 34.060001, 33.93, 33.790001000000004, 34.130001, 33.650002000000001, 34.099997999999999, 34.150002000000001, 34.25, 34.099997999999999, 34.119999, 34.200001, 34.439999, 34.880001, 35.299999, 35.380001, 35.340000000000003, 35.009997999999996, 35.240002000000004, 35.57, 36.470001000000003, 36.400002000000001, 36.490002000000004, 36.799999, 36.520000000000003, 36.330002, 36.0, 35.82, 35.169998, 35.25, 35.32, 35.169998, 35.380001, 35.479999999999997, 35.639998999999996, 35.830002, 35.93, 35.580002, 35.419998, 35.549999, 35.540001000000004, 35.419998, 35.529998999999997, 35.209998999999996, 34.790001000000004, 34.650002000000001, 34.560001, 34.580002, 34.729999999999997, 34.909999999999997, 34.450001, 34.130001, 33.950001, 34.509997999999996, 34.290001000000004, 34.439999, 34.470001000000003, 34.619999, 34.770000000000003, 34.979999999999997, 35.18, 35.25, 35.299999, 35.279998999999997, 35.290001000000004, 35.159999999999997, 35.049999, 35.150002000000001, 34.599997999999999, 34.240002000000004, 33.810001, 33.650002000000001, 33.549999, 34.0, 34.080002, 34.029998999999997, 34.0, 33.659999999999997, 33.799999, 34.290001000000004, 33.740002000000004, 33.810001, 33.549999, 33.590000000000003, 33.689999, 33.32, 32.450001, 32.43, 32.310001, 32.360001000000004, 32.459998999999996, 33.040001000000004, 33.07, 33.5, 33.380001, 33.229999999999997, 33.020000000000003, 33.380001, 33.229999999999997, 32.869999, 32.520000000000003, 32.290001000000004, 32.299999, 32.32, 31.98, 32.220001000000003, 32.240002000000004, 32.369999, 32.590000000000003, 32.540001000000004, 32.529998999999997, 32.479999999999997, 32.659999999999997, 32.590000000000003, 32.889998999999996, 33.040001000000004, 33.340000000000003, 34.139998999999996, 34.799999, 34.759997999999996, 34.889998999999996, 35.029998999999997, 35.029998999999997, 35.169998, 35.5, 35.139998999999996, 35.479999999999997, 35.669998, 35.880001, 35.790001000000004, 35.270000000000003, 35.270000000000003, 35.43, 35.32, 35.369999, 35.68, 36.110001000000004, 36.229999999999997, 36.169998, 36.409999999999997, 35.349997999999999, 35.099997999999999, 34.549999, 35.150002000000001, 35.479999999999997, 35.740002000000004, 36.0, 35.799999, 35.759997999999996, 35.759997999999996, 35.959998999999996, 36.860001000000004, 36.509997999999996, 36.740002000000004, 36.540001000000004, 36.57, 36.610001000000004, 36.790001000000004, 36.75, 36.349997999999999, 35.709998999999996, 35.5, 35.549999, 35.400002000000001, 35.5, 35.439999, 35.529998999999997, 35.549999, 35.599997999999999, 35.200001, 35.130001, 35.099997999999999, 35.119999, 35.099997999999999, 35.040001000000004, 34.869999, 35.150002000000001, 35.090000000000003, 35.150002000000001, 35.209998999999996, 35.389998999999996, 35.75, 35.57, 35.580002, 35.290001000000004, 35.310001, 35.43, 35.549999, 35.529998999999997, 35.669998, 35.869999, 36.099997999999999, 35.729999999999997, 35.720001000000003, 35.770000000000003, 35.830002, 35.939999, 36.349997999999999, 36.549999, 36.470001000000003, 36.189999, 36.159999999999997, 36.099997999999999, 35.959998999999996, 35.720001000000003, 35.700001, 35.770000000000003, 37.479999999999997, 36.630001, 36.209998999999996, 35.82, 35.529998999999997, 35.459998999999996, 35.020000000000003, 34.790001000000004, 34.5, 34.759997999999996, 34.700001, 34.830002, 34.93, 34.970001000000003, 34.900002000000001, 34.689999, 34.560001, 34.75, 34.630001, 34.659999999999997, 34.650002000000001, 34.790001000000004, 34.75, 34.959998999999996, 35.0, 35.0, 35.0, 35.259997999999996, 35.119999, 35.060001, 34.779998999999997, 34.880001, 34.909999999999997, 34.779998999999997, 35.009997999999996, 35.189999, 35.240002000000004, 35.479999999999997, 35.549999, 35.509997999999996, 35.490002000000004, 35.43, 35.340000000000003, 35.270000000000003, 35.400002000000001, 35.229999999999997, 35.119999, 36.159999999999997, 35.729999999999997, 35.610001000000004, 35.169998, 35.220001000000003, 34.799999, 34.340000000000003, 34.060001, 33.979999999999997, 33.830002, 34.200001, 34.290001000000004, 34.659999999999997, 34.790001000000004, 34.110001000000004, 33.939999, 34.240002000000004, 34.409999999999997, 34.650002000000001, 34.549999, 34.849997999999999, 35.029998999999997, 35.080002, 34.959998999999996, 34.950001, 34.970001000000003, 35.139998999999996, 35.150002000000001, 35.439999, 35.900002000000001, 36.150002000000001, 35.900002000000001, 35.869999, 35.659999999999997, 35.439999, 35.5, 35.099997999999999, 34.849997999999999, 35.200001, 35.57, 35.369999, 35.009997999999996, 34.259997999999996, 34.099997999999999, 33.950001, 34.090000000000003, 33.330002, 32.889998999999996, 33.049999, 32.580002, 32.439999, 32.810001, 32.799999, 33.509997999999996, 33.759997999999996, 33.979999999999997, 34.159999999999997, 34.189999, 34.229999999999997, 34.270000000000003, 34.200001, 34.080002, 33.970001000000003, 33.919998, 33.810001, 33.590000000000003, 33.580002, 33.689999, 33.759997999999996, 33.919998, 33.450001, 33.669998, 33.860001000000004, 33.959998999999996, 34.229999999999997, 33.93, 33.799999, 33.340000000000003, 33.119999, 33.639998999999996, 33.099997999999999, 33.43, 33.619999, 34.340000000000003, 34.75, 34.599997999999999, 35.049999, 34.909999999999997, 35.07, 34.830002, 34.619999, 34.729999999999997, 34.729999999999997, 34.729999999999997, 34.479999999999997, 34.080002, 34.049999, 34.119999, 34.220001000000003, 34.590000000000003, 34.580002, 34.650002000000001, 34.650002000000001, 34.450001, 34.200001, 33.770000000000003, 33.590000000000003, 33.259997999999996, 32.889998999999996, 33.209998999999996, 33.029998999999997, 33.099997999999999, 33.119999, 33.590000000000003, 33.509997999999996, 33.599997999999999, 33.68, 33.419998, 33.110001000000004, 33.130001, 32.950001, 33.040001000000004, 33.029998999999997, 32.909999999999997, 33.229999999999997, 33.409999999999997, 33.450001, 32.849997999999999, 32.790001000000004, 32.830002, 33.07, 32.93, 32.959998999999996, 32.900002000000001, 32.700001, 32.869999, 32.849997999999999, 32.889998999999996, 34.400002000000001, 34.32, 34.299999, 34.990002000000004, 35.229999999999997, 34.900002000000001, 34.720001000000003, 34.709998999999996, 34.580002, 33.790001000000004, 33.560001, 33.830002, 33.700001, 33.939999, 34.139998999999996, 34.200001, 34.389998999999996, 35.020000000000003, 34.849997999999999, 34.709998999999996, 35.220001000000003, 35.029998999999997, 34.759997999999996, 35.099997999999999, 34.970001000000003, 34.82, 34.599997999999999, 34.529998999999997, 35.169998, 35.479999999999997, 35.169998, 34.720001000000003, 34.790001000000004, 34.759997999999996, 34.979999999999997, 34.959998999999996, 34.57, 34.75, 34.849997999999999, 35.099997999999999, 35.060001, 35.150002000000001, 36.25, 35.950001, 36.450001, 36.400002000000001, 36.229999999999997, 36.150002000000001, 35.630001, 35.93, 35.659999999999997, 35.849997999999999, 35.32, 35.040001000000004, 34.849997999999999, 34.970001000000003, 35.130001, 35.130001, 35.189999, 35.240002000000004, 35.060001, 34.669998, 34.349997999999999, 34.340000000000003, 35.090000000000003, 34.659999999999997, 34.580002, 34.909999999999997, 34.889998999999996, 34.990002000000004, 35.020000000000003, 34.799999, 34.830002, 34.590000000000003, 34.259997999999996, 34.779998999999997, 34.959998999999996, 34.07, 34.169998, 34.049999, 34.229999999999997, 34.43, 34.5, 34.459998999999996, 33.950001, 32.689999, 33.110001000000004, 32.849997999999999, 33.490002000000004, 33.450001, 33.279998999999997, 32.790001000000004, 32.970001000000003, 33.240002000000004, 32.779998999999997, 33.189999, 33.5, 32.840000000000003, 32.779998999999997, 32.779998999999997, 32.93, 33.099997999999999, 33.139998999999996, 32.790001000000004, 32.689999, 32.450001, 32.340000000000003, 32.229999999999997, 32.700001, 32.340000000000003, 32.18, 32.709998999999996, 32.639998999999996, 32.639998999999996, 33.490002000000004, 33.520000000000003, 33.340000000000003, 33.409999999999997, 33.520000000000003, 33.310001, 33.290001000000004, 33.389998999999996, 33.5, 33.860001000000004, 33.689999, 33.849997999999999, 33.939999, 34.159999999999997, 34.740002000000004, 33.759997999999996, 33.610001000000004, 33.599997999999999, 33.669998, 33.75, 33.779998999999997, 33.75, 33.779998999999997, 33.560001, 33.270000000000003, 32.970001000000003, 32.900002000000001, 33.0, 32.860001000000004, 32.840000000000003, 33.049999, 33.520000000000003, 33.580002, 33.75, 33.779998999999997, 33.68, 33.590000000000003, 33.5, 33.779998999999997, 33.75, 33.970001000000003, 33.950001, 33.659999999999997, 34.169998, 34.389998999999996, 34.099997999999999, 34.229999999999997, 34.029998999999997, 33.590000000000003, 33.650002000000001, 33.93, 34.479999999999997, 34.610001000000004, 34.0, 34.110001000000004, 34.479999999999997, 34.919998, 34.779998999999997, 34.880001, 34.990002000000004, 34.950001, 34.659999999999997, 34.349997999999999, 34.689999, 34.209998999999996, 34.099997999999999, 33.959998999999996, 34.099997999999999, 34.189999, 34.299999, 34.549999, 34.340000000000003, 34.599997999999999, 34.349997999999999, 34.880001, 35.18, 35.43, 35.57, 35.799999, 35.790001000000004, 36.060001, 36.400002000000001, 36.200001, 36.799999, 36.82, 37.040001000000004, 37.119999, 36.880001, 36.740002000000004, 36.349997999999999, 36.509997999999996, 36.75, 36.790001000000004, 37.0]\n"
     ]
    }
   ],
   "source": [
    "highs = att['High'].tolist()\n",
    "print(highs)"
   ]
  },
  {
   "cell_type": "code",
   "execution_count": 97,
   "metadata": {
    "collapsed": false
   },
   "outputs": [
    {
     "name": "stdout",
     "output_type": "stream",
     "text": [
      "37.0\n"
     ]
    }
   ],
   "source": [
    "print(highs[-1]) #last price"
   ]
  },
  {
   "cell_type": "code",
   "execution_count": 99,
   "metadata": {
    "collapsed": false
   },
   "outputs": [
    {
     "name": "stdout",
     "output_type": "stream",
     "text": [
      "Date\n",
      "2010-01-04    28.610001\n",
      "2010-01-05    28.730000\n",
      "2010-01-06    28.030001\n",
      "2010-01-07    27.690001\n",
      "2010-01-08    27.389999\n",
      "2010-01-11    27.219999\n",
      "2010-01-12    27.110001\n",
      "2010-01-13    27.100000\n",
      "2010-01-14    26.850000\n",
      "2010-01-15    26.270000\n",
      "2010-01-19    26.250000\n",
      "2010-01-20    26.030001\n",
      "2010-01-21    25.980000\n",
      "2010-01-22    25.830000\n",
      "2010-01-25    25.900000\n",
      "2010-01-26    25.510000\n",
      "2010-01-27    26.120001\n",
      "2010-01-28    26.150000\n",
      "2010-01-29    25.750000\n",
      "2010-02-01    25.709999\n",
      "2010-02-02    25.840000\n",
      "2010-02-03    25.809999\n",
      "2010-02-04    25.490000\n",
      "2010-02-05    25.309999\n",
      "2010-02-08    25.270000\n",
      "2010-02-09    25.420000\n",
      "2010-02-10    25.250000\n",
      "2010-02-11    25.379999\n",
      "2010-02-12    25.150000\n",
      "2010-02-16    25.490000\n",
      "                ...    \n",
      "2016-01-06    34.209999\n",
      "2016-01-07    34.099998\n",
      "2016-01-08    33.959999\n",
      "2016-01-11    34.099998\n",
      "2016-01-12    34.189999\n",
      "2016-01-13    34.299999\n",
      "2016-01-14    34.549999\n",
      "2016-01-15    34.340000\n",
      "2016-01-19    34.599998\n",
      "2016-01-20    34.349998\n",
      "2016-01-21    34.880001\n",
      "2016-01-22    35.180000\n",
      "2016-01-25    35.430000\n",
      "2016-01-26    35.570000\n",
      "2016-01-27    35.799999\n",
      "2016-01-28    35.790001\n",
      "2016-01-29    36.060001\n",
      "2016-02-01    36.400002\n",
      "2016-02-02    36.200001\n",
      "2016-02-03    36.799999\n",
      "2016-02-04    36.820000\n",
      "2016-02-05    37.040001\n",
      "2016-02-08    37.119999\n",
      "2016-02-09    36.880001\n",
      "2016-02-10    36.740002\n",
      "2016-02-11    36.349998\n",
      "2016-02-12    36.509998\n",
      "2016-02-16    36.750000\n",
      "2016-02-17    36.790001\n",
      "2016-02-18    37.000000\n",
      "Name: High, dtype: float64\n"
     ]
    }
   ],
   "source": [
    "highsAsSeries = att['High']\n",
    "print(highsAsSeries)"
   ]
  },
  {
   "cell_type": "code",
   "execution_count": null,
   "metadata": {
    "collapsed": true
   },
   "outputs": [],
   "source": [
    "print(highsAsSeries)"
   ]
  },
  {
   "cell_type": "code",
   "execution_count": null,
   "metadata": {
    "collapsed": true
   },
   "outputs": [],
   "source": []
  }
 ],
 "metadata": {
  "kernelspec": {
   "display_name": "Python 2",
   "language": "python",
   "name": "python2"
  },
  "language_info": {
   "codemirror_mode": {
    "name": "ipython",
    "version": 2
   },
   "file_extension": ".py",
   "mimetype": "text/x-python",
   "name": "python",
   "nbconvert_exporter": "python",
   "pygments_lexer": "ipython2",
   "version": "2.7.11"
  }
 },
 "nbformat": 4,
 "nbformat_minor": 0
}
