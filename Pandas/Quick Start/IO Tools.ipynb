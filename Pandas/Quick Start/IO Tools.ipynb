{
 "cells": [
  {
   "cell_type": "markdown",
   "metadata": {},
   "source": [
    "# IO Tools"
   ]
  },
  {
   "cell_type": "code",
   "execution_count": 1,
   "metadata": {
    "collapsed": true
   },
   "outputs": [],
   "source": [
    "import pandas as pd"
   ]
  },
  {
   "cell_type": "code",
   "execution_count": 9,
   "metadata": {
    "collapsed": true
   },
   "outputs": [],
   "source": [
    "df = pd.read_csv('FBI-CRIME11.csv')"
   ]
  },
  {
   "cell_type": "code",
   "execution_count": 3,
   "metadata": {
    "collapsed": false,
    "scrolled": true
   },
   "outputs": [
    {
     "name": "stdout",
     "output_type": "stream",
     "text": [
      "         Year  Population  Violent Crime  Violent Crime Rate  \\\n",
      "0  2013-12-31   316128839        1163146               367.9   \n",
      "1  2012-12-31   313873685        1217057               387.8   \n",
      "2  2011-12-31   311587816        1206005               387.1   \n",
      "3  2010-12-31   309330219        1251248               404.5   \n",
      "4  2009-12-31   307006550        1325896               431.9   \n",
      "\n",
      "   Murder and nonegligent manslaughter  \\\n",
      "0                                14196   \n",
      "1                                14856   \n",
      "2                                14661   \n",
      "3                                14722   \n",
      "4                                15399   \n",
      "\n",
      "   Murder and nonegligent manslaughter rate  Rape (legacy definition)  \\\n",
      "0                                       4.5                     79770   \n",
      "1                                       4.7                     85141   \n",
      "2                                       4.7                     84175   \n",
      "3                                       4.8                     85593   \n",
      "4                                       5.0                     89241   \n",
      "\n",
      "   Rape (legacy definition) rate  Robbery  Robbery Rate  Aggravated Assault  \\\n",
      "0                           25.2   345031         109.1              724149   \n",
      "1                           27.1   355051         113.1              762009   \n",
      "2                           27.0   354746         113.9              752423   \n",
      "3                           27.7   369089         119.3              781844   \n",
      "4                           29.1   408742         133.1              812514   \n",
      "\n",
      "   Aggravated Assault Rate  Property Crime  Property Crime Rate  Burglary  \\\n",
      "0                    229.1         8632512               2730.7   1928465   \n",
      "1                    242.8         9001992               2868.0   2109932   \n",
      "2                    241.5         9052743               2905.4   2185140   \n",
      "3                    252.8         9112625               2945.9   2168459   \n",
      "4                    264.7         9337060               3041.3   2203313   \n",
      "\n",
      "   Burglary Rate  Larceny-Theft  Larceny-Theft Rate  Motor Vehicle Theft  \\\n",
      "0          610.0        6004453              1899.4               699594   \n",
      "1          672.2        6168874              1965.4               723186   \n",
      "2          701.3        6151095              1974.1               716508   \n",
      "3          701.0        6204601              2005.8               739565   \n",
      "4          717.7        6338095              2064.5               795652   \n",
      "\n",
      "   Motor Vehicle Theft Rate  \n",
      "0                     221.3  \n",
      "1                     230.4  \n",
      "2                     230.0  \n",
      "3                     239.1  \n",
      "4                     259.2  \n"
     ]
    }
   ],
   "source": [
    "print(df.head())"
   ]
  },
  {
   "cell_type": "code",
   "execution_count": 4,
   "metadata": {
    "collapsed": true
   },
   "outputs": [],
   "source": [
    "df.to_csv('newFBI-Crime11CSV') # output df as csv"
   ]
  },
  {
   "cell_type": "code",
   "execution_count": 5,
   "metadata": {
    "collapsed": true
   },
   "outputs": [],
   "source": [
    "df['Violent Crime Rate'].to_csv('ViolentCrimeRate') # csv of only one column"
   ]
  },
  {
   "cell_type": "code",
   "execution_count": 10,
   "metadata": {
    "collapsed": false,
    "scrolled": true
   },
   "outputs": [
    {
     "name": "stdout",
     "output_type": "stream",
     "text": [
      "            Population  Violent Crime  Violent Crime Rate  \\\n",
      "Year                                                        \n",
      "2013-12-31   316128839        1163146               367.9   \n",
      "2012-12-31   313873685        1217057               387.8   \n",
      "2011-12-31   311587816        1206005               387.1   \n",
      "2010-12-31   309330219        1251248               404.5   \n",
      "2009-12-31   307006550        1325896               431.9   \n",
      "\n",
      "            Murder and nonegligent manslaughter  \\\n",
      "Year                                              \n",
      "2013-12-31                                14196   \n",
      "2012-12-31                                14856   \n",
      "2011-12-31                                14661   \n",
      "2010-12-31                                14722   \n",
      "2009-12-31                                15399   \n",
      "\n",
      "            Murder and nonegligent manslaughter rate  \\\n",
      "Year                                                   \n",
      "2013-12-31                                       4.5   \n",
      "2012-12-31                                       4.7   \n",
      "2011-12-31                                       4.7   \n",
      "2010-12-31                                       4.8   \n",
      "2009-12-31                                       5.0   \n",
      "\n",
      "            Rape (legacy definition)  Rape (legacy definition) rate  Robbery  \\\n",
      "Year                                                                           \n",
      "2013-12-31                     79770                           25.2   345031   \n",
      "2012-12-31                     85141                           27.1   355051   \n",
      "2011-12-31                     84175                           27.0   354746   \n",
      "2010-12-31                     85593                           27.7   369089   \n",
      "2009-12-31                     89241                           29.1   408742   \n",
      "\n",
      "            Robbery Rate  Aggravated Assault  Aggravated Assault Rate  \\\n",
      "Year                                                                    \n",
      "2013-12-31         109.1              724149                    229.1   \n",
      "2012-12-31         113.1              762009                    242.8   \n",
      "2011-12-31         113.9              752423                    241.5   \n",
      "2010-12-31         119.3              781844                    252.8   \n",
      "2009-12-31         133.1              812514                    264.7   \n",
      "\n",
      "            Property Crime  Property Crime Rate  Burglary  Burglary Rate  \\\n",
      "Year                                                                       \n",
      "2013-12-31         8632512               2730.7   1928465          610.0   \n",
      "2012-12-31         9001992               2868.0   2109932          672.2   \n",
      "2011-12-31         9052743               2905.4   2185140          701.3   \n",
      "2010-12-31         9112625               2945.9   2168459          701.0   \n",
      "2009-12-31         9337060               3041.3   2203313          717.7   \n",
      "\n",
      "            Larceny-Theft  Larceny-Theft Rate  Motor Vehicle Theft  \\\n",
      "Year                                                                 \n",
      "2013-12-31        6004453              1899.4               699594   \n",
      "2012-12-31        6168874              1965.4               723186   \n",
      "2011-12-31        6151095              1974.1               716508   \n",
      "2010-12-31        6204601              2005.8               739565   \n",
      "2009-12-31        6338095              2064.5               795652   \n",
      "\n",
      "            Motor Vehicle Theft Rate  \n",
      "Year                                  \n",
      "2013-12-31                     221.3  \n",
      "2012-12-31                     230.4  \n",
      "2011-12-31                     230.0  \n",
      "2010-12-31                     239.1  \n",
      "2009-12-31                     259.2  \n"
     ]
    }
   ],
   "source": [
    "df.set_index('Year', inplace = True) # NO NEED TO DO df = df.set_index('Year')\n",
    "print(df.head())"
   ]
  },
  {
   "cell_type": "markdown",
   "metadata": {},
   "source": [
    "## csv IO Operations"
   ]
  },
  {
   "cell_type": "code",
   "execution_count": 12,
   "metadata": {
    "collapsed": false
   },
   "outputs": [
    {
     "name": "stdout",
     "output_type": "stream",
     "text": [
      "   0  367.9\n",
      "0  1  387.8\n",
      "1  2  387.1\n",
      "2  3  404.5\n",
      "3  4  431.9\n",
      "4  5  458.6\n"
     ]
    }
   ],
   "source": [
    "df = pd.read_csv('ViolentCrimeRate')\n",
    "print(df.head())"
   ]
  },
  {
   "cell_type": "code",
   "execution_count": 13,
   "metadata": {
    "collapsed": false
   },
   "outputs": [
    {
     "name": "stdout",
     "output_type": "stream",
     "text": [
      "   367.9\n",
      "0       \n",
      "1  387.8\n",
      "2  387.1\n",
      "3  404.5\n",
      "4  431.9\n",
      "5  458.6\n"
     ]
    }
   ],
   "source": [
    "df = pd.read_csv('ViolentCrimeRate', index_col = 0)\n",
    "print(df.head())"
   ]
  },
  {
   "cell_type": "code",
   "execution_count": 15,
   "metadata": {
    "collapsed": false
   },
   "outputs": [
    {
     "name": "stdout",
     "output_type": "stream",
     "text": [
      "      Violent Crime Rate\n",
      "Date                    \n",
      "0                  367.9\n",
      "1                  387.8\n",
      "2                  387.1\n",
      "3                  404.5\n",
      "4                  431.9\n"
     ]
    }
   ],
   "source": [
    "df = pd.read_csv('ViolentCrimeRate', names = ['Date', 'Violent Crime Rate']\n",
    "                 , index_col = 0)\n",
    "print(df.head())"
   ]
  },
  {
   "cell_type": "code",
   "execution_count": 16,
   "metadata": {
    "collapsed": true
   },
   "outputs": [],
   "source": [
    "df.to_csv('ViolentCrimeRate')"
   ]
  },
  {
   "cell_type": "code",
   "execution_count": 17,
   "metadata": {
    "collapsed": true
   },
   "outputs": [],
   "source": [
    "df.to_csv('ViolentCrimeRateWithoutHeaders', headers = False)"
   ]
  },
  {
   "cell_type": "markdown",
   "metadata": {},
   "source": [
    "## ```read_hdf``` and ```to_hdf```"
   ]
  },
  {
   "cell_type": "code",
   "execution_count": 18,
   "metadata": {
    "collapsed": false
   },
   "outputs": [
    {
     "name": "stdout",
     "output_type": "stream",
     "text": [
      "      Violent_Crime_Rate\n",
      "Date                    \n",
      "Date  Violent Crime Rate\n",
      "0                  367.9\n",
      "1                  387.8\n",
      "2                  387.1\n",
      "3                  404.5\n"
     ]
    }
   ],
   "source": [
    "df = pd.read_csv('ViolentCrimeRateWithoutHeaders'\n",
    "                , names = ['Date', 'Violent_Crime_Rate']\n",
    "                , index_col = 0)\n",
    "\n",
    "print(df.head())"
   ]
  },
  {
   "cell_type": "code",
   "execution_count": 19,
   "metadata": {
    "collapsed": false
   },
   "outputs": [
    {
     "name": "stdout",
     "output_type": "stream",
     "text": [
      "<class 'pandas.io.pytables.HDFStore'>\n",
      "File path: hdfstore.h5\n",
      "Empty\n"
     ]
    }
   ],
   "source": [
    "store = pd.HDFStore('hdfstore.h5') # create a HDF\n",
    "print(store)"
   ]
  },
  {
   "cell_type": "code",
   "execution_count": 21,
   "metadata": {
    "collapsed": false
   },
   "outputs": [
    {
     "name": "stdout",
     "output_type": "stream",
     "text": [
      "(19, 1)\n"
     ]
    }
   ],
   "source": [
    "#HDF can have multiple tables\n",
    "store.put('d1', df, format = 'table', data_columns = True) #d1 is 1 table\n",
    "\n",
    "print(store['d1'].shape)\n",
    "store.close()"
   ]
  },
  {
   "cell_type": "code",
   "execution_count": 22,
   "metadata": {
    "collapsed": false
   },
   "outputs": [
    {
     "name": "stdout",
     "output_type": "stream",
     "text": [
      "<class 'pandas.io.pytables.HDFStore'>\n",
      "File path: hdfstore.h5\n",
      "File is CLOSED\n"
     ]
    }
   ],
   "source": [
    "print(store)\n",
    "store.close()"
   ]
  },
  {
   "cell_type": "code",
   "execution_count": 23,
   "metadata": {
    "collapsed": false
   },
   "outputs": [
    {
     "name": "stdout",
     "output_type": "stream",
     "text": [
      "      Violent_Crime_Rate\n",
      "Date                    \n",
      "Date  Violent Crime Rate\n",
      "0                  367.9\n",
      "1                  387.8\n",
      "2                  387.1\n",
      "3                  404.5\n",
      "4                  431.9\n",
      "5                  458.6\n",
      "6                  471.8\n",
      "7                  479.3\n",
      "8                  469.0\n",
      "9                  463.2\n",
      "10                 475.8\n",
      "11                 494.4\n",
      "12                 504.5\n",
      "13                 506.5\n",
      "14                 523.0\n",
      "15                 567.6\n",
      "16                 611.0\n",
      "17                 636.6\n"
     ]
    }
   ],
   "source": [
    "hdf = pd.read_hdf('hdfstore.h5', 'd1') # d1 is the table to load\n",
    "print(hdf)"
   ]
  },
  {
   "cell_type": "markdown",
   "metadata": {},
   "source": [
    "## ```read_json``` and ```to_json```"
   ]
  },
  {
   "cell_type": "code",
   "execution_count": 24,
   "metadata": {
    "collapsed": false
   },
   "outputs": [
    {
     "name": "stdout",
     "output_type": "stream",
     "text": [
      "      Violent_Crime_Rate\n",
      "Date                    \n",
      "Date  Violent Crime Rate\n",
      "0                  367.9\n",
      "1                  387.8\n",
      "2                  387.1\n",
      "3                  404.5\n"
     ]
    }
   ],
   "source": [
    "df = pd.read_hdf('hdfstore.h5', 'd1')\n",
    "print(df.head())"
   ]
  },
  {
   "cell_type": "code",
   "execution_count": 25,
   "metadata": {
    "collapsed": true
   },
   "outputs": [],
   "source": [
    "df.to_json('exampleJSON')"
   ]
  },
  {
   "cell_type": "code",
   "execution_count": 26,
   "metadata": {
    "collapsed": false
   },
   "outputs": [
    {
     "name": "stdout",
     "output_type": "stream",
     "text": [
      "   Violent_Crime_Rate\n",
      "0               367.9\n",
      "1               387.8\n",
      "10              475.8\n",
      "11              494.4\n",
      "12              504.5\n"
     ]
    }
   ],
   "source": [
    "df = pd.read_json('exampleJSON')\n",
    "print(df.head())"
   ]
  },
  {
   "cell_type": "code",
   "execution_count": 30,
   "metadata": {
    "collapsed": false
   },
   "outputs": [],
   "source": [
    "import urllib"
   ]
  },
  {
   "cell_type": "code",
   "execution_count": 40,
   "metadata": {
    "collapsed": false
   },
   "outputs": [],
   "source": [
    "depth_json = urllib.urlopen('https://btc-e.com/api/3/depth/btc_usd')"
   ]
  },
  {
   "cell_type": "code",
   "execution_count": 41,
   "metadata": {
    "collapsed": false
   },
   "outputs": [
    {
     "name": "stdout",
     "output_type": "stream",
     "text": [
      "<addinfourl at 210964936L whose fp = <socket._fileobject object at 0x000000000C6DEF48>>\n"
     ]
    }
   ],
   "source": [
    "depth_df = pd.read_json(depth_json)\n",
    "print(depth_json)"
   ]
  },
  {
   "cell_type": "code",
   "execution_count": 42,
   "metadata": {
    "collapsed": false
   },
   "outputs": [
    {
     "name": "stdout",
     "output_type": "stream",
     "text": [
      "                                                btc_usd\n",
      "asks  [[432.141, 0.011038], [432.237, 0.0396626], [4...\n",
      "bids  [[431.947, 0.1903374], [431.946, 0.011045], [4...\n"
     ]
    }
   ],
   "source": [
    "print(depth_df)"
   ]
  },
  {
   "cell_type": "markdown",
   "metadata": {},
   "source": [
    "## ```read_pickle``` and ```to_pickle```"
   ]
  },
  {
   "cell_type": "markdown",
   "metadata": {},
   "source": [
    "This is serialization in Python. Can be used to save any object in Python."
   ]
  },
  {
   "cell_type": "code",
   "execution_count": 43,
   "metadata": {
    "collapsed": true
   },
   "outputs": [],
   "source": [
    "depth_df.to_pickle('pickle')"
   ]
  },
  {
   "cell_type": "code",
   "execution_count": 44,
   "metadata": {
    "collapsed": true
   },
   "outputs": [],
   "source": [
    "newdf = pd.read_pickle('pickle')"
   ]
  },
  {
   "cell_type": "code",
   "execution_count": 45,
   "metadata": {
    "collapsed": false
   },
   "outputs": [
    {
     "name": "stdout",
     "output_type": "stream",
     "text": [
      "                                                btc_usd\n",
      "asks  [[432.141, 0.011038], [432.237, 0.0396626], [4...\n",
      "bids  [[431.947, 0.1903374], [431.946, 0.011045], [4...\n"
     ]
    }
   ],
   "source": [
    "print(newdf)"
   ]
  },
  {
   "cell_type": "markdown",
   "metadata": {},
   "source": [
    "Pickling can be done without pandas."
   ]
  },
  {
   "cell_type": "code",
   "execution_count": 46,
   "metadata": {
    "collapsed": true
   },
   "outputs": [],
   "source": [
    "import pickle"
   ]
  },
  {
   "cell_type": "code",
   "execution_count": 47,
   "metadata": {
    "collapsed": true
   },
   "outputs": [],
   "source": [
    "pickle_out = open('newdf.pickle', 'wb') #create a new pickle file\n",
    "pickle.dump(newdf, pickle_out) #dump ANY object in Python to pickle file!!!!\n",
    "pickle_out.close()"
   ]
  },
  {
   "cell_type": "code",
   "execution_count": 48,
   "metadata": {
    "collapsed": true
   },
   "outputs": [],
   "source": [
    "pickle_in = open('newdf.pickle', 'rb')\n",
    "super_cool = pickle.load(pickle_in)"
   ]
  },
  {
   "cell_type": "code",
   "execution_count": 49,
   "metadata": {
    "collapsed": false
   },
   "outputs": [
    {
     "name": "stdout",
     "output_type": "stream",
     "text": [
      "                                                btc_usd\n",
      "asks  [[432.141, 0.011038], [432.237, 0.0396626], [4...\n",
      "bids  [[431.947, 0.1903374], [431.946, 0.011045], [4...\n",
      "                                                btc_usd\n",
      "asks  [[432.141, 0.011038], [432.237, 0.0396626], [4...\n",
      "bids  [[431.947, 0.1903374], [431.946, 0.011045], [4...\n"
     ]
    }
   ],
   "source": [
    "print(super_cool)\n",
    "print(super_cool.head())"
   ]
  }
 ],
 "metadata": {
  "kernelspec": {
   "display_name": "Python 2",
   "language": "python",
   "name": "python2"
  },
  "language_info": {
   "codemirror_mode": {
    "name": "ipython",
    "version": 2
   },
   "file_extension": ".py",
   "mimetype": "text/x-python",
   "name": "python",
   "nbconvert_exporter": "python",
   "pygments_lexer": "ipython2",
   "version": "2.7.11"
  }
 },
 "nbformat": 4,
 "nbformat_minor": 0
}
