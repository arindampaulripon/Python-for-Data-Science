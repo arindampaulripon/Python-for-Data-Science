{
 "cells": [
  {
   "cell_type": "markdown",
   "metadata": {},
   "source": [
    "# Trees and Forests"
   ]
  },
  {
   "cell_type": "code",
   "execution_count": 1,
   "metadata": {
    "collapsed": true
   },
   "outputs": [],
   "source": [
    "%matplotlib inline\n",
    "import numpy as np\n",
    "import matplotlib.pyplot as plt"
   ]
  },
  {
   "cell_type": "markdown",
   "metadata": {},
   "source": [
    "# Decision Tree Classification"
   ]
  },
  {
   "cell_type": "code",
   "execution_count": 2,
   "metadata": {
    "collapsed": true
   },
   "outputs": [],
   "source": [
    "import numpy as np\n",
    "import matplotlib.pyplot as plt\n",
    "\n",
    "from sklearn.datasets import make_blobs\n",
    "from sklearn.tree import DecisionTreeClassifier\n",
    "\n",
    "from sklearn.externals.six import StringIO  # doctest: +SKIP\n",
    "from sklearn.tree import export_graphviz\n",
    "from scipy.misc import imread\n",
    "from scipy import ndimage\n",
    "import os\n",
    "\n",
    "GRAPHVIS_PATH = r\"C:\\Program Files (x86)\\Graphviz2.38\\bin\"\n",
    "if GRAPHVIS_PATH not in os.environ['PATH']:\n",
    "    os.environ['PATH'] += \";\" + GRAPHVIS_PATH\n",
    "\n",
    "import re\n",
    "\n",
    "X, y = make_blobs(centers=[[0, 0], [1, 1]], random_state=61526, n_samples=50)\n",
    "\n",
    "\n",
    "def tree_image(tree, fout=None):\n",
    "    try:\n",
    "        import pydot\n",
    "    except ImportError:\n",
    "        # make a hacky white plot\n",
    "        x = np.ones((10, 10))\n",
    "        x[0, 0] = 0\n",
    "        return x\n",
    "    dot_data = StringIO()\n",
    "    export_graphviz(tree, out_file=dot_data)\n",
    "    data = re.sub(r\"gini = 0\\.[0-9]+\\\\n\", \"\", dot_data.getvalue())\n",
    "    data = re.sub(r\"samples = [0-9]+\\\\n\", \"\", data)\n",
    "    data = re.sub(r\"\\\\nsamples = [0-9]+\", \"\", data)\n",
    "\n",
    "    graph = pydot.graph_from_dot_data(data)\n",
    "    if fout is None:\n",
    "        fout = \"tmp.png\"\n",
    "    graph.write_png(fout)\n",
    "    return imread(fout)\n",
    "\n",
    "\n",
    "def plot_tree(max_depth=1):\n",
    "    fig, ax = plt.subplots(1, 2, figsize=(15, 7))\n",
    "    h = 0.02\n",
    "\n",
    "    x_min, x_max = X[:, 0].min() - .5, X[:, 0].max() + .5\n",
    "    y_min, y_max = X[:, 1].min() - .5, X[:, 1].max() + .5\n",
    "    xx, yy = np.meshgrid(np.arange(x_min, x_max, h), np.arange(y_min, y_max, h))\n",
    "\n",
    "    if max_depth != 0:\n",
    "        tree = DecisionTreeClassifier(max_depth=max_depth, random_state=1).fit(X, y)\n",
    "        Z = tree.predict_proba(np.c_[xx.ravel(), yy.ravel()])[:, 1]\n",
    "        Z = Z.reshape(xx.shape)\n",
    "        faces = tree.tree_.apply(np.c_[xx.ravel(), yy.ravel()].astype(np.float32))\n",
    "        faces = faces.reshape(xx.shape)\n",
    "        border = ndimage.laplace(faces) != 0\n",
    "        ax[0].contourf(xx, yy, Z, alpha=.4)\n",
    "        ax[0].scatter(xx[border], yy[border], marker='.', s=1)\n",
    "        ax[0].set_title(\"max_depth = %d\" % max_depth)\n",
    "        ax[1].imshow(tree_image(tree))\n",
    "        ax[1].axis(\"off\")\n",
    "    else:\n",
    "        ax[0].set_title(\"data set\")\n",
    "        ax[1].set_visible(False)\n",
    "    ax[0].scatter(X[:, 0], X[:, 1], c=np.array(['b', 'r'])[y], s=60)\n",
    "    ax[0].set_xlim(x_min, x_max)\n",
    "    ax[0].set_ylim(y_min, y_max)\n",
    "    ax[0].set_xticks(())\n",
    "    ax[0].set_yticks(())\n",
    "\n",
    "\n",
    "def plot_tree_interactive():\n",
    "    from IPython.html.widgets import interactive, IntSlider\n",
    "    slider = IntSlider(min=0, max=8, step=1, value=0)\n",
    "    return interactive(plot_tree, max_depth=slider)"
   ]
  },
  {
   "cell_type": "code",
   "execution_count": 3,
   "metadata": {
    "collapsed": false
   },
   "outputs": [
    {
     "data": {
      "image/png": "[encoded data removed]",
      "text/plain": [
       "<matplotlib.figure.Figure at 0x91f5cf8>"
      ]
     },
     "metadata": {},
     "output_type": "display_data"
    }
   ],
   "source": [
    "plot_tree_interactive()"
   ]
  },
  {
   "cell_type": "markdown",
   "metadata": {},
   "source": [
    "# Random Forests (ensemble Decision Trees)"
   ]
  },
  {
   "cell_type": "code",
   "execution_count": 4,
   "metadata": {
    "collapsed": true
   },
   "outputs": [],
   "source": [
    "import numpy as np\n",
    "import matplotlib.pyplot as plt\n",
    "\n",
    "from sklearn.datasets import make_blobs\n",
    "from sklearn.ensemble import RandomForestClassifier\n",
    "\n",
    "\n",
    "X, y = make_blobs(centers=[[0, 0], [1, 1]], random_state=61526, n_samples=50)\n",
    "\n",
    "\n",
    "def plot_forest(max_depth=1):\n",
    "    plt.figure()\n",
    "    ax = plt.gca()\n",
    "    h = 0.02\n",
    "\n",
    "    x_min, x_max = X[:, 0].min() - .5, X[:, 0].max() + .5\n",
    "    y_min, y_max = X[:, 1].min() - .5, X[:, 1].max() + .5\n",
    "    xx, yy = np.meshgrid(np.arange(x_min, x_max, h), np.arange(y_min, y_max, h))\n",
    "\n",
    "    if max_depth != 0:\n",
    "        forest = RandomForestClassifier(n_estimators=20, max_depth=max_depth,\n",
    "                                        random_state=1).fit(X, y)\n",
    "        Z = forest.predict_proba(np.c_[xx.ravel(), yy.ravel()])[:, 1]\n",
    "        Z = Z.reshape(xx.shape)\n",
    "        ax.contourf(xx, yy, Z, alpha=.4)\n",
    "        ax.set_title(\"max_depth = %d\" % max_depth)\n",
    "    else:\n",
    "        ax.set_title(\"data set\")\n",
    "    ax.scatter(X[:, 0], X[:, 1], c=np.array(['b', 'r'])[y], s=60)\n",
    "    ax.set_xlim(x_min, x_max)\n",
    "    ax.set_ylim(y_min, y_max)\n",
    "    ax.set_xticks(())\n",
    "    ax.set_yticks(())\n",
    "\n",
    "\n",
    "def plot_forest_interactive():\n",
    "    from IPython.html.widgets import interactive, IntSlider\n",
    "    slider = IntSlider(min=0, max=8, step=1, value=0)\n",
    "    return interactive(plot_forest, max_depth=slider)"
   ]
  },
  {
   "cell_type": "code",
   "execution_count": 5,
   "metadata": {
    "collapsed": false
   },
   "outputs": [
    {
     "data": {
      "image/png": "[encoded data removed]",
      "text/plain": [
       "<matplotlib.figure.Figure at 0xba5a4a8>"
      ]
     },
     "metadata": {},
     "output_type": "display_data"
    }
   ],
   "source": [
    "plot_forest_interactive()"
   ]
  },
  {
   "cell_type": "markdown",
   "metadata": {},
   "source": [
    "# Selecting the Optimal Estimator via Cross-Validation"
   ]
  },
  {
   "cell_type": "code",
   "execution_count": 7,
   "metadata": {
    "collapsed": false
   },
   "outputs": [
    {
     "data": {
      "text/plain": [
       "GridSearchCV(cv=None, error_score='raise',\n",
       "       estimator=RandomForestClassifier(bootstrap=True, class_weight=None, criterion='gini',\n",
       "            max_depth=None, max_features='auto', max_leaf_nodes=None,\n",
       "            min_samples_leaf=1, min_samples_split=2,\n",
       "            min_weight_fraction_leaf=0.0, n_estimators=200, n_jobs=-1,\n",
       "            oob_score=False, random_state=None, verbose=0,\n",
       "            warm_start=False),\n",
       "       fit_params={}, iid=True, n_jobs=1,\n",
       "       param_grid={'max_features': ['sqrt', 'log2'], 'max_depth': [5, 7, 9]},\n",
       "       pre_dispatch='2*n_jobs', refit=True, scoring=None, verbose=0)"
      ]
     },
     "execution_count": 7,
     "metadata": {},
     "output_type": "execute_result"
    }
   ],
   "source": [
    "from sklearn import grid_search\n",
    "from sklearn.datasets import load_digits\n",
    "from sklearn.cross_validation import train_test_split\n",
    "from sklearn.ensemble import RandomForestClassifier\n",
    "\n",
    "digits = load_digits()\n",
    "X, y = digits.data, digits.target\n",
    "\n",
    "X_train, X_test, y_train, y_test = train_test_split(X, y, random_state=42)\n",
    "\n",
    "rf = RandomForestClassifier(n_estimators=200, n_jobs=-1)\n",
    "parameters = {'max_features':['sqrt', 'log2'],\n",
    "              'max_depth':[5, 7, 9]}\n",
    "\n",
    "clf_grid = grid_search.GridSearchCV(rf, parameters)\n",
    "clf_grid.fit(X_train, y_train)"
   ]
  },
  {
   "cell_type": "code",
   "execution_count": 8,
   "metadata": {
    "collapsed": false
   },
   "outputs": [
    {
     "data": {
      "text/plain": [
       "1.0"
      ]
     },
     "execution_count": 8,
     "metadata": {},
     "output_type": "execute_result"
    }
   ],
   "source": [
    "clf_grid.score(X_train, y_train)"
   ]
  },
  {
   "cell_type": "code",
   "execution_count": 9,
   "metadata": {
    "collapsed": false
   },
   "outputs": [
    {
     "data": {
      "text/plain": [
       "0.97555555555555551"
      ]
     },
     "execution_count": 9,
     "metadata": {},
     "output_type": "execute_result"
    }
   ],
   "source": [
    "clf_grid.score(X_test, y_test)"
   ]
  }
 ],
 "metadata": {
  "kernelspec": {
   "display_name": "Python 2",
   "language": "python",
   "name": "python2"
  },
  "language_info": {
   "codemirror_mode": {
    "name": "ipython",
    "version": 2
   },
   "file_extension": ".py",
   "mimetype": "text/x-python",
   "name": "python",
   "nbconvert_exporter": "python",
   "pygments_lexer": "ipython2",
   "version": "2.7.11"
  }
 },
 "nbformat": 4,
 "nbformat_minor": 0
}
