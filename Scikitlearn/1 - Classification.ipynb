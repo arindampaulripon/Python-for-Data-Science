{
 "cells": [
  {
   "cell_type": "markdown",
   "metadata": {},
   "source": [
    "# Classification"
   ]
  },
  {
   "cell_type": "code",
   "execution_count": 1,
   "metadata": {
    "collapsed": true
   },
   "outputs": [],
   "source": [
    "import matplotlib.pyplot as plt\n",
    "import numpy as np\n",
    "%matplotlib inline"
   ]
  },
  {
   "cell_type": "markdown",
   "metadata": {},
   "source": [
    "Get some data"
   ]
  },
  {
   "cell_type": "code",
   "execution_count": 2,
   "metadata": {
    "collapsed": false
   },
   "outputs": [
    {
     "data": {
      "text/plain": [
       "['images', 'data', 'target_names', 'DESCR', 'target']"
      ]
     },
     "execution_count": 2,
     "metadata": {},
     "output_type": "execute_result"
    }
   ],
   "source": [
    "from sklearn.datasets import load_digits\n",
    "digits = load_digits()\n",
    "digits.keys()"
   ]
  },
  {
   "cell_type": "code",
   "execution_count": 5,
   "metadata": {
    "collapsed": false
   },
   "outputs": [
    {
     "data": {
      "text/plain": [
       "(1797L, 8L, 8L)"
      ]
     },
     "execution_count": 5,
     "metadata": {},
     "output_type": "execute_result"
    }
   ],
   "source": [
    "digits.images.shape"
   ]
  },
  {
   "cell_type": "code",
   "execution_count": 6,
   "metadata": {
    "collapsed": false
   },
   "outputs": [
    {
     "data": {
      "text/plain": [
       "array([[  0.,   0.,   5.,  13.,   9.,   1.,   0.,   0.],\n",
       "       [  0.,   0.,  13.,  15.,  10.,  15.,   5.,   0.],\n",
       "       [  0.,   3.,  15.,   2.,   0.,  11.,   8.,   0.],\n",
       "       [  0.,   4.,  12.,   0.,   0.,   8.,   8.,   0.],\n",
       "       [  0.,   5.,   8.,   0.,   0.,   9.,   8.,   0.],\n",
       "       [  0.,   4.,  11.,   0.,   1.,  12.,   7.,   0.],\n",
       "       [  0.,   2.,  14.,   5.,  10.,  12.,   0.,   0.],\n",
       "       [  0.,   0.,   6.,  13.,  10.,   0.,   0.,   0.]])"
      ]
     },
     "execution_count": 6,
     "metadata": {},
     "output_type": "execute_result"
    }
   ],
   "source": [
    "digits.images[0]"
   ]
  },
  {
   "cell_type": "code",
   "execution_count": 8,
   "metadata": {
    "collapsed": false
   },
   "outputs": [
    {
     "data": {
      "text/plain": [
       "<matplotlib.image.AxesImage at 0x87760f0>"
      ]
     },
     "execution_count": 8,
     "metadata": {},
     "output_type": "execute_result"
    },
    {
     "data": {
      "image/png": "[encoded data removed]",
      "text/plain": [
       "<matplotlib.figure.Figure at 0x8728cc0>"
      ]
     },
     "metadata": {},
     "output_type": "display_data"
    }
   ],
   "source": [
    "plt.matshow(digits.images[0], cmap = plt.cm.Greys)"
   ]
  },
  {
   "cell_type": "code",
   "execution_count": 9,
   "metadata": {
    "collapsed": false
   },
   "outputs": [
    {
     "data": {
      "text/plain": [
       "(1797L, 64L)"
      ]
     },
     "execution_count": 9,
     "metadata": {},
     "output_type": "execute_result"
    }
   ],
   "source": [
    "digits.data.shape"
   ]
  },
  {
   "cell_type": "code",
   "execution_count": 10,
   "metadata": {
    "collapsed": false
   },
   "outputs": [
    {
     "data": {
      "text/plain": [
       "(1797L,)"
      ]
     },
     "execution_count": 10,
     "metadata": {},
     "output_type": "execute_result"
    }
   ],
   "source": [
    "digits.target.shape"
   ]
  },
  {
   "cell_type": "code",
   "execution_count": 11,
   "metadata": {
    "collapsed": false
   },
   "outputs": [
    {
     "data": {
      "text/plain": [
       "(1797L,)"
      ]
     },
     "execution_count": 11,
     "metadata": {},
     "output_type": "execute_result"
    }
   ],
   "source": [
    "digits.target.shape"
   ]
  },
  {
   "cell_type": "code",
   "execution_count": 12,
   "metadata": {
    "collapsed": false
   },
   "outputs": [
    {
     "data": {
      "text/plain": [
       "array([0, 1, 2, ..., 8, 9, 8])"
      ]
     },
     "execution_count": 12,
     "metadata": {},
     "output_type": "execute_result"
    }
   ],
   "source": [
    "digits.target"
   ]
  },
  {
   "cell_type": "markdown",
   "metadata": {},
   "source": [
    "**Data is always a numpy array (or sparse matrix) of shape (n_samples, n_features)\n",
    "\n",
    "Split the data to get going"
   ]
  },
  {
   "cell_type": "code",
   "execution_count": 15,
   "metadata": {
    "collapsed": true
   },
   "outputs": [],
   "source": [
    "from sklearn.cross_validation import train_test_split\n",
    "X_train, X_test, y_train, y_test = train_test_split(digits.data, digits.target)"
   ]
  },
  {
   "cell_type": "markdown",
   "metadata": {},
   "source": [
    "## Really Simple API"
   ]
  },
  {
   "cell_type": "markdown",
   "metadata": {},
   "source": [
    "0) Import your model class"
   ]
  },
  {
   "cell_type": "code",
   "execution_count": 16,
   "metadata": {
    "collapsed": true
   },
   "outputs": [],
   "source": [
    "from sklearn.svm import LinearSVC"
   ]
  },
  {
   "cell_type": "markdown",
   "metadata": {},
   "source": [
    "1) Instantiate an object and set the parameters"
   ]
  },
  {
   "cell_type": "code",
   "execution_count": 17,
   "metadata": {
    "collapsed": false
   },
   "outputs": [],
   "source": [
    "svm = LinearSVC(C = 0.1)"
   ]
  },
  {
   "cell_type": "markdown",
   "metadata": {},
   "source": [
    "2) Fit the model"
   ]
  },
  {
   "cell_type": "code",
   "execution_count": 18,
   "metadata": {
    "collapsed": false
   },
   "outputs": [
    {
     "data": {
      "text/plain": [
       "LinearSVC(C=0.1, class_weight=None, dual=True, fit_intercept=True,\n",
       "     intercept_scaling=1, loss='squared_hinge', max_iter=1000,\n",
       "     multi_class='ovr', penalty='l2', random_state=None, tol=0.0001,\n",
       "     verbose=0)"
      ]
     },
     "execution_count": 18,
     "metadata": {},
     "output_type": "execute_result"
    }
   ],
   "source": [
    "svm.fit(X_train, y_train)"
   ]
  },
  {
   "cell_type": "markdown",
   "metadata": {},
   "source": [
    "3) Apply/evaluate"
   ]
  },
  {
   "cell_type": "code",
   "execution_count": 19,
   "metadata": {
    "collapsed": false
   },
   "outputs": [
    {
     "name": "stdout",
     "output_type": "stream",
     "text": [
      "[1 6 6 ..., 5 9 3]\n",
      "[1 6 6 ..., 5 9 3]\n"
     ]
    }
   ],
   "source": [
    "print(svm.predict(X_train))\n",
    "print(y_train)"
   ]
  },
  {
   "cell_type": "code",
   "execution_count": 20,
   "metadata": {
    "collapsed": false
   },
   "outputs": [
    {
     "data": {
      "text/plain": [
       "0.99777282850779514"
      ]
     },
     "execution_count": 20,
     "metadata": {},
     "output_type": "execute_result"
    }
   ],
   "source": [
    "svm.score(X_train, y_train)"
   ]
  },
  {
   "cell_type": "code",
   "execution_count": 21,
   "metadata": {
    "collapsed": false
   },
   "outputs": [
    {
     "data": {
      "text/plain": [
       "0.93999999999999995"
      ]
     },
     "execution_count": 21,
     "metadata": {},
     "output_type": "execute_result"
    }
   ],
   "source": [
    "svm.score(X_test, y_test)"
   ]
  },
  {
   "cell_type": "markdown",
   "metadata": {},
   "source": [
    "## Do the same using a Random Forest Classifier"
   ]
  },
  {
   "cell_type": "code",
   "execution_count": 22,
   "metadata": {
    "collapsed": true
   },
   "outputs": [],
   "source": [
    "from sklearn.ensemble import RandomForestClassifier"
   ]
  },
  {
   "cell_type": "code",
   "execution_count": 23,
   "metadata": {
    "collapsed": true
   },
   "outputs": [],
   "source": [
    "rf = RandomForestClassifier(n_estimators = 50, random_state=1234 )"
   ]
  },
  {
   "cell_type": "code",
   "execution_count": 24,
   "metadata": {
    "collapsed": false
   },
   "outputs": [
    {
     "data": {
      "text/plain": [
       "RandomForestClassifier(bootstrap=True, class_weight=None, criterion='gini',\n",
       "            max_depth=None, max_features='auto', max_leaf_nodes=None,\n",
       "            min_samples_leaf=1, min_samples_split=2,\n",
       "            min_weight_fraction_leaf=0.0, n_estimators=50, n_jobs=1,\n",
       "            oob_score=False, random_state=1234, verbose=0,\n",
       "            warm_start=False)"
      ]
     },
     "execution_count": 24,
     "metadata": {},
     "output_type": "execute_result"
    }
   ],
   "source": [
    "rf.fit(X_train, y_train)"
   ]
  },
  {
   "cell_type": "code",
   "execution_count": 25,
   "metadata": {
    "collapsed": false
   },
   "outputs": [
    {
     "name": "stdout",
     "output_type": "stream",
     "text": [
      "[8 8 0 7 9 5 5 7 0 1 0 2 8 5 5 8 2 9 8 2 9 2 6 2 6 7 1 7 0 7 9 5 3 5 0 3 0\n",
      " 0 8 0 1 4 6 9 3 5 0 6 4 7 7 2 0 3 5 5 8 6 6 2 3 5 9 5 7 1 1 8 4 2 0 2 3 6\n",
      " 4 0 4 5 6 2 0 3 6 6 5 6 5 5 5 8 6 0 3 4 4 2 5 7 7 2 1 8 8 3 4 3 9 4 8 9 8\n",
      " 8 3 4 9 2 3 9 5 9 9 7 7 9 2 8 0 6 8 9 3 0 3 0 1 7 1 7 8 7 1 0 0 7 4 4 8 1\n",
      " 4 9 9 4 3 1 3 2 1 2 2 7 4 2 7 1 6 0 2 7 0 7 3 1 4 6 0 0 3 7 7 9 3 0 6 6 7\n",
      " 6 0 1 8 6 9 8 3 4 3 2 0 4 8 6 1 2 0 7 6 3 4 4 7 6 8 0 1 4 1 9 6 2 6 2 2 8\n",
      " 6 7 6 9 6 3 3 0 7 6 7 8 0 9 7 1 7 4 7 4 9 8 9 0 4 1 5 1 3 8 8 7 4 4 7 1 3\n",
      " 4 1 1 6 3 5 6 9 7 3 2 5 1 3 2 9 5 4 0 7 0 5 0 4 2 4 9 6 9 2 1 7 8 2 2 8 9\n",
      " 0 2 2 6 9 0 0 3 5 5 2 3 3 4 2 0 0 9 9 2 0 7 4 7 8 3 7 6 1 3 4 3 9 9 6 1 9\n",
      " 4 3 3 8 1 5 5 4 7 9 1 3 1 4 9 4 4 3 9 1 5 1 9 8 7 1 2 6 7 8 6 9 5 3 3 5 6\n",
      " 8 0 6 8 1 1 2 0 6 9 3 1 3 1 9 1 0 6 9 7 9 7 3 3 9 7 7 4 5 5 9 1 3 3 4 0 4\n",
      " 1 4 6 4 4 0 5 0 9 5 7 7 2 1 3 0 6 5 6 4 7 2 5 7 2 4 9 2 1 1 6 7 1 6 4 2 0\n",
      " 5 1 4 4 4 6]\n",
      "[8 8 0 3 9 5 5 4 0 1 0 2 8 5 5 8 2 9 8 2 9 2 6 2 6 7 1 7 0 7 9 5 3 5 0 3 0\n",
      " 0 8 0 1 4 6 9 3 5 0 6 4 7 7 2 0 3 5 3 8 6 6 2 3 5 9 5 7 1 1 9 4 2 0 2 3 6\n",
      " 4 0 4 5 6 2 0 3 6 6 5 6 5 5 5 8 6 0 3 4 4 2 5 7 7 2 1 8 8 3 4 3 9 4 8 9 8\n",
      " 9 3 4 9 2 3 9 5 9 9 7 7 9 2 8 0 6 8 9 3 0 3 0 1 7 1 7 8 7 1 0 0 7 4 4 8 1\n",
      " 4 9 9 4 3 1 3 2 1 2 2 7 4 2 7 1 6 0 2 7 0 7 3 1 4 6 0 0 3 7 7 9 3 0 6 6 7\n",
      " 6 0 1 8 6 3 8 3 4 3 2 0 4 8 6 1 2 0 7 6 3 5 4 7 6 8 0 1 4 1 9 6 2 6 2 2 8\n",
      " 6 7 6 9 6 3 3 0 7 6 7 8 0 9 7 1 7 4 7 0 9 8 9 0 4 1 5 1 3 8 8 7 4 4 7 1 3\n",
      " 4 1 1 6 3 5 6 8 7 3 2 5 1 3 2 9 5 4 0 7 0 5 0 4 2 4 9 6 9 2 1 7 8 2 2 8 9\n",
      " 0 2 2 6 9 0 0 3 5 5 2 3 3 4 2 0 0 9 9 2 0 7 4 7 8 3 7 6 1 3 4 3 9 9 6 1 9\n",
      " 4 3 3 8 1 5 5 4 7 9 1 3 8 4 9 4 4 3 9 1 5 6 4 8 7 1 2 6 7 8 6 9 6 3 3 5 6\n",
      " 8 0 6 8 1 1 2 0 6 9 3 1 3 9 9 1 0 6 9 7 9 7 3 3 9 7 7 4 5 5 9 1 3 3 4 0 4\n",
      " 1 4 6 4 4 0 5 0 9 9 7 7 2 3 3 0 6 5 6 4 8 2 5 7 2 4 9 2 1 1 6 7 1 6 4 2 0\n",
      " 5 1 4 4 4 6]\n"
     ]
    }
   ],
   "source": [
    "print(rf.predict(X_test))\n",
    "print(y_test)"
   ]
  },
  {
   "cell_type": "code",
   "execution_count": 26,
   "metadata": {
    "collapsed": false
   },
   "outputs": [
    {
     "data": {
      "text/plain": [
       "0.9622222222222222"
      ]
     },
     "execution_count": 26,
     "metadata": {},
     "output_type": "execute_result"
    }
   ],
   "source": [
    "rf.score(X_test, y_test)"
   ]
  },
  {
   "cell_type": "markdown",
   "metadata": {},
   "source": [
    "# Classifier Comparisons\n",
    "![Scikit Learn Classifier Comparisons](http://scikit-learn.org/stable/_images/plot_classifier_comparison_001.png)"
   ]
  },
  {
   "cell_type": "markdown",
   "metadata": {},
   "source": [
    "# Labels can be anything"
   ]
  },
  {
   "cell_type": "code",
   "execution_count": 27,
   "metadata": {
    "collapsed": true
   },
   "outputs": [],
   "source": [
    "numbers = np.array([\"zero\", \"one\", \"two\", \"three\", \"four\", \"five\", \"six\", \"seven\", \"eight\", \"nine\"])"
   ]
  },
  {
   "cell_type": "code",
   "execution_count": 28,
   "metadata": {
    "collapsed": false
   },
   "outputs": [
    {
     "data": {
      "text/plain": [
       "LinearSVC(C=0.1, class_weight=None, dual=True, fit_intercept=True,\n",
       "     intercept_scaling=1, loss='squared_hinge', max_iter=1000,\n",
       "     multi_class='ovr', penalty='l2', random_state=None, tol=0.0001,\n",
       "     verbose=0)"
      ]
     },
     "execution_count": 28,
     "metadata": {},
     "output_type": "execute_result"
    }
   ],
   "source": [
    "y_train_string = numbers[y_train]\n",
    "svm.fit(X_train, y_train_string)"
   ]
  },
  {
   "cell_type": "code",
   "execution_count": 29,
   "metadata": {
    "collapsed": false
   },
   "outputs": [
    {
     "data": {
      "text/plain": [
       "array(['eight', 'eight', 'zero', 'eight', 'nine', 'five', 'five', 'one',\n",
       "       'zero', 'one', 'zero', 'two', 'eight', 'five', 'five', 'eight',\n",
       "       'two', 'nine', 'eight', 'two', 'nine', 'two', 'six', 'two', 'six',\n",
       "       'seven', 'one', 'seven', 'zero', 'seven', 'nine', 'five', 'three',\n",
       "       'five', 'zero', 'three', 'zero', 'zero', 'eight', 'zero', 'one',\n",
       "       'four', 'six', 'one', 'three', 'five', 'zero', 'six', 'four',\n",
       "       'seven', 'seven', 'two', 'zero', 'three', 'five', 'five', 'eight',\n",
       "       'six', 'six', 'two', 'three', 'five', 'zero', 'five', 'seven',\n",
       "       'one', 'one', 'nine', 'four', 'two', 'zero', 'two', 'three', 'six',\n",
       "       'four', 'zero', 'four', 'five', 'six', 'two', 'zero', 'three',\n",
       "       'six', 'six', 'five', 'six', 'five', 'five', 'five', 'eight', 'six',\n",
       "       'zero', 'three', 'four', 'four', 'two', 'five', 'seven', 'seven',\n",
       "       'two', 'one', 'eight', 'eight', 'three', 'four', 'three', 'nine',\n",
       "       'four', 'eight', 'three', 'eight', 'nine', 'three', 'four', 'nine',\n",
       "       'two', 'three', 'nine', 'five', 'nine', 'nine', 'nine', 'seven',\n",
       "       'seven', 'two', 'eight', 'zero', 'six', 'eight', 'nine', 'three',\n",
       "       'zero', 'three', 'zero', 'one', 'seven', 'one', 'seven', 'eight',\n",
       "       'seven', 'five', 'zero', 'zero', 'seven', 'four', 'four', 'eight',\n",
       "       'one', 'four', 'nine', 'three', 'four', 'three', 'one', 'three',\n",
       "       'two', 'one', 'two', 'two', 'seven', 'four', 'two', 'seven', 'one',\n",
       "       'six', 'zero', 'two', 'seven', 'zero', 'seven', 'three', 'one',\n",
       "       'four', 'six', 'zero', 'zero', 'three', 'seven', 'seven', 'nine',\n",
       "       'three', 'zero', 'six', 'six', 'seven', 'six', 'zero', 'one',\n",
       "       'eight', 'six', 'three', 'one', 'three', 'four', 'three', 'two',\n",
       "       'zero', 'four', 'eight', 'six', 'one', 'two', 'zero', 'seven',\n",
       "       'six', 'three', 'seven', 'four', 'seven', 'six', 'eight', 'zero',\n",
       "       'one', 'four', 'one', 'nine', 'six', 'two', 'six', 'two', 'two',\n",
       "       'eight', 'six', 'seven', 'six', 'nine', 'six', 'three', 'three',\n",
       "       'zero', 'seven', 'six', 'seven', 'eight', 'zero', 'nine', 'seven',\n",
       "       'one', 'seven', 'four', 'seven', 'zero', 'nine', 'eight', 'nine',\n",
       "       'zero', 'four', 'one', 'five', 'one', 'three', 'eight', 'eight',\n",
       "       'seven', 'four', 'four', 'one', 'one', 'three', 'four', 'one',\n",
       "       'one', 'six', 'three', 'one', 'six', 'one', 'seven', 'three', 'two',\n",
       "       'five', 'one', 'three', 'two', 'nine', 'five', 'four', 'zero',\n",
       "       'seven', 'zero', 'five', 'zero', 'four', 'two', 'four', 'nine',\n",
       "       'six', 'nine', 'two', 'one', 'seven', 'eight', 'two', 'two',\n",
       "       'eight', 'nine', 'zero', 'two', 'two', 'six', 'eight', 'zero',\n",
       "       'zero', 'three', 'five', 'five', 'two', 'three', 'three', 'four',\n",
       "       'two', 'zero', 'zero', 'three', 'nine', 'three', 'zero', 'seven',\n",
       "       'four', 'seven', 'eight', 'three', 'seven', 'six', 'one', 'three',\n",
       "       'four', 'three', 'seven', 'nine', 'six', 'one', 'nine', 'four',\n",
       "       'three', 'three', 'eight', 'one', 'five', 'five', 'four', 'seven',\n",
       "       'nine', 'one', 'three', 'nine', 'four', 'nine', 'four', 'four',\n",
       "       'three', 'nine', 'one', 'five', 'six', 'one', 'eight', 'nine',\n",
       "       'one', 'two', 'six', 'seven', 'three', 'six', 'nine', 'four',\n",
       "       'three', 'three', 'five', 'six', 'eight', 'zero', 'six', 'eight',\n",
       "       'one', 'one', 'two', 'zero', 'six', 'nine', 'three', 'eight',\n",
       "       'three', 'nine', 'nine', 'one', 'zero', 'six', 'nine', 'seven',\n",
       "       'one', 'seven', 'three', 'three', 'nine', 'seven', 'seven', 'four',\n",
       "       'five', 'five', 'nine', 'one', 'three', 'three', 'four', 'zero',\n",
       "       'four', 'one', 'four', 'six', 'four', 'four', 'zero', 'five',\n",
       "       'zero', 'nine', 'five', 'seven', 'seven', 'two', 'five', 'three',\n",
       "       'zero', 'six', 'five', 'six', 'four', 'eight', 'two', 'five',\n",
       "       'seven', 'two', 'four', 'nine', 'two', 'one', 'one', 'six', 'seven',\n",
       "       'one', 'six', 'four', 'two', 'zero', 'five', 'one', 'four', 'four',\n",
       "       'four', 'six'], \n",
       "      dtype='|S5')"
      ]
     },
     "execution_count": 29,
     "metadata": {},
     "output_type": "execute_result"
    }
   ],
   "source": [
    "svm.predict(X_test)"
   ]
  }
 ],
 "metadata": {
  "kernelspec": {
   "display_name": "Python 2",
   "language": "python",
   "name": "python2"
  },
  "language_info": {
   "codemirror_mode": {
    "name": "ipython",
    "version": 2
   },
   "file_extension": ".py",
   "mimetype": "text/x-python",
   "name": "python",
   "nbconvert_exporter": "python",
   "pygments_lexer": "ipython2",
   "version": "2.7.11"
  }
 },
 "nbformat": 4,
 "nbformat_minor": 0
}
