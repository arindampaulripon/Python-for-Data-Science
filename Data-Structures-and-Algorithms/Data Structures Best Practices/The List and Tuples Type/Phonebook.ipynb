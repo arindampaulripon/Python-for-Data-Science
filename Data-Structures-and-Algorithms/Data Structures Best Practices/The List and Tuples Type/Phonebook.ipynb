{
 "cells": [
  {
   "cell_type": "markdown",
   "metadata": {},
   "source": [
    "# Phonebook"
   ]
  },
  {
   "cell_type": "markdown",
   "metadata": {},
   "source": [
    "Write a set of functions to implement a personal rolodex (phone book.)\n",
    "- insert, remove\n",
    "- retreive by name\n",
    "- retrieve by details"
   ]
  },
  {
   "cell_type": "code",
   "execution_count": 1,
   "metadata": {
    "collapsed": true
   },
   "outputs": [],
   "source": [
    "phone_book = []"
   ]
  },
  {
   "cell_type": "code",
   "execution_count": 2,
   "metadata": {
    "collapsed": true
   },
   "outputs": [],
   "source": [
    "from collections import namedtuple\n",
    "Entry = namedtuple('Entry', 'name address birthday')"
   ]
  },
  {
   "cell_type": "code",
   "execution_count": 3,
   "metadata": {
    "collapsed": true
   },
   "outputs": [],
   "source": [
    "def add_entry(phone_book, name, address, birthday):\n",
    "    phone_book.append(Entry(name, address, birthday))"
   ]
  },
  {
   "cell_type": "code",
   "execution_count": 4,
   "metadata": {
    "collapsed": true
   },
   "outputs": [],
   "source": [
    "def display(phone_book):\n",
    "    for entry in phone_book:\n",
    "        print ('{e.name:<20} {e.address:^15} {e.birthday:%b %d, %Y}'.format(e=entry))"
   ]
  },
  {
   "cell_type": "code",
   "execution_count": 5,
   "metadata": {
    "collapsed": false
   },
   "outputs": [
    {
     "ename": "ValueError",
     "evalue": "year=1732 is before 1900; the datetime strftime() methods require year >= 1900",
     "output_type": "error",
     "traceback": [
      "\u001b[1;31m---------------------------------------------------------------------------\u001b[0m",
      "\u001b[1;31mValueError\u001b[0m                                Traceback (most recent call last)",
      "\u001b[1;32m<ipython-input-5-ac8448ce1ce7>\u001b[0m in \u001b[0;36m<module>\u001b[1;34m()\u001b[0m\n\u001b[0;32m      8\u001b[0m \u001b[0madd_entry\u001b[0m\u001b[1;33m(\u001b[0m\u001b[0mphone_book\u001b[0m\u001b[1;33m,\u001b[0m \u001b[1;34m'John F Kennedy'\u001b[0m\u001b[1;33m,\u001b[0m    \u001b[1;34m'Brookline'\u001b[0m\u001b[1;33m,\u001b[0m    \u001b[0mdate\u001b[0m\u001b[1;33m(\u001b[0m\u001b[1;36m1917\u001b[0m\u001b[1;33m,\u001b[0m  \u001b[1;36m5\u001b[0m\u001b[1;33m,\u001b[0m \u001b[1;36m29\u001b[0m\u001b[1;33m)\u001b[0m\u001b[1;33m)\u001b[0m\u001b[1;33m\u001b[0m\u001b[0m\n\u001b[0;32m      9\u001b[0m \u001b[1;33m\u001b[0m\u001b[0m\n\u001b[1;32m---> 10\u001b[1;33m \u001b[0mdisplay\u001b[0m\u001b[1;33m(\u001b[0m\u001b[0mphone_book\u001b[0m\u001b[1;33m)\u001b[0m\u001b[1;33m\u001b[0m\u001b[0m\n\u001b[0m",
      "\u001b[1;32m<ipython-input-4-8963e3d73a04>\u001b[0m in \u001b[0;36mdisplay\u001b[1;34m(phone_book)\u001b[0m\n\u001b[0;32m      1\u001b[0m \u001b[1;32mdef\u001b[0m \u001b[0mdisplay\u001b[0m\u001b[1;33m(\u001b[0m\u001b[0mphone_book\u001b[0m\u001b[1;33m)\u001b[0m\u001b[1;33m:\u001b[0m\u001b[1;33m\u001b[0m\u001b[0m\n\u001b[0;32m      2\u001b[0m     \u001b[1;32mfor\u001b[0m \u001b[0mentry\u001b[0m \u001b[1;32min\u001b[0m \u001b[0mphone_book\u001b[0m\u001b[1;33m:\u001b[0m\u001b[1;33m\u001b[0m\u001b[0m\n\u001b[1;32m----> 3\u001b[1;33m         \u001b[1;32mprint\u001b[0m \u001b[1;33m(\u001b[0m\u001b[1;34m'{e.name:<20} {e.address:^15} {e.birthday:%b %d, %Y}'\u001b[0m\u001b[1;33m.\u001b[0m\u001b[0mformat\u001b[0m\u001b[1;33m(\u001b[0m\u001b[0me\u001b[0m\u001b[1;33m=\u001b[0m\u001b[0mentry\u001b[0m\u001b[1;33m)\u001b[0m\u001b[1;33m)\u001b[0m\u001b[1;33m\u001b[0m\u001b[0m\n\u001b[0m",
      "\u001b[1;31mValueError\u001b[0m: year=1732 is before 1900; the datetime strftime() methods require year >= 1900"
     ]
    }
   ],
   "source": [
    "from datetime import date\n",
    "\n",
    "add_entry(phone_book, 'George Washington', 'Westmoreland', date(1732,  2, 22))\n",
    "add_entry(phone_book, 'James Monroe',      'Monroe Hall',  date(1758,  4, 28))\n",
    "add_entry(phone_book, 'John Quincy Adams', 'Braintree',    date(1767,  7, 11))\n",
    "add_entry(phone_book, 'John Adams',        'Braintree',    date(1735, 10, 30))\n",
    "add_entry(phone_book, 'John Tyler',        'Charles City', date(1790,  3, 29))\n",
    "add_entry(phone_book, 'John F Kennedy',    'Brookline',    date(1917,  5, 29))\n",
    "\n",
    "display(phone_book)"
   ]
  },
  {
   "cell_type": "code",
   "execution_count": 6,
   "metadata": {
    "collapsed": true
   },
   "outputs": [],
   "source": [
    "def remove_entry_by_name(phone_book, name):\n",
    "    to_remove = []\n",
    "    for entry in phone_book:\n",
    "        if entry.name == name:\n",
    "            to_remove.append(entry)\n",
    "            \n",
    "    for entry in to_remove:\n",
    "        phone_book.remove(entry)"
   ]
  },
  {
   "cell_type": "code",
   "execution_count": 8,
   "metadata": {
    "collapsed": false
   },
   "outputs": [
    {
     "ename": "ValueError",
     "evalue": "year=1758 is before 1900; the datetime strftime() methods require year >= 1900",
     "output_type": "error",
     "traceback": [
      "\u001b[1;31m---------------------------------------------------------------------------\u001b[0m",
      "\u001b[1;31mValueError\u001b[0m                                Traceback (most recent call last)",
      "\u001b[1;32m<ipython-input-8-dcf886d5ff65>\u001b[0m in \u001b[0;36m<module>\u001b[1;34m()\u001b[0m\n\u001b[0;32m      1\u001b[0m \u001b[0mremove_entry_by_name\u001b[0m\u001b[1;33m(\u001b[0m\u001b[0mphone_book\u001b[0m\u001b[1;33m,\u001b[0m \u001b[1;34m'George Washington'\u001b[0m\u001b[1;33m)\u001b[0m\u001b[1;33m\u001b[0m\u001b[0m\n\u001b[1;32m----> 2\u001b[1;33m \u001b[0mdisplay\u001b[0m\u001b[1;33m(\u001b[0m\u001b[0mphone_book\u001b[0m\u001b[1;33m)\u001b[0m\u001b[1;33m\u001b[0m\u001b[0m\n\u001b[0m",
      "\u001b[1;32m<ipython-input-4-8963e3d73a04>\u001b[0m in \u001b[0;36mdisplay\u001b[1;34m(phone_book)\u001b[0m\n\u001b[0;32m      1\u001b[0m \u001b[1;32mdef\u001b[0m \u001b[0mdisplay\u001b[0m\u001b[1;33m(\u001b[0m\u001b[0mphone_book\u001b[0m\u001b[1;33m)\u001b[0m\u001b[1;33m:\u001b[0m\u001b[1;33m\u001b[0m\u001b[0m\n\u001b[0;32m      2\u001b[0m     \u001b[1;32mfor\u001b[0m \u001b[0mentry\u001b[0m \u001b[1;32min\u001b[0m \u001b[0mphone_book\u001b[0m\u001b[1;33m:\u001b[0m\u001b[1;33m\u001b[0m\u001b[0m\n\u001b[1;32m----> 3\u001b[1;33m         \u001b[1;32mprint\u001b[0m \u001b[1;33m(\u001b[0m\u001b[1;34m'{e.name:<20} {e.address:^15} {e.birthday:%b %d, %Y}'\u001b[0m\u001b[1;33m.\u001b[0m\u001b[0mformat\u001b[0m\u001b[1;33m(\u001b[0m\u001b[0me\u001b[0m\u001b[1;33m=\u001b[0m\u001b[0mentry\u001b[0m\u001b[1;33m)\u001b[0m\u001b[1;33m)\u001b[0m\u001b[1;33m\u001b[0m\u001b[0m\n\u001b[0m",
      "\u001b[1;31mValueError\u001b[0m: year=1758 is before 1900; the datetime strftime() methods require year >= 1900"
     ]
    }
   ],
   "source": [
    "remove_entry_by_name(phone_book, 'George Washington')\n",
    "display(phone_book)"
   ]
  },
  {
   "cell_type": "code",
   "execution_count": 9,
   "metadata": {
    "collapsed": true
   },
   "outputs": [],
   "source": [
    "def remove_entry_by_fuzzy_name(phone_book, name):\n",
    "    to_remove = []\n",
    "    for entry in phone_book:\n",
    "        if name.lower() in entry.name.lower():\n",
    "            to_remove.append(entry)\n",
    "            \n",
    "    for entry in to_remove:\n",
    "        phone_book.remove(entry)"
   ]
  },
  {
   "cell_type": "code",
   "execution_count": 10,
   "metadata": {
    "collapsed": false
   },
   "outputs": [
    {
     "ename": "ValueError",
     "evalue": "year=1758 is before 1900; the datetime strftime() methods require year >= 1900",
     "output_type": "error",
     "traceback": [
      "\u001b[1;31m---------------------------------------------------------------------------\u001b[0m",
      "\u001b[1;31mValueError\u001b[0m                                Traceback (most recent call last)",
      "\u001b[1;32m<ipython-input-10-216d869a27c1>\u001b[0m in \u001b[0;36m<module>\u001b[1;34m()\u001b[0m\n\u001b[0;32m      1\u001b[0m \u001b[0mremove_entry_by_fuzzy_name\u001b[0m\u001b[1;33m(\u001b[0m\u001b[0mphone_book\u001b[0m\u001b[1;33m,\u001b[0m \u001b[1;34m'john'\u001b[0m\u001b[1;33m)\u001b[0m\u001b[1;33m\u001b[0m\u001b[0m\n\u001b[1;32m----> 2\u001b[1;33m \u001b[0mdisplay\u001b[0m\u001b[1;33m(\u001b[0m\u001b[0mphone_book\u001b[0m\u001b[1;33m)\u001b[0m\u001b[1;33m\u001b[0m\u001b[0m\n\u001b[0m",
      "\u001b[1;32m<ipython-input-4-8963e3d73a04>\u001b[0m in \u001b[0;36mdisplay\u001b[1;34m(phone_book)\u001b[0m\n\u001b[0;32m      1\u001b[0m \u001b[1;32mdef\u001b[0m \u001b[0mdisplay\u001b[0m\u001b[1;33m(\u001b[0m\u001b[0mphone_book\u001b[0m\u001b[1;33m)\u001b[0m\u001b[1;33m:\u001b[0m\u001b[1;33m\u001b[0m\u001b[0m\n\u001b[0;32m      2\u001b[0m     \u001b[1;32mfor\u001b[0m \u001b[0mentry\u001b[0m \u001b[1;32min\u001b[0m \u001b[0mphone_book\u001b[0m\u001b[1;33m:\u001b[0m\u001b[1;33m\u001b[0m\u001b[0m\n\u001b[1;32m----> 3\u001b[1;33m         \u001b[1;32mprint\u001b[0m \u001b[1;33m(\u001b[0m\u001b[1;34m'{e.name:<20} {e.address:^15} {e.birthday:%b %d, %Y}'\u001b[0m\u001b[1;33m.\u001b[0m\u001b[0mformat\u001b[0m\u001b[1;33m(\u001b[0m\u001b[0me\u001b[0m\u001b[1;33m=\u001b[0m\u001b[0mentry\u001b[0m\u001b[1;33m)\u001b[0m\u001b[1;33m)\u001b[0m\u001b[1;33m\u001b[0m\u001b[0m\n\u001b[0m",
      "\u001b[1;31mValueError\u001b[0m: year=1758 is before 1900; the datetime strftime() methods require year >= 1900"
     ]
    }
   ],
   "source": [
    "remove_entry_by_fuzzy_name(phone_book, 'john')\n",
    "display(phone_book)"
   ]
  },
  {
   "cell_type": "code",
   "execution_count": 11,
   "metadata": {
    "collapsed": true
   },
   "outputs": [],
   "source": [
    "def add_entry(phone_book, name, address, birthday):\n",
    "    remove_entry_by_name(phone_book, name)\n",
    "    phone_book.append(Entry(name, address, birthday))"
   ]
  },
  {
   "cell_type": "code",
   "execution_count": 12,
   "metadata": {
    "collapsed": true
   },
   "outputs": [],
   "source": [
    "def retrieve_entry_by_address(phone_book, address):\n",
    "    rv = []\n",
    "    for entry in phone_book:\n",
    "        if address.lower() in entry.address.lower():\n",
    "            rv.append(entry)\n",
    "    return rv"
   ]
  },
  {
   "cell_type": "code",
   "execution_count": 13,
   "metadata": {
    "collapsed": true
   },
   "outputs": [],
   "source": [
    "display(retrieve_entry_by_address(phone_book, 'braintree'))"
   ]
  },
  {
   "cell_type": "code",
   "execution_count": 14,
   "metadata": {
    "collapsed": true
   },
   "outputs": [],
   "source": [
    "from datetime import date\n",
    "\n",
    "def age(entry):\n",
    "    return date(2015, 1, 1) - entry.birthday"
   ]
  },
  {
   "cell_type": "code",
   "execution_count": 15,
   "metadata": {
    "collapsed": true
   },
   "outputs": [],
   "source": [
    "def retrieve_entry_by_name(phone_book, name):\n",
    "    rv = []\n",
    "    for entry in phone_book:\n",
    "        if name.lower() in entry.name.lower():\n",
    "            rv.append(entry)\n",
    "    return rv"
   ]
  },
  {
   "cell_type": "code",
   "execution_count": 16,
   "metadata": {
    "collapsed": true
   },
   "outputs": [],
   "source": [
    "display(sorted(retrieve_entry_by_name(phone_book, 'john'), key=age))"
   ]
  }
 ],
 "metadata": {
  "kernelspec": {
   "display_name": "Python 2",
   "language": "python",
   "name": "python2"
  },
  "language_info": {
   "codemirror_mode": {
    "name": "ipython",
    "version": 2
   },
   "file_extension": ".py",
   "mimetype": "text/x-python",
   "name": "python",
   "nbconvert_exporter": "python",
   "pygments_lexer": "ipython2",
   "version": "2.7.11"
  }
 },
 "nbformat": 4,
 "nbformat_minor": 0
}
