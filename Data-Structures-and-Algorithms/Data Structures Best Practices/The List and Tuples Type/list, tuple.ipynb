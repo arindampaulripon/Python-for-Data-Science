{
 "cells": [
  {
   "cell_type": "markdown",
   "metadata": {},
   "source": [
    "# `list`, `tuple`"
   ]
  },
  {
   "cell_type": "markdown",
   "metadata": {},
   "source": [
    "## Problem Statement: Phone Book"
   ]
  },
  {
   "cell_type": "raw",
   "metadata": {},
   "source": [
    "Write a set of functions to implement a personal rolodex (phone book.)\n",
    "- insert, remove\n",
    "- retreive by name\n",
    "- retrieve by details"
   ]
  },
  {
   "cell_type": "markdown",
   "metadata": {},
   "source": [
    "## `list`"
   ]
  },
  {
   "cell_type": "raw",
   "metadata": {},
   "source": [
    "- collection of items\n",
    "- a sequence (sorted)\n",
    "- typically homogeneous\n",
    "- methods (mutable)"
   ]
  },
  {
   "cell_type": "markdown",
   "metadata": {},
   "source": [
    "## `tuple`"
   ]
  },
  {
   "cell_type": "raw",
   "metadata": {},
   "source": [
    "- collection of items\n",
    "- a sequence (positional)\n",
    "- often heterogeneous (record)\n",
    "- unpackable: typically fixed size with positional meaning (record)\n",
    "- methods (immutable)"
   ]
  },
  {
   "cell_type": "markdown",
   "metadata": {},
   "source": [
    "### creating a `list`"
   ]
  },
  {
   "cell_type": "code",
   "execution_count": 2,
   "metadata": {
    "collapsed": false
   },
   "outputs": [
    {
     "data": {
      "text/plain": [
       "['apple', 'banana', 'apple', 'pear', 'strawberry']"
      ]
     },
     "execution_count": 2,
     "metadata": {},
     "output_type": "execute_result"
    }
   ],
   "source": [
    "fruits = ['apple', 'banana', 'apple', 'pear', 'strawberry',]\n",
    "fruits"
   ]
  },
  {
   "cell_type": "code",
   "execution_count": 3,
   "metadata": {
    "collapsed": false
   },
   "outputs": [
    {
     "data": {
      "text/plain": [
       "['apple', 'banana', 'apple', 'pear', 'strawberry']"
      ]
     },
     "execution_count": 3,
     "metadata": {},
     "output_type": "execute_result"
    }
   ],
   "source": [
    "fruits = list(['apple', 'banana', 'apple', 'pear', 'strawberry'])\n",
    "fruits"
   ]
  },
  {
   "cell_type": "code",
   "execution_count": 4,
   "metadata": {
    "collapsed": false
   },
   "outputs": [
    {
     "data": {
      "text/plain": [
       "['a', 'p', 'p', 'l', 'e']"
      ]
     },
     "execution_count": 4,
     "metadata": {},
     "output_type": "execute_result"
    }
   ],
   "source": [
    "letters = list('apple')\n",
    "letters"
   ]
  },
  {
   "cell_type": "code",
   "execution_count": 5,
   "metadata": {
    "collapsed": false
   },
   "outputs": [
    {
     "data": {
      "text/plain": [
       "[0, 1, 2, 3, 4, 5, 6, 7, 8, 9]"
      ]
     },
     "execution_count": 5,
     "metadata": {},
     "output_type": "execute_result"
    }
   ],
   "source": [
    "numbers = list(range(10))\n",
    "numbers"
   ]
  },
  {
   "cell_type": "code",
   "execution_count": 9,
   "metadata": {
    "collapsed": false
   },
   "outputs": [
    {
     "data": {
      "text/plain": [
       "[]"
      ]
     },
     "execution_count": 9,
     "metadata": {},
     "output_type": "execute_result"
    }
   ],
   "source": [
    "empty_list = []\n",
    "empty_list"
   ]
  },
  {
   "cell_type": "code",
   "execution_count": 7,
   "metadata": {
    "collapsed": false
   },
   "outputs": [
    {
     "data": {
      "text/plain": [
       "[]"
      ]
     },
     "execution_count": 7,
     "metadata": {},
     "output_type": "execute_result"
    }
   ],
   "source": [
    "empty_list = list()\n",
    "empty_list"
   ]
  },
  {
   "cell_type": "markdown",
   "metadata": {},
   "source": [
    "### creating a `tuple`"
   ]
  },
  {
   "cell_type": "code",
   "execution_count": 10,
   "metadata": {
    "collapsed": false
   },
   "outputs": [
    {
     "data": {
      "text/plain": [
       "('John', 'Quincy', 'Adams', datetime.date(1767, 7, 11))"
      ]
     },
     "execution_count": 10,
     "metadata": {},
     "output_type": "execute_result"
    }
   ],
   "source": [
    "from datetime import date\n",
    "\n",
    "profile = ('John', 'Quincy', 'Adams', date(1767, 7, 11))\n",
    "profile"
   ]
  },
  {
   "cell_type": "code",
   "execution_count": 11,
   "metadata": {
    "collapsed": false
   },
   "outputs": [
    {
     "data": {
      "text/plain": [
       "('John', 'Quincy', 'Adams', datetime.date(1767, 7, 11))"
      ]
     },
     "execution_count": 11,
     "metadata": {},
     "output_type": "execute_result"
    }
   ],
   "source": [
    "from datetime import date\n",
    "\n",
    "profile = 'John', 'Quincy', 'Adams', date(1767, 7, 11)\n",
    "profile"
   ]
  },
  {
   "cell_type": "code",
   "execution_count": 13,
   "metadata": {
    "collapsed": false
   },
   "outputs": [
    {
     "data": {
      "text/plain": [
       "('John',)"
      ]
     },
     "execution_count": 13,
     "metadata": {},
     "output_type": "execute_result"
    }
   ],
   "source": [
    "from datetime import date\n",
    "\n",
    "profile = ('John',)\n",
    "profile"
   ]
  },
  {
   "cell_type": "code",
   "execution_count": 14,
   "metadata": {
    "collapsed": false
   },
   "outputs": [
    {
     "data": {
      "text/plain": [
       "('John', 'Quincy', 'Adams', datetime.date(1767, 7, 11))"
      ]
     },
     "execution_count": 14,
     "metadata": {},
     "output_type": "execute_result"
    }
   ],
   "source": [
    "profile = tuple(['John', 'Quincy', 'Adams', date(1767, 7, 11)])\n",
    "profile"
   ]
  },
  {
   "cell_type": "code",
   "execution_count": 15,
   "metadata": {
    "collapsed": false
   },
   "outputs": [
    {
     "data": {
      "text/plain": [
       "('a', 'p', 'p', 'l', 'e')"
      ]
     },
     "execution_count": 15,
     "metadata": {},
     "output_type": "execute_result"
    }
   ],
   "source": [
    "letters = tuple('apple')\n",
    "letters"
   ]
  },
  {
   "cell_type": "code",
   "execution_count": 16,
   "metadata": {
    "collapsed": false
   },
   "outputs": [
    {
     "data": {
      "text/plain": [
       "(0, 1, 2, 3, 4, 5, 6, 7, 8, 9)"
      ]
     },
     "execution_count": 16,
     "metadata": {},
     "output_type": "execute_result"
    }
   ],
   "source": [
    "numbers = tuple(range(10))\n",
    "numbers"
   ]
  },
  {
   "cell_type": "code",
   "execution_count": 21,
   "metadata": {
    "collapsed": false
   },
   "outputs": [
    {
     "data": {
      "text/plain": [
       "tuple"
      ]
     },
     "execution_count": 21,
     "metadata": {},
     "output_type": "execute_result"
    }
   ],
   "source": [
    "profile = tuple()\n",
    "type(profile)"
   ]
  },
  {
   "cell_type": "markdown",
   "metadata": {},
   "source": [
    "### comprehension syntax"
   ]
  },
  {
   "cell_type": "code",
   "execution_count": 22,
   "metadata": {
    "collapsed": false
   },
   "outputs": [
    {
     "data": {
      "text/plain": [
       "[0, 1, 4, 9, 16, 25, 36, 49, 64, 81]"
      ]
     },
     "execution_count": 22,
     "metadata": {},
     "output_type": "execute_result"
    }
   ],
   "source": [
    "squares = [x**2 for x in range(10)]\n",
    "squares"
   ]
  },
  {
   "cell_type": "code",
   "execution_count": 23,
   "metadata": {
    "collapsed": false
   },
   "outputs": [
    {
     "data": {
      "text/plain": [
       "[0, 4, 16, 36, 64]"
      ]
     },
     "execution_count": 23,
     "metadata": {},
     "output_type": "execute_result"
    }
   ],
   "source": [
    "even_squares = [x**2 for x in range(10) if x**2 % 2 == 0]\n",
    "even_squares"
   ]
  },
  {
   "cell_type": "code",
   "execution_count": 24,
   "metadata": {
    "collapsed": false
   },
   "outputs": [
    {
     "data": {
      "text/plain": [
       "<generator object <genexpr> at 0x0000000004F74870>"
      ]
     },
     "execution_count": 24,
     "metadata": {},
     "output_type": "execute_result"
    }
   ],
   "source": [
    "# no such thing as a TUPLE-comprehension!\n",
    "squares = (x**2 for x in range(10))\n",
    "squares"
   ]
  },
  {
   "cell_type": "code",
   "execution_count": 25,
   "metadata": {
    "collapsed": false
   },
   "outputs": [
    {
     "data": {
      "text/plain": [
       "(0, 1, 4, 9, 16, 25, 36, 49, 64, 81)"
      ]
     },
     "execution_count": 25,
     "metadata": {},
     "output_type": "execute_result"
    }
   ],
   "source": [
    "squares = tuple(x**2 for x in range(10))\n",
    "squares"
   ]
  },
  {
   "cell_type": "markdown",
   "metadata": {},
   "source": [
    "### `getitem` syntax"
   ]
  },
  {
   "cell_type": "code",
   "execution_count": 26,
   "metadata": {
    "collapsed": false
   },
   "outputs": [],
   "source": [
    "fruits = ['apple', 'banana', 'apple', 'pear', 'strawberry']"
   ]
  },
  {
   "cell_type": "code",
   "execution_count": 27,
   "metadata": {
    "collapsed": false
   },
   "outputs": [
    {
     "data": {
      "text/plain": [
       "'apple'"
      ]
     },
     "execution_count": 27,
     "metadata": {},
     "output_type": "execute_result"
    }
   ],
   "source": [
    "fruits[0]"
   ]
  },
  {
   "cell_type": "code",
   "execution_count": 31,
   "metadata": {
    "collapsed": false
   },
   "outputs": [
    {
     "data": {
      "text/plain": [
       "['banana', 'pear']"
      ]
     },
     "execution_count": 31,
     "metadata": {},
     "output_type": "execute_result"
    }
   ],
   "source": [
    "fruits[1::2]"
   ]
  },
  {
   "cell_type": "code",
   "execution_count": 32,
   "metadata": {
    "collapsed": false
   },
   "outputs": [],
   "source": [
    "profile = 'John', 'Quincy', 'Adams', date(1767, 7, 11)"
   ]
  },
  {
   "cell_type": "code",
   "execution_count": 33,
   "metadata": {
    "collapsed": false
   },
   "outputs": [
    {
     "data": {
      "text/plain": [
       "'John'"
      ]
     },
     "execution_count": 33,
     "metadata": {},
     "output_type": "execute_result"
    }
   ],
   "source": [
    "profile[0]"
   ]
  },
  {
   "cell_type": "code",
   "execution_count": 36,
   "metadata": {
    "collapsed": false
   },
   "outputs": [
    {
     "data": {
      "text/plain": [
       "('Adams', datetime.date(1767, 7, 11))"
      ]
     },
     "execution_count": 36,
     "metadata": {},
     "output_type": "execute_result"
    }
   ],
   "source": [
    "profile[2:]"
   ]
  },
  {
   "cell_type": "code",
   "execution_count": 39,
   "metadata": {
    "collapsed": false
   },
   "outputs": [
    {
     "data": {
      "text/plain": [
       "['strawberry', 'pear', 'apple', 'banana', 'apple']"
      ]
     },
     "execution_count": 39,
     "metadata": {},
     "output_type": "execute_result"
    }
   ],
   "source": [
    "fruits[::-1]"
   ]
  },
  {
   "cell_type": "markdown",
   "metadata": {},
   "source": [
    "### `setitem` syntax"
   ]
  },
  {
   "cell_type": "code",
   "execution_count": 40,
   "metadata": {
    "collapsed": false
   },
   "outputs": [],
   "source": [
    "fruits = ['apple', 'banana', 'apple', 'pear', 'strawberry']"
   ]
  },
  {
   "cell_type": "code",
   "execution_count": 41,
   "metadata": {
    "collapsed": false
   },
   "outputs": [
    {
     "data": {
      "text/plain": [
       "['apple', 'banana', 'apple', 'watermelon', 'strawberry']"
      ]
     },
     "execution_count": 41,
     "metadata": {},
     "output_type": "execute_result"
    }
   ],
   "source": [
    "fruits[3] = 'watermelon'\n",
    "fruits"
   ]
  },
  {
   "cell_type": "code",
   "execution_count": 42,
   "metadata": {
    "collapsed": false
   },
   "outputs": [
    {
     "data": {
      "text/plain": [
       "['apple', 'banana', 'apple', 'orange', 'orange']"
      ]
     },
     "execution_count": 42,
     "metadata": {},
     "output_type": "execute_result"
    }
   ],
   "source": [
    "fruits[3:5] = 'orange', 'orange'\n",
    "fruits"
   ]
  },
  {
   "cell_type": "code",
   "execution_count": 43,
   "metadata": {
    "collapsed": false
   },
   "outputs": [],
   "source": [
    "from datetime import date\n",
    "profile = 'John', 'Adams', date(1735, 10, 30)"
   ]
  },
  {
   "cell_type": "code",
   "execution_count": 44,
   "metadata": {
    "collapsed": false
   },
   "outputs": [
    {
     "ename": "TypeError",
     "evalue": "'tuple' object does not support item assignment",
     "output_type": "error",
     "traceback": [
      "\u001b[1;31m---------------------------------------------------------------------------\u001b[0m\n\u001b[1;31mTypeError\u001b[0m                                 Traceback (most recent call last)",
      "\u001b[1;32m<ipython-input-44-f208721e71f6>\u001b[0m in \u001b[0;36m<module>\u001b[1;34m()\u001b[0m\n\u001b[1;32m----> 1\u001b[1;33m \u001b[0mprofile\u001b[0m\u001b[1;33m[\u001b[0m\u001b[1;36m1\u001b[0m\u001b[1;33m]\u001b[0m \u001b[1;33m=\u001b[0m \u001b[1;34m'Tyler'\u001b[0m\u001b[1;33m\u001b[0m\u001b[0m\n\u001b[0m",
      "\u001b[1;31mTypeError\u001b[0m: 'tuple' object does not support item assignment"
     ]
    }
   ],
   "source": [
    "profile[1] = 'Tyler'"
   ]
  },
  {
   "cell_type": "code",
   "execution_count": 45,
   "metadata": {
    "collapsed": false
   },
   "outputs": [
    {
     "ename": "TypeError",
     "evalue": "'tuple' object does not support item assignment",
     "output_type": "error",
     "traceback": [
      "\u001b[1;31m---------------------------------------------------------------------------\u001b[0m\n\u001b[1;31mTypeError\u001b[0m                                 Traceback (most recent call last)",
      "\u001b[1;32m<ipython-input-45-9aef5d8fde6b>\u001b[0m in \u001b[0;36m<module>\u001b[1;34m()\u001b[0m\n\u001b[1;32m----> 1\u001b[1;33m \u001b[0mprofile\u001b[0m\u001b[1;33m[\u001b[0m\u001b[1;36m1\u001b[0m\u001b[1;33m:\u001b[0m\u001b[1;36m3\u001b[0m\u001b[1;33m]\u001b[0m \u001b[1;33m=\u001b[0m \u001b[1;34m'Tyler'\u001b[0m\u001b[1;33m,\u001b[0m \u001b[0mdate\u001b[0m\u001b[1;33m(\u001b[0m\u001b[1;36m1970\u001b[0m\u001b[1;33m,\u001b[0m \u001b[1;36m3\u001b[0m\u001b[1;33m,\u001b[0m \u001b[1;36m29\u001b[0m\u001b[1;33m)\u001b[0m\u001b[1;33m\u001b[0m\u001b[0m\n\u001b[0m",
      "\u001b[1;31mTypeError\u001b[0m: 'tuple' object does not support item assignment"
     ]
    }
   ],
   "source": [
    "profile[1:3] = 'Tyler', date(1970, 3, 29)"
   ]
  },
  {
   "cell_type": "markdown",
   "metadata": {},
   "source": [
    "#### corner cases"
   ]
  },
  {
   "cell_type": "code",
   "execution_count": 46,
   "metadata": {
    "collapsed": false
   },
   "outputs": [],
   "source": [
    "some_tuple = (1, 'a', [])"
   ]
  },
  {
   "cell_type": "code",
   "execution_count": 47,
   "metadata": {
    "collapsed": false
   },
   "outputs": [
    {
     "data": {
      "text/plain": [
       "[]"
      ]
     },
     "execution_count": 47,
     "metadata": {},
     "output_type": "execute_result"
    }
   ],
   "source": [
    "some_tuple[2]"
   ]
  },
  {
   "cell_type": "code",
   "execution_count": 48,
   "metadata": {
    "collapsed": false
   },
   "outputs": [
    {
     "ename": "TypeError",
     "evalue": "'tuple' object does not support item assignment",
     "output_type": "error",
     "traceback": [
      "\u001b[1;31m---------------------------------------------------------------------------\u001b[0m\n\u001b[1;31mTypeError\u001b[0m                                 Traceback (most recent call last)",
      "\u001b[1;32m<ipython-input-48-af0922708168>\u001b[0m in \u001b[0;36m<module>\u001b[1;34m()\u001b[0m\n\u001b[1;32m----> 1\u001b[1;33m \u001b[0msome_tuple\u001b[0m\u001b[1;33m[\u001b[0m\u001b[1;36m2\u001b[0m\u001b[1;33m]\u001b[0m \u001b[1;33m+=\u001b[0m \u001b[1;33m[\u001b[0m\u001b[1;36m2\u001b[0m\u001b[1;33m]\u001b[0m\u001b[1;33m\u001b[0m\u001b[0m\n\u001b[0m",
      "\u001b[1;31mTypeError\u001b[0m: 'tuple' object does not support item assignment"
     ]
    }
   ],
   "source": [
    "some_tuple[2] += [2]"
   ]
  },
  {
   "cell_type": "code",
   "execution_count": 49,
   "metadata": {
    "collapsed": false
   },
   "outputs": [
    {
     "data": {
      "text/plain": [
       "(1, 'a', [2])"
      ]
     },
     "execution_count": 49,
     "metadata": {},
     "output_type": "execute_result"
    }
   ],
   "source": [
    "some_tuple"
   ]
  },
  {
   "cell_type": "markdown",
   "metadata": {},
   "source": [
    "### `delitem` syntax"
   ]
  },
  {
   "cell_type": "code",
   "execution_count": 50,
   "metadata": {
    "collapsed": false
   },
   "outputs": [],
   "source": [
    "fruits = ['apple', 'banana', 'apple', 'pear', 'strawberry']"
   ]
  },
  {
   "cell_type": "code",
   "execution_count": 52,
   "metadata": {
    "collapsed": false
   },
   "outputs": [
    {
     "data": {
      "text/plain": [
       "['apple', 'strawberry']"
      ]
     },
     "execution_count": 52,
     "metadata": {},
     "output_type": "execute_result"
    }
   ],
   "source": [
    "del fruits[1:3]\n",
    "fruits"
   ]
  },
  {
   "cell_type": "code",
   "execution_count": 53,
   "metadata": {
    "collapsed": false
   },
   "outputs": [],
   "source": [
    "from datetime import date\n",
    "profile = 'John', 'Quincy', 'Adams', date(1767, 7, 11)"
   ]
  },
  {
   "cell_type": "code",
   "execution_count": 54,
   "metadata": {
    "collapsed": false
   },
   "outputs": [
    {
     "ename": "TypeError",
     "evalue": "'tuple' object doesn't support item deletion",
     "output_type": "error",
     "traceback": [
      "\u001b[1;31m---------------------------------------------------------------------------\u001b[0m\n\u001b[1;31mTypeError\u001b[0m                                 Traceback (most recent call last)",
      "\u001b[1;32m<ipython-input-54-ae68c1626803>\u001b[0m in \u001b[0;36m<module>\u001b[1;34m()\u001b[0m\n\u001b[1;32m----> 1\u001b[1;33m \u001b[1;32mdel\u001b[0m \u001b[0mprofile\u001b[0m\u001b[1;33m[\u001b[0m\u001b[1;36m1\u001b[0m\u001b[1;33m]\u001b[0m\u001b[1;33m\u001b[0m\u001b[0m\n\u001b[0m\u001b[0;32m      2\u001b[0m \u001b[0mprofile\u001b[0m\u001b[1;33m\u001b[0m\u001b[0m\n",
      "\u001b[1;31mTypeError\u001b[0m: 'tuple' object doesn't support item deletion"
     ]
    }
   ],
   "source": [
    "del profile[1]\n",
    "profile"
   ]
  },
  {
   "cell_type": "markdown",
   "metadata": {},
   "source": [
    "### iteration"
   ]
  },
  {
   "cell_type": "code",
   "execution_count": 55,
   "metadata": {
    "collapsed": false
   },
   "outputs": [
    {
     "name": "stdout",
     "output_type": "stream",
     "text": [
      "My favourite fruit is the apple\n",
      "My favourite fruit is the banana\n",
      "My favourite fruit is the apple\n",
      "My favourite fruit is the pear\n",
      "My favourite fruit is the strawberry\n"
     ]
    }
   ],
   "source": [
    "fruits = ['apple', 'banana', 'apple', 'pear', 'strawberry']\n",
    "\n",
    "for fruit in fruits:\n",
    "    print (\"My favourite fruit is the\", fruit)"
   ]
  },
  {
   "cell_type": "code",
   "execution_count": 56,
   "metadata": {
    "collapsed": false
   },
   "outputs": [
    {
     "name": "stdout",
     "output_type": "stream",
     "text": [
      "My favourite fruit is the apple\n",
      "My favourite fruit is the banana\n",
      "My favourite fruit is the apple\n"
     ]
    }
   ],
   "source": [
    "for fruit in fruits[:3]:\n",
    "    print (\"My favourite fruit is the\", fruit)"
   ]
  },
  {
   "cell_type": "code",
   "execution_count": 60,
   "metadata": {
    "collapsed": false
   },
   "outputs": [
    {
     "name": "stdout",
     "output_type": "stream",
     "text": [
      "My favourite fruit is the apple\n",
      "My favourite fruit is the apple\n",
      "My favourite fruit is the strawberry\n"
     ]
    }
   ],
   "source": [
    "fruits = ['apple', 'banana', 'apple', 'pear', 'strawberry']\n",
    "\n",
    "for idx, fruit in enumerate(fruits):\n",
    "    del fruits[idx]\n",
    "    print (\"My favourite fruit is the\", fruit)"
   ]
  },
  {
   "cell_type": "code",
   "execution_count": 61,
   "metadata": {
    "collapsed": false
   },
   "outputs": [
    {
     "data": {
      "text/plain": [
       "['banana', 'pear']"
      ]
     },
     "execution_count": 61,
     "metadata": {},
     "output_type": "execute_result"
    }
   ],
   "source": [
    "fruits"
   ]
  },
  {
   "cell_type": "markdown",
   "metadata": {},
   "source": [
    "### unpacking"
   ]
  },
  {
   "cell_type": "code",
   "execution_count": 64,
   "metadata": {
    "collapsed": false
   },
   "outputs": [
    {
     "data": {
      "text/plain": [
       "2"
      ]
     },
     "execution_count": 64,
     "metadata": {},
     "output_type": "execute_result"
    }
   ],
   "source": [
    "x, y = 1, 2\n",
    "y"
   ]
  },
  {
   "cell_type": "code",
   "execution_count": 65,
   "metadata": {
    "collapsed": false
   },
   "outputs": [],
   "source": [
    "x, y = y, x"
   ]
  },
  {
   "cell_type": "code",
   "execution_count": 67,
   "metadata": {
    "collapsed": false
   },
   "outputs": [
    {
     "data": {
      "text/plain": [
       "1"
      ]
     },
     "execution_count": 67,
     "metadata": {},
     "output_type": "execute_result"
    }
   ],
   "source": [
    "y"
   ]
  },
  {
   "cell_type": "code",
   "execution_count": 68,
   "metadata": {
    "collapsed": false
   },
   "outputs": [],
   "source": [
    "from datetime import date\n",
    "profile = 'John', 'Quincy', 'Adams', date(1767, 7, 11)"
   ]
  },
  {
   "cell_type": "code",
   "execution_count": 70,
   "metadata": {
    "collapsed": false
   },
   "outputs": [
    {
     "data": {
      "text/plain": [
       "'Quincy'"
      ]
     },
     "execution_count": 70,
     "metadata": {},
     "output_type": "execute_result"
    }
   ],
   "source": [
    "first_name, middle_name, last_name, birthday = profile\n",
    "middle_name"
   ]
  },
  {
   "cell_type": "code",
   "execution_count": 71,
   "metadata": {
    "collapsed": false
   },
   "outputs": [],
   "source": [
    "from datetime import date\n",
    "profile = 'John', 'Adams', date(1735, 10, 30)"
   ]
  },
  {
   "cell_type": "code",
   "execution_count": 73,
   "metadata": {
    "collapsed": false
   },
   "outputs": [
    {
     "ename": "ValueError",
     "evalue": "need more than 3 values to unpack",
     "output_type": "error",
     "traceback": [
      "\u001b[1;31m---------------------------------------------------------------------------\u001b[0m\n\u001b[1;31mValueError\u001b[0m                                Traceback (most recent call last)",
      "\u001b[1;32m<ipython-input-73-eaa97579be19>\u001b[0m in \u001b[0;36m<module>\u001b[1;34m()\u001b[0m\n\u001b[1;32m----> 1\u001b[1;33m \u001b[0mfirst_name\u001b[0m\u001b[1;33m,\u001b[0m \u001b[0mmiddle_name\u001b[0m\u001b[1;33m,\u001b[0m \u001b[0mlast_name\u001b[0m\u001b[1;33m,\u001b[0m \u001b[0mbirthday\u001b[0m \u001b[1;33m=\u001b[0m \u001b[0mprofile\u001b[0m\u001b[1;33m\u001b[0m\u001b[0m\n\u001b[0m\u001b[0;32m      2\u001b[0m \u001b[0mbirthday\u001b[0m\u001b[1;33m\u001b[0m\u001b[0m\n",
      "\u001b[1;31mValueError\u001b[0m: need more than 3 values to unpack"
     ]
    }
   ],
   "source": [
    "first_name, middle_name, last_name, birthday = profile\n",
    "birthday"
   ]
  },
  {
   "cell_type": "code",
   "execution_count": 74,
   "metadata": {
    "collapsed": false
   },
   "outputs": [
    {
     "data": {
      "text/plain": [
       "'apple'"
      ]
     },
     "execution_count": 74,
     "metadata": {},
     "output_type": "execute_result"
    }
   ],
   "source": [
    "fruits = ['apple', 'banana', 'apple', 'pear', 'strawberry']\n",
    "fruit1, fruit2, fruit3, fruit4, fruit5 = fruits\n",
    "fruit1"
   ]
  },
  {
   "cell_type": "code",
   "execution_count": 81,
   "metadata": {
    "collapsed": false
   },
   "outputs": [],
   "source": [
    "fruits = ['apple', 'banana', 'apple', 'pear', 'strawberry']\n",
    "first_fruit, second_fruit, *remaining_fruits = fruits"
   ]
  },
  {
   "cell_type": "code",
   "execution_count": 82,
   "metadata": {
    "collapsed": false
   },
   "outputs": [
    {
     "data": {
      "text/plain": [
       "'banana'"
      ]
     },
     "execution_count": 82,
     "metadata": {},
     "output_type": "execute_result"
    }
   ],
   "source": [
    "second_fruit"
   ]
  },
  {
   "cell_type": "markdown",
   "metadata": {},
   "source": [
    "### argument unpacking"
   ]
  },
  {
   "cell_type": "code",
   "execution_count": 83,
   "metadata": {
    "collapsed": false
   },
   "outputs": [],
   "source": [
    "def three_things(x, y, z):\n",
    "    print (\"I like three things: {}, {}, and {}\".format(x, y, z))"
   ]
  },
  {
   "cell_type": "code",
   "execution_count": 84,
   "metadata": {
    "collapsed": false
   },
   "outputs": [
    {
     "name": "stdout",
     "output_type": "stream",
     "text": [
      "I like three things: apple, banana, and pear\n"
     ]
    }
   ],
   "source": [
    "fruits = ['apple', 'banana', 'pear']\n",
    "three_things(*fruits)"
   ]
  },
  {
   "cell_type": "code",
   "execution_count": 85,
   "metadata": {
    "collapsed": false
   },
   "outputs": [
    {
     "ename": "TypeError",
     "evalue": "three_things() takes 3 positional arguments but 4 were given",
     "output_type": "error",
     "traceback": [
      "\u001b[1;31m---------------------------------------------------------------------------\u001b[0m\n\u001b[1;31mTypeError\u001b[0m                                 Traceback (most recent call last)",
      "\u001b[1;32m<ipython-input-85-840b0496138c>\u001b[0m in \u001b[0;36m<module>\u001b[1;34m()\u001b[0m\n\u001b[1;32m----> 1\u001b[1;33m \u001b[0mthree_things\u001b[0m\u001b[1;33m(\u001b[0m\u001b[1;33m*\u001b[0m\u001b[1;33m[\u001b[0m\u001b[1;34m'apple'\u001b[0m\u001b[1;33m,\u001b[0m \u001b[1;34m'banana'\u001b[0m\u001b[1;33m,\u001b[0m \u001b[1;34m'watermelon'\u001b[0m\u001b[1;33m,\u001b[0m \u001b[1;34m'strawberry'\u001b[0m\u001b[1;33m]\u001b[0m\u001b[1;33m)\u001b[0m\u001b[1;33m\u001b[0m\u001b[0m\n\u001b[0m",
      "\u001b[1;31mTypeError\u001b[0m: three_things() takes 3 positional arguments but 4 were given"
     ]
    }
   ],
   "source": [
    "three_things(*['apple', 'banana', 'watermelon', 'strawberry'])"
   ]
  },
  {
   "cell_type": "code",
   "execution_count": 86,
   "metadata": {
    "collapsed": false
   },
   "outputs": [],
   "source": [
    "def three_names(first, middle, last):\n",
    "    print (\"I have three names: {}, {}, and {}\".format(first, middle, last))"
   ]
  },
  {
   "cell_type": "code",
   "execution_count": 87,
   "metadata": {
    "collapsed": false
   },
   "outputs": [
    {
     "name": "stdout",
     "output_type": "stream",
     "text": [
      "I have three names: John, Quincy, and Adams\n"
     ]
    }
   ],
   "source": [
    "profile = 'John', 'Quincy', 'Adams'\n",
    "three_names(*profile)"
   ]
  },
  {
   "cell_type": "code",
   "execution_count": 88,
   "metadata": {
    "collapsed": false
   },
   "outputs": [
    {
     "ename": "TypeError",
     "evalue": "three_names() missing 1 required positional argument: 'last'",
     "output_type": "error",
     "traceback": [
      "\u001b[1;31m---------------------------------------------------------------------------\u001b[0m\n\u001b[1;31mTypeError\u001b[0m                                 Traceback (most recent call last)",
      "\u001b[1;32m<ipython-input-88-c64fc43b9f96>\u001b[0m in \u001b[0;36m<module>\u001b[1;34m()\u001b[0m\n\u001b[0;32m      1\u001b[0m \u001b[0mprofile\u001b[0m \u001b[1;33m=\u001b[0m \u001b[1;34m'John'\u001b[0m\u001b[1;33m,\u001b[0m \u001b[1;34m'Tyler'\u001b[0m\u001b[1;33m\u001b[0m\u001b[0m\n\u001b[1;32m----> 2\u001b[1;33m \u001b[0mthree_names\u001b[0m\u001b[1;33m(\u001b[0m\u001b[1;33m*\u001b[0m\u001b[0mprofile\u001b[0m\u001b[1;33m)\u001b[0m\u001b[1;33m\u001b[0m\u001b[0m\n\u001b[0m",
      "\u001b[1;31mTypeError\u001b[0m: three_names() missing 1 required positional argument: 'last'"
     ]
    }
   ],
   "source": [
    "profile = 'John', 'Tyler'\n",
    "three_names(*profile)"
   ]
  },
  {
   "cell_type": "markdown",
   "metadata": {},
   "source": [
    "### adding & multiplying"
   ]
  },
  {
   "cell_type": "code",
   "execution_count": 89,
   "metadata": {
    "collapsed": false
   },
   "outputs": [
    {
     "data": {
      "text/plain": [
       "['apple', 'apple', 'apple']"
      ]
     },
     "execution_count": 89,
     "metadata": {},
     "output_type": "execute_result"
    }
   ],
   "source": [
    "['apple'] * 3"
   ]
  },
  {
   "cell_type": "code",
   "execution_count": 90,
   "metadata": {
    "collapsed": false
   },
   "outputs": [
    {
     "data": {
      "text/plain": [
       "(123, 456, 123, 456, 123, 456)"
      ]
     },
     "execution_count": 90,
     "metadata": {},
     "output_type": "execute_result"
    }
   ],
   "source": [
    "(123, 456) * 3"
   ]
  },
  {
   "cell_type": "code",
   "execution_count": 94,
   "metadata": {
    "collapsed": false
   },
   "outputs": [
    {
     "data": {
      "text/plain": [
       "['apple', 'orange', 'apple', 'orange', 'apple', 'orange']"
      ]
     },
     "execution_count": 94,
     "metadata": {},
     "output_type": "execute_result"
    }
   ],
   "source": [
    "['apple', 'orange'] * 3"
   ]
  },
  {
   "cell_type": "code",
   "execution_count": 99,
   "metadata": {
    "collapsed": false
   },
   "outputs": [
    {
     "data": {
      "text/plain": [
       "['apple', 'banana']"
      ]
     },
     "execution_count": 99,
     "metadata": {},
     "output_type": "execute_result"
    }
   ],
   "source": [
    "['apple'] + ['banana']"
   ]
  },
  {
   "cell_type": "code",
   "execution_count": 101,
   "metadata": {
    "collapsed": false
   },
   "outputs": [
    {
     "data": {
      "text/plain": [
       "('John', 'Quincy', 'Adams')"
      ]
     },
     "execution_count": 101,
     "metadata": {},
     "output_type": "execute_result"
    }
   ],
   "source": [
    "('John', 'Quincy') + ('Adams',)"
   ]
  },
  {
   "cell_type": "code",
   "execution_count": 102,
   "metadata": {
    "collapsed": false
   },
   "outputs": [
    {
     "data": {
      "text/plain": [
       "83370120"
      ]
     },
     "execution_count": 102,
     "metadata": {},
     "output_type": "execute_result"
    }
   ],
   "source": [
    "fruits = ['apple']\n",
    "id(fruits)"
   ]
  },
  {
   "cell_type": "code",
   "execution_count": 104,
   "metadata": {
    "collapsed": false
   },
   "outputs": [
    {
     "data": {
      "text/plain": [
       "83370120"
      ]
     },
     "execution_count": 104,
     "metadata": {},
     "output_type": "execute_result"
    }
   ],
   "source": [
    "fruits += ['banana']\n",
    "id(fruits)"
   ]
  },
  {
   "cell_type": "code",
   "execution_count": 105,
   "metadata": {
    "collapsed": false
   },
   "outputs": [
    {
     "data": {
      "text/plain": [
       "85947672"
      ]
     },
     "execution_count": 105,
     "metadata": {},
     "output_type": "execute_result"
    }
   ],
   "source": [
    "profile = 'John',\n",
    "id(profile)"
   ]
  },
  {
   "cell_type": "code",
   "execution_count": 107,
   "metadata": {
    "collapsed": false
   },
   "outputs": [
    {
     "data": {
      "text/plain": [
       "83134144"
      ]
     },
     "execution_count": 107,
     "metadata": {},
     "output_type": "execute_result"
    }
   ],
   "source": [
    "profile += ('Tyler',)\n",
    "id(profile)"
   ]
  },
  {
   "cell_type": "markdown",
   "metadata": {},
   "source": [
    "### common methods"
   ]
  },
  {
   "cell_type": "raw",
   "metadata": {},
   "source": [
    "- .count\n",
    "- .index"
   ]
  },
  {
   "cell_type": "code",
   "execution_count": 109,
   "metadata": {
    "collapsed": false
   },
   "outputs": [
    {
     "data": {
      "text/plain": [
       "1"
      ]
     },
     "execution_count": 109,
     "metadata": {},
     "output_type": "execute_result"
    }
   ],
   "source": [
    "fruits = ['apple', 'banana', 'apple', 'pear', 'strawberry']\n",
    "fruits.count('banana')"
   ]
  },
  {
   "cell_type": "code",
   "execution_count": 111,
   "metadata": {
    "collapsed": false
   },
   "outputs": [
    {
     "data": {
      "text/plain": [
       "0"
      ]
     },
     "execution_count": 111,
     "metadata": {},
     "output_type": "execute_result"
    }
   ],
   "source": [
    "profile = 'Ford', 'Madox', 'Ford'\n",
    "profile.count('Chevy')"
   ]
  },
  {
   "cell_type": "code",
   "execution_count": 116,
   "metadata": {
    "collapsed": false
   },
   "outputs": [
    {
     "ename": "ValueError",
     "evalue": "'watermelon' is not in list",
     "output_type": "error",
     "traceback": [
      "\u001b[1;31m---------------------------------------------------------------------------\u001b[0m\n\u001b[1;31mValueError\u001b[0m                                Traceback (most recent call last)",
      "\u001b[1;32m<ipython-input-116-6cbe00c7e417>\u001b[0m in \u001b[0;36m<module>\u001b[1;34m()\u001b[0m\n\u001b[0;32m      1\u001b[0m \u001b[0mfruits\u001b[0m \u001b[1;33m=\u001b[0m \u001b[1;33m[\u001b[0m\u001b[1;34m'apple'\u001b[0m\u001b[1;33m,\u001b[0m \u001b[1;34m'banana'\u001b[0m\u001b[1;33m,\u001b[0m \u001b[1;34m'apple'\u001b[0m\u001b[1;33m,\u001b[0m \u001b[1;34m'pear'\u001b[0m\u001b[1;33m,\u001b[0m \u001b[1;34m'strawberry'\u001b[0m\u001b[1;33m]\u001b[0m\u001b[1;33m\u001b[0m\u001b[0m\n\u001b[1;32m----> 2\u001b[1;33m \u001b[0mfruits\u001b[0m\u001b[1;33m.\u001b[0m\u001b[0mindex\u001b[0m\u001b[1;33m(\u001b[0m\u001b[1;34m'watermelon'\u001b[0m\u001b[1;33m)\u001b[0m\u001b[1;33m\u001b[0m\u001b[0m\n\u001b[0m",
      "\u001b[1;31mValueError\u001b[0m: 'watermelon' is not in list"
     ]
    }
   ],
   "source": [
    "fruits = ['apple', 'banana', 'apple', 'pear', 'strawberry']\n",
    "fruits.index('watermelon')"
   ]
  },
  {
   "cell_type": "code",
   "execution_count": 115,
   "metadata": {
    "collapsed": false
   },
   "outputs": [
    {
     "ename": "ValueError",
     "evalue": "tuple.index(x): x not in tuple",
     "output_type": "error",
     "traceback": [
      "\u001b[1;31m---------------------------------------------------------------------------\u001b[0m\n\u001b[1;31mValueError\u001b[0m                                Traceback (most recent call last)",
      "\u001b[1;32m<ipython-input-115-98ac9af94a4f>\u001b[0m in \u001b[0;36m<module>\u001b[1;34m()\u001b[0m\n\u001b[0;32m      1\u001b[0m \u001b[0mprofile\u001b[0m \u001b[1;33m=\u001b[0m \u001b[1;34m'Ford'\u001b[0m\u001b[1;33m,\u001b[0m \u001b[1;34m'Madox'\u001b[0m\u001b[1;33m,\u001b[0m \u001b[1;34m'Ford'\u001b[0m\u001b[1;33m\u001b[0m\u001b[0m\n\u001b[1;32m----> 2\u001b[1;33m \u001b[0mprofile\u001b[0m\u001b[1;33m.\u001b[0m\u001b[0mindex\u001b[0m\u001b[1;33m(\u001b[0m\u001b[1;34m'Chevy'\u001b[0m\u001b[1;33m)\u001b[0m\u001b[1;33m\u001b[0m\u001b[0m\n\u001b[0m",
      "\u001b[1;31mValueError\u001b[0m: tuple.index(x): x not in tuple"
     ]
    }
   ],
   "source": [
    "profile = 'Ford', 'Madox', 'Ford'\n",
    "profile.index('Chevy')"
   ]
  },
  {
   "cell_type": "markdown",
   "metadata": {},
   "source": [
    "### methods specific to `list`"
   ]
  },
  {
   "cell_type": "raw",
   "metadata": {},
   "source": [
    "- .append\n",
    "- .clear\n",
    "- .extend\n",
    "- .insert\n",
    "- .pop\n",
    "- .remove\n",
    "- .reverse\n",
    "- .sort"
   ]
  },
  {
   "cell_type": "code",
   "execution_count": 118,
   "metadata": {
    "collapsed": false
   },
   "outputs": [
    {
     "data": {
      "text/plain": [
       "['apple', 'banana', 'apple', 'pear', 'strawberry', ['watermelon']]"
      ]
     },
     "execution_count": 118,
     "metadata": {},
     "output_type": "execute_result"
    }
   ],
   "source": [
    "fruits = ['apple', 'banana', 'apple', 'pear', 'strawberry']\n",
    "fruits.append(['watermelon'])\n",
    "fruits"
   ]
  },
  {
   "cell_type": "code",
   "execution_count": 119,
   "metadata": {
    "collapsed": false
   },
   "outputs": [
    {
     "data": {
      "text/plain": [
       "[]"
      ]
     },
     "execution_count": 119,
     "metadata": {},
     "output_type": "execute_result"
    }
   ],
   "source": [
    "fruits = ['apple', 'banana', 'apple', 'pear', 'strawberry']\n",
    "fruits.clear()\n",
    "fruits"
   ]
  },
  {
   "cell_type": "code",
   "execution_count": 120,
   "metadata": {
    "collapsed": false
   },
   "outputs": [
    {
     "data": {
      "text/plain": [
       "[]"
      ]
     },
     "execution_count": 120,
     "metadata": {},
     "output_type": "execute_result"
    }
   ],
   "source": [
    "fruits = ['apple', 'banana', 'apple', 'pear', 'strawberry']\n",
    "del fruits[:]\n",
    "fruits"
   ]
  },
  {
   "cell_type": "code",
   "execution_count": 125,
   "metadata": {
    "collapsed": false
   },
   "outputs": [
    {
     "data": {
      "text/plain": [
       "['apple', 'banana', 'apple', 'pear', 'strawberry', 'a', 'p', 'p', 'l', 'e']"
      ]
     },
     "execution_count": 125,
     "metadata": {},
     "output_type": "execute_result"
    }
   ],
   "source": [
    "fruits = ['apple', 'banana', 'apple', 'pear', 'strawberry']\n",
    "fruits.extend('apple')\n",
    "fruits"
   ]
  },
  {
   "cell_type": "code",
   "execution_count": 126,
   "metadata": {
    "collapsed": false
   },
   "outputs": [
    {
     "data": {
      "text/plain": [
       "['apple', 'banana', 'apple', 'dragonfruit', 'pear', 'strawberry']"
      ]
     },
     "execution_count": 126,
     "metadata": {},
     "output_type": "execute_result"
    }
   ],
   "source": [
    "fruits = ['apple', 'banana', 'apple', 'pear', 'strawberry']\n",
    "fruits.insert(3, 'dragonfruit')\n",
    "fruits"
   ]
  },
  {
   "cell_type": "code",
   "execution_count": 127,
   "metadata": {
    "collapsed": false
   },
   "outputs": [
    {
     "data": {
      "text/plain": [
       "'strawberry'"
      ]
     },
     "execution_count": 127,
     "metadata": {},
     "output_type": "execute_result"
    }
   ],
   "source": [
    "fruits = ['apple', 'banana', 'apple', 'pear', 'strawberry']\n",
    "fruits.pop()"
   ]
  },
  {
   "cell_type": "code",
   "execution_count": 129,
   "metadata": {
    "collapsed": false
   },
   "outputs": [
    {
     "data": {
      "text/plain": [
       "['apple', 'banana', 'apple']"
      ]
     },
     "execution_count": 129,
     "metadata": {},
     "output_type": "execute_result"
    }
   ],
   "source": [
    "fruits.pop()\n",
    "fruits"
   ]
  },
  {
   "cell_type": "code",
   "execution_count": 130,
   "metadata": {
    "collapsed": false
   },
   "outputs": [
    {
     "name": "stdout",
     "output_type": "stream",
     "text": [
      "Appending: apple\n",
      "Appending: banana\n",
      "Appending: pear\n",
      "Appending: strawberry\n"
     ]
    }
   ],
   "source": [
    "# `list` as a stack (LIFO)\n",
    "fruits = []\n",
    "for fruit in ('apple', 'banana', 'pear', 'strawberry'):\n",
    "    print (\"Appending:\", fruit)\n",
    "    fruits.append(fruit)"
   ]
  },
  {
   "cell_type": "code",
   "execution_count": 131,
   "metadata": {
    "collapsed": false
   },
   "outputs": [
    {
     "data": {
      "text/plain": [
       "['apple', 'banana', 'pear', 'strawberry']"
      ]
     },
     "execution_count": 131,
     "metadata": {},
     "output_type": "execute_result"
    }
   ],
   "source": [
    "fruits"
   ]
  },
  {
   "cell_type": "code",
   "execution_count": 132,
   "metadata": {
    "collapsed": false
   },
   "outputs": [
    {
     "name": "stdout",
     "output_type": "stream",
     "text": [
      "Popping: strawberry\n",
      "Popping: pear\n",
      "Popping: banana\n",
      "Popping: apple\n"
     ]
    }
   ],
   "source": [
    "while fruits:\n",
    "    print (\"Popping:\", fruits.pop())"
   ]
  },
  {
   "cell_type": "code",
   "execution_count": 135,
   "metadata": {
    "collapsed": false
   },
   "outputs": [
    {
     "data": {
      "text/plain": [
       "['apple', 'banana', 'apple', 'strawberry']"
      ]
     },
     "execution_count": 135,
     "metadata": {},
     "output_type": "execute_result"
    }
   ],
   "source": [
    "fruits = ['apple', 'banana', 'apple', 'pear', 'strawberry']\n",
    "fruits.remove('pear')\n",
    "fruits"
   ]
  },
  {
   "cell_type": "code",
   "execution_count": 136,
   "metadata": {
    "collapsed": false
   },
   "outputs": [
    {
     "ename": "ValueError",
     "evalue": "list.remove(x): x not in list",
     "output_type": "error",
     "traceback": [
      "\u001b[1;31m---------------------------------------------------------------------------\u001b[0m\n\u001b[1;31mValueError\u001b[0m                                Traceback (most recent call last)",
      "\u001b[1;32m<ipython-input-136-40d9d7a6644a>\u001b[0m in \u001b[0;36m<module>\u001b[1;34m()\u001b[0m\n\u001b[1;32m----> 1\u001b[1;33m \u001b[0mfruits\u001b[0m\u001b[1;33m.\u001b[0m\u001b[0mremove\u001b[0m\u001b[1;33m(\u001b[0m\u001b[1;34m'pear'\u001b[0m\u001b[1;33m)\u001b[0m\u001b[1;33m\u001b[0m\u001b[0m\n\u001b[0m\u001b[0;32m      2\u001b[0m \u001b[0mfruits\u001b[0m\u001b[1;33m\u001b[0m\u001b[0m\n",
      "\u001b[1;31mValueError\u001b[0m: list.remove(x): x not in list"
     ]
    }
   ],
   "source": [
    "fruits.remove('pear')\n",
    "fruits"
   ]
  },
  {
   "cell_type": "code",
   "execution_count": 137,
   "metadata": {
    "collapsed": false
   },
   "outputs": [
    {
     "data": {
      "text/plain": [
       "['strawberry', 'pear', 'apple', 'banana', 'apple']"
      ]
     },
     "execution_count": 137,
     "metadata": {},
     "output_type": "execute_result"
    }
   ],
   "source": [
    "fruits = ['apple', 'banana', 'apple', 'pear', 'strawberry']\n",
    "fruits.reverse()\n",
    "fruits"
   ]
  },
  {
   "cell_type": "code",
   "execution_count": 140,
   "metadata": {
    "collapsed": false
   },
   "outputs": [
    {
     "data": {
      "text/plain": [
       "['strawberry', 'banana', 'apple', 'apple', 'pear']"
      ]
     },
     "execution_count": 140,
     "metadata": {},
     "output_type": "execute_result"
    }
   ],
   "source": [
    "fruits = ['apple', 'banana', 'apple', 'pear', 'strawberry']\n",
    "fruits.sort(key=len, reverse=True)\n",
    "fruits"
   ]
  },
  {
   "cell_type": "code",
   "execution_count": 141,
   "metadata": {
    "collapsed": false
   },
   "outputs": [
    {
     "data": {
      "text/plain": [
       "['Adams', 'John', 'Quincy']"
      ]
     },
     "execution_count": 141,
     "metadata": {},
     "output_type": "execute_result"
    }
   ],
   "source": [
    "profile = 'John', 'Quincy', 'Adams'\n",
    "sorted(profile)"
   ]
  },
  {
   "cell_type": "code",
   "execution_count": 145,
   "metadata": {
    "collapsed": false
   },
   "outputs": [
    {
     "data": {
      "text/plain": [
       "<reversed at 0x520bfd0>"
      ]
     },
     "execution_count": 145,
     "metadata": {},
     "output_type": "execute_result"
    }
   ],
   "source": [
    "profile = 'John', 'Quincy', 'Adams'\n",
    "reversed(profile)"
   ]
  },
  {
   "cell_type": "markdown",
   "metadata": {},
   "source": [
    "### semantics"
   ]
  },
  {
   "cell_type": "raw",
   "metadata": {},
   "source": [
    "- tuples usually represent records\n",
    "  - heterogeneous\n",
    "  - fixed-size\n",
    "  - immutable\n",
    "    \n",
    "- lists usually represent collections\n",
    "  - homogeneous\n",
    "  - dynamically sized\n",
    "  - mutable: can change, insert, remove elements at will"
   ]
  },
  {
   "cell_type": "code",
   "execution_count": 146,
   "metadata": {
    "collapsed": false
   },
   "outputs": [],
   "source": [
    "presidents = [\n",
    "    # first name   # middle name          # last name   born  died  took  left\n",
    "    ('George',     [],                    'Washington', 1732, 1799, 1789, 1797,),\n",
    "    ('John',       [],                    'Adams',      1735, 1826, 1797, 1801,),\n",
    "    ('Thomas',     [],                    'Jefferson',  1743, 1826, 1801, 1809,),\n",
    "    ('James',      [],                    'Madison',    1751, 1836, 1809, 1817,),\n",
    "    ('James',      [],                    'Monroe',     1758, 1831, 1817, 1825,),\n",
    "\n",
    "    ('John',       ['Quincy'],            'Adams',      1767, 1848, 1825, 1829,),\n",
    "    ('Andrew',     [],                    'Jackson',    1767, 1845, 1829, 1837,),\n",
    "    ('Martin',     [],                    'Van Buren',  1782, 1862, 1837, 1841,),\n",
    "    ('William',    ['Henry'],             'Harrison',   1773, 1841, 1841, 1841,),\n",
    "    ('John',       [],                    'Tyler',      1790, 1862, 1841, 1845,),\n",
    "\n",
    "    ('James',      ['Knox'],              'Polk',       1795, 1849, 1845, 1849,),\n",
    "    ('Zachary',    [],                    'Taylor',     1784, 1850, 1849, 1850,),\n",
    "    ('Millard',    [],                    'Fillmore',   1800, 1874, 1850, 1853,),\n",
    "    ('Franklin',   [],                    'Pierce',     1804, 1869, 1853, 1857,),\n",
    "    ('James',      [],                    'Buchanan',   1791, 1868, 1857, 1861,),\n",
    "\n",
    "    ('Abraham',    [],                    'Lincoln',    1809, 1865, 1861, 1865,),\n",
    "    ('Andrew',     [],                    'Johnson',    1808, 1875, 1865, 1869,),\n",
    "    ('Ulysses',    ['S.'],                'Grant',      1822, 1885, 1869, 1877,),\n",
    "    ('Rutherford', ['Birchard'],          'Hayes',      1822, 1893, 1877, 1881,),\n",
    "    ('James',      ['Abram'],             'Garfield',   1831, 1881, 1881, 1881,),\n",
    "\n",
    "    ('Chester',    ['Alan'],              'Arthur',     1829, 1886, 1881, 1885,),\n",
    "    ('Grover',     [],                    'Cleveland',  1837, 1908, 1885, 1889,),\n",
    "    ('Benjamin',   [],                    'Harrison',   1833, 1901, 1889, 1893,),\n",
    "    ('Grover',     [],                    'Cleveland',  1837, 1908, 1893, 1897,), # !\n",
    "    ('William',    [],                    'McKinley',   1843, 1901, 1897, 1901,),\n",
    "\n",
    "    ('Theodore',   [],                    'Roosevelt',  1858, 1919, 1901, 1909,),\n",
    "    ('William',    ['Howard'],            'Taft',       1857, 1930, 1909, 1913,),\n",
    "    ('Woodrow',    [],                    'Wilson',     1856, 1924, 1913, 1921,),\n",
    "    ('Warren',     ['Gamaliel'],          'Harding',    1865, 1923, 1921, 1923,),\n",
    "    ('Calvin',     [],                    'Coolidge',   1872, 1933, 1923, 1929,),\n",
    "\n",
    "    ('Herbert',    [],                    'Hoover',     1874, 1964, 1929, 1933,),\n",
    "    ('Franklin',   ['Delano'],            'Roosevelt',  1882, 1945, 1933, 1945,),\n",
    "    ('Harry',      ['S.'],                'Truman',     1884, 1972, 1945, 1953,),\n",
    "    ('Dwight',     ['David'],             'Eisenhower', 1890, 1969, 1953, 1961,),\n",
    "    ('John',       ['Fitzgerald'],        'Kennedy',    1917, 1963, 1961, 1963,),\n",
    "    \n",
    "    ('Lyndon',     ['Baines'],            'Johnson',    1908, 1973, 1963, 1969,),\n",
    "    ('Richard',    [],                    'Nixon',      1913, 1994, 1969, 1974,),\n",
    "    ('Gerald',     [],                    'Ford',       1913, 2006, 1974, 1977,),\n",
    "    ('Jimmy',      [],                    'Carter',     1924, None, 1977, 1981,),\n",
    "    ('Ronald',     [],                    'Reagan',     1911, 2004, 1981, 1989,),\n",
    "    \n",
    "    ('George',     ['Herbert', 'Walker'], 'Bush',       1924, None, 1989, 1993,),\n",
    "    ('Bill',       [],                    'Clinton',    1946, None, 1993, 2001,),\n",
    "    ('George',     ['Walker'],            'Bush',       1946, None, 2001, 2009,),\n",
    "    ('Barack',     [],                    'Obama',      1961, None, 2009, None,),\n",
    "]"
   ]
  },
  {
   "cell_type": "code",
   "execution_count": 147,
   "metadata": {
    "collapsed": false
   },
   "outputs": [],
   "source": [
    "pres_ages = []\n",
    "\n",
    "for pres in presidents:\n",
    "    first, middle, last, born, died, took, left = pres\n",
    "    pres_ages.append(('{} {}'.format(first, last), took-born))\n",
    "\n",
    "pres_ages.sort(key=lambda item: item[1])"
   ]
  },
  {
   "cell_type": "code",
   "execution_count": 151,
   "metadata": {
    "collapsed": false
   },
   "outputs": [
    {
     "name": "stdout",
     "output_type": "stream",
     "text": [
      "Theodore Roosevelt   43\n",
      "John Kennedy         44\n",
      "Ulysses Grant        47\n",
      "Bill Clinton         47\n",
      "Grover Cleveland     48\n",
      "Barack Obama         48\n",
      "Franklin Pierce      49\n",
      "James Polk           50\n",
      "Millard Fillmore     50\n",
      "James Garfield       50\n"
     ]
    }
   ],
   "source": [
    "for name, age in pres_ages[:10]:\n",
    "    print('{:<20} {}'.format(name, age))"
   ]
  },
  {
   "cell_type": "markdown",
   "metadata": {},
   "source": [
    "### `collections.namedtuple`"
   ]
  },
  {
   "cell_type": "markdown",
   "metadata": {},
   "source": [
    "https://docs.python.org/3/library/collections.html?highlight=collections.namedtuple"
   ]
  },
  {
   "cell_type": "code",
   "execution_count": 152,
   "metadata": {
    "collapsed": false
   },
   "outputs": [],
   "source": [
    "from collections import namedtuple\n",
    "President = namedtuple('President', ['first', 'middle', 'last', 'born', 'died', 'took', 'left'])"
   ]
  },
  {
   "cell_type": "code",
   "execution_count": 153,
   "metadata": {
    "collapsed": false
   },
   "outputs": [],
   "source": [
    "presidents = [\n",
    "    President('George',     [],                    'Washington', 1732, 1799, 1789, 1797,),\n",
    "    President('John',       [],                    'Adams',      1735, 1826, 1797, 1801,),\n",
    "    President('Thomas',     [],                    'Jefferson',  1743, 1826, 1801, 1809,),\n",
    "    President('James',      [],                    'Madison',    1751, 1836, 1809, 1817,),\n",
    "    President('James',      [],                    'Monroe',     1758, 1831, 1817, 1825,),\n",
    "\n",
    "    President('John',       ['Quincy'],            'Adams',      1767, 1848, 1825, 1829,),\n",
    "    President('Andrew',     [],                    'Jackson',    1767, 1845, 1829, 1837,),\n",
    "    President('Martin',     [],                    'Van Buren',  1782, 1862, 1837, 1841,),\n",
    "    President('William',    ['Henry'],             'Harrison',   1773, 1841, 1841, 1841,),\n",
    "    President('John',       [],                    'Tyler',      1790, 1862, 1841, 1845,),\n",
    "\n",
    "    President('James',      ['Knox'],              'Polk',       1795, 1849, 1845, 1849,),\n",
    "    President('Zachary',    [],                    'Taylor',     1784, 1850, 1849, 1850,),\n",
    "    President('Millard',    [],                    'Fillmore',   1800, 1874, 1850, 1853,),\n",
    "    President('Franklin',   [],                    'Pierce',     1804, 1869, 1853, 1857,),\n",
    "    President('James',      [],                    'Buchanan',   1791, 1868, 1857, 1861,),\n",
    "\n",
    "    President('Abraham',    [],                    'Lincoln',    1809, 1865, 1861, 1865,),\n",
    "    President('Andrew',     [],                    'Johnson',    1808, 1875, 1865, 1869,),\n",
    "    President('Ulysses',    ['S.'],                'Grant',      1822, 1885, 1869, 1877,),\n",
    "    President('Rutherford', ['Birchard'],          'Hayes',      1822, 1893, 1877, 1881,),\n",
    "    President('James',      ['Abram'],             'Garfield',   1831, 1881, 1881, 1881,),\n",
    "\n",
    "    President('Chester',    ['Alan'],              'Arthur',     1829, 1886, 1881, 1885,),\n",
    "    President('Grover',     [],                    'Cleveland',  1837, 1908, 1885, 1889,),\n",
    "    President('Benjamin',   [],                    'Harrison',   1833, 1901, 1889, 1893,),\n",
    "    President('Grover',     [],                    'Cleveland',  1837, 1908, 1893, 1897,), # !\n",
    "    President('William',    [],                    'McKinley',   1843, 1901, 1897, 1901,),\n",
    "\n",
    "    President('Theodore',   [],                    'Roosevelt',  1858, 1919, 1901, 1909,),\n",
    "    President('William',    ['Howard'],            'Taft',       1857, 1930, 1909, 1913,),\n",
    "    President('Woodrow',    [],                    'Wilson',     1856, 1924, 1913, 1921,),\n",
    "    President('Warren',     ['Gamaliel'],          'Harding',    1865, 1923, 1921, 1923,),\n",
    "    President('Calvin',     [],                    'Coolidge',   1872, 1933, 1923, 1929,),\n",
    "\n",
    "    President('Herbert',    [],                    'Hoover',     1874, 1964, 1929, 1933,),\n",
    "    President('Franklin',   ['Delano'],            'Roosevelt',  1882, 1945, 1933, 1945,),\n",
    "    President('Harry',      ['S.'],                'Truman',     1884, 1972, 1945, 1953,),\n",
    "    President('Dwight',     ['David'],             'Eisenhower', 1890, 1969, 1953, 1961,),\n",
    "    President('John',       ['Fitzgerald'],        'Kennedy',    1917, 1963, 1961, 1963,),\n",
    "    \n",
    "    President('Lyndon',     ['Baines'],            'Johnson',    1908, 1973, 1963, 1969,),\n",
    "    President('Richard',    [],                    'Nixon',      1913, 1994, 1969, 1974,),\n",
    "    President('Gerald',     [],                    'Ford',       1913, 2006, 1974, 1977,),\n",
    "    President('Jimmy',      [],                    'Carter',     1924, None, 1977, 1981,),\n",
    "    President('Ronald',     [],                    'Reagan',     1911, 2004, 1981, 1989,),\n",
    "    \n",
    "    President('George',     ['Herbert', 'Walker'], 'Bush',       1924, None, 1989, 1993,),\n",
    "    President('Bill',       [],                    'Clinton',    1946, None, 1993, 2001,),\n",
    "    President('George',     ['Walker'],            'Bush',       1946, None, 2001, 2009,),\n",
    "    President('Barack',     [],                    'Obama',      1961, None, 2009, None,),\n",
    "]"
   ]
  },
  {
   "cell_type": "code",
   "execution_count": 156,
   "metadata": {
    "collapsed": false
   },
   "outputs": [
    {
     "data": {
      "text/plain": [
       "President(first='George', middle=[], last='Washington', born=1732, died=1799, took=1789, left=1797)"
      ]
     },
     "execution_count": 156,
     "metadata": {},
     "output_type": "execute_result"
    }
   ],
   "source": [
    "presidents[0]"
   ]
  },
  {
   "cell_type": "code",
   "execution_count": 157,
   "metadata": {
    "collapsed": false
   },
   "outputs": [],
   "source": [
    "pres_ages = []\n",
    "\n",
    "for pres in presidents:\n",
    "    if pres.left and pres.died:\n",
    "        pres_ages.append((pres, pres.died - pres.left))\n",
    "    elif pres.left:\n",
    "        pres_ages.append((pres, 2015 - pres.left))\n",
    "\n",
    "pres_ages.sort(key=lambda item: item[1], reverse=True)"
   ]
  },
  {
   "cell_type": "code",
   "execution_count": 158,
   "metadata": {
    "collapsed": false
   },
   "outputs": [
    {
     "name": "stdout",
     "output_type": "stream",
     "text": [
      "Jimmy Carter                        34\n",
      "Herbert Hoover                      31\n",
      "Gerald Ford                         29\n",
      "John Adams                          25\n",
      "George Herbert Walker Bush          22\n",
      "Martin Van Buren                    21\n",
      "Millard Fillmore                    21\n",
      "Richard Nixon                       20\n",
      "James Madison                       19\n",
      "John Quincy Adams                   19\n",
      "Grover Cleveland                    19\n",
      "Harry S. Truman                     19\n",
      "Thomas Jefferson                    17\n",
      "John Tyler                          17\n",
      "William Howard Taft                 17\n",
      "Ronald Reagan                       15\n",
      "Bill Clinton                        14\n",
      "Franklin Pierce                     12\n",
      "Rutherford Birchard Hayes           12\n",
      "Grover Cleveland                    11\n",
      "Theodore Roosevelt                  10\n",
      "Andrew Jackson                      8\n",
      "Ulysses S. Grant                    8\n",
      "Benjamin Harrison                   8\n",
      "Dwight David Eisenhower             8\n",
      "James Buchanan                      7\n",
      "James Monroe                        6\n",
      "Andrew Johnson                      6\n",
      "George Walker Bush                  6\n",
      "Calvin Coolidge                     4\n",
      "Lyndon Baines Johnson               4\n",
      "Woodrow Wilson                      3\n",
      "George Washington                   2\n",
      "Chester Alan Arthur                 1\n",
      "William Henry Harrison              0\n",
      "James Knox Polk                     0\n",
      "Zachary Taylor                      0\n",
      "Abraham Lincoln                     0\n",
      "James Abram Garfield                0\n",
      "William McKinley                    0\n",
      "Warren Gamaliel Harding             0\n",
      "Franklin Delano Roosevelt           0\n",
      "John Fitzgerald Kennedy             0\n"
     ]
    }
   ],
   "source": [
    "for pres, age in pres_ages:\n",
    "    name = ' '.join([pres.first] + pres.middle + [pres.last])\n",
    "    print('{:<35} {}'.format(name, age))"
   ]
  },
  {
   "cell_type": "code",
   "execution_count": 159,
   "metadata": {
    "collapsed": false
   },
   "outputs": [],
   "source": [
    "%matplotlib inline"
   ]
  },
  {
   "cell_type": "code",
   "execution_count": 161,
   "metadata": {
    "collapsed": false
   },
   "outputs": [
    {
     "data": {
      "text/plain": [
       "(array([ 43.,  34.,  33.,  32.,  31.,  29.,  29.,  26.,  25.,  21.,  21.,\n",
       "         20.,  19.,  17.,  17.,  16.,  15.,  15.,  12.,  12.,   8.,   7.,\n",
       "          5.,   4.,   4.,   4.,   3.,   3.,   3.,   3.,   2.,   2.,   1.,\n",
       "          1.,   1.]),\n",
       " array([  0.        ,   0.97142857,   1.94285714,   2.91428571,\n",
       "          3.88571429,   4.85714286,   5.82857143,   6.8       ,\n",
       "          7.77142857,   8.74285714,   9.71428571,  10.68571429,\n",
       "         11.65714286,  12.62857143,  13.6       ,  14.57142857,\n",
       "         15.54285714,  16.51428571,  17.48571429,  18.45714286,\n",
       "         19.42857143,  20.4       ,  21.37142857,  22.34285714,\n",
       "         23.31428571,  24.28571429,  25.25714286,  26.22857143,\n",
       "         27.2       ,  28.17142857,  29.14285714,  30.11428571,\n",
       "         31.08571429,  32.05714286,  33.02857143,  34.        ]),\n",
       " <a list of 35 Patch objects>)"
      ]
     },
     "execution_count": 161,
     "metadata": {},
     "output_type": "execute_result"
    },
    {
     "data": {
      "image/png": "[encoded data removed]",
      "text/plain": [
       "<matplotlib.figure.Figure at 0x6fb4320>"
      ]
     },
     "metadata": {},
     "output_type": "display_data"
    }
   ],
   "source": [
    "from matplotlib.pyplot import hist\n",
    "ages = [age for pres, age in pres_ages]\n",
    "hist(ages, bins=35, cumulative=-1)"
   ]
  },
  {
   "cell_type": "markdown",
   "metadata": {},
   "source": [
    "### `collections.deque`"
   ]
  },
  {
   "cell_type": "markdown",
   "metadata": {},
   "source": [
    "https://docs.python.org/3/library/collections.html?highlight=collections.deque"
   ]
  },
  {
   "cell_type": "raw",
   "metadata": {},
   "source": [
    "good: ()\n",
    "good: ([])\n",
    "bad:  ((())\n",
    "bad:  ([)]"
   ]
  },
  {
   "cell_type": "code",
   "execution_count": 162,
   "metadata": {
    "collapsed": false
   },
   "outputs": [],
   "source": [
    "def balanced(expr):\n",
    "    groupings = { ')': '(',\n",
    "                  ']': '[',\n",
    "                  '>': '<',\n",
    "                  '}': '{' }\n",
    "    \n",
    "    stack = []    \n",
    "    for char in expr:\n",
    "        if char in groupings.values():\n",
    "            stack.append(char)\n",
    "            \n",
    "        elif char in groupings:\n",
    "            if not stack or stack.pop() != groupings[char]:\n",
    "                return False\n",
    "    \n",
    "    return not stack"
   ]
  },
  {
   "cell_type": "code",
   "execution_count": 163,
   "metadata": {
    "collapsed": false
   },
   "outputs": [
    {
     "data": {
      "text/plain": [
       "True"
      ]
     },
     "execution_count": 163,
     "metadata": {},
     "output_type": "execute_result"
    }
   ],
   "source": [
    "balanced('()')"
   ]
  },
  {
   "cell_type": "code",
   "execution_count": 164,
   "metadata": {
    "collapsed": false
   },
   "outputs": [
    {
     "data": {
      "text/plain": [
       "False"
      ]
     },
     "execution_count": 164,
     "metadata": {},
     "output_type": "execute_result"
    }
   ],
   "source": [
    "balanced('(()')"
   ]
  },
  {
   "cell_type": "code",
   "execution_count": 165,
   "metadata": {
    "collapsed": false
   },
   "outputs": [
    {
     "data": {
      "text/plain": [
       "True"
      ]
     },
     "execution_count": 165,
     "metadata": {},
     "output_type": "execute_result"
    }
   ],
   "source": [
    "balanced('(())')"
   ]
  },
  {
   "cell_type": "code",
   "execution_count": 166,
   "metadata": {
    "collapsed": false
   },
   "outputs": [
    {
     "data": {
      "text/plain": [
       "True"
      ]
     },
     "execution_count": 166,
     "metadata": {},
     "output_type": "execute_result"
    }
   ],
   "source": [
    "balanced('(([]))')"
   ]
  },
  {
   "cell_type": "code",
   "execution_count": 167,
   "metadata": {
    "collapsed": false
   },
   "outputs": [
    {
     "data": {
      "text/plain": [
       "True"
      ]
     },
     "execution_count": 167,
     "metadata": {},
     "output_type": "execute_result"
    }
   ],
   "source": [
    "balanced('([{<>}])')"
   ]
  },
  {
   "cell_type": "code",
   "execution_count": 168,
   "metadata": {
    "collapsed": false
   },
   "outputs": [
    {
     "data": {
      "text/plain": [
       "False"
      ]
     },
     "execution_count": 168,
     "metadata": {},
     "output_type": "execute_result"
    }
   ],
   "source": [
    "balanced('([{<}>])')"
   ]
  },
  {
   "cell_type": "raw",
   "metadata": {},
   "source": [
    "tree: \n",
    "\n",
    "       a \n",
    "   b       c\n",
    " d   e        f"
   ]
  },
  {
   "cell_type": "code",
   "execution_count": 169,
   "metadata": {
    "collapsed": false
   },
   "outputs": [],
   "source": [
    "tree = [('a', [('b', [('d', []),\n",
    "                      ('e', [])]),\n",
    "               ('c', [('f', [])])])]"
   ]
  },
  {
   "cell_type": "raw",
   "metadata": {},
   "source": [
    "       a \n",
    "   b       c\n",
    " d   e        f\n",
    "\n",
    "pre-order: \n",
    "\n",
    "a → b → \n",
    "       d → e \n",
    "  → c → \n",
    "       f"
   ]
  },
  {
   "cell_type": "code",
   "execution_count": 170,
   "metadata": {
    "collapsed": false
   },
   "outputs": [],
   "source": [
    "def preorder(tree):\n",
    "    stack = [tree[0]]\n",
    "    output = []\n",
    "    while stack:\n",
    "        value, children = stack.pop()\n",
    "        output.append(value)\n",
    "        stack.extend(reversed(children))\n",
    "    return output                "
   ]
  },
  {
   "cell_type": "code",
   "execution_count": 171,
   "metadata": {
    "collapsed": false
   },
   "outputs": [
    {
     "data": {
      "text/plain": [
       "['a', 'b', 'd', 'e', 'c', 'f']"
      ]
     },
     "execution_count": 171,
     "metadata": {},
     "output_type": "execute_result"
    }
   ],
   "source": [
    "preorder(tree)"
   ]
  },
  {
   "cell_type": "raw",
   "metadata": {},
   "source": [
    "       a \n",
    "   b       c\n",
    " d   e        f\n",
    "\n",
    "level order: \n",
    "\n",
    "a → \n",
    "    b → c → \n",
    "            d → e → f"
   ]
  },
  {
   "cell_type": "code",
   "execution_count": 172,
   "metadata": {
    "collapsed": false
   },
   "outputs": [],
   "source": [
    "from collections import deque\n",
    "\n",
    "def levelorder(tree):\n",
    "    queue = deque([tree[0]])\n",
    "    output = []\n",
    "    while queue:\n",
    "        value, children = queue.popleft()\n",
    "        output.append(value)\n",
    "        queue.extend(children)\n",
    "    return output                "
   ]
  },
  {
   "cell_type": "code",
   "execution_count": 173,
   "metadata": {
    "collapsed": false
   },
   "outputs": [
    {
     "data": {
      "text/plain": [
       "['a', 'b', 'c', 'd', 'e', 'f']"
      ]
     },
     "execution_count": 173,
     "metadata": {},
     "output_type": "execute_result"
    }
   ],
   "source": [
    "levelorder(tree)"
   ]
  },
  {
   "cell_type": "raw",
   "metadata": {},
   "source": [
    "good: madam, i'm adam\n",
    "bad:  a man, a plan, a canal: suez!"
   ]
  },
  {
   "cell_type": "code",
   "execution_count": 174,
   "metadata": {
    "collapsed": false
   },
   "outputs": [],
   "source": [
    "# deque supports both first-in, first-out (queue) & last-in, first-out (stack) behaviour\n",
    "\n",
    "from collections import deque\n",
    "from string import ascii_lowercase\n",
    "\n",
    "def palindrome(sentence):\n",
    "    letters = deque()\n",
    "    \n",
    "    for char in sentence:\n",
    "        char = char.lower()\n",
    "        if char in ascii_lowercase:\n",
    "            letters.append(char)\n",
    "    \n",
    "    while len(letters) > 1:\n",
    "        if letters.popleft() != letters.pop():\n",
    "            return False\n",
    "    \n",
    "    return True"
   ]
  },
  {
   "cell_type": "code",
   "execution_count": 175,
   "metadata": {
    "collapsed": false
   },
   "outputs": [
    {
     "data": {
      "text/plain": [
       "True"
      ]
     },
     "execution_count": 175,
     "metadata": {},
     "output_type": "execute_result"
    }
   ],
   "source": [
    "palindrome(\"madam, i'm adam\")"
   ]
  },
  {
   "cell_type": "code",
   "execution_count": 177,
   "metadata": {
    "collapsed": false
   },
   "outputs": [
    {
     "data": {
      "text/plain": [
       "True"
      ]
     },
     "execution_count": 177,
     "metadata": {},
     "output_type": "execute_result"
    }
   ],
   "source": [
    "palindrome(\"a man, a plan, a canal: panama!\")"
   ]
  },
  {
   "cell_type": "markdown",
   "metadata": {},
   "source": [
    "### `heapq` module"
   ]
  },
  {
   "cell_type": "markdown",
   "metadata": {},
   "source": [
    "https://docs.python.org/3/library/heapq.html"
   ]
  },
  {
   "cell_type": "code",
   "execution_count": 178,
   "metadata": {
    "collapsed": false
   },
   "outputs": [
    {
     "data": {
      "text/plain": [
       "[73, 1, 82, 8, 10, 75, 95, 26, 3, 38]"
      ]
     },
     "execution_count": 178,
     "metadata": {},
     "output_type": "execute_result"
    }
   ],
   "source": [
    "from random import randrange\n",
    "\n",
    "numbers = [randrange(0, 100) for _ in range(10)]\n",
    "numbers"
   ]
  },
  {
   "cell_type": "code",
   "execution_count": 179,
   "metadata": {
    "collapsed": false
   },
   "outputs": [
    {
     "data": {
      "text/plain": [
       "[1, 3, 75, 8, 10, 82, 95, 26, 73, 38]"
      ]
     },
     "execution_count": 179,
     "metadata": {},
     "output_type": "execute_result"
    }
   ],
   "source": [
    "from heapq import heapify\n",
    "\n",
    "heapify(numbers)\n",
    "numbers"
   ]
  },
  {
   "cell_type": "code",
   "execution_count": 181,
   "metadata": {
    "collapsed": false
   },
   "outputs": [
    {
     "data": {
      "text/plain": [
       "[1, 3, 55, 8, 10, 75, 95, 26, 73, 38, 55, 82]"
      ]
     },
     "execution_count": 181,
     "metadata": {},
     "output_type": "execute_result"
    }
   ],
   "source": [
    "from heapq import heappush\n",
    "\n",
    "heappush(numbers, 55)\n",
    "numbers"
   ]
  },
  {
   "cell_type": "code",
   "execution_count": 182,
   "metadata": {
    "collapsed": false
   },
   "outputs": [
    {
     "data": {
      "text/plain": [
       "([95, 82, 75], [1, 3, 8])"
      ]
     },
     "execution_count": 182,
     "metadata": {},
     "output_type": "execute_result"
    }
   ],
   "source": [
    "from heapq import nsmallest, nlargest\n",
    "\n",
    "nlargest(3, numbers), nsmallest(3, numbers)"
   ]
  },
  {
   "cell_type": "code",
   "execution_count": 183,
   "metadata": {
    "collapsed": false
   },
   "outputs": [
    {
     "name": "stdout",
     "output_type": "stream",
     "text": [
      "1\n",
      "3\n",
      "8\n",
      "10\n",
      "26\n",
      "38\n",
      "55\n",
      "55\n",
      "73\n",
      "75\n",
      "82\n",
      "95\n"
     ]
    }
   ],
   "source": [
    "from heapq import heappop\n",
    "\n",
    "while numbers:\n",
    "    print (heappop(numbers))"
   ]
  },
  {
   "cell_type": "markdown",
   "metadata": {},
   "source": [
    "### `bisect` module"
   ]
  },
  {
   "cell_type": "markdown",
   "metadata": {},
   "source": [
    "https://docs.python.org/3/library/bisect.html"
   ]
  },
  {
   "cell_type": "code",
   "execution_count": null,
   "metadata": {
    "collapsed": false
   },
   "outputs": [],
   "source": [
    "from random import randrange\n",
    "\n",
    "numbers = [randrange(0, 100) for _ in range(10)]\n",
    "numbers.sort()\n",
    "numbers"
   ]
  },
  {
   "cell_type": "code",
   "execution_count": null,
   "metadata": {
    "collapsed": false
   },
   "outputs": [],
   "source": [
    "from bisect import bisect\n",
    "bisect(numbers, 55)"
   ]
  },
  {
   "cell_type": "code",
   "execution_count": null,
   "metadata": {
    "collapsed": false
   },
   "outputs": [],
   "source": [
    "from bisect import insort\n",
    "insort(numbers, 55)\n",
    "numbers"
   ]
  },
  {
   "cell_type": "markdown",
   "metadata": {},
   "source": [
    "## Problem Statement: Phone Book"
   ]
  },
  {
   "cell_type": "raw",
   "metadata": {},
   "source": [
    "Write a set of functions to implement a personal rolodex (phone book.)\n",
    "- insert, remove\n",
    "- retreive by name\n",
    "- retrieve by details"
   ]
  },
  {
   "cell_type": "code",
   "execution_count": 1,
   "metadata": {
    "collapsed": false
   },
   "outputs": [],
   "source": [
    "phone_book = []"
   ]
  },
  {
   "cell_type": "code",
   "execution_count": 2,
   "metadata": {
    "collapsed": false
   },
   "outputs": [],
   "source": [
    "from collections import namedtuple\n",
    "Entry = namedtuple('Entry', 'name address birthday')"
   ]
  },
  {
   "cell_type": "code",
   "execution_count": 3,
   "metadata": {
    "collapsed": false
   },
   "outputs": [],
   "source": [
    "def add_entry(phone_book, name, address, birthday):\n",
    "    phone_book.append(Entry(name, address, birthday))"
   ]
  },
  {
   "cell_type": "code",
   "execution_count": 4,
   "metadata": {
    "collapsed": false
   },
   "outputs": [],
   "source": [
    "def display(phone_book):\n",
    "    for entry in phone_book:\n",
    "        print ('{e.name:<20} {e.address:^15} {e.birthday:%b %d, %Y}'.format(e=entry))"
   ]
  },
  {
   "cell_type": "code",
   "execution_count": 5,
   "metadata": {
    "collapsed": false
   },
   "outputs": [
    {
     "ename": "ValueError",
     "evalue": "year=1732 is before 1900; the datetime strftime() methods require year >= 1900",
     "output_type": "error",
     "traceback": [
      "\u001b[1;31m---------------------------------------------------------------------------\u001b[0m",
      "\u001b[1;31mValueError\u001b[0m                                Traceback (most recent call last)",
      "\u001b[1;32m<ipython-input-5-ac8448ce1ce7>\u001b[0m in \u001b[0;36m<module>\u001b[1;34m()\u001b[0m\n\u001b[0;32m      8\u001b[0m \u001b[0madd_entry\u001b[0m\u001b[1;33m(\u001b[0m\u001b[0mphone_book\u001b[0m\u001b[1;33m,\u001b[0m \u001b[1;34m'John F Kennedy'\u001b[0m\u001b[1;33m,\u001b[0m    \u001b[1;34m'Brookline'\u001b[0m\u001b[1;33m,\u001b[0m    \u001b[0mdate\u001b[0m\u001b[1;33m(\u001b[0m\u001b[1;36m1917\u001b[0m\u001b[1;33m,\u001b[0m  \u001b[1;36m5\u001b[0m\u001b[1;33m,\u001b[0m \u001b[1;36m29\u001b[0m\u001b[1;33m)\u001b[0m\u001b[1;33m)\u001b[0m\u001b[1;33m\u001b[0m\u001b[0m\n\u001b[0;32m      9\u001b[0m \u001b[1;33m\u001b[0m\u001b[0m\n\u001b[1;32m---> 10\u001b[1;33m \u001b[0mdisplay\u001b[0m\u001b[1;33m(\u001b[0m\u001b[0mphone_book\u001b[0m\u001b[1;33m)\u001b[0m\u001b[1;33m\u001b[0m\u001b[0m\n\u001b[0m",
      "\u001b[1;32m<ipython-input-4-8963e3d73a04>\u001b[0m in \u001b[0;36mdisplay\u001b[1;34m(phone_book)\u001b[0m\n\u001b[0;32m      1\u001b[0m \u001b[1;32mdef\u001b[0m \u001b[0mdisplay\u001b[0m\u001b[1;33m(\u001b[0m\u001b[0mphone_book\u001b[0m\u001b[1;33m)\u001b[0m\u001b[1;33m:\u001b[0m\u001b[1;33m\u001b[0m\u001b[0m\n\u001b[0;32m      2\u001b[0m     \u001b[1;32mfor\u001b[0m \u001b[0mentry\u001b[0m \u001b[1;32min\u001b[0m \u001b[0mphone_book\u001b[0m\u001b[1;33m:\u001b[0m\u001b[1;33m\u001b[0m\u001b[0m\n\u001b[1;32m----> 3\u001b[1;33m         \u001b[1;32mprint\u001b[0m \u001b[1;33m(\u001b[0m\u001b[1;34m'{e.name:<20} {e.address:^15} {e.birthday:%b %d, %Y}'\u001b[0m\u001b[1;33m.\u001b[0m\u001b[0mformat\u001b[0m\u001b[1;33m(\u001b[0m\u001b[0me\u001b[0m\u001b[1;33m=\u001b[0m\u001b[0mentry\u001b[0m\u001b[1;33m)\u001b[0m\u001b[1;33m)\u001b[0m\u001b[1;33m\u001b[0m\u001b[0m\n\u001b[0m",
      "\u001b[1;31mValueError\u001b[0m: year=1732 is before 1900; the datetime strftime() methods require year >= 1900"
     ]
    }
   ],
   "source": [
    "from datetime import date\n",
    "\n",
    "add_entry(phone_book, 'George Washington', 'Westmoreland', date(1732,  2, 22))\n",
    "add_entry(phone_book, 'James Monroe',      'Monroe Hall',  date(1758,  4, 28))\n",
    "add_entry(phone_book, 'John Quincy Adams', 'Braintree',    date(1767,  7, 11))\n",
    "add_entry(phone_book, 'John Adams',        'Braintree',    date(1735, 10, 30))\n",
    "add_entry(phone_book, 'John Tyler',        'Charles City', date(1790,  3, 29))\n",
    "add_entry(phone_book, 'John F Kennedy',    'Brookline',    date(1917,  5, 29))\n",
    "\n",
    "display(phone_book)"
   ]
  },
  {
   "cell_type": "code",
   "execution_count": 6,
   "metadata": {
    "collapsed": false
   },
   "outputs": [],
   "source": [
    "def remove_entry_by_name(phone_book, name):\n",
    "    to_remove = []\n",
    "    for entry in phone_book:\n",
    "        if entry.name == name:\n",
    "            to_remove.append(entry)\n",
    "            \n",
    "    for entry in to_remove:\n",
    "        phone_book.remove(entry)"
   ]
  },
  {
   "cell_type": "code",
   "execution_count": 7,
   "metadata": {
    "collapsed": false
   },
   "outputs": [
    {
     "ename": "ValueError",
     "evalue": "year=1758 is before 1900; the datetime strftime() methods require year >= 1900",
     "output_type": "error",
     "traceback": [
      "\u001b[1;31m---------------------------------------------------------------------------\u001b[0m",
      "\u001b[1;31mValueError\u001b[0m                                Traceback (most recent call last)",
      "\u001b[1;32m<ipython-input-7-dcf886d5ff65>\u001b[0m in \u001b[0;36m<module>\u001b[1;34m()\u001b[0m\n\u001b[0;32m      1\u001b[0m \u001b[0mremove_entry_by_name\u001b[0m\u001b[1;33m(\u001b[0m\u001b[0mphone_book\u001b[0m\u001b[1;33m,\u001b[0m \u001b[1;34m'George Washington'\u001b[0m\u001b[1;33m)\u001b[0m\u001b[1;33m\u001b[0m\u001b[0m\n\u001b[1;32m----> 2\u001b[1;33m \u001b[0mdisplay\u001b[0m\u001b[1;33m(\u001b[0m\u001b[0mphone_book\u001b[0m\u001b[1;33m)\u001b[0m\u001b[1;33m\u001b[0m\u001b[0m\n\u001b[0m",
      "\u001b[1;32m<ipython-input-4-8963e3d73a04>\u001b[0m in \u001b[0;36mdisplay\u001b[1;34m(phone_book)\u001b[0m\n\u001b[0;32m      1\u001b[0m \u001b[1;32mdef\u001b[0m \u001b[0mdisplay\u001b[0m\u001b[1;33m(\u001b[0m\u001b[0mphone_book\u001b[0m\u001b[1;33m)\u001b[0m\u001b[1;33m:\u001b[0m\u001b[1;33m\u001b[0m\u001b[0m\n\u001b[0;32m      2\u001b[0m     \u001b[1;32mfor\u001b[0m \u001b[0mentry\u001b[0m \u001b[1;32min\u001b[0m \u001b[0mphone_book\u001b[0m\u001b[1;33m:\u001b[0m\u001b[1;33m\u001b[0m\u001b[0m\n\u001b[1;32m----> 3\u001b[1;33m         \u001b[1;32mprint\u001b[0m \u001b[1;33m(\u001b[0m\u001b[1;34m'{e.name:<20} {e.address:^15} {e.birthday:%b %d, %Y}'\u001b[0m\u001b[1;33m.\u001b[0m\u001b[0mformat\u001b[0m\u001b[1;33m(\u001b[0m\u001b[0me\u001b[0m\u001b[1;33m=\u001b[0m\u001b[0mentry\u001b[0m\u001b[1;33m)\u001b[0m\u001b[1;33m)\u001b[0m\u001b[1;33m\u001b[0m\u001b[0m\n\u001b[0m",
      "\u001b[1;31mValueError\u001b[0m: year=1758 is before 1900; the datetime strftime() methods require year >= 1900"
     ]
    }
   ],
   "source": [
    "remove_entry_by_name(phone_book, 'George Washington')\n",
    "display(phone_book)"
   ]
  },
  {
   "cell_type": "code",
   "execution_count": null,
   "metadata": {
    "collapsed": false
   },
   "outputs": [],
   "source": [
    "def remove_entry_by_fuzzy_name(phone_book, name):\n",
    "    to_remove = []\n",
    "    for entry in phone_book:\n",
    "        if name.lower() in entry.name.lower():\n",
    "            to_remove.append(entry)\n",
    "            \n",
    "    for entry in to_remove:\n",
    "        phone_book.remove(entry)"
   ]
  },
  {
   "cell_type": "code",
   "execution_count": null,
   "metadata": {
    "collapsed": false
   },
   "outputs": [],
   "source": [
    "remove_entry_by_fuzzy_name(phone_book, 'john')\n",
    "display(phone_book)"
   ]
  },
  {
   "cell_type": "code",
   "execution_count": null,
   "metadata": {
    "collapsed": false
   },
   "outputs": [],
   "source": [
    "def add_entry(phone_book, name, address, birthday):\n",
    "    remove_entry_by_name(phone_book, name)\n",
    "    phone_book.append(Entry(name, address, birthday))"
   ]
  },
  {
   "cell_type": "code",
   "execution_count": null,
   "metadata": {
    "collapsed": false
   },
   "outputs": [],
   "source": [
    "def retrieve_entry_by_address(phone_book, address):\n",
    "    rv = []\n",
    "    for entry in phone_book:\n",
    "        if address.lower() in entry.address.lower():\n",
    "            rv.append(entry)\n",
    "    return rv"
   ]
  },
  {
   "cell_type": "code",
   "execution_count": null,
   "metadata": {
    "collapsed": false
   },
   "outputs": [],
   "source": [
    "display(retrieve_entry_by_address(phone_book, 'braintree'))"
   ]
  },
  {
   "cell_type": "code",
   "execution_count": null,
   "metadata": {
    "collapsed": false
   },
   "outputs": [],
   "source": [
    "from datetime import date\n",
    "\n",
    "def age(entry):\n",
    "    return date(2015, 1, 1) - entry.birthday"
   ]
  },
  {
   "cell_type": "code",
   "execution_count": null,
   "metadata": {
    "collapsed": false
   },
   "outputs": [],
   "source": [
    "def retrieve_entry_by_name(phone_book, name):\n",
    "    rv = []\n",
    "    for entry in phone_book:\n",
    "        if name.lower() in entry.name.lower():\n",
    "            rv.append(entry)\n",
    "    return rv"
   ]
  },
  {
   "cell_type": "code",
   "execution_count": null,
   "metadata": {
    "collapsed": false
   },
   "outputs": [],
   "source": [
    "display(sorted(retrieve_entry_by_name(phone_book, 'john'), key=age))"
   ]
  }
 ],
 "metadata": {
  "kernelspec": {
   "display_name": "Python 2",
   "language": "python",
   "name": "python2"
  },
  "language_info": {
   "codemirror_mode": {
    "name": "ipython",
    "version": 2
   },
   "file_extension": ".py",
   "mimetype": "text/x-python",
   "name": "python",
   "nbconvert_exporter": "python",
   "pygments_lexer": "ipython2",
   "version": "2.7.11"
  }
 },
 "nbformat": 4,
 "nbformat_minor": 0
}
