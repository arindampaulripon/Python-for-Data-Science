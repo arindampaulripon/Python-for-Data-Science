{
 "cells": [
  {
   "cell_type": "markdown",
   "metadata": {},
   "source": [
    "# set"
   ]
  },
  {
   "cell_type": "markdown",
   "metadata": {},
   "source": [
    "- collection of items\n",
    "- no natural sorting\n",
    "- unique items\n",
    "- hashability\n",
    "- methods: intersect, difference, union ..."
   ]
  },
  {
   "cell_type": "markdown",
   "metadata": {},
   "source": [
    "### interacting with the ```set```-type"
   ]
  },
  {
   "cell_type": "code",
   "execution_count": 3,
   "metadata": {
    "collapsed": true
   },
   "outputs": [],
   "source": [
    "suits = {'hearts', 'diamonds', 'spades', 'clubs', }\n",
    "\n",
    "faces = set(['ace', 'king', 'queen', 'jack'])\n",
    "\n",
    "numbers = set(range(2,11))"
   ]
  },
  {
   "cell_type": "code",
   "execution_count": 4,
   "metadata": {
    "collapsed": false
   },
   "outputs": [
    {
     "data": {
      "text/plain": [
       "{'clubs', 'diamonds', 'hearts', 'spades'}"
      ]
     },
     "execution_count": 4,
     "metadata": {},
     "output_type": "execute_result"
    }
   ],
   "source": [
    "suits"
   ]
  },
  {
   "cell_type": "code",
   "execution_count": 5,
   "metadata": {
    "collapsed": false
   },
   "outputs": [
    {
     "data": {
      "text/plain": [
       "{'ace', 'jack', 'king', 'queen'}"
      ]
     },
     "execution_count": 5,
     "metadata": {},
     "output_type": "execute_result"
    }
   ],
   "source": [
    "faces"
   ]
  },
  {
   "cell_type": "code",
   "execution_count": 6,
   "metadata": {
    "collapsed": false
   },
   "outputs": [
    {
     "data": {
      "text/plain": [
       "{2, 3, 4, 5, 6, 7, 8, 9, 10}"
      ]
     },
     "execution_count": 6,
     "metadata": {},
     "output_type": "execute_result"
    }
   ],
   "source": [
    "numbers"
   ]
  },
  {
   "cell_type": "code",
   "execution_count": 7,
   "metadata": {
    "collapsed": false
   },
   "outputs": [
    {
     "data": {
      "text/plain": [
       "{'10 of clubs',\n",
       " '10 of diamonds',\n",
       " '10 of hearts',\n",
       " '10 of spades',\n",
       " '2 of clubs',\n",
       " '2 of diamonds',\n",
       " '2 of hearts',\n",
       " '2 of spades',\n",
       " '3 of clubs',\n",
       " '3 of diamonds',\n",
       " '3 of hearts',\n",
       " '3 of spades',\n",
       " '4 of clubs',\n",
       " '4 of diamonds',\n",
       " '4 of hearts',\n",
       " '4 of spades',\n",
       " '5 of clubs',\n",
       " '5 of diamonds',\n",
       " '5 of hearts',\n",
       " '5 of spades',\n",
       " '6 of clubs',\n",
       " '6 of diamonds',\n",
       " '6 of hearts',\n",
       " '6 of spades',\n",
       " '7 of clubs',\n",
       " '7 of diamonds',\n",
       " '7 of hearts',\n",
       " '7 of spades',\n",
       " '8 of clubs',\n",
       " '8 of diamonds',\n",
       " '8 of hearts',\n",
       " '8 of spades',\n",
       " '9 of clubs',\n",
       " '9 of diamonds',\n",
       " '9 of hearts',\n",
       " '9 of spades',\n",
       " 'ace of clubs',\n",
       " 'ace of diamonds',\n",
       " 'ace of hearts',\n",
       " 'ace of spades',\n",
       " 'jack of clubs',\n",
       " 'jack of diamonds',\n",
       " 'jack of hearts',\n",
       " 'jack of spades',\n",
       " 'king of clubs',\n",
       " 'king of diamonds',\n",
       " 'king of hearts',\n",
       " 'king of spades',\n",
       " 'queen of clubs',\n",
       " 'queen of diamonds',\n",
       " 'queen of hearts',\n",
       " 'queen of spades'}"
      ]
     },
     "execution_count": 7,
     "metadata": {},
     "output_type": "execute_result"
    }
   ],
   "source": [
    "deck = set() # {} means \"empty dictionary\"\n",
    "\n",
    "for suit in suits:\n",
    "    for number in numbers:\n",
    "        deck.add('{} of {}'.format(number, suit))\n",
    "    for face in faces:\n",
    "        deck.add('{} of {}'.format(face,suit))\n",
    "        \n",
    "deck"
   ]
  },
  {
   "cell_type": "code",
   "execution_count": 8,
   "metadata": {
    "collapsed": false
   },
   "outputs": [
    {
     "ename": "TypeError",
     "evalue": "'set' object does not support indexing",
     "output_type": "error",
     "traceback": [
      "\u001b[1;31m---------------------------------------------------------------------------\u001b[0m",
      "\u001b[1;31mTypeError\u001b[0m                                 Traceback (most recent call last)",
      "\u001b[1;32m<ipython-input-8-a822d7d0923e>\u001b[0m in \u001b[0;36m<module>\u001b[1;34m()\u001b[0m\n\u001b[1;32m----> 1\u001b[1;33m \u001b[0mdeck\u001b[0m\u001b[1;33m[\u001b[0m\u001b[1;36m0\u001b[0m\u001b[1;33m]\u001b[0m \u001b[1;31m# set type does not support indexing!\u001b[0m\u001b[1;33m\u001b[0m\u001b[0m\n\u001b[0m",
      "\u001b[1;31mTypeError\u001b[0m: 'set' object does not support indexing"
     ]
    }
   ],
   "source": [
    "deck[0] # set type does not support indexing!"
   ]
  },
  {
   "cell_type": "code",
   "execution_count": 9,
   "metadata": {
    "collapsed": false
   },
   "outputs": [
    {
     "ename": "TypeError",
     "evalue": "'set' object does not support indexing",
     "output_type": "error",
     "traceback": [
      "\u001b[1;31m---------------------------------------------------------------------------\u001b[0m",
      "\u001b[1;31mTypeError\u001b[0m                                 Traceback (most recent call last)",
      "\u001b[1;32m<ipython-input-9-80296b035893>\u001b[0m in \u001b[0;36m<module>\u001b[1;34m()\u001b[0m\n\u001b[0;32m      1\u001b[0m \u001b[1;32mfrom\u001b[0m \u001b[0mrandom\u001b[0m \u001b[1;32mimport\u001b[0m \u001b[0mchoice\u001b[0m\u001b[1;33m\u001b[0m\u001b[0m\n\u001b[0;32m      2\u001b[0m \u001b[1;33m\u001b[0m\u001b[0m\n\u001b[1;32m----> 3\u001b[1;33m \u001b[0mchoice\u001b[0m\u001b[1;33m(\u001b[0m\u001b[0mdeck\u001b[0m\u001b[1;33m)\u001b[0m \u001b[1;31m# set type does not support indexing!\u001b[0m\u001b[1;33m\u001b[0m\u001b[0m\n\u001b[0m",
      "\u001b[1;32mC:\\Users\\Raghav\\Anaconda\\lib\\random.pyc\u001b[0m in \u001b[0;36mchoice\u001b[1;34m(self, seq)\u001b[0m\n\u001b[0;32m    273\u001b[0m     \u001b[1;32mdef\u001b[0m \u001b[0mchoice\u001b[0m\u001b[1;33m(\u001b[0m\u001b[0mself\u001b[0m\u001b[1;33m,\u001b[0m \u001b[0mseq\u001b[0m\u001b[1;33m)\u001b[0m\u001b[1;33m:\u001b[0m\u001b[1;33m\u001b[0m\u001b[0m\n\u001b[0;32m    274\u001b[0m         \u001b[1;34m\"\"\"Choose a random element from a non-empty sequence.\"\"\"\u001b[0m\u001b[1;33m\u001b[0m\u001b[0m\n\u001b[1;32m--> 275\u001b[1;33m         \u001b[1;32mreturn\u001b[0m \u001b[0mseq\u001b[0m\u001b[1;33m[\u001b[0m\u001b[0mint\u001b[0m\u001b[1;33m(\u001b[0m\u001b[0mself\u001b[0m\u001b[1;33m.\u001b[0m\u001b[0mrandom\u001b[0m\u001b[1;33m(\u001b[0m\u001b[1;33m)\u001b[0m \u001b[1;33m*\u001b[0m \u001b[0mlen\u001b[0m\u001b[1;33m(\u001b[0m\u001b[0mseq\u001b[0m\u001b[1;33m)\u001b[0m\u001b[1;33m)\u001b[0m\u001b[1;33m]\u001b[0m  \u001b[1;31m# raises IndexError if seq is empty\u001b[0m\u001b[1;33m\u001b[0m\u001b[0m\n\u001b[0m\u001b[0;32m    276\u001b[0m \u001b[1;33m\u001b[0m\u001b[0m\n\u001b[0;32m    277\u001b[0m     \u001b[1;32mdef\u001b[0m \u001b[0mshuffle\u001b[0m\u001b[1;33m(\u001b[0m\u001b[0mself\u001b[0m\u001b[1;33m,\u001b[0m \u001b[0mx\u001b[0m\u001b[1;33m,\u001b[0m \u001b[0mrandom\u001b[0m\u001b[1;33m=\u001b[0m\u001b[0mNone\u001b[0m\u001b[1;33m)\u001b[0m\u001b[1;33m:\u001b[0m\u001b[1;33m\u001b[0m\u001b[0m\n",
      "\u001b[1;31mTypeError\u001b[0m: 'set' object does not support indexing"
     ]
    }
   ],
   "source": [
    "from random import choice\n",
    "\n",
    "choice(deck) # set type does not support indexing!"
   ]
  },
  {
   "cell_type": "code",
   "execution_count": 10,
   "metadata": {
    "collapsed": false
   },
   "outputs": [
    {
     "ename": "TypeError",
     "evalue": "'set' object does not support indexing",
     "output_type": "error",
     "traceback": [
      "\u001b[1;31m---------------------------------------------------------------------------\u001b[0m",
      "\u001b[1;31mTypeError\u001b[0m                                 Traceback (most recent call last)",
      "\u001b[1;32m<ipython-input-10-5abfd9dd890b>\u001b[0m in \u001b[0;36m<module>\u001b[1;34m()\u001b[0m\n\u001b[0;32m      1\u001b[0m \u001b[1;32mfrom\u001b[0m \u001b[0mrandom\u001b[0m \u001b[1;32mimport\u001b[0m \u001b[0mshuffle\u001b[0m\u001b[1;33m\u001b[0m\u001b[0m\n\u001b[0;32m      2\u001b[0m \u001b[1;33m\u001b[0m\u001b[0m\n\u001b[1;32m----> 3\u001b[1;33m \u001b[0mshuffle\u001b[0m\u001b[1;33m(\u001b[0m\u001b[0mdeck\u001b[0m\u001b[1;33m)\u001b[0m\u001b[1;33m\u001b[0m\u001b[0m\n\u001b[0m",
      "\u001b[1;32mC:\\Users\\Raghav\\Anaconda\\lib\\random.pyc\u001b[0m in \u001b[0;36mshuffle\u001b[1;34m(self, x, random)\u001b[0m\n\u001b[0;32m    289\u001b[0m             \u001b[1;31m# pick an element in x[:i+1] with which to exchange x[i]\u001b[0m\u001b[1;33m\u001b[0m\u001b[1;33m\u001b[0m\u001b[0m\n\u001b[0;32m    290\u001b[0m             \u001b[0mj\u001b[0m \u001b[1;33m=\u001b[0m \u001b[0m_int\u001b[0m\u001b[1;33m(\u001b[0m\u001b[0mrandom\u001b[0m\u001b[1;33m(\u001b[0m\u001b[1;33m)\u001b[0m \u001b[1;33m*\u001b[0m \u001b[1;33m(\u001b[0m\u001b[0mi\u001b[0m\u001b[1;33m+\u001b[0m\u001b[1;36m1\u001b[0m\u001b[1;33m)\u001b[0m\u001b[1;33m)\u001b[0m\u001b[1;33m\u001b[0m\u001b[0m\n\u001b[1;32m--> 291\u001b[1;33m             \u001b[0mx\u001b[0m\u001b[1;33m[\u001b[0m\u001b[0mi\u001b[0m\u001b[1;33m]\u001b[0m\u001b[1;33m,\u001b[0m \u001b[0mx\u001b[0m\u001b[1;33m[\u001b[0m\u001b[0mj\u001b[0m\u001b[1;33m]\u001b[0m \u001b[1;33m=\u001b[0m \u001b[0mx\u001b[0m\u001b[1;33m[\u001b[0m\u001b[0mj\u001b[0m\u001b[1;33m]\u001b[0m\u001b[1;33m,\u001b[0m \u001b[0mx\u001b[0m\u001b[1;33m[\u001b[0m\u001b[0mi\u001b[0m\u001b[1;33m]\u001b[0m\u001b[1;33m\u001b[0m\u001b[0m\n\u001b[0m\u001b[0;32m    292\u001b[0m \u001b[1;33m\u001b[0m\u001b[0m\n\u001b[0;32m    293\u001b[0m     \u001b[1;32mdef\u001b[0m \u001b[0msample\u001b[0m\u001b[1;33m(\u001b[0m\u001b[0mself\u001b[0m\u001b[1;33m,\u001b[0m \u001b[0mpopulation\u001b[0m\u001b[1;33m,\u001b[0m \u001b[0mk\u001b[0m\u001b[1;33m)\u001b[0m\u001b[1;33m:\u001b[0m\u001b[1;33m\u001b[0m\u001b[0m\n",
      "\u001b[1;31mTypeError\u001b[0m: 'set' object does not support indexing"
     ]
    }
   ],
   "source": [
    "from random import shuffle\n",
    "\n",
    "shuffle(deck)"
   ]
  },
  {
   "cell_type": "code",
   "execution_count": 11,
   "metadata": {
    "collapsed": false
   },
   "outputs": [
    {
     "ename": "RuntimeError",
     "evalue": "Set changed size during iteration",
     "output_type": "error",
     "traceback": [
      "\u001b[1;31m---------------------------------------------------------------------------\u001b[0m",
      "\u001b[1;31mRuntimeError\u001b[0m                              Traceback (most recent call last)",
      "\u001b[1;32m<ipython-input-11-b8c43c28012f>\u001b[0m in \u001b[0;36m<module>\u001b[1;34m()\u001b[0m\n\u001b[0;32m      1\u001b[0m \u001b[0mhand\u001b[0m \u001b[1;33m=\u001b[0m \u001b[0mset\u001b[0m\u001b[1;33m(\u001b[0m\u001b[1;33m)\u001b[0m\u001b[1;33m\u001b[0m\u001b[0m\n\u001b[0;32m      2\u001b[0m \u001b[1;33m\u001b[0m\u001b[0m\n\u001b[1;32m----> 3\u001b[1;33m \u001b[1;32mfor\u001b[0m \u001b[0mcard\u001b[0m \u001b[1;32min\u001b[0m \u001b[0mdeck\u001b[0m\u001b[1;33m:\u001b[0m\u001b[1;33m\u001b[0m\u001b[0m\n\u001b[0m\u001b[0;32m      4\u001b[0m     \u001b[1;32mif\u001b[0m \u001b[0mlen\u001b[0m\u001b[1;33m(\u001b[0m\u001b[0mhand\u001b[0m\u001b[1;33m)\u001b[0m \u001b[1;33m<\u001b[0m \u001b[1;36m5\u001b[0m\u001b[1;33m:\u001b[0m\u001b[1;33m\u001b[0m\u001b[0m\n\u001b[0;32m      5\u001b[0m         \u001b[0mhand\u001b[0m\u001b[1;33m.\u001b[0m\u001b[0madd\u001b[0m\u001b[1;33m(\u001b[0m\u001b[0mcard\u001b[0m\u001b[1;33m)\u001b[0m\u001b[1;33m\u001b[0m\u001b[0m\n",
      "\u001b[1;31mRuntimeError\u001b[0m: Set changed size during iteration"
     ]
    }
   ],
   "source": [
    "hand = set()\n",
    "\n",
    "for card in deck:\n",
    "    if len(hand) < 5:\n",
    "        hand.add(card)\n",
    "        deck.remove(card)\n",
    "        \n",
    "hand"
   ]
  },
  {
   "cell_type": "code",
   "execution_count": 12,
   "metadata": {
    "collapsed": false
   },
   "outputs": [
    {
     "data": {
      "text/plain": [
       "{'2 of spades', '7 of spades'}"
      ]
     },
     "execution_count": 12,
     "metadata": {},
     "output_type": "execute_result"
    }
   ],
   "source": [
    "hand = set()\n",
    "\n",
    "for card in deck:\n",
    "    if len(hand) < 2:\n",
    "        hand.add(card)\n",
    "        \n",
    "for card in hand:\n",
    "    deck.remove(card)\n",
    "    \n",
    "hand"
   ]
  },
  {
   "cell_type": "code",
   "execution_count": 13,
   "metadata": {
    "collapsed": false
   },
   "outputs": [
    {
     "data": {
      "text/plain": [
       "{'7 of hearts', '9 of hearts', 'jack of diamonds'}"
      ]
     },
     "execution_count": 13,
     "metadata": {},
     "output_type": "execute_result"
    }
   ],
   "source": [
    "board = set()\n",
    "\n",
    "for card in range(3):\n",
    "    board.add(deck.pop())\n",
    "    \n",
    "board"
   ]
  },
  {
   "cell_type": "code",
   "execution_count": 14,
   "metadata": {
    "collapsed": false
   },
   "outputs": [
    {
     "data": {
      "text/plain": [
       "{'2 of spades',\n",
       " '7 of hearts',\n",
       " '7 of spades',\n",
       " '9 of hearts',\n",
       " 'jack of diamonds'}"
      ]
     },
     "execution_count": 14,
     "metadata": {},
     "output_type": "execute_result"
    }
   ],
   "source": [
    "board | hand # Union"
   ]
  },
  {
   "cell_type": "code",
   "execution_count": 15,
   "metadata": {
    "collapsed": false
   },
   "outputs": [
    {
     "data": {
      "text/plain": [
       "{'2 of spades',\n",
       " '7 of hearts',\n",
       " '7 of spades',\n",
       " '9 of hearts',\n",
       " 'jack of diamonds'}"
      ]
     },
     "execution_count": 15,
     "metadata": {},
     "output_type": "execute_result"
    }
   ],
   "source": [
    "board.union(hand) # second way to union"
   ]
  },
  {
   "cell_type": "code",
   "execution_count": 16,
   "metadata": {
    "collapsed": true
   },
   "outputs": [],
   "source": [
    "deck.add('High Joker')\n",
    "deck.add('Low Joker')"
   ]
  },
  {
   "cell_type": "code",
   "execution_count": 17,
   "metadata": {
    "collapsed": false
   },
   "outputs": [],
   "source": [
    "deck.remove('High Joker')\n",
    "deck.remove('Low Joker')"
   ]
  },
  {
   "cell_type": "code",
   "execution_count": 18,
   "metadata": {
    "collapsed": true
   },
   "outputs": [],
   "source": [
    "deck.discard('rules of five-card stud')"
   ]
  },
  {
   "cell_type": "code",
   "execution_count": 19,
   "metadata": {
    "collapsed": false
   },
   "outputs": [
    {
     "data": {
      "text/plain": [
       "{'10 of clubs',\n",
       " '10 of diamonds',\n",
       " '10 of hearts',\n",
       " '10 of spades',\n",
       " '2 of clubs',\n",
       " '2 of diamonds',\n",
       " '2 of hearts',\n",
       " '2 of spades',\n",
       " '3 of clubs',\n",
       " '3 of diamonds',\n",
       " '3 of hearts',\n",
       " '3 of spades',\n",
       " '4 of clubs',\n",
       " '4 of diamonds',\n",
       " '4 of hearts',\n",
       " '4 of spades',\n",
       " '5 of clubs',\n",
       " '5 of diamonds',\n",
       " '5 of hearts',\n",
       " '5 of spades',\n",
       " '6 of clubs',\n",
       " '6 of diamonds',\n",
       " '6 of hearts',\n",
       " '6 of spades',\n",
       " '7 of clubs',\n",
       " '7 of diamonds',\n",
       " '7 of hearts',\n",
       " '7 of spades',\n",
       " '8 of clubs',\n",
       " '8 of diamonds',\n",
       " '8 of hearts',\n",
       " '8 of spades',\n",
       " '9 of clubs',\n",
       " '9 of diamonds',\n",
       " '9 of hearts',\n",
       " '9 of spades',\n",
       " 'ace of clubs',\n",
       " 'ace of diamonds',\n",
       " 'ace of hearts',\n",
       " 'ace of spades',\n",
       " 'high Joker',\n",
       " 'jack of clubs',\n",
       " 'jack of diamonds',\n",
       " 'jack of hearts',\n",
       " 'jack of spades',\n",
       " 'king of clubs',\n",
       " 'king of diamonds',\n",
       " 'king of hearts',\n",
       " 'king of spades',\n",
       " 'low Joker',\n",
       " 'queen of clubs',\n",
       " 'queen of diamonds',\n",
       " 'queen of hearts',\n",
       " 'queen of spades'}"
      ]
     },
     "execution_count": 19,
     "metadata": {},
     "output_type": "execute_result"
    }
   ],
   "source": [
    "deck = { '{} of {}'.format(rank, suit) for rank in numbers | faces \n",
    "                                           for suit in suits}\n",
    "\n",
    "deck.update({'high Joker', 'low Joker'})\n",
    "\n",
    "deck"
   ]
  },
  {
   "cell_type": "code",
   "execution_count": 20,
   "metadata": {
    "collapsed": false
   },
   "outputs": [
    {
     "data": {
      "text/plain": [
       "{Card(suit='clubs', rank=2),\n",
       " Card(suit='clubs', rank=3),\n",
       " Card(suit='clubs', rank=4),\n",
       " Card(suit='clubs', rank=5),\n",
       " Card(suit='clubs', rank=6),\n",
       " Card(suit='clubs', rank=7),\n",
       " Card(suit='clubs', rank=8),\n",
       " Card(suit='clubs', rank=9),\n",
       " Card(suit='clubs', rank=10),\n",
       " Card(suit='clubs', rank='ace'),\n",
       " Card(suit='clubs', rank='jack'),\n",
       " Card(suit='clubs', rank='king'),\n",
       " Card(suit='clubs', rank='queen'),\n",
       " Card(suit='diamonds', rank=2),\n",
       " Card(suit='diamonds', rank=3),\n",
       " Card(suit='diamonds', rank=4),\n",
       " Card(suit='diamonds', rank=5),\n",
       " Card(suit='diamonds', rank=6),\n",
       " Card(suit='diamonds', rank=7),\n",
       " Card(suit='diamonds', rank=8),\n",
       " Card(suit='diamonds', rank=9),\n",
       " Card(suit='diamonds', rank=10),\n",
       " Card(suit='diamonds', rank='ace'),\n",
       " Card(suit='diamonds', rank='jack'),\n",
       " Card(suit='diamonds', rank='king'),\n",
       " Card(suit='diamonds', rank='queen'),\n",
       " Card(suit='hearts', rank=2),\n",
       " Card(suit='hearts', rank=3),\n",
       " Card(suit='hearts', rank=4),\n",
       " Card(suit='hearts', rank=5),\n",
       " Card(suit='hearts', rank=6),\n",
       " Card(suit='hearts', rank=7),\n",
       " Card(suit='hearts', rank=8),\n",
       " Card(suit='hearts', rank=9),\n",
       " Card(suit='hearts', rank=10),\n",
       " Card(suit='hearts', rank='ace'),\n",
       " Card(suit='hearts', rank='jack'),\n",
       " Card(suit='hearts', rank='king'),\n",
       " Card(suit='hearts', rank='queen'),\n",
       " Card(suit='spades', rank=2),\n",
       " Card(suit='spades', rank=3),\n",
       " Card(suit='spades', rank=4),\n",
       " Card(suit='spades', rank=5),\n",
       " Card(suit='spades', rank=6),\n",
       " Card(suit='spades', rank=7),\n",
       " Card(suit='spades', rank=8),\n",
       " Card(suit='spades', rank=9),\n",
       " Card(suit='spades', rank=10),\n",
       " Card(suit='spades', rank='ace'),\n",
       " Card(suit='spades', rank='jack'),\n",
       " Card(suit='spades', rank='king'),\n",
       " Card(suit='spades', rank='queen')}"
      ]
     },
     "execution_count": 20,
     "metadata": {},
     "output_type": "execute_result"
    }
   ],
   "source": [
    "from collections import namedtuple\n",
    "\n",
    "Card = namedtuple('Card', 'suit rank')\n",
    "\n",
    "deck = {Card(suit,rank) for rank in numbers | faces\n",
    "                           for suit in suits}\n",
    "\n",
    "deck"
   ]
  },
  {
   "cell_type": "code",
   "execution_count": 21,
   "metadata": {
    "collapsed": false
   },
   "outputs": [
    {
     "ename": "TypeError",
     "evalue": "unhashable type: 'set'",
     "output_type": "error",
     "traceback": [
      "\u001b[1;31m---------------------------------------------------------------------------\u001b[0m",
      "\u001b[1;31mTypeError\u001b[0m                                 Traceback (most recent call last)",
      "\u001b[1;32m<ipython-input-21-f1b796e51785>\u001b[0m in \u001b[0;36m<module>\u001b[1;34m()\u001b[0m\n\u001b[1;32m----> 1\u001b[1;33m \u001b[0mvalid_straights\u001b[0m \u001b[1;33m=\u001b[0m \u001b[1;33m{\u001b[0m\u001b[0mset\u001b[0m\u001b[1;33m(\u001b[0m\u001b[0mrange\u001b[0m\u001b[1;33m(\u001b[0m\u001b[0mn\u001b[0m\u001b[1;33m,\u001b[0m \u001b[0mn\u001b[0m\u001b[1;33m+\u001b[0m\u001b[1;36m5\u001b[0m\u001b[1;33m)\u001b[0m\u001b[1;33m)\u001b[0m \u001b[1;32mfor\u001b[0m \u001b[0mn\u001b[0m \u001b[1;32min\u001b[0m \u001b[0mrange\u001b[0m\u001b[1;33m(\u001b[0m\u001b[1;36m2\u001b[0m\u001b[1;33m,\u001b[0m\u001b[1;36m7\u001b[0m\u001b[1;33m)\u001b[0m\u001b[1;33m}\u001b[0m\u001b[1;33m\u001b[0m\u001b[0m\n\u001b[0m",
      "\u001b[1;32m<ipython-input-21-f1b796e51785>\u001b[0m in \u001b[0;36m<setcomp>\u001b[1;34m((n,))\u001b[0m\n\u001b[1;32m----> 1\u001b[1;33m \u001b[0mvalid_straights\u001b[0m \u001b[1;33m=\u001b[0m \u001b[1;33m{\u001b[0m\u001b[0mset\u001b[0m\u001b[1;33m(\u001b[0m\u001b[0mrange\u001b[0m\u001b[1;33m(\u001b[0m\u001b[0mn\u001b[0m\u001b[1;33m,\u001b[0m \u001b[0mn\u001b[0m\u001b[1;33m+\u001b[0m\u001b[1;36m5\u001b[0m\u001b[1;33m)\u001b[0m\u001b[1;33m)\u001b[0m \u001b[1;32mfor\u001b[0m \u001b[0mn\u001b[0m \u001b[1;32min\u001b[0m \u001b[0mrange\u001b[0m\u001b[1;33m(\u001b[0m\u001b[1;36m2\u001b[0m\u001b[1;33m,\u001b[0m\u001b[1;36m7\u001b[0m\u001b[1;33m)\u001b[0m\u001b[1;33m}\u001b[0m\u001b[1;33m\u001b[0m\u001b[0m\n\u001b[0m",
      "\u001b[1;31mTypeError\u001b[0m: unhashable type: 'set'"
     ]
    }
   ],
   "source": [
    "valid_straights = {set(range(n, n+5)) for n in range(2,7)}"
   ]
  },
  {
   "cell_type": "code",
   "execution_count": 22,
   "metadata": {
    "collapsed": false
   },
   "outputs": [
    {
     "data": {
      "text/plain": [
       "{frozenset({2, 3, 4, 5, 6}),\n",
       " frozenset({5, 6, 7, 8, 9}),\n",
       " frozenset({6, 7, 8, 9, 10}),\n",
       " frozenset({3, 4, 5, 6, 7}),\n",
       " frozenset({4, 5, 6, 7, 8})}"
      ]
     },
     "execution_count": 22,
     "metadata": {},
     "output_type": "execute_result"
    }
   ],
   "source": [
    "valid_straights = {frozenset(range(n, n+5)) for n in range(2,7)}\n",
    "valid_straights"
   ]
  },
  {
   "cell_type": "code",
   "execution_count": 23,
   "metadata": {
    "collapsed": false
   },
   "outputs": [
    {
     "data": {
      "text/plain": [
       "{frozenset({2, 3, 4, 5, 6}),\n",
       " frozenset({9, 10, 'jack', 'king', 'queen'}),\n",
       " frozenset({5, 6, 7, 8, 9}),\n",
       " frozenset({6, 7, 8, 9, 10}),\n",
       " frozenset({2, 3, 4, 5, 'aces'}),\n",
       " frozenset({8, 9, 10, 'jack', 'queen'}),\n",
       " frozenset({10, 'aces', 'jack', 'king', 'queen'}),\n",
       " frozenset({3, 4, 5, 6, 7}),\n",
       " frozenset({4, 5, 6, 7, 8}),\n",
       " frozenset({7, 8, 9, 10, 'jack'})}"
      ]
     },
     "execution_count": 23,
     "metadata": {},
     "output_type": "execute_result"
    }
   ],
   "source": [
    "valid_straights = {frozenset(range(n, n+5)) for n in range(2,7)} | \\\n",
    "                  {frozenset(['aces', 2,3,4,5])                } | \\\n",
    "                  {frozenset([7,8,9,10, 'jack'])               } | \\\n",
    "                  {frozenset([8,9,10, 'jack', 'queen'])        } | \\\n",
    "                  {frozenset([9, 10, 'jack', 'queen', 'king']) } | \\\n",
    "                  {frozenset([10, 'jack', 'queen', 'king', 'aces'])}\n",
    "                    \n",
    "valid_straights"
   ]
  },
  {
   "cell_type": "code",
   "execution_count": 24,
   "metadata": {
    "collapsed": false
   },
   "outputs": [],
   "source": [
    "def rank2value(card):\n",
    "    if card.rank in numbers:\n",
    "        return card.rank\n",
    "    \n",
    "    return {'ace': 14,\n",
    "            'king': 13,\n",
    "            'queen': 12,\n",
    "            'jack': 11,}[card.rank]"
   ]
  },
  {
   "cell_type": "code",
   "execution_count": 25,
   "metadata": {
    "collapsed": true
   },
   "outputs": [],
   "source": [
    "def best_card(hand):\n",
    "    return max(hand, key=rank2value)"
   ]
  },
  {
   "cell_type": "code",
   "execution_count": 26,
   "metadata": {
    "collapsed": false
   },
   "outputs": [],
   "source": [
    "from itertools import groupby, combinations\n",
    "\n",
    "def best_hand(hand):\n",
    "    suits_in_hand = {card.suit for card in hand}\n",
    "    ranks_in_hand = {frozenset(cs) for _,cs in groupby(sorted(hand, key=rank2value), key=rank2value)}\n",
    "    \n",
    "    high_card        = best_card(hand)\n",
    "    twos_of_a_kind   = {cs for cs in ranks_in_hand if len(cs) == 2}\n",
    "    threes_of_a_kind = {cs for cs in ranks_in_hand if len(cs) == 3}\n",
    "    fours_of_a_kind  = {cs for cs in ranks_in_hand if len(cs) == 4}\n",
    "    straights        = {cs for cs in combinations(hand, 5) if {c.rank for c in cs} in valid_straights}\n",
    "        \n",
    "    if len(suits_in_hand) == 1 and straights:\n",
    "        return hand, 'straight flush'\n",
    "    \n",
    "    if fours_of_a_kind:\n",
    "        return max(fours_of_a_kind, key=lambda cs: rank2value(best_card(cs))), 'four of a kind'\n",
    "    \n",
    "    if threes_of_a_kind and twos_of_a_kind:\n",
    "        return max(threes_of_a_kind, key=lambda cs: rank2value(best_card(cs))) | \\\n",
    "               max(twos_of_a_kind,   key=lambda cs: rank2value(best_card(cs))), 'full house'\n",
    "        \n",
    "    if len(suits_in_hand) == 1:\n",
    "        return hand, 'flush'\n",
    "    \n",
    "    if straights:\n",
    "        return max(straights, key=lambda cs: rank2value(best_card(cs))), 'straight'\n",
    "    \n",
    "    if threes_of_a_kind:\n",
    "        return max(threes_of_a_kind, key=lambda cs: rank2value(best_card(cs))), 'three of a kind'\n",
    "    \n",
    "    if len(twos_of_a_kind) == 2:\n",
    "        return twos_of_a_kind.pop() | twos_of_a_kind.pop(), 'two pairs'\n",
    "\n",
    "    if len(twos_of_a_kind) == 1:\n",
    "        return twos_of_a_kind.pop(), 'one pair'\n",
    "    \n",
    "    return {high_card,}, 'high card'"
   ]
  },
  {
   "cell_type": "code",
   "execution_count": 29,
   "metadata": {
    "collapsed": false
   },
   "outputs": [
    {
     "name": "stdout",
     "output_type": "stream",
     "text": [
      "Wall time: 45.2 s\n"
     ]
    }
   ],
   "source": [
    "%%time\n",
    "\n",
    "from itertools import combinations\n",
    "\n",
    "example_hands = {}\n",
    "\n",
    "for hand in combinations(deck, 5):\n",
    "    cards, hand_type = best_hand(hand)\n",
    "    if hand_type not in example_hands:\n",
    "        example_hands[hand_type] = cards, hand"
   ]
  },
  {
   "cell_type": "markdown",
   "metadata": {},
   "source": [
    ".clear\n",
    "\n",
    ".difference\n",
    "\n",
    ".difference_update\n",
    "\n",
    ".intersection\n",
    "\n",
    ".intersection_update\n",
    "\n",
    ".symmetric_difference\n",
    "\n",
    ".symmetric_difference_update"
   ]
  },
  {
   "cell_type": "code",
   "execution_count": 30,
   "metadata": {
    "collapsed": false
   },
   "outputs": [
    {
     "data": {
      "text/plain": [
       "{'bird', 'cat', 'dog'}"
      ]
     },
     "execution_count": 30,
     "metadata": {},
     "output_type": "execute_result"
    }
   ],
   "source": [
    "animals = {'dog', 'cat', 'bird'}\n",
    "animals"
   ]
  },
  {
   "cell_type": "code",
   "execution_count": 31,
   "metadata": {
    "collapsed": false
   },
   "outputs": [
    {
     "data": {
      "text/plain": [
       "set()"
      ]
     },
     "execution_count": 31,
     "metadata": {},
     "output_type": "execute_result"
    }
   ],
   "source": [
    "animals.clear()\n",
    "animals"
   ]
  },
  {
   "cell_type": "code",
   "execution_count": 34,
   "metadata": {
    "collapsed": false
   },
   "outputs": [
    {
     "name": "stdout",
     "output_type": "stream",
     "text": [
      "set(['bird', 'cat'])\n",
      "set(['cat'])\n",
      "set([])\n"
     ]
    }
   ],
   "source": [
    "animals = {'dog', 'cat', 'bird'}\n",
    "animals\n",
    "while animals:\n",
    "    animals.pop()\n",
    "    print animals"
   ]
  },
  {
   "cell_type": "code",
   "execution_count": 33,
   "metadata": {
    "collapsed": false
   },
   "outputs": [
    {
     "data": {
      "text/plain": [
       "{'bird', 'cat', 'dog'}"
      ]
     },
     "execution_count": 33,
     "metadata": {},
     "output_type": "execute_result"
    }
   ],
   "source": [
    "{'dog', 'cat', 'bird'} - {'horse'}"
   ]
  },
  {
   "cell_type": "code",
   "execution_count": 35,
   "metadata": {
    "collapsed": false
   },
   "outputs": [
    {
     "data": {
      "text/plain": [
       "{'bird', 'cat', 'dog'}"
      ]
     },
     "execution_count": 35,
     "metadata": {},
     "output_type": "execute_result"
    }
   ],
   "source": [
    "{'dog', 'cat', 'bird'}.difference('cat')"
   ]
  },
  {
   "cell_type": "code",
   "execution_count": 36,
   "metadata": {
    "collapsed": false
   },
   "outputs": [
    {
     "data": {
      "text/plain": [
       "{'bird', 'dog'}"
      ]
     },
     "execution_count": 36,
     "metadata": {},
     "output_type": "execute_result"
    }
   ],
   "source": [
    "{'dog', 'cat', 'bird'}.difference(['cat'])"
   ]
  },
  {
   "cell_type": "code",
   "execution_count": 37,
   "metadata": {
    "collapsed": false
   },
   "outputs": [
    {
     "data": {
      "text/plain": [
       "{'bird', 'cat', 'giraffe'}"
      ]
     },
     "execution_count": 37,
     "metadata": {},
     "output_type": "execute_result"
    }
   ],
   "source": [
    "{'dog', 'cat', 'bird', 'horse'}.symmetric_difference({'dog', 'horse', 'giraffe'})"
   ]
  },
  {
   "cell_type": "code",
   "execution_count": 38,
   "metadata": {
    "collapsed": false
   },
   "outputs": [
    {
     "data": {
      "text/plain": [
       "{'bird', 'cat', 'giraffe'}"
      ]
     },
     "execution_count": 38,
     "metadata": {},
     "output_type": "execute_result"
    }
   ],
   "source": [
    "{'dog', 'cat', 'bird', 'horse'} ^ {'dog', 'horse', 'giraffe'}"
   ]
  },
  {
   "cell_type": "code",
   "execution_count": 39,
   "metadata": {
    "collapsed": false
   },
   "outputs": [
    {
     "data": {
      "text/plain": [
       "{'dog', 'horse'}"
      ]
     },
     "execution_count": 39,
     "metadata": {},
     "output_type": "execute_result"
    }
   ],
   "source": [
    "{'dog', 'cat', 'bird', 'horse'}.intersection({'dog', 'horse', 'giraffe'})"
   ]
  },
  {
   "cell_type": "code",
   "execution_count": 40,
   "metadata": {
    "collapsed": false
   },
   "outputs": [
    {
     "data": {
      "text/plain": [
       "{'dog', 'horse'}"
      ]
     },
     "execution_count": 40,
     "metadata": {},
     "output_type": "execute_result"
    }
   ],
   "source": [
    "{'dog', 'cat', 'bird', 'horse'} & {'dog', 'horse', 'giraffe'}"
   ]
  },
  {
   "cell_type": "code",
   "execution_count": 41,
   "metadata": {
    "collapsed": false
   },
   "outputs": [
    {
     "data": {
      "text/plain": [
       "{'bird'}"
      ]
     },
     "execution_count": 41,
     "metadata": {},
     "output_type": "execute_result"
    }
   ],
   "source": [
    "animals = {'dog', 'cat', 'bird'}\n",
    "animals.intersection_update({'bird', 'horse'})\n",
    "animals"
   ]
  },
  {
   "cell_type": "code",
   "execution_count": 42,
   "metadata": {
    "collapsed": false
   },
   "outputs": [
    {
     "data": {
      "text/plain": [
       "{'bird'}"
      ]
     },
     "execution_count": 42,
     "metadata": {},
     "output_type": "execute_result"
    }
   ],
   "source": [
    "animals = {'dog', 'cat', 'bird'}\n",
    "animals &= {'bird', 'horse'}\n",
    "animals"
   ]
  },
  {
   "cell_type": "code",
   "execution_count": 43,
   "metadata": {
    "collapsed": false
   },
   "outputs": [
    {
     "data": {
      "text/plain": [
       "{'cat', 'dog'}"
      ]
     },
     "execution_count": 43,
     "metadata": {},
     "output_type": "execute_result"
    }
   ],
   "source": [
    "animals = {'dog', 'cat', 'bird'}\n",
    "animals.difference_update({'bird', 'horse'})\n",
    "animals"
   ]
  },
  {
   "cell_type": "code",
   "execution_count": 44,
   "metadata": {
    "collapsed": false
   },
   "outputs": [
    {
     "data": {
      "text/plain": [
       "{'cat', 'dog'}"
      ]
     },
     "execution_count": 44,
     "metadata": {},
     "output_type": "execute_result"
    }
   ],
   "source": [
    "animals = {'dog', 'cat', 'bird'}\n",
    "animals -= {'bird', 'horse'}\n",
    "animals"
   ]
  },
  {
   "cell_type": "code",
   "execution_count": 45,
   "metadata": {
    "collapsed": false
   },
   "outputs": [
    {
     "data": {
      "text/plain": [
       "{'bird', 'cat', 'dog', 'horse'}"
      ]
     },
     "execution_count": 45,
     "metadata": {},
     "output_type": "execute_result"
    }
   ],
   "source": [
    "animals = {'dog', 'cat', 'bird'}\n",
    "animals.update({'bird', 'horse'}) # think `union_update`\n",
    "animals"
   ]
  },
  {
   "cell_type": "code",
   "execution_count": 46,
   "metadata": {
    "collapsed": false
   },
   "outputs": [
    {
     "data": {
      "text/plain": [
       "{'bird', 'cat', 'dog', 'horse'}"
      ]
     },
     "execution_count": 46,
     "metadata": {},
     "output_type": "execute_result"
    }
   ],
   "source": [
    "animals = {'dog', 'cat', 'bird'}\n",
    "animals |= {'bird', 'horse'}\n",
    "animals"
   ]
  },
  {
   "cell_type": "code",
   "execution_count": 47,
   "metadata": {
    "collapsed": false
   },
   "outputs": [
    {
     "data": {
      "text/plain": [
       "{'cat', 'dog', 'horse'}"
      ]
     },
     "execution_count": 47,
     "metadata": {},
     "output_type": "execute_result"
    }
   ],
   "source": [
    "animals = {'dog', 'cat', 'bird'}\n",
    "animals.symmetric_difference_update({'bird', 'horse'})\n",
    "animals"
   ]
  },
  {
   "cell_type": "code",
   "execution_count": 48,
   "metadata": {
    "collapsed": false
   },
   "outputs": [
    {
     "data": {
      "text/plain": [
       "{'cat', 'dog', 'horse'}"
      ]
     },
     "execution_count": 48,
     "metadata": {},
     "output_type": "execute_result"
    }
   ],
   "source": [
    "animals = {'dog', 'cat', 'bird'}\n",
    "animals ^= {'bird', 'horse'}\n",
    "animals"
   ]
  }
 ],
 "metadata": {
  "kernelspec": {
   "display_name": "Python 2",
   "language": "python",
   "name": "python2"
  },
  "language_info": {
   "codemirror_mode": {
    "name": "ipython",
    "version": 2
   },
   "file_extension": ".py",
   "mimetype": "text/x-python",
   "name": "python",
   "nbconvert_exporter": "python",
   "pygments_lexer": "ipython2",
   "version": "2.7.11"
  }
 },
 "nbformat": 4,
 "nbformat_minor": 0
}
