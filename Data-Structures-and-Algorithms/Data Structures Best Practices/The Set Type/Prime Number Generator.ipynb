{
 "cells": [
  {
   "cell_type": "markdown",
   "metadata": {},
   "source": [
    "## Problem Statement: Prime Number Generator"
   ]
  },
  {
   "cell_type": "markdown",
   "metadata": {},
   "source": [
    "Find all of the prime numbers up to a given number."
   ]
  },
  {
   "cell_type": "code",
   "execution_count": 1,
   "metadata": {
    "collapsed": true
   },
   "outputs": [],
   "source": [
    "def prims(max_num = 100):\n",
    "    found_prims = {2}\n",
    "    for num in range(3, max_num):\n",
    "        # determine if the number is prime\n",
    "        pass\n",
    "    return found_primes"
   ]
  },
  {
   "cell_type": "code",
   "execution_count": 8,
   "metadata": {
    "collapsed": true
   },
   "outputs": [],
   "source": [
    "def primes(max_num = 100):\n",
    "    found_primes = {2}\n",
    "    for num in range(3, max_num):\n",
    "        isprime = True\n",
    "        for divisor in found_primes:\n",
    "            if num % divisor == 0:\n",
    "                isprime = False\n",
    "        if isprime:\n",
    "            found_primes.add(num)\n",
    "    return found_primes"
   ]
  },
  {
   "cell_type": "code",
   "execution_count": 9,
   "metadata": {
    "collapsed": false
   },
   "outputs": [
    {
     "name": "stdout",
     "output_type": "stream",
     "text": [
      "set([2, 3, 5, 7, 11, 13, 17, 19, 23, 29, 31, 37, 41, 43, 47, 53, 59, 61, 67, 71, 73, 79, 83, 89, 97])\n"
     ]
    }
   ],
   "source": [
    "print(primes())"
   ]
  },
  {
   "cell_type": "code",
   "execution_count": 11,
   "metadata": {
    "collapsed": true
   },
   "outputs": [],
   "source": [
    "def prims(max_num = 100):\n",
    "    found_primes = set()\n",
    "    for num in range(2, max_num):\n",
    "        if not any(num % divisor == 0 for divisor in found_primes):\n",
    "            found_primes.add(num)\n",
    "    return found_primes"
   ]
  },
  {
   "cell_type": "code",
   "execution_count": 12,
   "metadata": {
    "collapsed": false
   },
   "outputs": [
    {
     "name": "stdout",
     "output_type": "stream",
     "text": [
      "set([2, 3, 5, 7, 11, 13, 17, 19, 23, 29, 31, 37, 41, 43, 47, 53, 59, 61, 67, 71, 73, 79, 83, 89, 97])\n"
     ]
    }
   ],
   "source": [
    "print(primes())"
   ]
  },
  {
   "cell_type": "code",
   "execution_count": 18,
   "metadata": {
    "collapsed": false
   },
   "outputs": [],
   "source": [
    "def primes(max_num = 100):\n",
    "    numbers = set(range(2, max_num))\n",
    "    nonprimes = set()\n",
    "    for num in numbers:\n",
    "        nonprimes.update(num * x for x in range(num, max_num // num + 1))\n",
    "    return numbers - nonprimes"
   ]
  },
  {
   "cell_type": "code",
   "execution_count": 19,
   "metadata": {
    "collapsed": false
   },
   "outputs": [
    {
     "name": "stdout",
     "output_type": "stream",
     "text": [
      "set([2, 3, 5, 7, 11, 13, 17, 19, 23, 29, 31, 37, 41, 43, 47, 53, 59, 61, 67, 71, 73, 79, 83, 89, 97])\n"
     ]
    }
   ],
   "source": [
    "print(primes())"
   ]
  },
  {
   "cell_type": "code",
   "execution_count": 20,
   "metadata": {
    "collapsed": true
   },
   "outputs": [],
   "source": [
    "def primes(max_num = 100):\n",
    "    numbers = set(range(2, max_num))\n",
    "    for num in range(2, max_num):\n",
    "        for x in range(num, max_num // num + 1):\n",
    "            numbers.discard(num * x)\n",
    "    return numbers"
   ]
  },
  {
   "cell_type": "code",
   "execution_count": 21,
   "metadata": {
    "collapsed": false
   },
   "outputs": [
    {
     "name": "stdout",
     "output_type": "stream",
     "text": [
      "set([2, 3, 5, 7, 11, 13, 17, 19, 23, 29, 31, 37, 41, 43, 47, 53, 59, 61, 67, 71, 73, 79, 83, 89, 97])\n"
     ]
    }
   ],
   "source": [
    "print(primes())"
   ]
  },
  {
   "cell_type": "code",
   "execution_count": 32,
   "metadata": {
    "collapsed": false
   },
   "outputs": [],
   "source": [
    "from itertools import count\n",
    "\n",
    "def primes():\n",
    "    found_primes = {2}\n",
    "    yield 2\n",
    "    for num in count(3):\n",
    "        isprime = True\n",
    "        for divisor in found_primes:\n",
    "            if num % divisor == 0:\n",
    "                isprime = False\n",
    "        if isprime:\n",
    "            found_primes.add(num)\n",
    "            yield num"
   ]
  },
  {
   "cell_type": "code",
   "execution_count": 35,
   "metadata": {
    "collapsed": false
   },
   "outputs": [],
   "source": [
    "# list(primes()) ## will grow until all memory used!!!"
   ]
  },
  {
   "cell_type": "code",
   "execution_count": 34,
   "metadata": {
    "collapsed": false
   },
   "outputs": [
    {
     "name": "stdout",
     "output_type": "stream",
     "text": [
      "[2, 3, 5, 7, 11, 13, 17, 19, 23, 29]\n"
     ]
    }
   ],
   "source": [
    "from itertools import islice\n",
    "\n",
    "print(list(islice(primes(), 0, 10)))"
   ]
  },
  {
   "cell_type": "code",
   "execution_count": 36,
   "metadata": {
    "collapsed": false
   },
   "outputs": [
    {
     "name": "stdout",
     "output_type": "stream",
     "text": [
      "set([2, 3, 5, 7, 11, 13, 17, 19, 23, 29])\n"
     ]
    }
   ],
   "source": [
    "print(set(islice(primes(), 0, 10)))"
   ]
  },
  {
   "cell_type": "code",
   "execution_count": 39,
   "metadata": {
    "collapsed": true
   },
   "outputs": [],
   "source": [
    "from itertools import count\n",
    "\n",
    "def primes():\n",
    "    multiples = {}\n",
    "    for num in count(2):\n",
    "        print (multiples)\n",
    "        if num in multiples:\n",
    "            for x in multiples[num]:\n",
    "                multiples.setdefault(num * x, set()).add(x)\n",
    "            del multiples[num]\n",
    "        else: # prime !\n",
    "            multiples[num * num] = {num}\n",
    "            yield num"
   ]
  },
  {
   "cell_type": "code",
   "execution_count": 40,
   "metadata": {
    "collapsed": false
   },
   "outputs": [
    {
     "name": "stdout",
     "output_type": "stream",
     "text": [
      "{}\n",
      "{4: set([2])}\n",
      "{9: set([3]), 4: set([2])}\n",
      "{8: set([2]), 9: set([3])}\n",
      "{8: set([2]), 9: set([3]), 25: set([5])}\n",
      "{8: set([2]), 9: set([3]), 36: set([6]), 25: set([5])}\n",
      "{8: set([2]), 9: set([3]), 36: set([6]), 49: set([7]), 25: set([5])}\n",
      "{36: set([6]), 9: set([3]), 16: set([2]), 49: set([7]), 25: set([5])}\n",
      "{36: set([6]), 16: set([2]), 49: set([7]), 25: set([5]), 27: set([3])}\n",
      "{100: set([10]), 36: set([6]), 16: set([2]), 49: set([7]), 25: set([5]), 27: set([3])}\n",
      "{100: set([10]), 36: set([6]), 16: set([2]), 49: set([7]), 121: set([11]), 25: set([5]), 27: set([3])}\n",
      "{100: set([10]), 36: set([6]), 144: set([12]), 16: set([2]), 49: set([7]), 121: set([11]), 25: set([5]), 27: set([3])}\n",
      "{100: set([10]), 36: set([6]), 169: set([13]), 144: set([12]), 16: set([2]), 49: set([7]), 121: set([11]), 25: set([5]), 27: set([3])}\n",
      "[2, 3, 5, 6, 7, 10, 11, 12, 13, 14]\n"
     ]
    }
   ],
   "source": [
    "from itertools import islice\n",
    "\n",
    "print(list(islice(primes(), 0, 10)))"
   ]
  }
 ],
 "metadata": {
  "kernelspec": {
   "display_name": "Python 2",
   "language": "python",
   "name": "python2"
  },
  "language_info": {
   "codemirror_mode": {
    "name": "ipython",
    "version": 2
   },
   "file_extension": ".py",
   "mimetype": "text/x-python",
   "name": "python",
   "nbconvert_exporter": "python",
   "pygments_lexer": "ipython2",
   "version": "2.7.11"
  }
 },
 "nbformat": 4,
 "nbformat_minor": 0
}
