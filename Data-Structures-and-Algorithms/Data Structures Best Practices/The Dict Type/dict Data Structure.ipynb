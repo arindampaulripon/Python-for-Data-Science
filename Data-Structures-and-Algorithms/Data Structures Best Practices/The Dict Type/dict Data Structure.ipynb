{
 "cells": [
  {
   "cell_type": "markdown",
   "metadata": {},
   "source": [
    "# DICT\n",
    "A.K.A\n",
    "- lookup-table\n",
    "- map\n",
    "- content-addressible storage\n",
    "- relation\n",
    "- hash\n",
    "- also; associative array, symbol table\n"
   ]
  },
  {
   "cell_type": "markdown",
   "metadata": {},
   "source": [
    "## as a dictionary"
   ]
  },
  {
   "cell_type": "code",
   "execution_count": 6,
   "metadata": {
    "collapsed": false
   },
   "outputs": [
    {
     "data": {
      "text/plain": [
       "'uno'"
      ]
     },
     "execution_count": 6,
     "metadata": {},
     "output_type": "execute_result"
    }
   ],
   "source": [
    "dictionary = {'one': 'uno',\n",
    "             'two': 'dos',\n",
    "             'three': 'tres'}\n",
    "\n",
    "dictionary['one']"
   ]
  },
  {
   "cell_type": "code",
   "execution_count": 8,
   "metadata": {
    "collapsed": false
   },
   "outputs": [
    {
     "data": {
      "text/plain": [
       "{'four': 'cuatro', 'one': 'uno', 'three': 'tres', 'two': 'dos'}"
      ]
     },
     "execution_count": 8,
     "metadata": {},
     "output_type": "execute_result"
    }
   ],
   "source": [
    "dictionary['four'] = 'cuatro'\n",
    "dictionary"
   ]
  },
  {
   "cell_type": "code",
   "execution_count": 9,
   "metadata": {
    "collapsed": false
   },
   "outputs": [
    {
     "data": {
      "text/plain": [
       "{'four': 'cuatro', 'three': 'tres'}"
      ]
     },
     "execution_count": 9,
     "metadata": {},
     "output_type": "execute_result"
    }
   ],
   "source": [
    "del dictionary['one']\n",
    "del dictionary['two']\n",
    "dictionary"
   ]
  },
  {
   "cell_type": "markdown",
   "metadata": {},
   "source": [
    "## as a map"
   ]
  },
  {
   "cell_type": "code",
   "execution_count": 12,
   "metadata": {
    "collapsed": false
   },
   "outputs": [],
   "source": [
    "course_professors = {'calculus':       'Prof. Kotter',\n",
    "                     'diff eq':        'Prof. Feeny',\n",
    "                     'linear algebra': 'Prof. Kotter',\n",
    "                     'real analysis':  'Prof. Crabtree'}\n",
    "student_courses = {'vinnie':    ['calculus', 'diff eq']\n",
    "                  ,'arnold':    ['calculus', 'linear algebra']\n",
    "                  ,'juan luis': ['real analysis']}"
   ]
  },
  {
   "cell_type": "code",
   "execution_count": 13,
   "metadata": {
    "collapsed": true
   },
   "outputs": [],
   "source": [
    "student_courses = {'vinnie':    {'calculus', 'diff eq'}\n",
    "                  ,'arnold':    {'calculus', 'linear algebra'}\n",
    "                  ,'juan luis': {'real analysis'}}"
   ]
  },
  {
   "cell_type": "code",
   "execution_count": 15,
   "metadata": {
    "collapsed": false
   },
   "outputs": [
    {
     "data": {
      "text/plain": [
       "{'arnold': {'Prof. Kotter'},\n",
       " 'juan luis': {'Prof. Crabtree'},\n",
       " 'vinnie': {'Prof. Feeny', 'Prof. Kotter'}}"
      ]
     },
     "execution_count": 15,
     "metadata": {},
     "output_type": "execute_result"
    }
   ],
   "source": [
    "student_professors = {} # which student has which professor?\n",
    "\n",
    "for student in student_courses:\n",
    "    for course in student_courses[student]:\n",
    "        if student not in student_professors:\n",
    "            student_professors[student] = set()\n",
    "        student_professors[student].add(course_professors[course])\n",
    "        \n",
    "student_professors"
   ]
  },
  {
   "cell_type": "markdown",
   "metadata": {},
   "source": [
    "## Creating a *dict*"
   ]
  },
  {
   "cell_type": "code",
   "execution_count": 16,
   "metadata": {
    "collapsed": false
   },
   "outputs": [
    {
     "data": {
      "text/plain": [
       "{1: 1, 2: 4, 3: 9}"
      ]
     },
     "execution_count": 16,
     "metadata": {},
     "output_type": "execute_result"
    }
   ],
   "source": [
    "xs = {1: 1, 2: 4, 3: 9,}\n",
    "xs"
   ]
  },
  {
   "cell_type": "code",
   "execution_count": 17,
   "metadata": {
    "collapsed": false
   },
   "outputs": [
    {
     "data": {
      "text/plain": [
       "{'one': 'uno', 'two': 'dos'}"
      ]
     },
     "execution_count": 17,
     "metadata": {},
     "output_type": "execute_result"
    }
   ],
   "source": [
    "xs = dict(one='uno', two='dos')\n",
    "xs"
   ]
  },
  {
   "cell_type": "code",
   "execution_count": 19,
   "metadata": {
    "collapsed": false
   },
   "outputs": [
    {
     "data": {
      "text/plain": [
       "{'dos': 'two', 'tres': 'three', 'uno': 'one'}"
      ]
     },
     "execution_count": 19,
     "metadata": {},
     "output_type": "execute_result"
    }
   ],
   "source": [
    "xs = dict([('uno', 'one')\n",
    "          ,('dos', 'two')\n",
    "          ,('tres', 'three')])\n",
    "xs"
   ]
  },
  {
   "cell_type": "code",
   "execution_count": 21,
   "metadata": {
    "collapsed": false
   },
   "outputs": [
    {
     "data": {
      "text/plain": [
       "{'a': 0,\n",
       " 'b': 0,\n",
       " 'c': 0,\n",
       " 'd': 0,\n",
       " 'e': 0,\n",
       " 'f': 0,\n",
       " 'g': 0,\n",
       " 'h': 0,\n",
       " 'i': 0,\n",
       " 'j': 0,\n",
       " 'k': 0,\n",
       " 'l': 0,\n",
       " 'm': 0,\n",
       " 'n': 0,\n",
       " 'o': 0,\n",
       " 'p': 0,\n",
       " 'q': 0,\n",
       " 'r': 0,\n",
       " 's': 0,\n",
       " 't': 0,\n",
       " 'u': 0,\n",
       " 'v': 0,\n",
       " 'w': 0,\n",
       " 'x': 0,\n",
       " 'y': 0,\n",
       " 'z': 0}"
      ]
     },
     "execution_count": 21,
     "metadata": {},
     "output_type": "execute_result"
    }
   ],
   "source": [
    "from string import ascii_lowercase\n",
    "xs = dict.fromkeys(ascii_lowercase, 0)\n",
    "xs"
   ]
  },
  {
   "cell_type": "code",
   "execution_count": 22,
   "metadata": {
    "collapsed": false
   },
   "outputs": [
    {
     "data": {
      "text/plain": [
       "{10: [1, 2, 3]}"
      ]
     },
     "execution_count": 22,
     "metadata": {},
     "output_type": "execute_result"
    }
   ],
   "source": [
    "xs = {10: [1,2,3]}\n",
    "xs"
   ]
  },
  {
   "cell_type": "code",
   "execution_count": 30,
   "metadata": {
    "collapsed": false
   },
   "outputs": [
    {
     "data": {
      "text/plain": [
       "{1: 1, 2: 4, 3: 9}"
      ]
     },
     "execution_count": 30,
     "metadata": {},
     "output_type": "execute_result"
    }
   ],
   "source": [
    "xs = {1:1, 2:4, 3:9}\n",
    "ys = dict(xs)\n",
    "ys"
   ]
  },
  {
   "cell_type": "markdown",
   "metadata": {},
   "source": [
    "## dict.update"
   ]
  },
  {
   "cell_type": "code",
   "execution_count": 29,
   "metadata": {
    "collapsed": false
   },
   "outputs": [
    {
     "data": {
      "text/plain": [
       "{1: 1, 2: 1, 3: 9, 4: 4}"
      ]
     },
     "execution_count": 29,
     "metadata": {},
     "output_type": "execute_result"
    }
   ],
   "source": [
    "zs = {2:1, 4:4, 3:9}\n",
    "ys.update(zs)\n",
    "ys"
   ]
  },
  {
   "cell_type": "markdown",
   "metadata": {},
   "source": [
    "## dict methods"
   ]
  },
  {
   "cell_type": "code",
   "execution_count": 32,
   "metadata": {
    "collapsed": false
   },
   "outputs": [
    {
     "data": {
      "text/plain": [
       "['__class__',\n",
       " '__cmp__',\n",
       " '__contains__',\n",
       " '__delattr__',\n",
       " '__delitem__',\n",
       " '__doc__',\n",
       " '__eq__',\n",
       " '__format__',\n",
       " '__ge__',\n",
       " '__getattribute__',\n",
       " '__getitem__',\n",
       " '__gt__',\n",
       " '__hash__',\n",
       " '__init__',\n",
       " '__iter__',\n",
       " '__le__',\n",
       " '__len__',\n",
       " '__lt__',\n",
       " '__ne__',\n",
       " '__new__',\n",
       " '__reduce__',\n",
       " '__reduce_ex__',\n",
       " '__repr__',\n",
       " '__setattr__',\n",
       " '__setitem__',\n",
       " '__sizeof__',\n",
       " '__str__',\n",
       " '__subclasshook__',\n",
       " 'clear',\n",
       " 'copy',\n",
       " 'fromkeys',\n",
       " 'get',\n",
       " 'has_key',\n",
       " 'items',\n",
       " 'iteritems',\n",
       " 'iterkeys',\n",
       " 'itervalues',\n",
       " 'keys',\n",
       " 'pop',\n",
       " 'popitem',\n",
       " 'setdefault',\n",
       " 'update',\n",
       " 'values',\n",
       " 'viewitems',\n",
       " 'viewkeys',\n",
       " 'viewvalues']"
      ]
     },
     "execution_count": 32,
     "metadata": {},
     "output_type": "execute_result"
    }
   ],
   "source": [
    "dir({})"
   ]
  },
  {
   "cell_type": "code",
   "execution_count": 33,
   "metadata": {
    "collapsed": false
   },
   "outputs": [
    {
     "data": {
      "text/plain": [
       "['clear',\n",
       " 'copy',\n",
       " 'fromkeys',\n",
       " 'get',\n",
       " 'has_key',\n",
       " 'items',\n",
       " 'iteritems',\n",
       " 'iterkeys',\n",
       " 'itervalues',\n",
       " 'keys',\n",
       " 'pop',\n",
       " 'popitem',\n",
       " 'setdefault',\n",
       " 'update',\n",
       " 'values',\n",
       " 'viewitems',\n",
       " 'viewkeys',\n",
       " 'viewvalues']"
      ]
     },
     "execution_count": 33,
     "metadata": {},
     "output_type": "execute_result"
    }
   ],
   "source": [
    "[attr for attr in dir({}) if '__' not in attr]"
   ]
  },
  {
   "cell_type": "markdown",
   "metadata": {},
   "source": [
    "## dict.clear"
   ]
  },
  {
   "cell_type": "code",
   "execution_count": 36,
   "metadata": {
    "collapsed": false
   },
   "outputs": [
    {
     "data": {
      "text/plain": [
       "{'one': 'uno'}"
      ]
     },
     "execution_count": 36,
     "metadata": {},
     "output_type": "execute_result"
    }
   ],
   "source": [
    "xs = {'one': 'uno'}\n",
    "xs"
   ]
  },
  {
   "cell_type": "code",
   "execution_count": 37,
   "metadata": {
    "collapsed": false
   },
   "outputs": [
    {
     "data": {
      "text/plain": [
       "{'one': 'uno', 'two': 'dos'}"
      ]
     },
     "execution_count": 37,
     "metadata": {},
     "output_type": "execute_result"
    }
   ],
   "source": [
    "xs['two'] = 'dos'\n",
    "xs"
   ]
  },
  {
   "cell_type": "code",
   "execution_count": 38,
   "metadata": {
    "collapsed": false
   },
   "outputs": [
    {
     "data": {
      "text/plain": [
       "{}"
      ]
     },
     "execution_count": 38,
     "metadata": {},
     "output_type": "execute_result"
    }
   ],
   "source": [
    "xs.clear()\n",
    "xs"
   ]
  },
  {
   "cell_type": "code",
   "execution_count": 39,
   "metadata": {
    "collapsed": false
   },
   "outputs": [
    {
     "data": {
      "text/plain": [
       "67590856L"
      ]
     },
     "execution_count": 39,
     "metadata": {},
     "output_type": "execute_result"
    }
   ],
   "source": [
    "xs = []\n",
    "id(xs)"
   ]
  },
  {
   "cell_type": "code",
   "execution_count": 41,
   "metadata": {
    "collapsed": false
   },
   "outputs": [
    {
     "data": {
      "text/plain": [
       "{}"
      ]
     },
     "execution_count": 41,
     "metadata": {},
     "output_type": "execute_result"
    }
   ],
   "source": [
    "xs = {'one': 'uno'}\n",
    "ys = xs\n",
    "xs.clear()\n",
    "ys"
   ]
  },
  {
   "cell_type": "markdown",
   "metadata": {},
   "source": [
    "## dict.copy\n",
    "This is *shallow copy*. For deep copy use the \"copy\" module"
   ]
  },
  {
   "cell_type": "code",
   "execution_count": 42,
   "metadata": {
    "collapsed": true
   },
   "outputs": [],
   "source": [
    "xs = {'one': 'uno'}\n",
    "ys = xs.copy()\n",
    "xs.clear()"
   ]
  },
  {
   "cell_type": "code",
   "execution_count": 44,
   "metadata": {
    "collapsed": false
   },
   "outputs": [
    {
     "data": {
      "text/plain": [
       "{}"
      ]
     },
     "execution_count": 44,
     "metadata": {},
     "output_type": "execute_result"
    }
   ],
   "source": [
    "xs"
   ]
  },
  {
   "cell_type": "code",
   "execution_count": 45,
   "metadata": {
    "collapsed": false
   },
   "outputs": [
    {
     "data": {
      "text/plain": [
       "{'one': 'uno'}"
      ]
     },
     "execution_count": 45,
     "metadata": {},
     "output_type": "execute_result"
    }
   ],
   "source": [
    "ys"
   ]
  },
  {
   "cell_type": "code",
   "execution_count": 47,
   "metadata": {
    "collapsed": false
   },
   "outputs": [
    {
     "data": {
      "text/plain": [
       "{'one': {'french': 'un', 'german': 'ein', 'spanish': 'uno'}}"
      ]
     },
     "execution_count": 47,
     "metadata": {},
     "output_type": "execute_result"
    }
   ],
   "source": [
    "xs = {'one': {'spanish': 'uno'\n",
    "             ,'german':  'ein'\n",
    "             ,'french':  'un'}}\n",
    "xs"
   ]
  },
  {
   "cell_type": "code",
   "execution_count": 49,
   "metadata": {
    "collapsed": false
   },
   "outputs": [
    {
     "data": {
      "text/plain": [
       "{'one': {}}"
      ]
     },
     "execution_count": 49,
     "metadata": {},
     "output_type": "execute_result"
    }
   ],
   "source": [
    "ys = xs.copy()\n",
    "xs['one'].clear()\n",
    "ys"
   ]
  },
  {
   "cell_type": "markdown",
   "metadata": {},
   "source": [
    "## dict.get"
   ]
  },
  {
   "cell_type": "code",
   "execution_count": 51,
   "metadata": {
    "collapsed": false
   },
   "outputs": [
    {
     "ename": "KeyError",
     "evalue": "'two'",
     "output_type": "error",
     "traceback": [
      "\u001b[1;31m---------------------------------------------------------------------------\u001b[0m",
      "\u001b[1;31mKeyError\u001b[0m                                  Traceback (most recent call last)",
      "\u001b[1;32m<ipython-input-51-90261cc9d93e>\u001b[0m in \u001b[0;36m<module>\u001b[1;34m()\u001b[0m\n\u001b[0;32m      1\u001b[0m \u001b[0mxs\u001b[0m \u001b[1;33m=\u001b[0m \u001b[1;33m{\u001b[0m\u001b[1;34m'one'\u001b[0m\u001b[1;33m:\u001b[0m \u001b[1;34m'uno'\u001b[0m\u001b[1;33m}\u001b[0m\u001b[1;33m\u001b[0m\u001b[0m\n\u001b[1;32m----> 2\u001b[1;33m \u001b[0mxs\u001b[0m\u001b[1;33m[\u001b[0m\u001b[1;34m'two'\u001b[0m\u001b[1;33m]\u001b[0m\u001b[1;33m\u001b[0m\u001b[0m\n\u001b[0m",
      "\u001b[1;31mKeyError\u001b[0m: 'two'"
     ]
    }
   ],
   "source": [
    "xs = {'one': 'uno'}\n",
    "xs['two']"
   ]
  },
  {
   "cell_type": "code",
   "execution_count": 53,
   "metadata": {
    "collapsed": true
   },
   "outputs": [],
   "source": [
    "def get_word(d, word):\n",
    "    if word in d:\n",
    "        return d[word]\n",
    "    return None\n",
    "get_word(xs, 'two')"
   ]
  },
  {
   "cell_type": "code",
   "execution_count": 54,
   "metadata": {
    "collapsed": false
   },
   "outputs": [
    {
     "data": {
      "text/plain": [
       "'dos'"
      ]
     },
     "execution_count": 54,
     "metadata": {},
     "output_type": "execute_result"
    }
   ],
   "source": [
    "def get_word(d, word, default = None):\n",
    "    if word in d:\n",
    "        return d[word]\n",
    "    return default\n",
    "get_word(xs, 'two', 'dos')"
   ]
  },
  {
   "cell_type": "code",
   "execution_count": 56,
   "metadata": {
    "collapsed": false
   },
   "outputs": [
    {
     "data": {
      "text/plain": [
       "'unkown'"
      ]
     },
     "execution_count": 56,
     "metadata": {},
     "output_type": "execute_result"
    }
   ],
   "source": [
    "xs.get('two', 'unkown')"
   ]
  },
  {
   "cell_type": "code",
   "execution_count": 63,
   "metadata": {
    "collapsed": false
   },
   "outputs": [
    {
     "data": {
      "text/plain": [
       "0"
      ]
     },
     "execution_count": 63,
     "metadata": {},
     "output_type": "execute_result"
    }
   ],
   "source": [
    "english_word = 'two'\n",
    "## use the code below generally\n",
    "#spanish_word = xs[english_word]\n",
    "## use the code below ONLY if a sensible default can be provided!!\n",
    "spanish_word = xs.get(english_word, '')\n",
    "len(spanish_word)"
   ]
  },
  {
   "cell_type": "markdown",
   "metadata": {},
   "source": [
    "## dict.pop, dict.popitem"
   ]
  },
  {
   "cell_type": "code",
   "execution_count": 71,
   "metadata": {
    "collapsed": false
   },
   "outputs": [
    {
     "data": {
      "text/plain": [
       "{'two': 'dos'}"
      ]
     },
     "execution_count": 71,
     "metadata": {},
     "output_type": "execute_result"
    }
   ],
   "source": [
    "xs = {'one': 'uno', 'two': 'dos'}\n",
    "xs.pop('one')\n",
    "xs"
   ]
  },
  {
   "cell_type": "code",
   "execution_count": 72,
   "metadata": {
    "collapsed": false
   },
   "outputs": [
    {
     "ename": "SyntaxError",
     "evalue": "invalid syntax (<ipython-input-72-674ed6d9d67a>, line 1)",
     "output_type": "error",
     "traceback": [
      "\u001b[1;36m  File \u001b[1;32m\"<ipython-input-72-674ed6d9d67a>\"\u001b[1;36m, line \u001b[1;32m1\u001b[0m\n\u001b[1;33m    xs.pop{'one'}\u001b[0m\n\u001b[1;37m          ^\u001b[0m\n\u001b[1;31mSyntaxError\u001b[0m\u001b[1;31m:\u001b[0m invalid syntax\n"
     ]
    }
   ],
   "source": [
    "xs.pop{'one'}"
   ]
  },
  {
   "cell_type": "code",
   "execution_count": 73,
   "metadata": {
    "collapsed": false
   },
   "outputs": [
    {
     "data": {
      "text/plain": [
       "'default'"
      ]
     },
     "execution_count": 73,
     "metadata": {},
     "output_type": "execute_result"
    }
   ],
   "source": [
    "xs.pop('one', 'default')"
   ]
  },
  {
   "cell_type": "code",
   "execution_count": 74,
   "metadata": {
    "collapsed": false
   },
   "outputs": [
    {
     "data": {
      "text/plain": [
       "('two', 'dos')"
      ]
     },
     "execution_count": 74,
     "metadata": {},
     "output_type": "execute_result"
    }
   ],
   "source": [
    "## Random pop\n",
    "xs.popitem()"
   ]
  },
  {
   "cell_type": "code",
   "execution_count": 75,
   "metadata": {
    "collapsed": false
   },
   "outputs": [
    {
     "data": {
      "text/plain": [
       "{}"
      ]
     },
     "execution_count": 75,
     "metadata": {},
     "output_type": "execute_result"
    }
   ],
   "source": [
    "xs"
   ]
  },
  {
   "cell_type": "markdown",
   "metadata": {},
   "source": [
    "## dict.keys, dict.values, dict.items"
   ]
  },
  {
   "cell_type": "code",
   "execution_count": 78,
   "metadata": {
    "collapsed": false
   },
   "outputs": [
    {
     "name": "stdout",
     "output_type": "stream",
     "text": [
      "three\n",
      "two\n",
      "one\n"
     ]
    }
   ],
   "source": [
    "d = {'one': 'uno', 'two': 'dos', 'three': 'tres'}\n",
    "\n",
    "for key in d:\n",
    "    print (key)"
   ]
  },
  {
   "cell_type": "code",
   "execution_count": 80,
   "metadata": {
    "collapsed": false
   },
   "outputs": [
    {
     "name": "stdout",
     "output_type": "stream",
     "text": [
      "three\n",
      "two\n",
      "one\n"
     ]
    }
   ],
   "source": [
    "for key in d.keys():\n",
    "    print (key)"
   ]
  },
  {
   "cell_type": "code",
   "execution_count": 82,
   "metadata": {
    "collapsed": false
   },
   "outputs": [
    {
     "name": "stdout",
     "output_type": "stream",
     "text": [
      "tres\n",
      "dos\n",
      "uno\n"
     ]
    }
   ],
   "source": [
    "for value in d.values():\n",
    "    print (value)"
   ]
  },
  {
   "cell_type": "code",
   "execution_count": 83,
   "metadata": {
    "collapsed": false
   },
   "outputs": [
    {
     "name": "stdout",
     "output_type": "stream",
     "text": [
      "('three', 'tres')\n",
      "('two', 'dos')\n",
      "('one', 'uno')\n"
     ]
    }
   ],
   "source": [
    "for item in d.items():\n",
    "    print (item)"
   ]
  },
  {
   "cell_type": "code",
   "execution_count": 99,
   "metadata": {
    "collapsed": false
   },
   "outputs": [
    {
     "data": {
      "text/plain": [
       "dict_keys(['three', 'two', 'one'])"
      ]
     },
     "execution_count": 99,
     "metadata": {},
     "output_type": "execute_result"
    }
   ],
   "source": [
    "## iterkeys, itervales, iteritems in Python 2\n",
    "## viewkeys, viewvalues, viewitems in Python 2\n",
    "\n",
    "d = {'one': 'uno', 'two': 'dos', 'three': 'tres'}\n",
    "keys = d.viewkeys()\n",
    "keys"
   ]
  },
  {
   "cell_type": "code",
   "execution_count": 100,
   "metadata": {
    "collapsed": false
   },
   "outputs": [
    {
     "data": {
      "text/plain": [
       "{'cinco': 'five', 'one': 'uno', 'three': 'tres', 'two': 'dos'}"
      ]
     },
     "execution_count": 100,
     "metadata": {},
     "output_type": "execute_result"
    }
   ],
   "source": [
    "d['cinco'] = 'five'\n",
    "d"
   ]
  },
  {
   "cell_type": "code",
   "execution_count": 101,
   "metadata": {
    "collapsed": false
   },
   "outputs": [
    {
     "data": {
      "text/plain": [
       "dict_keys(['cinco', 'three', 'two', 'one'])"
      ]
     },
     "execution_count": 101,
     "metadata": {},
     "output_type": "execute_result"
    }
   ],
   "source": [
    "keys"
   ]
  },
  {
   "cell_type": "code",
   "execution_count": 102,
   "metadata": {
    "collapsed": false
   },
   "outputs": [],
   "source": [
    "deleted_keys = set()\n",
    "for key in d:\n",
    "    if key == 'one':\n",
    "        deleted_keys.add(key)\n",
    "\n",
    "for key in deleted_keys:\n",
    "    del d[key]"
   ]
  },
  {
   "cell_type": "code",
   "execution_count": 103,
   "metadata": {
    "collapsed": false
   },
   "outputs": [
    {
     "data": {
      "text/plain": [
       "{'cinco': 'five', 'three': 'tres', 'two': 'dos'}"
      ]
     },
     "execution_count": 103,
     "metadata": {},
     "output_type": "execute_result"
    }
   ],
   "source": [
    "d"
   ]
  },
  {
   "cell_type": "markdown",
   "metadata": {},
   "source": [
    "## dict.setdefault"
   ]
  },
  {
   "cell_type": "code",
   "execution_count": null,
   "metadata": {
    "collapsed": true
   },
   "outputs": [],
   "source": []
  },
  {
   "cell_type": "code",
   "execution_count": 104,
   "metadata": {
    "collapsed": true
   },
   "outputs": [],
   "source": [
    "student_courses = {'vinnie':    {'calculus', 'diff eq'}\n",
    "                  ,'arnold':    {'calculus', 'linear algebra'}\n",
    "                  ,'juan luis': {'real analysis'}}\n",
    "\n",
    "student_courses['vinnie'].add('linear algebra')"
   ]
  },
  {
   "cell_type": "code",
   "execution_count": 105,
   "metadata": {
    "collapsed": false
   },
   "outputs": [
    {
     "data": {
      "text/plain": [
       "{'arnold': {'calculus', 'linear algebra'},\n",
       " 'juan luis': {'real analysis'},\n",
       " 'vinnie': {'calculus', 'diff eq', 'linear algebra'}}"
      ]
     },
     "execution_count": 105,
     "metadata": {},
     "output_type": "execute_result"
    }
   ],
   "source": [
    "student_courses"
   ]
  },
  {
   "cell_type": "code",
   "execution_count": 106,
   "metadata": {
    "collapsed": false
   },
   "outputs": [
    {
     "ename": "KeyError",
     "evalue": "'freddie'",
     "output_type": "error",
     "traceback": [
      "\u001b[1;31m---------------------------------------------------------------------------\u001b[0m",
      "\u001b[1;31mKeyError\u001b[0m                                  Traceback (most recent call last)",
      "\u001b[1;32m<ipython-input-106-4f1c655af899>\u001b[0m in \u001b[0;36m<module>\u001b[1;34m()\u001b[0m\n\u001b[1;32m----> 1\u001b[1;33m \u001b[0mstudent_courses\u001b[0m\u001b[1;33m[\u001b[0m\u001b[1;34m'freddie'\u001b[0m\u001b[1;33m]\u001b[0m\u001b[1;33m.\u001b[0m\u001b[0madd\u001b[0m\u001b[1;33m(\u001b[0m\u001b[1;34m'linear algebra'\u001b[0m\u001b[1;33m)\u001b[0m\u001b[1;33m\u001b[0m\u001b[0m\n\u001b[0m",
      "\u001b[1;31mKeyError\u001b[0m: 'freddie'"
     ]
    }
   ],
   "source": [
    "student_courses['freddie'].add('linear algebra')"
   ]
  },
  {
   "cell_type": "code",
   "execution_count": 107,
   "metadata": {
    "collapsed": true
   },
   "outputs": [],
   "source": [
    "if 'freddie' not in student_courses:\n",
    "    student_courses['freddie'] = set()\n",
    "student_courses['freddie'].add('linear algebra')"
   ]
  },
  {
   "cell_type": "code",
   "execution_count": 108,
   "metadata": {
    "collapsed": false
   },
   "outputs": [
    {
     "data": {
      "text/plain": [
       "{'arnold': {'calculus', 'linear algebra'},\n",
       " 'freddie': {'linear algebra'},\n",
       " 'juan luis': {'real analysis'},\n",
       " 'rosalie': {'calculus'},\n",
       " 'vinnie': {'calculus', 'diff eq', 'linear algebra'}}"
      ]
     },
     "execution_count": 108,
     "metadata": {},
     "output_type": "execute_result"
    }
   ],
   "source": [
    "## Better way\n",
    "student_courses.setdefault('rosalie', set()).add('calculus')\n",
    "student_courses"
   ]
  },
  {
   "cell_type": "markdown",
   "metadata": {},
   "source": [
    "## ``dict.__missing__``"
   ]
  },
  {
   "cell_type": "code",
   "execution_count": 109,
   "metadata": {
    "collapsed": true
   },
   "outputs": [],
   "source": [
    "class lowercasedict(dict):\n",
    "    def __missing__(self, key):\n",
    "        return self[key.lower()]"
   ]
  },
  {
   "cell_type": "code",
   "execution_count": 110,
   "metadata": {
    "collapsed": true
   },
   "outputs": [],
   "source": [
    "d = lowercasedict({'uno': 'one', 'dos': 'two'})"
   ]
  },
  {
   "cell_type": "code",
   "execution_count": 111,
   "metadata": {
    "collapsed": false
   },
   "outputs": [
    {
     "data": {
      "text/plain": [
       "'one'"
      ]
     },
     "execution_count": 111,
     "metadata": {},
     "output_type": "execute_result"
    }
   ],
   "source": [
    "d['UNO']"
   ]
  },
  {
   "cell_type": "markdown",
   "metadata": {},
   "source": [
    "## ``dict-``comprehensions"
   ]
  },
  {
   "cell_type": "code",
   "execution_count": 113,
   "metadata": {
    "collapsed": false
   },
   "outputs": [
    {
     "data": {
      "text/plain": [
       "{0: 0, 1: 1, 2: 4, 3: 9, 4: 16, 5: 25, 6: 36, 7: 49, 8: 64, 9: 81}"
      ]
     },
     "execution_count": 113,
     "metadata": {},
     "output_type": "execute_result"
    }
   ],
   "source": [
    "{x: x**2 for x in range(10)}"
   ]
  },
  {
   "cell_type": "code",
   "execution_count": 114,
   "metadata": {
    "collapsed": false
   },
   "outputs": [
    {
     "data": {
      "text/plain": [
       "'abcdefghijklmnopqrstuvwxyz'"
      ]
     },
     "execution_count": 114,
     "metadata": {},
     "output_type": "execute_result"
    }
   ],
   "source": [
    "# substitution cipher\n",
    "from string import ascii_lowercase\n",
    "ascii_lowercase"
   ]
  },
  {
   "cell_type": "code",
   "execution_count": 115,
   "metadata": {
    "collapsed": false
   },
   "outputs": [
    {
     "ename": "TypeError",
     "evalue": "'str' object does not support item assignment",
     "output_type": "error",
     "traceback": [
      "\u001b[1;31m---------------------------------------------------------------------------\u001b[0m",
      "\u001b[1;31mTypeError\u001b[0m                                 Traceback (most recent call last)",
      "\u001b[1;32m<ipython-input-115-3a84edd44819>\u001b[0m in \u001b[0;36m<module>\u001b[1;34m()\u001b[0m\n\u001b[0;32m      1\u001b[0m \u001b[1;32mfrom\u001b[0m \u001b[0mrandom\u001b[0m \u001b[1;32mimport\u001b[0m \u001b[0mshuffle\u001b[0m\u001b[1;33m\u001b[0m\u001b[0m\n\u001b[1;32m----> 2\u001b[1;33m \u001b[0mshuffle\u001b[0m\u001b[1;33m(\u001b[0m\u001b[0mascii_lowercase\u001b[0m\u001b[1;33m)\u001b[0m\u001b[1;33m\u001b[0m\u001b[0m\n\u001b[0m",
      "\u001b[1;32mC:\\Users\\Raghav\\Anaconda\\lib\\random.pyc\u001b[0m in \u001b[0;36mshuffle\u001b[1;34m(self, x, random)\u001b[0m\n\u001b[0;32m    289\u001b[0m             \u001b[1;31m# pick an element in x[:i+1] with which to exchange x[i]\u001b[0m\u001b[1;33m\u001b[0m\u001b[1;33m\u001b[0m\u001b[0m\n\u001b[0;32m    290\u001b[0m             \u001b[0mj\u001b[0m \u001b[1;33m=\u001b[0m \u001b[0m_int\u001b[0m\u001b[1;33m(\u001b[0m\u001b[0mrandom\u001b[0m\u001b[1;33m(\u001b[0m\u001b[1;33m)\u001b[0m \u001b[1;33m*\u001b[0m \u001b[1;33m(\u001b[0m\u001b[0mi\u001b[0m\u001b[1;33m+\u001b[0m\u001b[1;36m1\u001b[0m\u001b[1;33m)\u001b[0m\u001b[1;33m)\u001b[0m\u001b[1;33m\u001b[0m\u001b[0m\n\u001b[1;32m--> 291\u001b[1;33m             \u001b[0mx\u001b[0m\u001b[1;33m[\u001b[0m\u001b[0mi\u001b[0m\u001b[1;33m]\u001b[0m\u001b[1;33m,\u001b[0m \u001b[0mx\u001b[0m\u001b[1;33m[\u001b[0m\u001b[0mj\u001b[0m\u001b[1;33m]\u001b[0m \u001b[1;33m=\u001b[0m \u001b[0mx\u001b[0m\u001b[1;33m[\u001b[0m\u001b[0mj\u001b[0m\u001b[1;33m]\u001b[0m\u001b[1;33m,\u001b[0m \u001b[0mx\u001b[0m\u001b[1;33m[\u001b[0m\u001b[0mi\u001b[0m\u001b[1;33m]\u001b[0m\u001b[1;33m\u001b[0m\u001b[0m\n\u001b[0m\u001b[0;32m    292\u001b[0m \u001b[1;33m\u001b[0m\u001b[0m\n\u001b[0;32m    293\u001b[0m     \u001b[1;32mdef\u001b[0m \u001b[0msample\u001b[0m\u001b[1;33m(\u001b[0m\u001b[0mself\u001b[0m\u001b[1;33m,\u001b[0m \u001b[0mpopulation\u001b[0m\u001b[1;33m,\u001b[0m \u001b[0mk\u001b[0m\u001b[1;33m)\u001b[0m\u001b[1;33m:\u001b[0m\u001b[1;33m\u001b[0m\u001b[0m\n",
      "\u001b[1;31mTypeError\u001b[0m: 'str' object does not support item assignment"
     ]
    }
   ],
   "source": [
    "from random import shuffle\n",
    "shuffle(ascii_lowercase)"
   ]
  },
  {
   "cell_type": "code",
   "execution_count": 128,
   "metadata": {
    "collapsed": false
   },
   "outputs": [
    {
     "data": {
      "text/plain": [
       "['d',\n",
       " 'b',\n",
       " 'w',\n",
       " 'g',\n",
       " 'o',\n",
       " 'k',\n",
       " 'h',\n",
       " 's',\n",
       " 'x',\n",
       " 'l',\n",
       " 'n',\n",
       " 't',\n",
       " 'c',\n",
       " 'f',\n",
       " 'u',\n",
       " 'q',\n",
       " 'p',\n",
       " 'm',\n",
       " 'r',\n",
       " 'y',\n",
       " 'a',\n",
       " 'z',\n",
       " 'e',\n",
       " 'i',\n",
       " 'v',\n",
       " 'j']"
      ]
     },
     "execution_count": 128,
     "metadata": {},
     "output_type": "execute_result"
    }
   ],
   "source": [
    "alphabet = list(ascii_lowercase)\n",
    "shuffle(alphabet)\n",
    "alphabet"
   ]
  },
  {
   "cell_type": "code",
   "execution_count": 129,
   "metadata": {
    "collapsed": false
   },
   "outputs": [
    {
     "data": {
      "text/plain": [
       "{'a': 'j',\n",
       " 'b': 'v',\n",
       " 'c': 'i',\n",
       " 'd': 'e',\n",
       " 'e': 'z',\n",
       " 'f': 'a',\n",
       " 'g': 'y',\n",
       " 'h': 'r',\n",
       " 'i': 'm',\n",
       " 'j': 'p',\n",
       " 'k': 'q',\n",
       " 'l': 'u',\n",
       " 'm': 'f',\n",
       " 'n': 'c',\n",
       " 'o': 't',\n",
       " 'p': 'n',\n",
       " 'q': 'l',\n",
       " 'r': 'x',\n",
       " 's': 's',\n",
       " 't': 'h',\n",
       " 'u': 'k',\n",
       " 'v': 'o',\n",
       " 'w': 'g',\n",
       " 'x': 'w',\n",
       " 'y': 'b',\n",
       " 'z': 'd'}"
      ]
     },
     "execution_count": 129,
     "metadata": {},
     "output_type": "execute_result"
    }
   ],
   "source": [
    "codebook = {x: alphabet.pop() for x in ascii_lowercase}\n",
    "codebook"
   ]
  },
  {
   "cell_type": "code",
   "execution_count": 130,
   "metadata": {
    "collapsed": false
   },
   "outputs": [
    {
     "data": {
      "text/plain": [
       "'nbhrtcmsyxzjh'"
      ]
     },
     "execution_count": 130,
     "metadata": {},
     "output_type": "execute_result"
    }
   ],
   "source": [
    "message = 'python is great!!'\n",
    "encoded = ''.join(codebook.get(m,'') for m in message)\n",
    "encoded"
   ]
  },
  {
   "cell_type": "code",
   "execution_count": 131,
   "metadata": {
    "collapsed": false
   },
   "outputs": [
    {
     "data": {
      "text/plain": [
       "{'a': 'f',\n",
       " 'b': 'y',\n",
       " 'c': 'n',\n",
       " 'd': 'z',\n",
       " 'e': 'd',\n",
       " 'f': 'm',\n",
       " 'g': 'w',\n",
       " 'h': 't',\n",
       " 'i': 'c',\n",
       " 'j': 'a',\n",
       " 'k': 'u',\n",
       " 'l': 'q',\n",
       " 'm': 'i',\n",
       " 'n': 'p',\n",
       " 'o': 'v',\n",
       " 'p': 'j',\n",
       " 'q': 'k',\n",
       " 'r': 'h',\n",
       " 's': 's',\n",
       " 't': 'o',\n",
       " 'u': 'l',\n",
       " 'v': 'b',\n",
       " 'w': 'x',\n",
       " 'x': 'r',\n",
       " 'y': 'g',\n",
       " 'z': 'e'}"
      ]
     },
     "execution_count": 131,
     "metadata": {},
     "output_type": "execute_result"
    }
   ],
   "source": [
    "reverse_codebook = {v: k for k,v in codebook.items()}\n",
    "reverse_codebook"
   ]
  },
  {
   "cell_type": "code",
   "execution_count": 134,
   "metadata": {
    "collapsed": false
   },
   "outputs": [
    {
     "name": "stdout",
     "output_type": "stream",
     "text": [
      "pythonisgreat\n"
     ]
    }
   ],
   "source": [
    "print (''.join(reverse_codebook.get(m,'') for m in 'nbhrtcmsyxzjh'))"
   ]
  },
  {
   "cell_type": "markdown",
   "metadata": {},
   "source": [
    "## as a lookup-table"
   ]
  },
  {
   "cell_type": "code",
   "execution_count": 151,
   "metadata": {
    "collapsed": true
   },
   "outputs": [],
   "source": [
    "sine = [-0.0000, -0.0495, -0.0988, -0.1479,\n",
    "        -0.1966, -0.2449, -0.2925, -0.3394,\n",
    "        -0.3855, -0.4307, -0.4748, -0.5177,\n",
    "        -0.5594, -0.5997, -0.6386, -0.6758,\n",
    "        -0.7115, -0.7453, -0.7774, -0.8076,\n",
    "        -0.8357, -0.8619, -0.8859, -0.9078,\n",
    "        -0.9274, -0.9448, -0.9598, -0.9725,\n",
    "        -0.9828, -0.9908, -0.9963, -0.9993,\n",
    "        -0.9999, -0.9981, -0.9938, -0.9871,\n",
    "        -0.9780, -0.9665, -0.9526, -0.9364,\n",
    "        -0.9179, -0.8971, -0.8742, -0.8491,\n",
    "        -0.8219, -0.7927, -0.7616, -0.7286,\n",
    "        -0.6939, -0.6574, -0.6193, -0.5798,\n",
    "        -0.5387, -0.4964, -0.4529, -0.4082,\n",
    "        -0.3626, -0.3161, -0.2688, -0.2208,\n",
    "        -0.1723, -0.1234, -0.0741, -0.0247,\n",
    "         0.0247,  0.0741,  0.1234,  0.1723,\n",
    "         0.2208,  0.2688,  0.3161,  0.3626,\n",
    "         0.4082,  0.4529,  0.4964,  0.5387,\n",
    "         0.5798,  0.6193,  0.6574,  0.6939,\n",
    "         0.7286,  0.7616,  0.7927,  0.8219,\n",
    "         0.8491,  0.8742,  0.8971,  0.9179,\n",
    "         0.9364,  0.9526,  0.9665,  0.9780,\n",
    "         0.9871,  0.9938,  0.9981,  0.9999,\n",
    "         0.9993,  0.9963,  0.9908,  0.9828,\n",
    "         0.9725,  0.9598,  0.9448,  0.9274,\n",
    "         0.9078,  0.8859,  0.8619,  0.8357,\n",
    "         0.8076,  0.7774,  0.7453,  0.7115,\n",
    "         0.6758,  0.6386,  0.5997,  0.5594,\n",
    "         0.5177,  0.4748,  0.4307,  0.3855,\n",
    "         0.3394,  0.2925,  0.2449,  0.1966,\n",
    "         0.1479,  0.0988,  0.0495,  0.0000,]"
   ]
  },
  {
   "cell_type": "code",
   "execution_count": 152,
   "metadata": {
    "collapsed": false
   },
   "outputs": [
    {
     "data": {
      "text/plain": [
       "0"
      ]
     },
     "execution_count": 152,
     "metadata": {},
     "output_type": "execute_result"
    }
   ],
   "source": [
    "from math import pi\n",
    "angle = 0\n",
    "angle"
   ]
  },
  {
   "cell_type": "code",
   "execution_count": 153,
   "metadata": {
    "collapsed": false
   },
   "outputs": [
    {
     "data": {
      "text/plain": [
       "64"
      ]
     },
     "execution_count": 153,
     "metadata": {},
     "output_type": "execute_result"
    }
   ],
   "source": [
    "angle_index = int((pi + angle) / (2 * pi) * len(sine))\n",
    "angle_index"
   ]
  },
  {
   "cell_type": "code",
   "execution_count": 154,
   "metadata": {
    "collapsed": false
   },
   "outputs": [
    {
     "data": {
      "text/plain": [
       "-0.0247"
      ]
     },
     "execution_count": 154,
     "metadata": {},
     "output_type": "execute_result"
    }
   ],
   "source": [
    "sine[angle_index - 1]"
   ]
  },
  {
   "cell_type": "code",
   "execution_count": 155,
   "metadata": {
    "collapsed": false
   },
   "outputs": [
    {
     "data": {
      "text/plain": [
       "0.0"
      ]
     },
     "execution_count": 155,
     "metadata": {},
     "output_type": "execute_result"
    }
   ],
   "source": [
    "from math import sin\n",
    "sin(angle)"
   ]
  },
  {
   "cell_type": "code",
   "execution_count": 156,
   "metadata": {
    "collapsed": false
   },
   "outputs": [
    {
     "data": {
      "text/plain": [
       "(0.0247, -0.0247)"
      ]
     },
     "execution_count": 156,
     "metadata": {},
     "output_type": "execute_result"
    }
   ],
   "source": [
    "sine[angle_index], sine[angle_index - 1]"
   ]
  },
  {
   "cell_type": "code",
   "execution_count": 157,
   "metadata": {
    "collapsed": true
   },
   "outputs": [],
   "source": [
    "# table of values\n",
    "table = {-3.1416: -0.0000, -3.0921: -0.0495, -3.0426: -0.0988, -2.9932: -0.1479, \n",
    "         -2.9437: -0.1966, -2.8942: -0.2449, -2.8447: -0.2925, -2.7953: -0.3394, \n",
    "         -2.7458: -0.3855, -2.6963: -0.4307, -2.6469: -0.4748, -2.5974: -0.5177, \n",
    "         -2.5479: -0.5594, -2.4984: -0.5997, -2.4490: -0.6386, -2.3995: -0.6758, \n",
    "         -2.3500: -0.7115, -2.3005: -0.7453, -2.2511: -0.7774, -2.2016: -0.8076, \n",
    "         -2.1521: -0.8357, -2.1026: -0.8619, -2.0532: -0.8859, -2.0037: -0.9078, \n",
    "         -1.9542: -0.9274, -1.9047: -0.9448, -1.8553: -0.9598, -1.8058: -0.9725, \n",
    "         -1.7563: -0.9828, -1.7068: -0.9908, -1.6574: -0.9963, -1.6079: -0.9993, \n",
    "         -1.5584: -0.9999, -1.5090: -0.9981, -1.4595: -0.9938, -1.4100: -0.9871, \n",
    "         -1.3605: -0.9780, -1.3111: -0.9665, -1.2616: -0.9526, -1.2121: -0.9364, \n",
    "         -1.1626: -0.9179, -1.1132: -0.8971, -1.0637: -0.8742, -1.0142: -0.8491, \n",
    "         -0.9647: -0.8219, -0.9153: -0.7927, -0.8658: -0.7616, -0.8163: -0.7286, \n",
    "         -0.7668: -0.6939, -0.7174: -0.6574, -0.6679: -0.6193, -0.6184: -0.5798, \n",
    "         -0.5689: -0.5387, -0.5195: -0.4964, -0.4700: -0.4529, -0.4205: -0.4082, \n",
    "         -0.3711: -0.3626, -0.3216: -0.3161, -0.2721: -0.2688, -0.2226: -0.2208, \n",
    "         -0.1732: -0.1723, -0.1237: -0.1234, -0.0742: -0.0741, -0.0247: -0.0247, \n",
    "          0.0247:  0.0247,  0.0742:  0.0741,  0.1237:  0.1234,  0.1732:  0.1723, \n",
    "          0.2226:  0.2208,  0.2721:  0.2688,  0.3216:  0.3161,  0.3711:  0.3626, \n",
    "          0.4205:  0.4082,  0.4700:  0.4529,  0.5195:  0.4964,  0.5689:  0.5387, \n",
    "          0.6184:  0.5798,  0.6679:  0.6193,  0.7174:  0.6574,  0.7668:  0.6939, \n",
    "          0.8163:  0.7286,  0.8658:  0.7616,  0.9153:  0.7927,  0.9647:  0.8219, \n",
    "          1.0142:  0.8491,  1.0637:  0.8742,  1.1132:  0.8971,  1.1626:  0.9179, \n",
    "          1.2121:  0.9364,  1.2616:  0.9526,  1.3111:  0.9665,  1.3605:  0.9780, \n",
    "          1.4100:  0.9871,  1.4595:  0.9938,  1.5090:  0.9981,  1.5584:  0.9999, \n",
    "          1.6079:  0.9993,  1.6574:  0.9963,  1.7068:  0.9908,  1.7563:  0.9828, \n",
    "          1.8058:  0.9725,  1.8553:  0.9598,  1.9047:  0.9448,  1.9542:  0.9274, \n",
    "          2.0037:  0.9078,  2.0532:  0.8859,  2.1026:  0.8619,  2.1521:  0.8357, \n",
    "          2.2016:  0.8076,  2.2511:  0.7774,  2.3005:  0.7453,  2.3500:  0.7115, \n",
    "          2.3995:  0.6758,  2.4490:  0.6386,  2.4984:  0.5997,  2.5479:  0.5594, \n",
    "          2.5974:  0.5177,  2.6469:  0.4748,  2.6963:  0.4307,  2.7458:  0.3855, \n",
    "          2.7953:  0.3394,  2.8447:  0.2925,  2.8942:  0.2449,  2.9437:  0.1966, \n",
    "          2.9932:  0.1479,  3.0426:  0.0988,  3.0921:  0.0495,  3.1416:  0.0000}"
   ]
  },
  {
   "cell_type": "code",
   "execution_count": 176,
   "metadata": {
    "collapsed": false
   },
   "outputs": [],
   "source": [
    "from bisect import bisect\n",
    "# from __future__ import division\n",
    "\n",
    "class interpolating_dict(dict):\n",
    "    def __missing__(self, key):\n",
    "        sorted_keys = sorted(self.keys())\n",
    "        \n",
    "        index = bisect(sorted_keys, key)\n",
    "        \n",
    "        if index == 0 or index == len(sorted_keys):\n",
    "            raise KeyError('cannot extrapolate value {}'.format(key))\n",
    "            \n",
    "        left_key, right_key = sorted_keys[index - 1], sorted_keys[index]\n",
    "        left_val, right_val = self[left_key], self[right_key]\n",
    "        \n",
    "        slope = (right_val - left_val) / (right_key - left_key)\n",
    "        value = slope * (key - left_key) + left_val\n",
    "        return value"
   ]
  },
  {
   "cell_type": "code",
   "execution_count": 177,
   "metadata": {
    "collapsed": true
   },
   "outputs": [],
   "source": [
    "sine = interpolating_dict(table)"
   ]
  },
  {
   "cell_type": "code",
   "execution_count": 178,
   "metadata": {
    "collapsed": false
   },
   "outputs": [
    {
     "data": {
      "text/plain": [
       "0.0"
      ]
     },
     "execution_count": 178,
     "metadata": {},
     "output_type": "execute_result"
    }
   ],
   "source": [
    "sine[3.1416]"
   ]
  },
  {
   "cell_type": "code",
   "execution_count": 179,
   "metadata": {
    "collapsed": false
   },
   "outputs": [
    {
     "data": {
      "text/plain": [
       "0.0"
      ]
     },
     "execution_count": 179,
     "metadata": {},
     "output_type": "execute_result"
    }
   ],
   "source": [
    "sine[0]"
   ]
  },
  {
   "cell_type": "code",
   "execution_count": 180,
   "metadata": {
    "collapsed": false
   },
   "outputs": [
    {
     "data": {
      "text/plain": [
       "0.9997497414933952"
      ]
     },
     "execution_count": 180,
     "metadata": {},
     "output_type": "execute_result"
    }
   ],
   "source": [
    "sine[pi/2]"
   ]
  },
  {
   "cell_type": "code",
   "execution_count": 182,
   "metadata": {
    "collapsed": false
   },
   "outputs": [
    {
     "data": {
      "text/plain": [
       "{-3.1416: -0.0,\n",
       " -3.0921: -0.0495,\n",
       " -3.0426: -0.0988,\n",
       " -2.9932: -0.1479,\n",
       " -2.9437: -0.1966,\n",
       " -2.8942: -0.2449,\n",
       " -2.8447: -0.2925,\n",
       " -2.7953: -0.3394,\n",
       " -2.7458: -0.3855,\n",
       " -2.6963: -0.4307,\n",
       " -2.6469: -0.4748,\n",
       " -2.5974: -0.5177,\n",
       " -2.5479: -0.5594,\n",
       " -2.4984: -0.5997,\n",
       " -2.449: -0.6386,\n",
       " -2.3995: -0.6758,\n",
       " -2.35: -0.7115,\n",
       " -2.3005: -0.7453,\n",
       " -2.2511: -0.7774,\n",
       " -2.2016: -0.8076,\n",
       " -2.1521: -0.8357,\n",
       " -2.1026: -0.8619,\n",
       " -2.0532: -0.8859,\n",
       " -2.0037: -0.9078,\n",
       " -1.9542: -0.9274,\n",
       " -1.9047: -0.9448,\n",
       " -1.8553: -0.9598,\n",
       " -1.8058: -0.9725,\n",
       " -1.7563: -0.9828,\n",
       " -1.7068: -0.9908,\n",
       " -1.6574: -0.9963,\n",
       " -1.6079: -0.9993,\n",
       " -1.5584: -0.9999,\n",
       " -1.509: -0.9981,\n",
       " -1.4595: -0.9938,\n",
       " -1.41: -0.9871,\n",
       " -1.3605: -0.978,\n",
       " -1.3111: -0.9665,\n",
       " -1.2616: -0.9526,\n",
       " -1.2121: -0.9364,\n",
       " -1.1626: -0.9179,\n",
       " -1.1132: -0.8971,\n",
       " -1.0637: -0.8742,\n",
       " -1.0142: -0.8491,\n",
       " -0.9647: -0.8219,\n",
       " -0.9153: -0.7927,\n",
       " -0.8658: -0.7616,\n",
       " -0.8163: -0.7286,\n",
       " -0.7668: -0.6939,\n",
       " -0.7174: -0.6574,\n",
       " -0.6679: -0.6193,\n",
       " -0.6184: -0.5798,\n",
       " -0.5689: -0.5387,\n",
       " -0.5195: -0.4964,\n",
       " -0.47: -0.4529,\n",
       " -0.4205: -0.4082,\n",
       " -0.3711: -0.3626,\n",
       " -0.3216: -0.3161,\n",
       " -0.2721: -0.2688,\n",
       " -0.2226: -0.2208,\n",
       " -0.1732: -0.1723,\n",
       " -0.1237: -0.1234,\n",
       " -0.0742: -0.0741,\n",
       " -0.0247: -0.0247,\n",
       " 0.0247: 0.0247,\n",
       " 0.0742: 0.0741,\n",
       " 0.1237: 0.1234,\n",
       " 0.1732: 0.1723,\n",
       " 0.2226: 0.2208,\n",
       " 0.2721: 0.2688,\n",
       " 0.3216: 0.3161,\n",
       " 0.3711: 0.3626,\n",
       " 0.4205: 0.4082,\n",
       " 0.47: 0.4529,\n",
       " 0.5195: 0.4964,\n",
       " 0.5689: 0.5387,\n",
       " 0.6184: 0.5798,\n",
       " 0.6679: 0.6193,\n",
       " 0.7174: 0.6574,\n",
       " 0.7668: 0.6939,\n",
       " 0.8163: 0.7286,\n",
       " 0.8658: 0.7616,\n",
       " 0.9153: 0.7927,\n",
       " 0.9647: 0.8219,\n",
       " 1.0142: 0.8491,\n",
       " 1.0637: 0.8742,\n",
       " 1.1132: 0.8971,\n",
       " 1.1626: 0.9179,\n",
       " 1.2121: 0.9364,\n",
       " 1.2616: 0.9526,\n",
       " 1.3111: 0.9665,\n",
       " 1.3605: 0.978,\n",
       " 1.41: 0.9871,\n",
       " 1.4595: 0.9938,\n",
       " 1.509: 0.9981,\n",
       " 1.5584: 0.9999,\n",
       " 1.6079: 0.9993,\n",
       " 1.6574: 0.9963,\n",
       " 1.7068: 0.9908,\n",
       " 1.7563: 0.9828,\n",
       " 1.8058: 0.9725,\n",
       " 1.8553: 0.9598,\n",
       " 1.9047: 0.9448,\n",
       " 1.9542: 0.9274,\n",
       " 2.0037: 0.9078,\n",
       " 2.0532: 0.8859,\n",
       " 2.1026: 0.8619,\n",
       " 2.1521: 0.8357,\n",
       " 2.2016: 0.8076,\n",
       " 2.2511: 0.7774,\n",
       " 2.3005: 0.7453,\n",
       " 2.35: 0.7115,\n",
       " 2.3995: 0.6758,\n",
       " 2.449: 0.6386,\n",
       " 2.4984: 0.5997,\n",
       " 2.5479: 0.5594,\n",
       " 2.5974: 0.5177,\n",
       " 2.6469: 0.4748,\n",
       " 2.6963: 0.4307,\n",
       " 2.7458: 0.3855,\n",
       " 2.7953: 0.3394,\n",
       " 2.8447: 0.2925,\n",
       " 2.8942: 0.2449,\n",
       " 2.9437: 0.1966,\n",
       " 2.9932: 0.1479,\n",
       " 3.0426: 0.0988,\n",
       " 3.0921: 0.0495,\n",
       " 3.1416: 0.0}"
      ]
     },
     "execution_count": 182,
     "metadata": {},
     "output_type": "execute_result"
    }
   ],
   "source": [
    "sine"
   ]
  },
  {
   "cell_type": "markdown",
   "metadata": {},
   "source": [
    "## as a relation or a function"
   ]
  },
  {
   "cell_type": "code",
   "execution_count": 183,
   "metadata": {
    "collapsed": true
   },
   "outputs": [],
   "source": [
    "from math import sqrt\n",
    "\n",
    "def roots(a,b,c):\n",
    "    return (-b + sqrt(b**2 - 4*a*c))/(2*a)"
   ]
  },
  {
   "cell_type": "code",
   "execution_count": 184,
   "metadata": {
    "collapsed": false
   },
   "outputs": [
    {
     "data": {
      "text/plain": [
       "-1.0"
      ]
     },
     "execution_count": 184,
     "metadata": {},
     "output_type": "execute_result"
    }
   ],
   "source": [
    "roots(1,2,1) # (x+1)(x+1) == x^2 + 2x + 1"
   ]
  },
  {
   "cell_type": "code",
   "execution_count": 186,
   "metadata": {
    "collapsed": true
   },
   "outputs": [],
   "source": [
    "class rootdict(dict):\n",
    "    def __missing__(self, key):\n",
    "        a, b, c = key\n",
    "        return (-b + sqrt(b**2 - 4*a*c))/(2*a)"
   ]
  },
  {
   "cell_type": "code",
   "execution_count": 190,
   "metadata": {
    "collapsed": false
   },
   "outputs": [
    {
     "data": {
      "text/plain": [
       "-1.0"
      ]
     },
     "execution_count": 190,
     "metadata": {},
     "output_type": "execute_result"
    }
   ],
   "source": [
    "d = rootdict()\n",
    "d[1,2,1]"
   ]
  },
  {
   "cell_type": "markdown",
   "metadata": {},
   "source": [
    "## ``__getitem__`` and ``__call__``"
   ]
  },
  {
   "cell_type": "code",
   "execution_count": 191,
   "metadata": {
    "collapsed": false
   },
   "outputs": [
    {
     "data": {
      "text/plain": [
       "4"
      ]
     },
     "execution_count": 191,
     "metadata": {},
     "output_type": "execute_result"
    }
   ],
   "source": [
    "d = {1: 1, 2: 4}\n",
    "d[2]"
   ]
  },
  {
   "cell_type": "code",
   "execution_count": 192,
   "metadata": {
    "collapsed": false
   },
   "outputs": [
    {
     "data": {
      "text/plain": [
       "4"
      ]
     },
     "execution_count": 192,
     "metadata": {},
     "output_type": "execute_result"
    }
   ],
   "source": [
    "d.__getitem__(2)"
   ]
  },
  {
   "cell_type": "code",
   "execution_count": 193,
   "metadata": {
    "collapsed": true
   },
   "outputs": [],
   "source": [
    "class Foo:\n",
    "    def __getitem__(self, key):\n",
    "        return key**2"
   ]
  },
  {
   "cell_type": "code",
   "execution_count": 194,
   "metadata": {
    "collapsed": false
   },
   "outputs": [
    {
     "data": {
      "text/plain": [
       "169"
      ]
     },
     "execution_count": 194,
     "metadata": {},
     "output_type": "execute_result"
    }
   ],
   "source": [
    "foo = Foo()\n",
    "foo[13]"
   ]
  },
  {
   "cell_type": "code",
   "execution_count": 195,
   "metadata": {
    "collapsed": true
   },
   "outputs": [],
   "source": [
    "class Foo:\n",
    "    def __call__(self, val):\n",
    "        return val**2"
   ]
  },
  {
   "cell_type": "code",
   "execution_count": 196,
   "metadata": {
    "collapsed": false
   },
   "outputs": [
    {
     "data": {
      "text/plain": [
       "100"
      ]
     },
     "execution_count": 196,
     "metadata": {},
     "output_type": "execute_result"
    }
   ],
   "source": [
    "foo = Foo()\n",
    "foo(10)"
   ]
  },
  {
   "cell_type": "markdown",
   "metadata": {},
   "source": [
    "## ``dict``-alikes"
   ]
  },
  {
   "cell_type": "code",
   "execution_count": 198,
   "metadata": {
    "collapsed": false
   },
   "outputs": [],
   "source": [
    "from contextlib import closing\n",
    "from pandas import HDFStore, DataFrame\n",
    "from numpy import linspace\n",
    "\n",
    "df = DataFrame()\n",
    "df['val'] = linspace(0, 10**4, 10000)\n",
    "\n",
    "with closing(HDFStore('test.hd5')) as store:\n",
    "    store['key'] = df"
   ]
  },
  {
   "cell_type": "code",
   "execution_count": 199,
   "metadata": {
    "collapsed": false
   },
   "outputs": [
    {
     "data": {
      "text/html": [
       "<div>\n",
       "<table border=\"1\" class=\"dataframe\">\n",
       "  <thead>\n",
       "    <tr style=\"text-align: right;\">\n",
       "      <th></th>\n",
       "      <th>val</th>\n",
       "    </tr>\n",
       "  </thead>\n",
       "  <tbody>\n",
       "    <tr>\n",
       "      <th>0</th>\n",
       "      <td>0.0000</td>\n",
       "    </tr>\n",
       "    <tr>\n",
       "      <th>1</th>\n",
       "      <td>1.0001</td>\n",
       "    </tr>\n",
       "    <tr>\n",
       "      <th>2</th>\n",
       "      <td>2.0002</td>\n",
       "    </tr>\n",
       "    <tr>\n",
       "      <th>3</th>\n",
       "      <td>3.0003</td>\n",
       "    </tr>\n",
       "    <tr>\n",
       "      <th>4</th>\n",
       "      <td>4.0004</td>\n",
       "    </tr>\n",
       "    <tr>\n",
       "      <th>5</th>\n",
       "      <td>5.0005</td>\n",
       "    </tr>\n",
       "    <tr>\n",
       "      <th>6</th>\n",
       "      <td>6.0006</td>\n",
       "    </tr>\n",
       "    <tr>\n",
       "      <th>7</th>\n",
       "      <td>7.0007</td>\n",
       "    </tr>\n",
       "    <tr>\n",
       "      <th>8</th>\n",
       "      <td>8.0008</td>\n",
       "    </tr>\n",
       "    <tr>\n",
       "      <th>9</th>\n",
       "      <td>9.0009</td>\n",
       "    </tr>\n",
       "    <tr>\n",
       "      <th>10</th>\n",
       "      <td>10.0010</td>\n",
       "    </tr>\n",
       "    <tr>\n",
       "      <th>11</th>\n",
       "      <td>11.0011</td>\n",
       "    </tr>\n",
       "    <tr>\n",
       "      <th>12</th>\n",
       "      <td>12.0012</td>\n",
       "    </tr>\n",
       "    <tr>\n",
       "      <th>13</th>\n",
       "      <td>13.0013</td>\n",
       "    </tr>\n",
       "    <tr>\n",
       "      <th>14</th>\n",
       "      <td>14.0014</td>\n",
       "    </tr>\n",
       "    <tr>\n",
       "      <th>15</th>\n",
       "      <td>15.0015</td>\n",
       "    </tr>\n",
       "    <tr>\n",
       "      <th>16</th>\n",
       "      <td>16.0016</td>\n",
       "    </tr>\n",
       "    <tr>\n",
       "      <th>17</th>\n",
       "      <td>17.0017</td>\n",
       "    </tr>\n",
       "    <tr>\n",
       "      <th>18</th>\n",
       "      <td>18.0018</td>\n",
       "    </tr>\n",
       "    <tr>\n",
       "      <th>19</th>\n",
       "      <td>19.0019</td>\n",
       "    </tr>\n",
       "    <tr>\n",
       "      <th>20</th>\n",
       "      <td>20.0020</td>\n",
       "    </tr>\n",
       "    <tr>\n",
       "      <th>21</th>\n",
       "      <td>21.0021</td>\n",
       "    </tr>\n",
       "    <tr>\n",
       "      <th>22</th>\n",
       "      <td>22.0022</td>\n",
       "    </tr>\n",
       "    <tr>\n",
       "      <th>23</th>\n",
       "      <td>23.0023</td>\n",
       "    </tr>\n",
       "    <tr>\n",
       "      <th>24</th>\n",
       "      <td>24.0024</td>\n",
       "    </tr>\n",
       "    <tr>\n",
       "      <th>25</th>\n",
       "      <td>25.0025</td>\n",
       "    </tr>\n",
       "    <tr>\n",
       "      <th>26</th>\n",
       "      <td>26.0026</td>\n",
       "    </tr>\n",
       "    <tr>\n",
       "      <th>27</th>\n",
       "      <td>27.0027</td>\n",
       "    </tr>\n",
       "    <tr>\n",
       "      <th>28</th>\n",
       "      <td>28.0028</td>\n",
       "    </tr>\n",
       "    <tr>\n",
       "      <th>29</th>\n",
       "      <td>29.0029</td>\n",
       "    </tr>\n",
       "    <tr>\n",
       "      <th>...</th>\n",
       "      <td>...</td>\n",
       "    </tr>\n",
       "    <tr>\n",
       "      <th>9970</th>\n",
       "      <td>9970.9971</td>\n",
       "    </tr>\n",
       "    <tr>\n",
       "      <th>9971</th>\n",
       "      <td>9971.9972</td>\n",
       "    </tr>\n",
       "    <tr>\n",
       "      <th>9972</th>\n",
       "      <td>9972.9973</td>\n",
       "    </tr>\n",
       "    <tr>\n",
       "      <th>9973</th>\n",
       "      <td>9973.9974</td>\n",
       "    </tr>\n",
       "    <tr>\n",
       "      <th>9974</th>\n",
       "      <td>9974.9975</td>\n",
       "    </tr>\n",
       "    <tr>\n",
       "      <th>9975</th>\n",
       "      <td>9975.9976</td>\n",
       "    </tr>\n",
       "    <tr>\n",
       "      <th>9976</th>\n",
       "      <td>9976.9977</td>\n",
       "    </tr>\n",
       "    <tr>\n",
       "      <th>9977</th>\n",
       "      <td>9977.9978</td>\n",
       "    </tr>\n",
       "    <tr>\n",
       "      <th>9978</th>\n",
       "      <td>9978.9979</td>\n",
       "    </tr>\n",
       "    <tr>\n",
       "      <th>9979</th>\n",
       "      <td>9979.9980</td>\n",
       "    </tr>\n",
       "    <tr>\n",
       "      <th>9980</th>\n",
       "      <td>9980.9981</td>\n",
       "    </tr>\n",
       "    <tr>\n",
       "      <th>9981</th>\n",
       "      <td>9981.9982</td>\n",
       "    </tr>\n",
       "    <tr>\n",
       "      <th>9982</th>\n",
       "      <td>9982.9983</td>\n",
       "    </tr>\n",
       "    <tr>\n",
       "      <th>9983</th>\n",
       "      <td>9983.9984</td>\n",
       "    </tr>\n",
       "    <tr>\n",
       "      <th>9984</th>\n",
       "      <td>9984.9985</td>\n",
       "    </tr>\n",
       "    <tr>\n",
       "      <th>9985</th>\n",
       "      <td>9985.9986</td>\n",
       "    </tr>\n",
       "    <tr>\n",
       "      <th>9986</th>\n",
       "      <td>9986.9987</td>\n",
       "    </tr>\n",
       "    <tr>\n",
       "      <th>9987</th>\n",
       "      <td>9987.9988</td>\n",
       "    </tr>\n",
       "    <tr>\n",
       "      <th>9988</th>\n",
       "      <td>9988.9989</td>\n",
       "    </tr>\n",
       "    <tr>\n",
       "      <th>9989</th>\n",
       "      <td>9989.9990</td>\n",
       "    </tr>\n",
       "    <tr>\n",
       "      <th>9990</th>\n",
       "      <td>9990.9991</td>\n",
       "    </tr>\n",
       "    <tr>\n",
       "      <th>9991</th>\n",
       "      <td>9991.9992</td>\n",
       "    </tr>\n",
       "    <tr>\n",
       "      <th>9992</th>\n",
       "      <td>9992.9993</td>\n",
       "    </tr>\n",
       "    <tr>\n",
       "      <th>9993</th>\n",
       "      <td>9993.9994</td>\n",
       "    </tr>\n",
       "    <tr>\n",
       "      <th>9994</th>\n",
       "      <td>9994.9995</td>\n",
       "    </tr>\n",
       "    <tr>\n",
       "      <th>9995</th>\n",
       "      <td>9995.9996</td>\n",
       "    </tr>\n",
       "    <tr>\n",
       "      <th>9996</th>\n",
       "      <td>9996.9997</td>\n",
       "    </tr>\n",
       "    <tr>\n",
       "      <th>9997</th>\n",
       "      <td>9997.9998</td>\n",
       "    </tr>\n",
       "    <tr>\n",
       "      <th>9998</th>\n",
       "      <td>9998.9999</td>\n",
       "    </tr>\n",
       "    <tr>\n",
       "      <th>9999</th>\n",
       "      <td>10000.0000</td>\n",
       "    </tr>\n",
       "  </tbody>\n",
       "</table>\n",
       "<p>10000 rows × 1 columns</p>\n",
       "</div>"
      ],
      "text/plain": [
       "             val\n",
       "0         0.0000\n",
       "1         1.0001\n",
       "2         2.0002\n",
       "3         3.0003\n",
       "4         4.0004\n",
       "5         5.0005\n",
       "6         6.0006\n",
       "7         7.0007\n",
       "8         8.0008\n",
       "9         9.0009\n",
       "10       10.0010\n",
       "11       11.0011\n",
       "12       12.0012\n",
       "13       13.0013\n",
       "14       14.0014\n",
       "15       15.0015\n",
       "16       16.0016\n",
       "17       17.0017\n",
       "18       18.0018\n",
       "19       19.0019\n",
       "20       20.0020\n",
       "21       21.0021\n",
       "22       22.0022\n",
       "23       23.0023\n",
       "24       24.0024\n",
       "25       25.0025\n",
       "26       26.0026\n",
       "27       27.0027\n",
       "28       28.0028\n",
       "29       29.0029\n",
       "...          ...\n",
       "9970   9970.9971\n",
       "9971   9971.9972\n",
       "9972   9972.9973\n",
       "9973   9973.9974\n",
       "9974   9974.9975\n",
       "9975   9975.9976\n",
       "9976   9976.9977\n",
       "9977   9977.9978\n",
       "9978   9978.9979\n",
       "9979   9979.9980\n",
       "9980   9980.9981\n",
       "9981   9981.9982\n",
       "9982   9982.9983\n",
       "9983   9983.9984\n",
       "9984   9984.9985\n",
       "9985   9985.9986\n",
       "9986   9986.9987\n",
       "9987   9987.9988\n",
       "9988   9988.9989\n",
       "9989   9989.9990\n",
       "9990   9990.9991\n",
       "9991   9991.9992\n",
       "9992   9992.9993\n",
       "9993   9993.9994\n",
       "9994   9994.9995\n",
       "9995   9995.9996\n",
       "9996   9996.9997\n",
       "9997   9997.9998\n",
       "9998   9998.9999\n",
       "9999  10000.0000\n",
       "\n",
       "[10000 rows x 1 columns]"
      ]
     },
     "execution_count": 199,
     "metadata": {},
     "output_type": "execute_result"
    }
   ],
   "source": [
    "df"
   ]
  },
  {
   "cell_type": "code",
   "execution_count": 200,
   "metadata": {
    "collapsed": false
   },
   "outputs": [
    {
     "data": {
      "text/plain": [
       "<class 'pandas.io.pytables.HDFStore'>\n",
       "File path: test.hd5\n",
       "File is CLOSED"
      ]
     },
     "execution_count": 200,
     "metadata": {},
     "output_type": "execute_result"
    }
   ],
   "source": [
    "store"
   ]
  },
  {
   "cell_type": "code",
   "execution_count": 203,
   "metadata": {
    "collapsed": false
   },
   "outputs": [
    {
     "data": {
      "text/plain": [
       "<class 'pandas.io.pytables.HDFStore'>\n",
       "File path: test.hd5\n",
       "/key            frame        (shape->[10000,1])"
      ]
     },
     "metadata": {},
     "output_type": "display_data"
    },
    {
     "data": {
      "text/html": [
       "<div>\n",
       "<table border=\"1\" class=\"dataframe\">\n",
       "  <thead>\n",
       "    <tr style=\"text-align: right;\">\n",
       "      <th></th>\n",
       "      <th>val</th>\n",
       "    </tr>\n",
       "  </thead>\n",
       "  <tbody>\n",
       "    <tr>\n",
       "      <th>0</th>\n",
       "      <td>0.0000</td>\n",
       "    </tr>\n",
       "    <tr>\n",
       "      <th>1</th>\n",
       "      <td>1.0001</td>\n",
       "    </tr>\n",
       "    <tr>\n",
       "      <th>2</th>\n",
       "      <td>2.0002</td>\n",
       "    </tr>\n",
       "    <tr>\n",
       "      <th>3</th>\n",
       "      <td>3.0003</td>\n",
       "    </tr>\n",
       "    <tr>\n",
       "      <th>4</th>\n",
       "      <td>4.0004</td>\n",
       "    </tr>\n",
       "  </tbody>\n",
       "</table>\n",
       "</div>"
      ],
      "text/plain": [
       "      val\n",
       "0  0.0000\n",
       "1  1.0001\n",
       "2  2.0002\n",
       "3  3.0003\n",
       "4  4.0004"
      ]
     },
     "metadata": {},
     "output_type": "display_data"
    }
   ],
   "source": [
    "from IPython.display import display\n",
    "\n",
    "with closing(HDFStore('test.hd5')) as store:\n",
    "    display(store)\n",
    "    display(store['key'].head())"
   ]
  },
  {
   "cell_type": "markdown",
   "metadata": {},
   "source": [
    "## dict.``__missing__``"
   ]
  },
  {
   "cell_type": "code",
   "execution_count": 204,
   "metadata": {
    "collapsed": true
   },
   "outputs": [],
   "source": [
    "from collections import Iterable\n",
    "\n",
    "class rangedict(dict):\n",
    "    def __missing__(self, key):\n",
    "        for k, v in self.items():\n",
    "            if isinstance(k, Iterable):\n",
    "                left, right = k\n",
    "                if left <= key < right:\n",
    "                    self[key] = v\n",
    "                    return v\n",
    "        raise KeyError('cannot find {} in rangedict'.formay(key))"
   ]
  },
  {
   "cell_type": "code",
   "execution_count": 205,
   "metadata": {
    "collapsed": false
   },
   "outputs": [
    {
     "data": {
      "text/plain": [
       "'green'"
      ]
     },
     "execution_count": 205,
     "metadata": {},
     "output_type": "execute_result"
    }
   ],
   "source": [
    "codes = rangedict({(  0,   10): 'red',\n",
    "                   ( 10,  100): 'yellow',\n",
    "                   (100, 1000): 'green', })\n",
    "\n",
    "codes[105]"
   ]
  },
  {
   "cell_type": "code",
   "execution_count": 206,
   "metadata": {
    "collapsed": false
   },
   "outputs": [
    {
     "data": {
      "text/plain": [
       "{105: 'green', (0, 10): 'red', (10, 100): 'yellow', (100, 1000): 'green'}"
      ]
     },
     "execution_count": 206,
     "metadata": {},
     "output_type": "execute_result"
    }
   ],
   "source": [
    "codes"
   ]
  },
  {
   "cell_type": "code",
   "execution_count": 6,
   "metadata": {
    "collapsed": true
   },
   "outputs": [],
   "source": [
    "class passthrudict(dict):\n",
    "    def __missing__(self, key):\n",
    "        return key"
   ]
  },
  {
   "cell_type": "code",
   "execution_count": 7,
   "metadata": {
    "collapsed": false
   },
   "outputs": [
    {
     "data": {
      "text/plain": [
       "'That d*rn cat!'"
      ]
     },
     "execution_count": 7,
     "metadata": {},
     "output_type": "execute_result"
    }
   ],
   "source": [
    "censor = passthrudict({'hell': 'h***',\n",
    "                       'darn': 'd*rn',})\n",
    "\n",
    "sentence = \"That darn cat!\"\n",
    "\n",
    "' '.join(censor[w] for w in sentence.split())"
   ]
  },
  {
   "cell_type": "code",
   "execution_count": 8,
   "metadata": {
    "collapsed": false
   },
   "outputs": [
    {
     "data": {
      "text/plain": [
       "\"Y'all can go to hell; I'm going to Texas!\""
      ]
     },
     "execution_count": 8,
     "metadata": {},
     "output_type": "execute_result"
    }
   ],
   "source": [
    "sentence = \"Y'all can go to hell; I'm going to Texas!\"\n",
    "\n",
    "' '.join(censor[w] for w in sentence.split())"
   ]
  },
  {
   "cell_type": "code",
   "execution_count": 9,
   "metadata": {
    "collapsed": false
   },
   "outputs": [
    {
     "data": {
      "text/plain": [
       "['Y',\n",
       " \"'\",\n",
       " 'all',\n",
       " ' ',\n",
       " 'can',\n",
       " ' ',\n",
       " 'go',\n",
       " ' ',\n",
       " 'to',\n",
       " ' ',\n",
       " 'hell',\n",
       " '; ',\n",
       " 'I',\n",
       " \"'\",\n",
       " 'm',\n",
       " ' ',\n",
       " 'going',\n",
       " ' ',\n",
       " 'to',\n",
       " ' ',\n",
       " 'Texas',\n",
       " '!']"
      ]
     },
     "execution_count": 9,
     "metadata": {},
     "output_type": "execute_result"
    }
   ],
   "source": [
    "from itertools import groupby, chain\n",
    "from unicodedata import category\n",
    "\n",
    "def fancy_split(s):\n",
    "    return [''.join(g) for k,g in groupby(s, key = lambda x: category(x)[0] == 'L')]\n",
    "\n",
    "sentence = \"Y'all can go to hell; I'm going to Texas!\"\n",
    "fancy_split(sentence)"
   ]
  },
  {
   "cell_type": "code",
   "execution_count": 10,
   "metadata": {
    "collapsed": false
   },
   "outputs": [
    {
     "data": {
      "text/plain": [
       "\"Y ' all   can   go   to   h*** ;  I ' m   going   to   Texas !\""
      ]
     },
     "execution_count": 10,
     "metadata": {},
     "output_type": "execute_result"
    }
   ],
   "source": [
    "' '.join(censor[w] for w in fancy_split(sentence))"
   ]
  },
  {
   "cell_type": "markdown",
   "metadata": {
    "collapsed": true
   },
   "source": [
    "## ```collections.defaultdict```"
   ]
  },
  {
   "cell_type": "code",
   "execution_count": 12,
   "metadata": {
    "collapsed": true
   },
   "outputs": [],
   "source": [
    "student_courses = {'vinnie':    {'calculus', 'diff eq'},\n",
    "                   'arnold':    {'calculus', 'linear algebra'},\n",
    "                   'juan luis': {'real analysis'}}\n",
    "\n",
    "student_courses['freddie'] = set()\n",
    "student_courses['freddie'].add('linear algebra')"
   ]
  },
  {
   "cell_type": "code",
   "execution_count": 14,
   "metadata": {
    "collapsed": true
   },
   "outputs": [],
   "source": [
    "from collections import defaultdict\n",
    "\n",
    "student_courses = defaultdict(set)\n",
    "student_courses.update({'vinnie':    {'calculus', 'diff eq'},\n",
    "                        'arnold':    {'calculus', 'linear algebra'},\n",
    "                        'juan luis': {'real analysis'}})"
   ]
  },
  {
   "cell_type": "code",
   "execution_count": 15,
   "metadata": {
    "collapsed": false
   },
   "outputs": [
    {
     "data": {
      "text/plain": [
       "defaultdict(<class 'set'>, {'arnold': {'linear algebra', 'calculus'}, 'freddie': {'linear algebra'}, 'vinnie': {'diff eq', 'calculus'}, 'juan luis': {'real analysis'}})"
      ]
     },
     "execution_count": 15,
     "metadata": {},
     "output_type": "execute_result"
    }
   ],
   "source": [
    "student_courses['freddie'].add('linear algebra')\n",
    "student_courses"
   ]
  },
  {
   "cell_type": "code",
   "execution_count": 16,
   "metadata": {
    "collapsed": false
   },
   "outputs": [
    {
     "data": {
      "text/plain": [
       "False"
      ]
     },
     "execution_count": 16,
     "metadata": {},
     "output_type": "execute_result"
    }
   ],
   "source": [
    "'foobar' in student_courses"
   ]
  },
  {
   "cell_type": "code",
   "execution_count": 18,
   "metadata": {
    "collapsed": false
   },
   "outputs": [
    {
     "data": {
      "text/plain": [
       "set()"
      ]
     },
     "execution_count": 18,
     "metadata": {},
     "output_type": "execute_result"
    }
   ],
   "source": [
    "student_courses['foobar']"
   ]
  },
  {
   "cell_type": "markdown",
   "metadata": {},
   "source": [
    "## as a hash"
   ]
  },
  {
   "cell_type": "code",
   "execution_count": 19,
   "metadata": {
    "collapsed": false
   },
   "outputs": [
    {
     "ename": "TypeError",
     "evalue": "unhashable type: 'list'",
     "output_type": "error",
     "traceback": [
      "\u001b[1;31m---------------------------------------------------------------------------\u001b[0m",
      "\u001b[1;31mTypeError\u001b[0m                                 Traceback (most recent call last)",
      "\u001b[1;32m<ipython-input-19-2ad7f7afed31>\u001b[0m in \u001b[0;36m<module>\u001b[1;34m()\u001b[0m\n\u001b[1;32m----> 1\u001b[1;33m \u001b[1;33m{\u001b[0m\u001b[1;33m[\u001b[0m\u001b[1;36m1\u001b[0m\u001b[1;33m,\u001b[0m\u001b[1;36m2\u001b[0m\u001b[1;33m,\u001b[0m\u001b[1;36m3\u001b[0m\u001b[1;33m]\u001b[0m\u001b[1;33m:\u001b[0m \u001b[1;36m4\u001b[0m\u001b[1;33m}\u001b[0m\u001b[1;33m\u001b[0m\u001b[0m\n\u001b[0m",
      "\u001b[1;31mTypeError\u001b[0m: unhashable type: 'list'"
     ]
    }
   ],
   "source": [
    "{[1,2,3]: 4}"
   ]
  },
  {
   "cell_type": "code",
   "execution_count": 20,
   "metadata": {
    "collapsed": true
   },
   "outputs": [],
   "source": [
    "english = ['one', 'two', 'three']\n",
    "spanish = ['uno', 'dos', 'tres']"
   ]
  },
  {
   "cell_type": "code",
   "execution_count": 21,
   "metadata": {
    "collapsed": false
   },
   "outputs": [
    {
     "data": {
      "text/plain": [
       "1"
      ]
     },
     "execution_count": 21,
     "metadata": {},
     "output_type": "execute_result"
    }
   ],
   "source": [
    "english.index('two')"
   ]
  },
  {
   "cell_type": "code",
   "execution_count": 22,
   "metadata": {
    "collapsed": false
   },
   "outputs": [
    {
     "data": {
      "text/plain": [
       "'tres'"
      ]
     },
     "execution_count": 22,
     "metadata": {},
     "output_type": "execute_result"
    }
   ],
   "source": [
    "spanish[english.index('three')]"
   ]
  },
  {
   "cell_type": "code",
   "execution_count": 26,
   "metadata": {
    "collapsed": false
   },
   "outputs": [
    {
     "data": {
      "text/plain": [
       "'dos'"
      ]
     },
     "execution_count": 26,
     "metadata": {},
     "output_type": "execute_result"
    }
   ],
   "source": [
    "from bisect import bisect_left\n",
    "lookup = [en for en,es in sorted(zip(english, spanish))]\n",
    "value = [es for en,es in sorted(zip(english, spanish))]\n",
    "\n",
    "key = 'two'\n",
    "value[bisect_left(lookup, key)]"
   ]
  },
  {
   "cell_type": "code",
   "execution_count": 28,
   "metadata": {
    "collapsed": false
   },
   "outputs": [],
   "source": [
    "from numpy import array, linspace\n",
    "from numpy.random import choice, shuffle\n",
    "from string import ascii_lowercase\n",
    "from bisect import bisect_left\n",
    "\n",
    "MAX_SIZE = 10**4\n",
    "\n",
    "letters = array([c for c in ascii_lowercase])\n",
    "words   = choice(letters, size=(MAX_SIZE, 10))\n",
    "words   = array([''.join(w) for w in words])\n",
    "\n",
    "ns = linspace(1, MAX_SIZE, 500)\n",
    "list_times = []\n",
    "dict_times = []\n",
    "bisect_times = []\n",
    "\n",
    "for n in ns:\n",
    "    shuffle(words)\n",
    "    \n",
    "    sample_list = list(words[:n])\n",
    "    sample_dict = dict.fromkeys(sample_list)\n",
    "    sample_bisect = sorted(sample_list)\n",
    "\n",
    "    lookup_words = choice(sample_list, size=10)\n",
    "    \n",
    "    list_time   = % timeit -q -n1 -o [sample_list.index(w) for w in lookup_words]\n",
    "    dict_time   = % timeit -q -n1 -o [sample_dict[w] for w in lookup_words]\n",
    "    bisect_time = % timeit -q -n1 -o [bisect_left(sample_bisect, w) for w in lookup_words]\n",
    "    \n",
    "    list_times.append(list_time.best)\n",
    "    dict_times.append(dict_time.best)\n",
    "    bisect_times.append(bisect_time.best)"
   ]
  },
  {
   "cell_type": "code",
   "execution_count": 29,
   "metadata": {
    "collapsed": true
   },
   "outputs": [],
   "source": [
    "% matplotlib inline"
   ]
  },
  {
   "cell_type": "code",
   "execution_count": 32,
   "metadata": {
    "collapsed": false
   },
   "outputs": [
    {
     "data": {
      "image/png": "[encoded data removed]",
      "text/plain": [
       "<matplotlib.figure.Figure at 0x7dd7c50>"
      ]
     },
     "metadata": {},
     "output_type": "display_data"
    }
   ],
   "source": [
    "from matplotlib.pyplot import figure, plot, title, legend, ylabel, xlabel, show\n",
    "\n",
    "fig = figure(figsize=(12,8))\n",
    "\n",
    "plot(ns, list_times, 'bo',   label=u'list lookup ~ O(n)')\n",
    "plot(ns, dict_times, 'go',   label=u'dict lookup ~ O(1)')\n",
    "plot(ns, bisect_times, 'ro', label=u'bisect lookup ~ O(log(n))')\n",
    "\n",
    "title('list vs dict vs bisect (binary-search) lookup')\n",
    "legend(loc='best')\n",
    "xlabel('input size (elements)', figure=fig)\n",
    "ylabel('best time out of 3 (s)', figure=fig)\n",
    "show()"
   ]
  },
  {
   "cell_type": "code",
   "execution_count": 33,
   "metadata": {
    "collapsed": false
   },
   "outputs": [
    {
     "data": {
      "image/png": "[encoded data removed]",
      "text/plain": [
       "<matplotlib.figure.Figure at 0x72c3390>"
      ]
     },
     "metadata": {},
     "output_type": "display_data"
    }
   ],
   "source": [
    "\n",
    "fig = figure(figsize=(12,8))\n",
    "\n",
    "#plot(ns, list_times, 'bo',   label=u'list lookup ~ O(n)')\n",
    "plot(ns, dict_times, 'go',   label=u'dict lookup ~ O(1)')\n",
    "plot(ns, bisect_times, 'ro', label=u'bisect lookup ~ O(log(n))')\n",
    "\n",
    "title('list vs dict vs bisect (binary-search) lookup')\n",
    "legend(loc='best')\n",
    "xlabel('input size (elements)', figure=fig)\n",
    "ylabel('best time out of 3 (s)', figure=fig)\n",
    "show()"
   ]
  },
  {
   "cell_type": "markdown",
   "metadata": {},
   "source": [
    "## dict vs object"
   ]
  },
  {
   "cell_type": "code",
   "execution_count": 34,
   "metadata": {
    "collapsed": true
   },
   "outputs": [],
   "source": [
    "class Foo:\n",
    "    pass\n",
    "\n",
    "foo = Foo()"
   ]
  },
  {
   "cell_type": "code",
   "execution_count": 35,
   "metadata": {
    "collapsed": false
   },
   "outputs": [
    {
     "data": {
      "text/plain": [
       "10"
      ]
     },
     "execution_count": 35,
     "metadata": {},
     "output_type": "execute_result"
    }
   ],
   "source": [
    "foo.x = 10\n",
    "foo.x"
   ]
  },
  {
   "cell_type": "code",
   "execution_count": 36,
   "metadata": {
    "collapsed": false
   },
   "outputs": [
    {
     "data": {
      "text/plain": [
       "10"
      ]
     },
     "execution_count": 36,
     "metadata": {},
     "output_type": "execute_result"
    }
   ],
   "source": [
    "getattr(foo, 'x') # getattr protocol"
   ]
  },
  {
   "cell_type": "code",
   "execution_count": 37,
   "metadata": {
    "collapsed": true
   },
   "outputs": [],
   "source": [
    "bar = {}"
   ]
  },
  {
   "cell_type": "code",
   "execution_count": 38,
   "metadata": {
    "collapsed": false
   },
   "outputs": [
    {
     "data": {
      "text/plain": [
       "10"
      ]
     },
     "execution_count": 38,
     "metadata": {},
     "output_type": "execute_result"
    }
   ],
   "source": [
    "bar['y'] = 10\n",
    "bar['y']"
   ]
  },
  {
   "cell_type": "code",
   "execution_count": 39,
   "metadata": {
    "collapsed": false
   },
   "outputs": [
    {
     "data": {
      "text/plain": [
       "10"
      ]
     },
     "execution_count": 39,
     "metadata": {},
     "output_type": "execute_result"
    }
   ],
   "source": [
    "from operator import getitem # getitem protocol\n",
    "\n",
    "getitem(bar, 'y')"
   ]
  },
  {
   "cell_type": "code",
   "execution_count": 40,
   "metadata": {
    "collapsed": false
   },
   "outputs": [
    {
     "data": {
      "text/plain": [
       "{'x': 10}"
      ]
     },
     "execution_count": 40,
     "metadata": {},
     "output_type": "execute_result"
    }
   ],
   "source": [
    "foo.__dict__"
   ]
  },
  {
   "cell_type": "code",
   "execution_count": 41,
   "metadata": {
    "collapsed": true
   },
   "outputs": [],
   "source": [
    "class Base:\n",
    "    z = 10\n",
    "    \n",
    "class Derived(Base):\n",
    "    pass\n",
    "\n",
    "d = Derived()"
   ]
  },
  {
   "cell_type": "code",
   "execution_count": 42,
   "metadata": {
    "collapsed": false
   },
   "outputs": [
    {
     "data": {
      "text/plain": [
       "{}"
      ]
     },
     "execution_count": 42,
     "metadata": {},
     "output_type": "execute_result"
    }
   ],
   "source": [
    "d.__dict__"
   ]
  },
  {
   "cell_type": "code",
   "execution_count": 43,
   "metadata": {
    "collapsed": false
   },
   "outputs": [
    {
     "data": {
      "text/plain": [
       "10"
      ]
     },
     "execution_count": 43,
     "metadata": {},
     "output_type": "execute_result"
    }
   ],
   "source": [
    "getattr(d, 'z')"
   ]
  },
  {
   "cell_type": "code",
   "execution_count": 44,
   "metadata": {
    "collapsed": false
   },
   "outputs": [
    {
     "name": "stdout",
     "output_type": "stream",
     "text": [
      "10000000 loops, best of 3: 43.1 ns per loop\n",
      "10000000 loops, best of 3: 41.9 ns per loop\n"
     ]
    }
   ],
   "source": [
    "class Foo:\n",
    "    x = 10\n",
    "\n",
    "foo = Foo()\n",
    "\n",
    "bar = {'y': 20}\n",
    "\n",
    "% timeit foo.x\n",
    "% timeit bar['y']"
   ]
  },
  {
   "cell_type": "code",
   "execution_count": 47,
   "metadata": {
    "collapsed": false
   },
   "outputs": [
    {
     "name": "stdout",
     "output_type": "stream",
     "text": [
      "The slowest run took 4.53 times longer than the fastest. This could mean that an intermediate result is being cached \n",
      "1000000 loops, best of 3: 722 ns per loop\n",
      "The slowest run took 8.40 times longer than the fastest. This could mean that an intermediate result is being cached \n",
      "1000000 loops, best of 3: 278 ns per loop\n"
     ]
    }
   ],
   "source": [
    "class Foo:\n",
    "    def __getitem__(self, key):\n",
    "        if key == 'x':\n",
    "            return 10\n",
    "        raise KeyError('no such key {}'.format(key))\n",
    "    \n",
    "    def __getattr__(self, attr):\n",
    "        if attr == 'x':\n",
    "            return 100\n",
    "        raise AttributeError('no such attr {}'.format(attr))\n",
    "\n",
    "foo = Foo()\n",
    "\n",
    "% timeit foo.x\n",
    "% timeit foo['x']"
   ]
  },
  {
   "cell_type": "markdown",
   "metadata": {},
   "source": [
    "https://docs.python.org/3/reference/datamodel.html#customizing-attribute-access\n",
    "\n",
    "- `__getattr__` is invoked after other mechanisms fail.\n",
    "\n",
    "  \"Called when an attribute lookup has not found the attribute in the usual places\"\n",
    "  \n",
    "\n",
    "- `__getattribute__` is always invoked, and it is invoked first.\n",
    "\n",
    "  \"Called unconditionally to implement attribute accesses for instances of the class.\""
   ]
  },
  {
   "cell_type": "code",
   "execution_count": 46,
   "metadata": {
    "collapsed": false
   },
   "outputs": [
    {
     "name": "stdout",
     "output_type": "stream",
     "text": [
      "The slowest run took 6.89 times longer than the fastest. This could mean that an intermediate result is being cached \n",
      "1000000 loops, best of 3: 271 ns per loop\n",
      "The slowest run took 8.56 times longer than the fastest. This could mean that an intermediate result is being cached \n",
      "1000000 loops, best of 3: 273 ns per loop\n"
     ]
    }
   ],
   "source": [
    "class Foo:\n",
    "    def __getitem__(self, key):\n",
    "        if key == 'x':\n",
    "            return 10\n",
    "        raise KeyError('no such key {}'.format(key))\n",
    "    \n",
    "    def __getattribute__(self, attr):\n",
    "        if attr == 'x':\n",
    "            return 10\n",
    "        raise AttributeError('no such attr {}'.format(attr))\n",
    "\n",
    "foo = Foo()\n",
    "\n",
    "% timeit foo.x\n",
    "% timeit foo['x']"
   ]
  },
  {
   "cell_type": "markdown",
   "metadata": {},
   "source": [
    "## semantics"
   ]
  },
  {
   "cell_type": "code",
   "execution_count": 2,
   "metadata": {
    "collapsed": true
   },
   "outputs": [],
   "source": [
    "class Foo:\n",
    "    def __getattr__(self, attr):\n",
    "        return attr\n",
    "    def __getitem__(self, key):\n",
    "        return key\n",
    "    \n",
    "foo = Foo()"
   ]
  },
  {
   "cell_type": "code",
   "execution_count": 3,
   "metadata": {
    "collapsed": false
   },
   "outputs": [
    {
     "data": {
      "text/plain": [
       "('two words', '123', 'abc/def')"
      ]
     },
     "execution_count": 3,
     "metadata": {},
     "output_type": "execute_result"
    }
   ],
   "source": [
    "foo['two words'], foo['123'], foo['abc/def']"
   ]
  },
  {
   "cell_type": "code",
   "execution_count": 4,
   "metadata": {
    "collapsed": false
   },
   "outputs": [],
   "source": [
    "##These cannot be done\n",
    "#foo.two words\n",
    "#foo.123\n",
    "#foo.abs/def"
   ]
  },
  {
   "cell_type": "code",
   "execution_count": 5,
   "metadata": {
    "collapsed": true
   },
   "outputs": [],
   "source": [
    "class Foo:\n",
    "    def __init__(self):\n",
    "        self.x = 10\n",
    "        \n",
    "foo = Foo()"
   ]
  },
  {
   "cell_type": "code",
   "execution_count": 6,
   "metadata": {
    "collapsed": false
   },
   "outputs": [
    {
     "data": {
      "text/plain": [
       "(10, 10)"
      ]
     },
     "execution_count": 6,
     "metadata": {},
     "output_type": "execute_result"
    }
   ],
   "source": [
    "foo.x, foo.__dict__['x']"
   ]
  },
  {
   "cell_type": "code",
   "execution_count": 7,
   "metadata": {
    "collapsed": false
   },
   "outputs": [
    {
     "data": {
      "text/plain": [
       "10"
      ]
     },
     "execution_count": 7,
     "metadata": {},
     "output_type": "execute_result"
    }
   ],
   "source": [
    "class Base:\n",
    "    x = 10\n",
    "    \n",
    "class Derived(Base):\n",
    "    pass\n",
    "\n",
    "d = Derived()\n",
    "d.x\n"
   ]
  },
  {
   "cell_type": "code",
   "execution_count": 8,
   "metadata": {
    "collapsed": false
   },
   "outputs": [
    {
     "data": {
      "text/plain": [
       "100"
      ]
     },
     "execution_count": 8,
     "metadata": {},
     "output_type": "execute_result"
    }
   ],
   "source": [
    "Base.y = 100\n",
    "d.y"
   ]
  },
  {
   "cell_type": "code",
   "execution_count": 9,
   "metadata": {
    "collapsed": false
   },
   "outputs": [
    {
     "ename": "ImportError",
     "evalue": "cannot import name ChainMap",
     "output_type": "error",
     "traceback": [
      "\u001b[1;31m---------------------------------------------------------------------------\u001b[0m",
      "\u001b[1;31mImportError\u001b[0m                               Traceback (most recent call last)",
      "\u001b[1;32m<ipython-input-9-0703b65e7ad9>\u001b[0m in \u001b[0;36m<module>\u001b[1;34m()\u001b[0m\n\u001b[1;32m----> 1\u001b[1;33m \u001b[1;32mfrom\u001b[0m \u001b[0mcollections\u001b[0m \u001b[1;32mimport\u001b[0m \u001b[0mChainMap\u001b[0m\u001b[1;33m\u001b[0m\u001b[0m\n\u001b[0m\u001b[0;32m      2\u001b[0m \u001b[1;33m\u001b[0m\u001b[0m\n\u001b[0;32m      3\u001b[0m \u001b[0mb\u001b[0m \u001b[1;33m=\u001b[0m \u001b[1;33m{\u001b[0m\u001b[1;33m}\u001b[0m\u001b[1;33m\u001b[0m\u001b[0m\n\u001b[0;32m      4\u001b[0m \u001b[0md\u001b[0m \u001b[1;33m=\u001b[0m \u001b[0mChainMap\u001b[0m\u001b[1;33m(\u001b[0m\u001b[1;33m{\u001b[0m\u001b[1;33m}\u001b[0m\u001b[1;33m,\u001b[0m \u001b[0mb\u001b[0m\u001b[1;33m)\u001b[0m\u001b[1;33m\u001b[0m\u001b[0m\n\u001b[0;32m      5\u001b[0m \u001b[1;33m\u001b[0m\u001b[0m\n",
      "\u001b[1;31mImportError\u001b[0m: cannot import name ChainMap"
     ]
    }
   ],
   "source": [
    "from collections import ChainMap\n",
    "\n",
    "b = {}\n",
    "d = ChainMap({}, b)\n",
    "\n",
    "b['x'] = 10\n",
    "d['x']\n",
    "d['x']\n",
    "d['x'] = 500\n",
    "d['x']"
   ]
  },
  {
   "cell_type": "code",
   "execution_count": 61,
   "metadata": {
    "collapsed": false
   },
   "outputs": [
    {
     "data": {
      "text/plain": [
       "(10, 200)"
      ]
     },
     "execution_count": 61,
     "metadata": {},
     "output_type": "execute_result"
    }
   ],
   "source": [
    "class BaseA:\n",
    "    x = 10\n",
    "    \n",
    "class BaseB:\n",
    "    x = 100\n",
    "    y = 200\n",
    "    \n",
    "class Derived(BaseA, BaseB):\n",
    "    pass\n",
    "\n",
    "d = Derived()\n",
    "d.x, d.y"
   ]
  },
  {
   "cell_type": "code",
   "execution_count": 62,
   "metadata": {
    "collapsed": false
   },
   "outputs": [
    {
     "data": {
      "text/plain": [
       "(__main__.Derived, __main__.BaseA, __main__.BaseB, object)"
      ]
     },
     "execution_count": 62,
     "metadata": {},
     "output_type": "execute_result"
    }
   ],
   "source": [
    "Derived.__mro__"
   ]
  },
  {
   "cell_type": "code",
   "execution_count": 63,
   "metadata": {
    "collapsed": false
   },
   "outputs": [
    {
     "data": {
      "text/plain": [
       "(10, 200)"
      ]
     },
     "execution_count": 63,
     "metadata": {},
     "output_type": "execute_result"
    }
   ],
   "source": [
    "d = ChainMap({}, *(entry.__dict__ for entry in Derived.__mro__))\n",
    "\n",
    "d['x'], d['y']"
   ]
  },
  {
   "cell_type": "code",
   "execution_count": 64,
   "metadata": {
    "collapsed": false
   },
   "outputs": [
    {
     "data": {
      "text/plain": [
       "10"
      ]
     },
     "execution_count": 64,
     "metadata": {},
     "output_type": "execute_result"
    }
   ],
   "source": [
    "class Foo:\n",
    "    def __init__(self, x):\n",
    "        self.x = x\n",
    "    \n",
    "foo = Foo(10)\n",
    "foo.x"
   ]
  },
  {
   "cell_type": "code",
   "execution_count": 66,
   "metadata": {
    "collapsed": false
   },
   "outputs": [
    {
     "data": {
      "text/plain": [
       "(11, 12, 13)"
      ]
     },
     "execution_count": 66,
     "metadata": {},
     "output_type": "execute_result"
    }
   ],
   "source": [
    "class Foo:\n",
    "    def __init__(self, x):\n",
    "        self._x = x\n",
    "        \n",
    "    @property\n",
    "    def x(self):\n",
    "        self._x += 1\n",
    "        return self._x\n",
    "    \n",
    "foo = Foo(10)\n",
    "foo.x, foo.x, foo.x"
   ]
  },
  {
   "cell_type": "code",
   "execution_count": 67,
   "metadata": {
    "collapsed": false
   },
   "outputs": [
    {
     "data": {
      "text/plain": [
       "(11, 12, 13)"
      ]
     },
     "execution_count": 67,
     "metadata": {},
     "output_type": "execute_result"
    }
   ],
   "source": [
    "class Foo:\n",
    "    def __init__(self, x):\n",
    "        self._x = x\n",
    "        \n",
    "    def __getitem__(self, key):\n",
    "        if key == 'x':\n",
    "            self._x += 1\n",
    "            return self._x\n",
    "        raise KeyError('no such key {}'.format(key))\n",
    "        \n",
    "foo = Foo(10)\n",
    "foo['x'], foo['x'], foo['x']"
   ]
  },
  {
   "cell_type": "markdown",
   "metadata": {},
   "source": [
    "## attribute dictionary"
   ]
  },
  {
   "cell_type": "code",
   "execution_count": 68,
   "metadata": {
    "collapsed": true
   },
   "outputs": [],
   "source": [
    "class attrdict(dict):\n",
    "    def __init__(self, *args, **kwargs):\n",
    "        super().__init__(*args, **kwargs)\n",
    "        self.__dict__ = self"
   ]
  },
  {
   "cell_type": "code",
   "execution_count": 69,
   "metadata": {
    "collapsed": true
   },
   "outputs": [],
   "source": [
    "quux = attrdict()"
   ]
  },
  {
   "cell_type": "code",
   "execution_count": 72,
   "metadata": {
    "collapsed": false
   },
   "outputs": [
    {
     "data": {
      "text/plain": [
       "200"
      ]
     },
     "execution_count": 72,
     "metadata": {},
     "output_type": "execute_result"
    }
   ],
   "source": [
    "quux['w']"
   ]
  },
  {
   "cell_type": "code",
   "execution_count": 71,
   "metadata": {
    "collapsed": true
   },
   "outputs": [],
   "source": [
    "quux.w = 200"
   ]
  },
  {
   "cell_type": "code",
   "execution_count": 73,
   "metadata": {
    "collapsed": false
   },
   "outputs": [
    {
     "data": {
      "text/plain": [
       "200"
      ]
     },
     "execution_count": 73,
     "metadata": {},
     "output_type": "execute_result"
    }
   ],
   "source": [
    "quux['w']"
   ]
  },
  {
   "cell_type": "code",
   "execution_count": 1,
   "metadata": {
    "collapsed": false
   },
   "outputs": [
    {
     "ename": "NameError",
     "evalue": "name 'attrdict' is not defined",
     "output_type": "error",
     "traceback": [
      "\u001b[1;31m---------------------------------------------------------------------------\u001b[0m",
      "\u001b[1;31mNameError\u001b[0m                                 Traceback (most recent call last)",
      "\u001b[1;32m<ipython-input-1-71af5e2feef1>\u001b[0m in \u001b[0;36m<module>\u001b[1;34m()\u001b[0m\n\u001b[0;32m      3\u001b[0m \u001b[1;32mtry\u001b[0m\u001b[1;33m:\u001b[0m\u001b[1;33m\u001b[0m\u001b[0m\n\u001b[0;32m      4\u001b[0m     \u001b[1;32mfor\u001b[0m \u001b[0mnum\u001b[0m \u001b[1;32min\u001b[0m \u001b[0mcount\u001b[0m\u001b[1;33m(\u001b[0m\u001b[1;36m1\u001b[0m\u001b[1;33m)\u001b[0m\u001b[1;33m:\u001b[0m\u001b[1;33m\u001b[0m\u001b[0m\n\u001b[1;32m----> 5\u001b[1;33m         \u001b[0mattrdict\u001b[0m\u001b[1;33m(\u001b[0m\u001b[1;33m{\u001b[0m\u001b[0mi\u001b[0m\u001b[1;33m:\u001b[0m\u001b[0mi\u001b[0m \u001b[1;32mfor\u001b[0m \u001b[0mi\u001b[0m \u001b[1;32min\u001b[0m \u001b[0mrange\u001b[0m\u001b[1;33m(\u001b[0m\u001b[1;36m1024\u001b[0m\u001b[1;33m*\u001b[0m\u001b[1;36m1024\u001b[0m\u001b[1;33m)\u001b[0m\u001b[1;33m}\u001b[0m\u001b[1;33m)\u001b[0m\u001b[1;33m\u001b[0m\u001b[0m\n\u001b[0m\u001b[0;32m      6\u001b[0m \u001b[1;32mexcept\u001b[0m \u001b[0mMemoryError\u001b[0m\u001b[1;33m:\u001b[0m\u001b[1;33m\u001b[0m\u001b[0m\n\u001b[0;32m      7\u001b[0m     \u001b[1;32mprint\u001b[0m\u001b[1;33m(\u001b[0m\u001b[1;34m'Out of memory after creating {} attrdicts'\u001b[0m\u001b[1;33m.\u001b[0m\u001b[0mformat\u001b[0m\u001b[1;33m(\u001b[0m\u001b[0mnum\u001b[0m\u001b[1;33m)\u001b[0m\u001b[1;33m)\u001b[0m\u001b[1;33m\u001b[0m\u001b[0m\n",
      "\u001b[1;31mNameError\u001b[0m: name 'attrdict' is not defined"
     ]
    }
   ],
   "source": [
    "from itertools import count\n",
    "\n",
    "try: \n",
    "    for num in count(1):\n",
    "        attrdict({i:i for i in range(1024*1024)})\n",
    "except MemoryError:\n",
    "    print('Out of memory after creating {} attrdicts'.format(num))"
   ]
  },
  {
   "cell_type": "code",
   "execution_count": null,
   "metadata": {
    "collapsed": true
   },
   "outputs": [],
   "source": [
    "from gc import collect; collect()"
   ]
  },
  {
   "cell_type": "code",
   "execution_count": null,
   "metadata": {
    "collapsed": true
   },
   "outputs": [],
   "source": [
    "# better formulation\n",
    "\n",
    "class attrdict(dict):\n",
    "    __getattr__ = dict.__getitem__\n",
    "    __setattr__ = dict.__setitem__\n",
    "    __delattr__ = dict.__delitem__"
   ]
  },
  {
   "cell_type": "code",
   "execution_count": null,
   "metadata": {
    "collapsed": true
   },
   "outputs": [],
   "source": [
    "try:\n",
    "    for num in range(1,150+1):\n",
    "        attrdict({i:i for i in range(1024*1024)})\n",
    "except MemoryError:\n",
    "    print('Out of memory after creating {} attrdicts'.format(num))\n",
    "    \n",
    "print('Survived creating {} attrdicts'.format(num+1))"
   ]
  }
 ],
 "metadata": {
  "kernelspec": {
   "display_name": "Python 2",
   "language": "python",
   "name": "python2"
  },
  "language_info": {
   "codemirror_mode": {
    "name": "ipython",
    "version": 2
   },
   "file_extension": ".py",
   "mimetype": "text/x-python",
   "name": "python",
   "nbconvert_exporter": "python",
   "pygments_lexer": "ipython2",
   "version": "2.7.11"
  }
 },
 "nbformat": 4,
 "nbformat_minor": 0
}
