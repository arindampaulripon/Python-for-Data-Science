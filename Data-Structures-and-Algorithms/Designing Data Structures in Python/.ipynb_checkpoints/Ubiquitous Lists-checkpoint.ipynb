{
 "cells": [
  {
   "cell_type": "markdown",
   "metadata": {},
   "source": [
    "# Using lists to implement Stack"
   ]
  },
  {
   "cell_type": "markdown",
   "metadata": {},
   "source": [
    "## ``lists`` are everywhere\n",
    "- The first aggregate structure used\n",
    "    - ``append, insert``\n",
    "    - ``index``\n",
    "    - ``remove, del``\n",
    "- Brackets [...]\n",
    "- Underlying array implementation"
   ]
  },
  {
   "cell_type": "markdown",
   "metadata": {},
   "source": [
    "### Example: List of Fibonacci numbers"
   ]
  },
  {
   "cell_type": "code",
   "execution_count": 2,
   "metadata": {
    "collapsed": true
   },
   "outputs": [],
   "source": [
    "def fibonacci(n):\n",
    "    \"\"\"Return n>=2 Fibonacci numbers.\"\"\"\n",
    "    a = b = 1\n",
    "    result = [a, b]\n",
    "    while n > 2:\n",
    "        n = n - 1\n",
    "        a, b = b, a + b\n",
    "        result.append(b)\n",
    "    return result"
   ]
  },
  {
   "cell_type": "code",
   "execution_count": 4,
   "metadata": {
    "collapsed": false
   },
   "outputs": [
    {
     "data": {
      "text/plain": [
       "[1, 1, 2, 3, 5, 8, 13, 21, 34, 55]"
      ]
     },
     "execution_count": 4,
     "metadata": {},
     "output_type": "execute_result"
    }
   ],
   "source": [
    "fibonacci(10)"
   ]
  },
  {
   "cell_type": "code",
   "execution_count": 5,
   "metadata": {
    "collapsed": false
   },
   "outputs": [
    {
     "data": {
      "text/plain": [
       "[1,\n",
       " 1,\n",
       " 2,\n",
       " 3,\n",
       " 5,\n",
       " 8,\n",
       " 13,\n",
       " 21,\n",
       " 34,\n",
       " 55,\n",
       " 89,\n",
       " 144,\n",
       " 233,\n",
       " 377,\n",
       " 610,\n",
       " 987,\n",
       " 1597,\n",
       " 2584,\n",
       " 4181,\n",
       " 6765,\n",
       " 10946,\n",
       " 17711,\n",
       " 28657,\n",
       " 46368,\n",
       " 75025,\n",
       " 121393,\n",
       " 196418,\n",
       " 317811,\n",
       " 514229,\n",
       " 832040,\n",
       " 1346269,\n",
       " 2178309,\n",
       " 3524578,\n",
       " 5702887,\n",
       " 9227465,\n",
       " 14930352,\n",
       " 24157817,\n",
       " 39088169,\n",
       " 63245986,\n",
       " 102334155,\n",
       " 165580141,\n",
       " 267914296,\n",
       " 433494437,\n",
       " 701408733,\n",
       " 1134903170,\n",
       " 1836311903,\n",
       " 2971215073L,\n",
       " 4807526976L,\n",
       " 7778742049L,\n",
       " 12586269025L,\n",
       " 20365011074L,\n",
       " 32951280099L,\n",
       " 53316291173L,\n",
       " 86267571272L,\n",
       " 139583862445L,\n",
       " 225851433717L,\n",
       " 365435296162L,\n",
       " 591286729879L,\n",
       " 956722026041L,\n",
       " 1548008755920L,\n",
       " 2504730781961L,\n",
       " 4052739537881L,\n",
       " 6557470319842L,\n",
       " 10610209857723L,\n",
       " 17167680177565L,\n",
       " 27777890035288L,\n",
       " 44945570212853L,\n",
       " 72723460248141L,\n",
       " 117669030460994L,\n",
       " 190392490709135L,\n",
       " 308061521170129L,\n",
       " 498454011879264L,\n",
       " 806515533049393L,\n",
       " 1304969544928657L,\n",
       " 2111485077978050L,\n",
       " 3416454622906707L,\n",
       " 5527939700884757L,\n",
       " 8944394323791464L,\n",
       " 14472334024676221L,\n",
       " 23416728348467685L,\n",
       " 37889062373143906L,\n",
       " 61305790721611591L,\n",
       " 99194853094755497L,\n",
       " 160500643816367088L,\n",
       " 259695496911122585L,\n",
       " 420196140727489673L,\n",
       " 679891637638612258L,\n",
       " 1100087778366101931L,\n",
       " 1779979416004714189L,\n",
       " 2880067194370816120L,\n",
       " 4660046610375530309L,\n",
       " 7540113804746346429L,\n",
       " 12200160415121876738L,\n",
       " 19740274219868223167L,\n",
       " 31940434634990099905L,\n",
       " 51680708854858323072L,\n",
       " 83621143489848422977L,\n",
       " 135301852344706746049L,\n",
       " 218922995834555169026L,\n",
       " 354224848179261915075L]"
      ]
     },
     "execution_count": 5,
     "metadata": {},
     "output_type": "execute_result"
    }
   ],
   "source": [
    "fibonacci(100)"
   ]
  },
  {
   "cell_type": "markdown",
   "metadata": {},
   "source": [
    "## Underlying Array Implementation\n",
    "- Potential to waste resources as size grows\n",
    "    - every element of **list** is a reference\n",
    "- Operations can become quite expensive\n",
    "    - ``del myList[0]`` is an O(n) operation!\n",
    "        - Must move remaining ``n - 1`` elements\n",
    "- Use wisely to ensure efficient performance"
   ]
  },
  {
   "cell_type": "markdown",
   "metadata": {},
   "source": [
    "## Use List as a Stack\n",
    "- Stack is abstract data type\n",
    "    - ``push(v)`` to add value to top of stack\n",
    "    - ``pop()`` removes topmost value and returns it\n",
    "    - ``isEmpty()`` determines if stack is empty\n",
    "- Protects against inadvertent updates\n",
    "- Performance\n",
    "    - ``isEmpty`` O(1)\n",
    "    - ``push``    O(1)\n",
    "    - ``pop``     O(1)\n",
    "- Amortized cost"
   ]
  },
  {
   "cell_type": "code",
   "execution_count": 7,
   "metadata": {
    "collapsed": true
   },
   "outputs": [],
   "source": [
    "class Stack:\n",
    "    def __init__(self):\n",
    "        \"\"\"Demonstrate using list as storage for a Stack.\"\"\"\n",
    "        self.stack = []\n",
    "        \n",
    "    def isEmpty(self):\n",
    "        \"\"\"Determines wheter stack is empty.\"\"\"\n",
    "        return len(self.stack) == 0\n",
    "    \n",
    "    def push(self, v):\n",
    "        \"\"\"Push v onto the stac. O(1) performance.\"\"\"\n",
    "        self.stack.append(v)\n",
    "        \n",
    "    def pop(self):\n",
    "        \"\"\"Remove topmost element and return it. O(1) performance.\"\"\"\n",
    "        if self.isEmpty():\n",
    "            raise Exception('Stack is empty')\n",
    "        return self.stack.pop()\n",
    "    def __repr__(self):\n",
    "        \"\"\"Show representation\"\"\"\n",
    "        return \"stack:\" + str(self.stack)"
   ]
  },
  {
   "cell_type": "code",
   "execution_count": 8,
   "metadata": {
    "collapsed": true
   },
   "outputs": [],
   "source": [
    "s = Stack()"
   ]
  },
  {
   "cell_type": "code",
   "execution_count": 16,
   "metadata": {
    "collapsed": true
   },
   "outputs": [],
   "source": [
    "s.push(1)"
   ]
  },
  {
   "cell_type": "code",
   "execution_count": 17,
   "metadata": {
    "collapsed": true
   },
   "outputs": [],
   "source": [
    "s.push(2)"
   ]
  },
  {
   "cell_type": "code",
   "execution_count": 18,
   "metadata": {
    "collapsed": false
   },
   "outputs": [
    {
     "data": {
      "text/plain": [
       "stack:[1, 2]"
      ]
     },
     "execution_count": 18,
     "metadata": {},
     "output_type": "execute_result"
    }
   ],
   "source": [
    "s"
   ]
  },
  {
   "cell_type": "code",
   "execution_count": 19,
   "metadata": {
    "collapsed": false
   },
   "outputs": [
    {
     "data": {
      "text/plain": [
       "2"
      ]
     },
     "execution_count": 19,
     "metadata": {},
     "output_type": "execute_result"
    }
   ],
   "source": [
    "s.pop()"
   ]
  },
  {
   "cell_type": "code",
   "execution_count": 20,
   "metadata": {
    "collapsed": false
   },
   "outputs": [
    {
     "data": {
      "text/plain": [
       "1"
      ]
     },
     "execution_count": 20,
     "metadata": {},
     "output_type": "execute_result"
    }
   ],
   "source": [
    "s.pop()"
   ]
  },
  {
   "cell_type": "code",
   "execution_count": 21,
   "metadata": {
    "collapsed": false
   },
   "outputs": [
    {
     "data": {
      "text/plain": [
       "True"
      ]
     },
     "execution_count": 21,
     "metadata": {},
     "output_type": "execute_result"
    }
   ],
   "source": [
    "s.isEmpty()"
   ]
  },
  {
   "cell_type": "markdown",
   "metadata": {},
   "source": [
    "# Principle: Separate Structure from Function"
   ]
  },
  {
   "cell_type": "markdown",
   "metadata": {},
   "source": [
    "## Problem: Process infinite data series\n",
    "- Given limitless series of data events\n",
    "    - **Volume**: Much too large to store in memory\n",
    "    - **Time**: Highe-speed arrival of data\n",
    "- Examples\n",
    "    - Stock or currency prices\n",
    "    - Sensor data\n",
    "\n",
    "## Example: Compute Moving Average Efficiently in a Window\n",
    "- Given series of data events over time\n",
    "    - Process fixed number of values in **sliding window**\n",
    "    - Moving average defined over values in window  \n",
    "\n",
    "### Naive Python solution\n",
    "- Use ``window`` **list** to store values in window\n",
    "    - Append new ``value`` to end of list\n",
    "    - Remove 0th element if length exceeds window ``size``"
   ]
  },
  {
   "cell_type": "code",
   "execution_count": 22,
   "metadata": {
    "collapsed": true
   },
   "outputs": [],
   "source": [
    "def add(window, value, size):\n",
    "    if len(window) == size:\n",
    "        del window[0] # SIGNIFICANTLY INEFFICIENT OPERATION!!!\n",
    "    window.append(value)"
   ]
  },
  {
   "cell_type": "markdown",
   "metadata": {},
   "source": [
    "- Never forget that a Python **list** is an array\n",
    "    - Remove 0th element must copy n - 1 elements\n",
    "    - Thus ``del window[0]`` is an O(n) operation\n",
    "    - Eliminate this cost with a **CircularBuffer**"
   ]
  },
  {
   "cell_type": "markdown",
   "metadata": {},
   "source": [
    "### Circular Buffer Solution\n",
    "- Use Python **list** as fixed-size buffer\n",
    "    - Maintain illusion that it wraps around to form a (clockwise) circle\n",
    "    - Queue behaviour\n",
    "        - Add to the end\n",
    "        - Remove from the front\n",
    "        - These operations become O(1) always!\n",
    "- Adding elements overwrites oldest element in buffer\n",
    "    - Maintain (low, high) indices within buffer\n",
    "    \n",
    "#### Circular Buffer Data Type Definition\n",
    "- Fixed-size storage\n",
    "- Separate indices and count\n",
    "    - When not empty, ``low`` is index of first element\n",
    "    - When not empty, ``high`` is index of **next location** to use\n",
    "- Read-only operations\n",
    "    - ``isEmpty, isFull, __len__`` O(1)\n",
    "- Modifying\n",
    "    - ``add(v)`` O(1)\n",
    "    - ``remove()`` O(1)\n",
    "- Iterator used by **in** O(n)"
   ]
  },
  {
   "cell_type": "code",
   "execution_count": 50,
   "metadata": {
    "collapsed": true
   },
   "outputs": [],
   "source": [
    "class CircularBuffer:\n",
    "    def __init__(self, size):\n",
    "        \"\"\"Construct fixed size buffer\"\"\"\n",
    "        self.size = size\n",
    "        self.buffer = [None]*size\n",
    "        self.low = 0\n",
    "        self.high = 0\n",
    "        self.count = 0\n",
    "        \n",
    "    def isEmpty(self):\n",
    "        return self.count == 0\n",
    "    \n",
    "    def isFull(self):\n",
    "        return self.count == self.size\n",
    "    \n",
    "    def add(self, value):\n",
    "        if self.isFull():\n",
    "            self.low = (self.low + 1) % self.size\n",
    "        else:\n",
    "            self.count += 1\n",
    "        self.buffer[self.high] = value\n",
    "        self.high = (self.high + 1) % self.size\n",
    "            \n",
    "    def remove(self):\n",
    "        if self.count == 0:\n",
    "            raise Exception(\"Circular buffer is empty!\")\n",
    "        value = self.buffer[self.low]\n",
    "        self.low = (self.low + 1) % self.size\n",
    "        self.count -= 1\n",
    "        return value\n",
    "    \n",
    "    def __iter__(self):\n",
    "        idx = self.low\n",
    "        num = self.count\n",
    "        while num > 0:\n",
    "            yield self.buffer[idx]\n",
    "            idx = (idx + 1) % self.size\n",
    "            num -= 1\n",
    "    \n",
    "    def __repr__(self):\n",
    "        if self.isEmpty():\n",
    "            return 'cb:[]'\n",
    "        return 'cb:[' + ','.join(map(str,self)) + ']'"
   ]
  },
  {
   "cell_type": "code",
   "execution_count": 61,
   "metadata": {
    "collapsed": false
   },
   "outputs": [
    {
     "data": {
      "text/plain": [
       "cb:[]"
      ]
     },
     "execution_count": 61,
     "metadata": {},
     "output_type": "execute_result"
    }
   ],
   "source": [
    "c = CircularBuffer(5)\n",
    "c"
   ]
  },
  {
   "cell_type": "code",
   "execution_count": 62,
   "metadata": {
    "collapsed": false
   },
   "outputs": [
    {
     "data": {
      "text/plain": [
       "cb:[5]"
      ]
     },
     "execution_count": 62,
     "metadata": {},
     "output_type": "execute_result"
    }
   ],
   "source": [
    "c.add(5)\n",
    "c"
   ]
  },
  {
   "cell_type": "code",
   "execution_count": 63,
   "metadata": {
    "collapsed": false
   },
   "outputs": [
    {
     "data": {
      "text/plain": [
       "cb:[5,7,9,11,13]"
      ]
     },
     "execution_count": 63,
     "metadata": {},
     "output_type": "execute_result"
    }
   ],
   "source": [
    "c.add(7)\n",
    "c.add(9)\n",
    "c.add(11)\n",
    "c.add(13)\n",
    "c"
   ]
  },
  {
   "cell_type": "code",
   "execution_count": 64,
   "metadata": {
    "collapsed": false
   },
   "outputs": [
    {
     "data": {
      "text/plain": [
       "True"
      ]
     },
     "execution_count": 64,
     "metadata": {},
     "output_type": "execute_result"
    }
   ],
   "source": [
    "c.isFull()"
   ]
  },
  {
   "cell_type": "code",
   "execution_count": 65,
   "metadata": {
    "collapsed": false
   },
   "outputs": [
    {
     "data": {
      "text/plain": [
       "cb:[7,9,11,13,15]"
      ]
     },
     "execution_count": 65,
     "metadata": {},
     "output_type": "execute_result"
    }
   ],
   "source": [
    "c.add(15)\n",
    "c"
   ]
  },
  {
   "cell_type": "code",
   "execution_count": 66,
   "metadata": {
    "collapsed": false
   },
   "outputs": [
    {
     "data": {
      "text/plain": [
       "[15, 7, 9, 11, 13]"
      ]
     },
     "execution_count": 66,
     "metadata": {},
     "output_type": "execute_result"
    }
   ],
   "source": [
    "c.buffer"
   ]
  },
  {
   "cell_type": "code",
   "execution_count": 67,
   "metadata": {
    "collapsed": false
   },
   "outputs": [
    {
     "data": {
      "text/plain": [
       "1"
      ]
     },
     "execution_count": 67,
     "metadata": {},
     "output_type": "execute_result"
    }
   ],
   "source": [
    "c.low"
   ]
  },
  {
   "cell_type": "code",
   "execution_count": 68,
   "metadata": {
    "collapsed": false
   },
   "outputs": [
    {
     "data": {
      "text/plain": [
       "1"
      ]
     },
     "execution_count": 68,
     "metadata": {},
     "output_type": "execute_result"
    }
   ],
   "source": [
    "c.high"
   ]
  },
  {
   "cell_type": "code",
   "execution_count": 69,
   "metadata": {
    "collapsed": false
   },
   "outputs": [
    {
     "data": {
      "text/plain": [
       "7"
      ]
     },
     "execution_count": 69,
     "metadata": {},
     "output_type": "execute_result"
    }
   ],
   "source": [
    "c.remove()"
   ]
  },
  {
   "cell_type": "code",
   "execution_count": 75,
   "metadata": {
    "collapsed": false
   },
   "outputs": [
    {
     "data": {
      "text/plain": [
       "cb:[11,13,15,11,13]"
      ]
     },
     "execution_count": 75,
     "metadata": {},
     "output_type": "execute_result"
    }
   ],
   "source": [
    "c"
   ]
  },
  {
   "cell_type": "markdown",
   "metadata": {},
   "source": [
    "# Project: Moving Average\n",
    "You can extend the circular buffer to efficiently compute moving average computations over large data set. With some changes, it is possible to extend this same concept to compute the standard deviation over a data series within a given window once the formula for standard deviation (i.e., stdev) is converted into the appropriate form.\n",
    "\n",
    "- Construct efficient moving average computation\n",
    "    - Create ``MovingAverage`` class **extending** ``CircularBuffer``\n",
    "    - Ability to define new classes from existing ones"
   ]
  },
  {
   "cell_type": "code",
   "execution_count": 94,
   "metadata": {
    "collapsed": true
   },
   "outputs": [],
   "source": [
    "class MovingAverage(CircularBuffer):\n",
    "    \n",
    "    def __init__(self, size):\n",
    "        \"\"\"Store buffer in given storage.\"\"\"\n",
    "        CircularBuffer.__init__(self, size)\n",
    "        self.total = 0\n",
    "        \n",
    "    def getAverage(self):\n",
    "        \"\"\"Returns moving average (zero if no elements)\"\"\"\n",
    "        if self.count == 0:\n",
    "            return 0\n",
    "        return self.total/self.count\n",
    "    \n",
    "    def remove(self):\n",
    "        \"\"\"Removes oldest value from non-empty buffer.\"\"\"\n",
    "        removed = CircularBuffer.remove(self)\n",
    "        self.total -= removed\n",
    "        return removed\n",
    "    \n",
    "    def add(self, value):\n",
    "        \"\"\"Adds value to buffer, overwrite as needed.\"\"\"\n",
    "        if self.isFull():\n",
    "            delta = -self.buffer[self.low]\n",
    "        else:\n",
    "            delta = 0\n",
    "        delta += value\n",
    "        self.total += delta\n",
    "        CircularBuffer.add(self, value)\n",
    "        \n",
    "    def __repr__(self):\n",
    "        \"\"\"String representation of moving average.\"\"\"\n",
    "        if self.isEmpty():\n",
    "            return 'ma:[]'\n",
    "        return 'ma:[' + ','.join(map(str, self)) + ']: ' + str(1.0*self.total/self.count)"
   ]
  },
  {
   "cell_type": "code",
   "execution_count": 100,
   "metadata": {
    "collapsed": false
   },
   "outputs": [
    {
     "data": {
      "text/plain": [
       "ma:[]"
      ]
     },
     "execution_count": 100,
     "metadata": {},
     "output_type": "execute_result"
    }
   ],
   "source": [
    "ma = MovingAverage(3)\n",
    "ma"
   ]
  },
  {
   "cell_type": "code",
   "execution_count": 101,
   "metadata": {
    "collapsed": false
   },
   "outputs": [
    {
     "data": {
      "text/plain": [
       "ma:[4]: 4.0"
      ]
     },
     "execution_count": 101,
     "metadata": {},
     "output_type": "execute_result"
    }
   ],
   "source": [
    "ma.add(4)\n",
    "ma"
   ]
  },
  {
   "cell_type": "code",
   "execution_count": 102,
   "metadata": {
    "collapsed": false
   },
   "outputs": [
    {
     "data": {
      "text/plain": [
       "ma:[4,8]: 6.0"
      ]
     },
     "execution_count": 102,
     "metadata": {},
     "output_type": "execute_result"
    }
   ],
   "source": [
    "ma.add(8)\n",
    "ma"
   ]
  },
  {
   "cell_type": "code",
   "execution_count": 103,
   "metadata": {
    "collapsed": false
   },
   "outputs": [
    {
     "data": {
      "text/plain": [
       "ma:[4,8,16]: 9.33333333333"
      ]
     },
     "execution_count": 103,
     "metadata": {},
     "output_type": "execute_result"
    }
   ],
   "source": [
    "ma.add(16)\n",
    "ma"
   ]
  },
  {
   "cell_type": "code",
   "execution_count": 104,
   "metadata": {
    "collapsed": false
   },
   "outputs": [
    {
     "data": {
      "text/plain": [
       "28"
      ]
     },
     "execution_count": 104,
     "metadata": {},
     "output_type": "execute_result"
    }
   ],
   "source": [
    "ma.total"
   ]
  },
  {
   "cell_type": "code",
   "execution_count": 105,
   "metadata": {
    "collapsed": false
   },
   "outputs": [
    {
     "data": {
      "text/plain": [
       "4"
      ]
     },
     "execution_count": 105,
     "metadata": {},
     "output_type": "execute_result"
    }
   ],
   "source": [
    "ma.remove()"
   ]
  },
  {
   "cell_type": "code",
   "execution_count": 106,
   "metadata": {
    "collapsed": false
   },
   "outputs": [
    {
     "data": {
      "text/plain": [
       "ma:[8,16]: 12.0"
      ]
     },
     "execution_count": 106,
     "metadata": {},
     "output_type": "execute_result"
    }
   ],
   "source": [
    "ma"
   ]
  },
  {
   "cell_type": "markdown",
   "metadata": {},
   "source": [
    "# Python ``list`` Primary Weaknesses\n",
    "- Avoid functions that return **list** objects whose values are simply iterated\n",
    "    - Consider **generator**\n",
    "        - Generator avoids constructing lists\n",
    "        - When can compute the elements using computation"
   ]
  },
  {
   "cell_type": "code",
   "execution_count": 107,
   "metadata": {
    "collapsed": true
   },
   "outputs": [],
   "source": [
    "def fibonacciGen(n):\n",
    "    a = b = 1\n",
    "    yield a\n",
    "    yield b\n",
    "    while n > 2:\n",
    "        n = n - 1\n",
    "        a, b = b, a + b\n",
    "        yield b"
   ]
  },
  {
   "cell_type": "code",
   "execution_count": 109,
   "metadata": {
    "collapsed": false
   },
   "outputs": [
    {
     "name": "stdout",
     "output_type": "stream",
     "text": [
      "1\n",
      "1\n",
      "2\n",
      "3\n",
      "5\n",
      "8\n",
      "13\n",
      "21\n",
      "34\n",
      "55\n",
      "89\n",
      "144\n",
      "233\n",
      "377\n",
      "610\n",
      "987\n",
      "1597\n",
      "2584\n",
      "4181\n",
      "6765\n",
      "10946\n",
      "17711\n",
      "28657\n",
      "46368\n",
      "75025\n",
      "121393\n",
      "196418\n",
      "317811\n",
      "514229\n",
      "832040\n",
      "1346269\n",
      "2178309\n",
      "3524578\n",
      "5702887\n",
      "9227465\n",
      "14930352\n",
      "24157817\n",
      "39088169\n",
      "63245986\n",
      "102334155\n",
      "165580141\n",
      "267914296\n",
      "433494437\n",
      "701408733\n",
      "1134903170\n",
      "1836311903\n",
      "2971215073\n",
      "4807526976\n",
      "7778742049\n",
      "12586269025\n",
      "20365011074\n",
      "32951280099\n",
      "53316291173\n",
      "86267571272\n",
      "139583862445\n",
      "225851433717\n",
      "365435296162\n",
      "591286729879\n",
      "956722026041\n",
      "1548008755920\n",
      "2504730781961\n",
      "4052739537881\n",
      "6557470319842\n",
      "10610209857723\n",
      "17167680177565\n",
      "27777890035288\n",
      "44945570212853\n",
      "72723460248141\n",
      "117669030460994\n",
      "190392490709135\n",
      "308061521170129\n",
      "498454011879264\n",
      "806515533049393\n",
      "1304969544928657\n",
      "2111485077978050\n",
      "3416454622906707\n",
      "5527939700884757\n",
      "8944394323791464\n",
      "14472334024676221\n",
      "23416728348467685\n",
      "37889062373143906\n",
      "61305790721611591\n",
      "99194853094755497\n",
      "160500643816367088\n",
      "259695496911122585\n",
      "420196140727489673\n",
      "679891637638612258\n",
      "1100087778366101931\n",
      "1779979416004714189\n",
      "2880067194370816120\n",
      "4660046610375530309\n",
      "7540113804746346429\n",
      "12200160415121876738\n",
      "19740274219868223167\n",
      "31940434634990099905\n",
      "51680708854858323072\n",
      "83621143489848422977\n",
      "135301852344706746049\n",
      "218922995834555169026\n",
      "354224848179261915075\n"
     ]
    }
   ],
   "source": [
    "for _ in fibonacciGen(100):\n",
    "    print(_)"
   ]
  }
 ],
 "metadata": {
  "kernelspec": {
   "display_name": "Python 2",
   "language": "python",
   "name": "python2"
  },
  "language_info": {
   "codemirror_mode": {
    "name": "ipython",
    "version": 2
   },
   "file_extension": ".py",
   "mimetype": "text/x-python",
   "name": "python",
   "nbconvert_exporter": "python",
   "pygments_lexer": "ipython2",
   "version": "2.7.11"
  }
 },
 "nbformat": 4,
 "nbformat_minor": 0
}
